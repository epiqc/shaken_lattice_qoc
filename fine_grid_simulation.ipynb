{
 "cells": [
  {
   "cell_type": "code",
   "execution_count": null,
   "metadata": {},
   "outputs": [],
   "source": [
    "using Revise"
   ]
  },
  {
   "cell_type": "code",
   "execution_count": null,
   "metadata": {},
   "outputs": [],
   "source": [
    "import QuantumCollocation as QC\n",
    "import NamedTrajectories as NT\n",
    "import TrajectoryIndexingUtils as NTidx\n",
    "import LinearAlgebra as LA\n",
    "import SparseArrays as SA\n",
    "import Plots\n",
    "import Interpolations as IP\n",
    "using LaTeXStrings\n",
    "import QuantumOptics as QO"
   ]
  },
  {
   "attachments": {},
   "cell_type": "markdown",
   "metadata": {},
   "source": [
    "using FFTW:ifft, fft, fftshift, fftfreq"
   ]
  },
  {
   "cell_type": "code",
   "execution_count": null,
   "metadata": {},
   "outputs": [],
   "source": [
    "include(\"utils.jl\")\n",
    "include(\"system.jl\")\n",
    "include(\"constraints.jl\")\n",
    "include(\"objectives.jl\")"
   ]
  },
  {
   "cell_type": "code",
   "execution_count": null,
   "metadata": {},
   "outputs": [],
   "source": []
  },
  {
   "attachments": {},
   "cell_type": "markdown",
   "metadata": {},
   "source": [
    "# using QuantumOptics package"
   ]
  },
  {
   "cell_type": "code",
   "execution_count": null,
   "metadata": {},
   "outputs": [],
   "source": [
    "V = 10.\n",
    "p_max = 10\n",
    "system_momentum = ShakenLatticeSystem1D(V, p_max; bloch_basis=false)\n",
    "mid = system_momentum.params[:mid]\n",
    "dim = system_momentum.params[:dim]"
   ]
  },
  {
   "cell_type": "code",
   "execution_count": null,
   "metadata": {},
   "outputs": [],
   "source": [
    "n_max = 3\n",
    "ns = -n_max:n_max\n",
    "v = system_momentum.params[:bloch_states][ns .+ mid,1]"
   ]
  },
  {
   "cell_type": "code",
   "execution_count": null,
   "metadata": {},
   "outputs": [],
   "source": [
    "x_max = 200.\n",
    "Nx = 5000"
   ]
  },
  {
   "cell_type": "code",
   "execution_count": null,
   "metadata": {},
   "outputs": [],
   "source": [
    "b_position = QO.PositionBasis(-x_max, x_max, Nx)\n",
    "b_momentum = QO.MomentumBasis(b_position)"
   ]
  },
  {
   "cell_type": "code",
   "execution_count": null,
   "metadata": {},
   "outputs": [],
   "source": [
    "xs = QO.samplepoints(b_position)\n",
    "ps = QO.samplepoints(b_momentum)"
   ]
  },
  {
   "cell_type": "code",
   "execution_count": null,
   "metadata": {},
   "outputs": [],
   "source": [
    "Txp = QO.transform(b_position, b_momentum)\n",
    "Tpx = QO.transform(b_momentum, b_position)"
   ]
  },
  {
   "cell_type": "code",
   "execution_count": null,
   "metadata": {},
   "outputs": [],
   "source": [
    "p_op = QO.momentum(b_momentum)"
   ]
  },
  {
   "cell_type": "code",
   "execution_count": null,
   "metadata": {},
   "outputs": [],
   "source": [
    "H_kin_p = p_op^2\n",
    "H_kin_x = QO.LazyProduct(Txp, H_kin_p, Tpx)"
   ]
  },
  {
   "cell_type": "code",
   "execution_count": null,
   "metadata": {},
   "outputs": [],
   "source": [
    "H_pot_I_x = QO.potentialoperator(b_position, x -> -V/2 * cos(2x))\n",
    "H_pot_Q_x = QO.potentialoperator(b_position, x -> V/2 * sin(2x))\n",
    "H_pot_I_p = QO.LazyProduct(Tpx, H_pot_I_x, Txp)\n",
    "H_pot_Q_p = QO.LazyProduct(Tpx, H_pot_Q_x, Txp)"
   ]
  },
  {
   "attachments": {},
   "cell_type": "markdown",
   "metadata": {},
   "source": [
    "Z = NT.load_traj(\"interferometer/split_victor_opt2.jld2\")"
   ]
  },
  {
   "attachments": {},
   "cell_type": "markdown",
   "metadata": {},
   "source": [
    "a, dts = Z.a, vec(Z.dts)\n",
    "T = Z.T\n",
    "times = cumsum(dts) - dts"
   ]
  },
  {
   "cell_type": "code",
   "execution_count": null,
   "metadata": {},
   "outputs": [],
   "source": []
  },
  {
   "cell_type": "code",
   "execution_count": null,
   "metadata": {},
   "outputs": [],
   "source": [
    "Z_split = NT.load_traj(\"interferometer/split_bloch78.jld2\")\n",
    "Z_mirror = NT.load_traj(\"interferometer/mirror_bloch78_Z.jld2\")"
   ]
  },
  {
   "cell_type": "code",
   "execution_count": null,
   "metadata": {},
   "outputs": [],
   "source": [
    "flight_time = 2pi * 0.5\n",
    "T_flight = Int(round(flight_time/2pi * 1000; digits=0))\n",
    "dts_flight = fill(flight_time/(T_flight-1), T_flight)"
   ]
  },
  {
   "cell_type": "code",
   "execution_count": null,
   "metadata": {},
   "outputs": [],
   "source": [
    "a, dts = get_interferometer(Z_split, Z_mirror, dts_flight)\n",
    "Z_time = sum(dts) - dts[1]\n",
    "dts_min = minimum(dts[1:end-1])\n",
    "dts_new = fill(dts_min, Int(floor(Z_time/dts_min+1, digits=0)))\n",
    "a = interpolate_controls(a, dts, dts_new)\n",
    "dts = dts_new\n",
    "T = size(a, 2)\n",
    "times = cumsum(dts) - dts"
   ]
  },
  {
   "cell_type": "code",
   "execution_count": null,
   "metadata": {},
   "outputs": [],
   "source": []
  },
  {
   "attachments": {},
   "cell_type": "markdown",
   "metadata": {},
   "source": [
    "Z = NT.load_traj(\"end2end/traj.jld2\")"
   ]
  },
  {
   "attachments": {},
   "cell_type": "markdown",
   "metadata": {},
   "source": [
    "a, dts = Z.a, vec(Z.dts)\n",
    "flight_time = 2pi * 2.0\n",
    "T_flight = Int(round(flight_time/2pi; digits=0)) * 600\n",
    "jumps = [(div(Z.T, 3), flight_time), (div(2*Z.T, 3), flight_time)]\n",
    "jump_Ts = fill(T_flight, 2)\n",
    "a, dts = get_controls_dts(a, dts, jumps, jump_Ts)\n",
    "Z_time = sum(dts) - dts[1]\n",
    "dts_min = minimum(dts[1:end-1])\n",
    "dts_new = fill(dts_min, Int(floor(Z_time/dts_min+1, digits=0)))\n",
    "a = interpolate_controls(a, dts, dts_new)\n",
    "dts = dts_new\n",
    "T = size(a, 2)\n",
    "times = cumsum(dts) - dts"
   ]
  },
  {
   "cell_type": "code",
   "execution_count": null,
   "metadata": {},
   "outputs": [],
   "source": [
    "I_itp = IP.interpolate(a[1,:], IP.BSpline(IP.Cubic(IP.Free(IP.OnCell()))))\n",
    "Q_itp = IP.interpolate(a[2,:], IP.BSpline(IP.Cubic(IP.Free(IP.OnCell()))))"
   ]
  },
  {
   "cell_type": "code",
   "execution_count": null,
   "metadata": {},
   "outputs": [],
   "source": [
    "function I(t)\n",
    "    if t < times[end]\n",
    "        return I_itp(t/times[end]*(T-1) + 1)\n",
    "    else\n",
    "        return 1.0\n",
    "    end\n",
    "end \n",
    "function Q(t)\n",
    "    if t < times[end]\n",
    "        return Q_itp(t/times[end]*(T-1) + 1)\n",
    "    else\n",
    "        return 0.0\n",
    "    end\n",
    "end "
   ]
  },
  {
   "attachments": {},
   "cell_type": "markdown",
   "metadata": {},
   "source": [
    "function I(t)\n",
    "    return 1.0\n",
    "end\n",
    "function Q(t)\n",
    "    return 0.0\n",
    "end"
   ]
  },
  {
   "cell_type": "code",
   "execution_count": null,
   "metadata": {},
   "outputs": [],
   "source": [
    "H_x = QO.TimeDependentSum(1.0 => H_kin_x, I => H_pot_I_x, Q => H_pot_Q_x)\n",
    "H_p = QO.TimeDependentSum(1.0 => H_kin_p, I => H_pot_I_p, Q => H_pot_Q_p)"
   ]
  },
  {
   "cell_type": "code",
   "execution_count": null,
   "metadata": {},
   "outputs": [],
   "source": []
  },
  {
   "cell_type": "code",
   "execution_count": null,
   "metadata": {},
   "outputs": [],
   "source": [
    "function gaussian_wavepacket(x, sigma)\n",
    "    return (2*sigma^2/pi)^(1/4) * exp.(-sigma^2*x.^2)\n",
    "end"
   ]
  },
  {
   "cell_type": "code",
   "execution_count": null,
   "metadata": {},
   "outputs": [],
   "source": [
    "function wave(x, n)\n",
    "    return exp.(2im*x*n')\n",
    "end"
   ]
  },
  {
   "cell_type": "code",
   "execution_count": null,
   "metadata": {},
   "outputs": [],
   "source": [
    "sigma = 0.1\n",
    "psi0 = gaussian_wavepacket(xs, sigma) .* (wave(xs, ns) * v)\n",
    "psi0_ket = QO.Ket(b_position, psi0)"
   ]
  },
  {
   "cell_type": "code",
   "execution_count": null,
   "metadata": {},
   "outputs": [],
   "source": [
    "Plots.plot(xs, real.(psi0_ket.data))"
   ]
  },
  {
   "cell_type": "code",
   "execution_count": null,
   "metadata": {},
   "outputs": [],
   "source": []
  },
  {
   "attachments": {},
   "cell_type": "markdown",
   "metadata": {},
   "source": [
    "t_max = 20.0\n",
    "dt = 0.007\n",
    "times = collect(0.0:dt:t_max)"
   ]
  },
  {
   "cell_type": "code",
   "execution_count": null,
   "metadata": {},
   "outputs": [],
   "source": [
    "times_slice = 1:length(times)"
   ]
  },
  {
   "cell_type": "code",
   "execution_count": null,
   "metadata": {},
   "outputs": [],
   "source": [
    "Plots.plot(times[times_slice], I.(times[times_slice]))"
   ]
  },
  {
   "cell_type": "code",
   "execution_count": null,
   "metadata": {},
   "outputs": [],
   "source": [
    "tout, psit_ket = QO.timeevolution.schroedinger_dynamic(times[times_slice], psi0_ket, H_x)"
   ]
  },
  {
   "cell_type": "code",
   "execution_count": null,
   "metadata": {},
   "outputs": [],
   "source": []
  },
  {
   "cell_type": "code",
   "execution_count": null,
   "metadata": {},
   "outputs": [],
   "source": [
    "psi = hcat([psi_ket.data for psi_ket in psit_ket]...)\n",
    "pops = abs2.(psi)"
   ]
  },
  {
   "cell_type": "code",
   "execution_count": null,
   "metadata": {},
   "outputs": [],
   "source": [
    "x_step = 5"
   ]
  },
  {
   "cell_type": "code",
   "execution_count": null,
   "metadata": {},
   "outputs": [],
   "source": [
    "sum_mat = blockdiagonal(fill(ones(1, x_step)/x_step, Int(ceil(Nx/x_step)))...)[:,1:Nx]"
   ]
  },
  {
   "cell_type": "code",
   "execution_count": null,
   "metadata": {},
   "outputs": [],
   "source": [
    "pops2 = sum_mat * pops;"
   ]
  },
  {
   "cell_type": "code",
   "execution_count": null,
   "metadata": {},
   "outputs": [],
   "source": [
    "Plots.heatmap(tout, xs[1:x_step:end], pops2, c=Plots.cgrad([:black, :white], [0.05]))"
   ]
  },
  {
   "cell_type": "code",
   "execution_count": null,
   "metadata": {},
   "outputs": [],
   "source": []
  },
  {
   "cell_type": "code",
   "execution_count": null,
   "metadata": {},
   "outputs": [],
   "source": [
    "t_step = 1"
   ]
  },
  {
   "cell_type": "code",
   "execution_count": null,
   "metadata": {},
   "outputs": [],
   "source": [
    "pops_max = maximum(pops)"
   ]
  },
  {
   "cell_type": "code",
   "execution_count": null,
   "metadata": {},
   "outputs": [],
   "source": [
    "anim = Plots.Animation()\n",
    "for t=1:t_step:length(tout)\n",
    "    p = Plots.plot(xs, pops[:,t], title=\"$(round(tout[t], digits=2))\", ylim=(0.0, pops_max))\n",
    "    Plots.frame(anim, p)\n",
    "end"
   ]
  },
  {
   "cell_type": "code",
   "execution_count": null,
   "metadata": {},
   "outputs": [],
   "source": [
    "Plots.gif(anim; fps=20, loop=0)"
   ]
  },
  {
   "cell_type": "code",
   "execution_count": null,
   "metadata": {},
   "outputs": [],
   "source": []
  },
  {
   "cell_type": "code",
   "execution_count": null,
   "metadata": {},
   "outputs": [],
   "source": []
  },
  {
   "cell_type": "code",
   "execution_count": null,
   "metadata": {},
   "outputs": [],
   "source": [
    "psi0_p = fourier(psi0, xs, ps; exp_sign=-1)\n",
    "psi0_ket_p = QO.Ket(b_momentum, psi0_p)"
   ]
  },
  {
   "cell_type": "code",
   "execution_count": null,
   "metadata": {},
   "outputs": [],
   "source": [
    "tout_p, psit_ket_p = QO.timeevolution.schroedinger_dynamic(times[times_slice], psi0_ket_p, H_p)"
   ]
  },
  {
   "cell_type": "code",
   "execution_count": null,
   "metadata": {},
   "outputs": [],
   "source": [
    "psi_p = hcat([psi_ket_p.data for psi_ket_p in psit_ket_p]...)\n",
    "pops_p = abs2.(psi_p)"
   ]
  },
  {
   "cell_type": "code",
   "execution_count": null,
   "metadata": {},
   "outputs": [],
   "source": [
    "psi_p_max = maximum([maximum(abs.(real.(psi_p))), maximum(abs.(imag.(psi_p)))])\n",
    "pops_p_max = maximum(pops_p)"
   ]
  },
  {
   "cell_type": "code",
   "execution_count": null,
   "metadata": {},
   "outputs": [],
   "source": [
    "anim = Plots.Animation()\n",
    "for t=1:t_step:length(tout_p)\n",
    "    p = Plots.plot(ps, pops_p[:,t], title=\"$(round(tout_p[t], digits=1))\", ylim=(0.0, pops_p_max))\n",
    "    Plots.frame(anim, p)\n",
    "end"
   ]
  },
  {
   "cell_type": "code",
   "execution_count": null,
   "metadata": {},
   "outputs": [],
   "source": [
    "Plots.gif(anim; fps=20, loop=0)"
   ]
  },
  {
   "cell_type": "code",
   "execution_count": null,
   "metadata": {},
   "outputs": [],
   "source": [
    "anim = Plots.Animation()\n",
    "for t=1:t_step:length(tout_p)\n",
    "    p = Plots.plot(ps, real.(psi_p[:,t]), title=\"$(round(tout_p[t], digits=1))\", ylim=(-psi_p_max, psi_p_max))\n",
    "    Plots.plot!(p, ps, imag.(psi_p[:,t]), title=\"$(round(tout_p[t], digits=1))\", ylim=(-psi_p_max, psi_p_max))\n",
    "    Plots.frame(anim, p)\n",
    "end"
   ]
  },
  {
   "cell_type": "code",
   "execution_count": null,
   "metadata": {},
   "outputs": [],
   "source": [
    "Plots.gif(anim; fps=20, loop=0)"
   ]
  },
  {
   "cell_type": "code",
   "execution_count": null,
   "metadata": {},
   "outputs": [],
   "source": []
  },
  {
   "cell_type": "code",
   "execution_count": null,
   "metadata": {},
   "outputs": [],
   "source": [
    "anim = Plots.Animation()\n",
    "for t=1:t_step:length(tout_p)\n",
    "    p = Plots.path3d(ps, real.(psi_p[:,t]), imag.(psi_p[:,t]), ylim=(-psi_p_max, psi_p_max), zlim=(-psi_p_max, psi_p_max))\n",
    "    Plots.frame(anim, p)\n",
    "end"
   ]
  },
  {
   "cell_type": "code",
   "execution_count": null,
   "metadata": {},
   "outputs": [],
   "source": [
    "Plots.gif(anim; fps=20, loop=0)"
   ]
  },
  {
   "cell_type": "code",
   "execution_count": null,
   "metadata": {},
   "outputs": [],
   "source": []
  },
  {
   "cell_type": "code",
   "execution_count": null,
   "metadata": {},
   "outputs": [],
   "source": []
  },
  {
   "attachments": {},
   "cell_type": "markdown",
   "metadata": {},
   "source": [
    "# Fisher"
   ]
  },
  {
   "cell_type": "code",
   "execution_count": null,
   "metadata": {},
   "outputs": [],
   "source": [
    "V = 10.\n",
    "p_max = 10\n",
    "system_momentum = ShakenLatticeSystem1D(V, p_max; bloch_basis=false)\n",
    "mid = system_momentum.params[:mid]\n",
    "dim = system_momentum.params[:dim]"
   ]
  },
  {
   "cell_type": "code",
   "execution_count": null,
   "metadata": {},
   "outputs": [],
   "source": [
    "n_max = 3\n",
    "ns = -n_max:n_max\n",
    "v = system_momentum.params[:bloch_states][ns .+ mid,1]"
   ]
  },
  {
   "cell_type": "code",
   "execution_count": null,
   "metadata": {},
   "outputs": [],
   "source": [
    "x_max = 400.\n",
    "Nx = 4000"
   ]
  },
  {
   "cell_type": "code",
   "execution_count": null,
   "metadata": {},
   "outputs": [],
   "source": [
    "qb_basis = QO.GenericBasis(2)"
   ]
  },
  {
   "cell_type": "code",
   "execution_count": null,
   "metadata": {},
   "outputs": [],
   "source": [
    "qb_10 = QO.projector(QO.Ket(qb_basis, [0,1]), QO.Bra(qb_basis, [1,0]))\n",
    "qb_10_lift = QO.LazyTensor(b_mom_lift, [1], (qb_10,))"
   ]
  },
  {
   "cell_type": "code",
   "execution_count": null,
   "metadata": {},
   "outputs": [],
   "source": [
    "b_position = QO.PositionBasis(-x_max, x_max, Nx)\n",
    "b_momentum = QO.MomentumBasis(b_position)"
   ]
  },
  {
   "cell_type": "code",
   "execution_count": null,
   "metadata": {},
   "outputs": [],
   "source": [
    "b_mom_lift = QO.tensor(qb_basis, b_momentum)\n",
    "b_pos_lift = QO.tensor(qb_basis, b_position)"
   ]
  },
  {
   "cell_type": "code",
   "execution_count": null,
   "metadata": {},
   "outputs": [],
   "source": [
    "xs = QO.samplepoints(b_position)\n",
    "ps = QO.samplepoints(b_momentum)"
   ]
  },
  {
   "cell_type": "code",
   "execution_count": null,
   "metadata": {},
   "outputs": [],
   "source": [
    "Txp"
   ]
  },
  {
   "cell_type": "code",
   "execution_count": null,
   "metadata": {},
   "outputs": [],
   "source": [
    "Txp = QO.transform(b_pos_lift, b_mom_lift)\n",
    "Tpx = QO.transform(b_mom_lift, b_pos_lift)"
   ]
  },
  {
   "cell_type": "code",
   "execution_count": null,
   "metadata": {},
   "outputs": [],
   "source": [
    "p_op = QO.LazyTensor(b_mom_lift, [2], (QO.momentum(b_momentum),))"
   ]
  },
  {
   "cell_type": "code",
   "execution_count": null,
   "metadata": {},
   "outputs": [],
   "source": [
    "H_kin_p_lift = p_op^2"
   ]
  },
  {
   "cell_type": "code",
   "execution_count": null,
   "metadata": {},
   "outputs": [],
   "source": [
    "H_pot_I_x = QO.potentialoperator(b_position, x -> -V/2 * cos(2x))\n",
    "H_pot_Q_x = QO.potentialoperator(b_position, x -> V/2 * sin(2x))\n",
    "H_pot_I_x_lift = QO.LazyTensor(b_pos_lift, [2], (H_pot_I_x,))\n",
    "H_pot_Q_x_lift = QO.LazyTensor(b_pos_lift, [2], (H_pot_Q_x,))\n",
    "H_pot_I_p_lift = QO.LazyProduct(Tpx, H_pot_I_x_lift, Txp)\n",
    "H_pot_Q_p_lift = QO.LazyProduct(Tpx, H_pot_Q_x_lift, Txp)"
   ]
  },
  {
   "cell_type": "code",
   "execution_count": null,
   "metadata": {},
   "outputs": [],
   "source": [
    "H_a_x = QO.potentialoperator(b_position, x -> -0.5*x)\n",
    "H_a_x_lift = QO.LazyTensor(b_pos_lift, [2], (H_a_x,))\n",
    "H_a_p_lift = QO.LazyProduct(Tpx, H_a_x_lift, Txp)\n",
    "H_a_p_lift = QO.LazyProduct(qb_10_lift, H_a_p_lift)"
   ]
  },
  {
   "attachments": {},
   "cell_type": "markdown",
   "metadata": {},
   "source": [
    "Z = NT.load_traj(\"interferometer/split_victor_opt2.jld2\")"
   ]
  },
  {
   "attachments": {},
   "cell_type": "markdown",
   "metadata": {},
   "source": [
    "a, dts = Z.a, vec(Z.dts)\n",
    "T = Z.T\n",
    "times = cumsum(dts) - dts"
   ]
  },
  {
   "cell_type": "code",
   "execution_count": null,
   "metadata": {},
   "outputs": [],
   "source": []
  },
  {
   "cell_type": "code",
   "execution_count": null,
   "metadata": {},
   "outputs": [],
   "source": [
    "Z_split = NT.load_traj(\"interferometer/split_bloch78.jld2\")\n",
    "Z_mirror = NT.load_traj(\"interferometer/mirror_bloch78_Z.jld2\")"
   ]
  },
  {
   "cell_type": "code",
   "execution_count": null,
   "metadata": {},
   "outputs": [],
   "source": [
    "flight_time = 2pi * 0.5\n",
    "T_flight = Int(round(flight_time/2pi * 1000; digits=0))\n",
    "dts_flight = fill(flight_time/(T_flight-1), T_flight)"
   ]
  },
  {
   "cell_type": "code",
   "execution_count": null,
   "metadata": {},
   "outputs": [],
   "source": [
    "a, dts = get_interferometer(Z_split, Z_mirror, dts_flight)\n",
    "Z_time = sum(dts) - dts[1]\n",
    "dts_min = minimum(dts[1:end-1])\n",
    "dts_new = fill(dts_min, Int(floor(Z_time/dts_min+1, digits=0)))\n",
    "a = interpolate_controls(a, dts, dts_new)\n",
    "dts = dts_new\n",
    "T = size(a, 2)\n",
    "times = cumsum(dts) - dts"
   ]
  },
  {
   "cell_type": "code",
   "execution_count": null,
   "metadata": {},
   "outputs": [],
   "source": []
  },
  {
   "cell_type": "code",
   "execution_count": null,
   "metadata": {},
   "outputs": [],
   "source": [
    "Z = NT.load_traj(\"end2end/traj.jld2\")"
   ]
  },
  {
   "cell_type": "code",
   "execution_count": null,
   "metadata": {},
   "outputs": [],
   "source": [
    "a, dts = Z.a, vec(Z.dts)\n",
    "flight_time = 2pi * 2.0\n",
    "T_flight = Int(round(flight_time/2pi; digits=0)) * 600\n",
    "jumps = [(div(Z.T, 3), flight_time), (div(2*Z.T, 3), flight_time)]\n",
    "jump_Ts = fill(T_flight, 2)\n",
    "a, dts = get_controls_dts(a, dts, jumps, jump_Ts)\n",
    "Z_time = sum(dts) - dts[1]\n",
    "dts_min = minimum(dts[1:end-1])\n",
    "dts_new = fill(dts_min, Int(floor(Z_time/dts_min+1, digits=0)))\n",
    "a = interpolate_controls(a, dts, dts_new)\n",
    "dts = dts_new\n",
    "T = size(a, 2)\n",
    "times = cumsum(dts) - dts"
   ]
  },
  {
   "cell_type": "code",
   "execution_count": null,
   "metadata": {},
   "outputs": [],
   "source": [
    "I_itp = IP.interpolate(a[1,:], IP.BSpline(IP.Cubic(IP.Free(IP.OnCell()))))\n",
    "Q_itp = IP.interpolate(a[2,:], IP.BSpline(IP.Cubic(IP.Free(IP.OnCell()))))"
   ]
  },
  {
   "cell_type": "code",
   "execution_count": null,
   "metadata": {},
   "outputs": [],
   "source": [
    "function I(t)\n",
    "    if t < times[end]\n",
    "        return I_itp(t/times[end]*(T-1) + 1)\n",
    "    else\n",
    "        return 1.0\n",
    "    end\n",
    "end \n",
    "function Q(t)\n",
    "    if t < times[end]\n",
    "        return Q_itp(t/times[end]*(T-1) + 1)\n",
    "    else\n",
    "        return 0.0\n",
    "    end\n",
    "end "
   ]
  },
  {
   "attachments": {},
   "cell_type": "markdown",
   "metadata": {},
   "source": [
    "function I(t)\n",
    "    return 1.0\n",
    "end\n",
    "function Q(t)\n",
    "    return 0.0\n",
    "end"
   ]
  },
  {
   "cell_type": "code",
   "execution_count": null,
   "metadata": {},
   "outputs": [],
   "source": [
    "H_p = QO.TimeDependentSum(1.0 => H_kin_p_lift, I => H_pot_I_p_lift, Q => H_pot_Q_p_lift, 1.0 => H_a_p_lift)"
   ]
  },
  {
   "cell_type": "code",
   "execution_count": null,
   "metadata": {},
   "outputs": [],
   "source": []
  },
  {
   "cell_type": "code",
   "execution_count": null,
   "metadata": {},
   "outputs": [],
   "source": [
    "function gaussian_wavepacket(x, sigma)\n",
    "    return (2*sigma^2/pi)^(1/4) * exp.(-sigma^2*x.^2)\n",
    "end"
   ]
  },
  {
   "cell_type": "code",
   "execution_count": null,
   "metadata": {},
   "outputs": [],
   "source": [
    "function wave(x, n)\n",
    "    return exp.(2im*x*n')\n",
    "end"
   ]
  },
  {
   "cell_type": "code",
   "execution_count": null,
   "metadata": {},
   "outputs": [],
   "source": [
    "sigma = 0.1\n",
    "psi0 = gaussian_wavepacket(xs, sigma) .* (wave(xs, ns) * v)\n",
    "psi0 = fourier(psi0, xs, ps; exp_sign=-1)\n",
    "psi0_ket = QO.Ket(b_momentum, psi0)\n",
    "psi0_ket = QO.tensor(QO.Ket(qb_basis, [1,0]), psi0_ket)"
   ]
  },
  {
   "cell_type": "code",
   "execution_count": null,
   "metadata": {},
   "outputs": [],
   "source": [
    "Plots.plot(real.(psi0_ket.data[1:2:end]))"
   ]
  },
  {
   "cell_type": "code",
   "execution_count": null,
   "metadata": {},
   "outputs": [],
   "source": []
  },
  {
   "attachments": {},
   "cell_type": "markdown",
   "metadata": {},
   "source": [
    "t_max = 20.0\n",
    "dt = 0.007\n",
    "times = collect(0.0:dt:t_max)"
   ]
  },
  {
   "cell_type": "code",
   "execution_count": null,
   "metadata": {},
   "outputs": [],
   "source": [
    "times_slice = 1:length(times)"
   ]
  },
  {
   "cell_type": "code",
   "execution_count": null,
   "metadata": {},
   "outputs": [],
   "source": [
    "Plots.plot(times[times_slice], I.(times[times_slice]))"
   ]
  },
  {
   "cell_type": "code",
   "execution_count": null,
   "metadata": {},
   "outputs": [],
   "source": [
    "tout, psit_ket = QO.timeevolution.schroedinger_dynamic(times[times_slice], psi0_ket, H_p)"
   ]
  },
  {
   "cell_type": "code",
   "execution_count": null,
   "metadata": {},
   "outputs": [],
   "source": [
    "psi = hcat([psi_ket.data for psi_ket in psit_ket]...)\n",
    "psi, dpsi = psi[1:2:end,:], psi[2:2:end,:]\n",
    "pops, dpops = abs2.(psi), abs2.(dpsi)"
   ]
  },
  {
   "cell_type": "code",
   "execution_count": null,
   "metadata": {},
   "outputs": [],
   "source": [
    "Plots.plot(ps, pops[:,3001])"
   ]
  },
  {
   "cell_type": "code",
   "execution_count": null,
   "metadata": {},
   "outputs": [],
   "source": []
  },
  {
   "cell_type": "code",
   "execution_count": null,
   "metadata": {},
   "outputs": [],
   "source": [
    "dp = ps[2] - ps[1]"
   ]
  },
  {
   "cell_type": "code",
   "execution_count": null,
   "metadata": {},
   "outputs": [],
   "source": [
    "function Fisher(psi, dpsi)\n",
    "    eps = 0.0\n",
    "    P = abs2.(psi)\n",
    "    D = 2*real.(conj.(psi) .* dpsi)\n",
    "    F = (1 ./ (P .+ eps))' * D.^2\n",
    "    return F\n",
    "end "
   ]
  },
  {
   "cell_type": "code",
   "execution_count": null,
   "metadata": {},
   "outputs": [],
   "source": [
    "CFI = [Fisher(psi[:,t], dpsi[:,t])*dp*pi^2 for t=1:length(tout)]"
   ]
  },
  {
   "cell_type": "code",
   "execution_count": null,
   "metadata": {},
   "outputs": [],
   "source": [
    "Plots.plot(tout, CFI)"
   ]
  },
  {
   "cell_type": "code",
   "execution_count": null,
   "metadata": {},
   "outputs": [],
   "source": [
    "MZFI = (8pi*(times[end]/2)^2)^2"
   ]
  },
  {
   "cell_type": "code",
   "execution_count": null,
   "metadata": {},
   "outputs": [],
   "source": []
  },
  {
   "cell_type": "code",
   "execution_count": null,
   "metadata": {},
   "outputs": [],
   "source": []
  },
  {
   "cell_type": "code",
   "execution_count": null,
   "metadata": {},
   "outputs": [],
   "source": []
  },
  {
   "cell_type": "code",
   "execution_count": null,
   "metadata": {},
   "outputs": [],
   "source": [
    "V = 10.\n",
    "trunc = 11\n",
    "# E_R [kHz] found in Weidner thesis\n",
    "system = ShakenLatticeSystem1D(\n",
    "    V, \n",
    "    trunc; \n",
    "    acc=0.0, \n",
    "    bloch_basis=true,\n",
    "    bloch_transformation_trunc=2*trunc,\n",
    "    include_acc_derivative=true, \n",
    "    sparse=false)\n",
    "# middle index of statevector where p = 0\n",
    "mid = system.params[:mid]\n",
    "dim = system.params[:dim]\n",
    "B = system.params[:bloch_states][:,1:trunc]\n",
    "if system.params[:accelerated]\n",
    "    B2 = blockdiagonal(B, B)\n",
    "end"
   ]
  },
  {
   "cell_type": "code",
   "execution_count": null,
   "metadata": {},
   "outputs": [],
   "source": [
    "function FisherB(psi, dpsi)\n",
    "    psi = B*psi\n",
    "    dpsi = B*dpsi\n",
    "    eps = 0.0\n",
    "    P = abs2.(psi)\n",
    "    D = 2*real.(conj.(psi) .* dpsi)\n",
    "    F = (1 ./ (P .+ eps))' * D.^2\n",
    "    return F\n",
    "end "
   ]
  },
  {
   "cell_type": "code",
   "execution_count": null,
   "metadata": {},
   "outputs": [],
   "source": [
    "Z_dts = vec(Z.dts)\n",
    "Z_times = cumsum(Z_dts) - Z_dts\n",
    "_, full_dts = get_controls_dts(Z.a, Z_dts, jumps, jump_Ts)\n",
    "full_times = cumsum(full_dts) - full_dts"
   ]
  },
  {
   "cell_type": "code",
   "execution_count": null,
   "metadata": {},
   "outputs": [],
   "source": [
    "psi0_iso = QC.cavity_state(0, dim)\n",
    "append!(psi0_iso, zeros(length(psi0_iso)))\n",
    "psi0_iso = QC.ket_to_iso(psi0_iso)"
   ]
  },
  {
   "cell_type": "code",
   "execution_count": null,
   "metadata": {},
   "outputs": [],
   "source": [
    "psi_iso = shaken_lattice_rollout(psi0_iso, Z.a, Z_dts, system, jumps, jump_Ts)\n",
    "Z_psi_dpsi = mapslices(QC.iso_to_ket, psi_iso, dims=1)"
   ]
  },
  {
   "cell_type": "code",
   "execution_count": null,
   "metadata": {},
   "outputs": [],
   "source": [
    "Z_pops = abs2.(B*Z_psi_dpsi[1:11,:])\n",
    "Z_dpops = abs2.(B*Z_psi_dpsi[12:end,:])"
   ]
  },
  {
   "cell_type": "code",
   "execution_count": null,
   "metadata": {},
   "outputs": [],
   "source": [
    "CFI_Z = [FisherB(Z_psi_dpsi[1:11,t], Z_psi_dpsi[12:end,t]) for t=1:size(Z_psi_dpsi, 2)]"
   ]
  },
  {
   "cell_type": "code",
   "execution_count": null,
   "metadata": {},
   "outputs": [],
   "source": [
    "p = Plots.plot(full_times, CFI_Z)\n",
    "Plots.plot!(tout, CFI)"
   ]
  },
  {
   "cell_type": "code",
   "execution_count": null,
   "metadata": {},
   "outputs": [],
   "source": [
    "B*Z_psi_dpsi[1:11,1]"
   ]
  },
  {
   "cell_type": "code",
   "execution_count": null,
   "metadata": {},
   "outputs": [],
   "source": [
    "Nt = 849\n",
    "3397/Nt, 7647/Nt"
   ]
  },
  {
   "cell_type": "code",
   "execution_count": null,
   "metadata": {},
   "outputs": [],
   "source": [
    "anim = Plots.Animation()\n",
    "t_step_fine = Int(round(size(pops, 2)/Nt, digits=0))\n",
    "t_step_coarse = Int(round(size(psi_iso, 2)/Nt, digits=0))\n",
    "for t=1:Nt\n",
    "    p1 = Plots.plot(ps, pops[:,1+(t-1)*t_step_fine], ylim=(0.0, maximum(pops)), label=nothing)\n",
    "    p2 = Plots.plot(ps, dpops[:,1+(t-1)*t_step_fine], ylim=(0.0, maximum(dpops)), label=nothing)\n",
    "    p3 = Plots.plot(tout[1:1+(t-1)*t_step_fine], CFI[1:1+(t-1)*t_step_fine], xlim=(minimum(tout), maximum(tout)), ylim=(0.0, maximum(CFI)), label=nothing)\n",
    "\n",
    "    p4 = Plots.bar(-11:11, Z_pops[:,1+(t-1)*t_step_coarse], ylim=(0.0, 1.0), label=nothing)\n",
    "    p5 = Plots.bar(-11:11, Z_dpops[:,1+(t-1)*t_step_coarse], ylim=(0.0, maximum(Z_dpops)), label=nothing)\n",
    "    p6 = Plots.plot(full_times[1:1+(t-1)*t_step_coarse], CFI_Z[1:1+(t-1)*t_step_coarse], xlim=(minimum(full_times), maximum(full_times)), ylim=(0.0, maximum(CFI_Z)), label=nothing)\n",
    "\n",
    "    p = Plots.plot(p1, p2, p3, p4, p5, p6, size=(800, 1200); layout=Plots.@layout [a;b;c;d;e;f])\n",
    "    Plots.frame(anim, p)\n",
    "end"
   ]
  },
  {
   "cell_type": "code",
   "execution_count": null,
   "metadata": {},
   "outputs": [],
   "source": []
  },
  {
   "cell_type": "code",
   "execution_count": null,
   "metadata": {},
   "outputs": [],
   "source": [
    "Plots.gif(anim, \"anim.gif\"; fps=20, loop=0)"
   ]
  },
  {
   "cell_type": "code",
   "execution_count": null,
   "metadata": {},
   "outputs": [],
   "source": [
    "Nt = 1000\n"
   ]
  }
 ],
 "metadata": {
  "kernelspec": {
   "display_name": "Julia 1.9.2",
   "language": "julia",
   "name": "julia-1.9"
  },
  "language_info": {
   "file_extension": ".jl",
   "mimetype": "application/julia",
   "name": "julia",
   "version": "1.9.2"
  },
  "orig_nbformat": 4
 },
 "nbformat": 4,
 "nbformat_minor": 2
}
