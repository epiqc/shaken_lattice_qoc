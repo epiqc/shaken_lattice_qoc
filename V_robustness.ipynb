{
 "cells": [
  {
   "cell_type": "code",
   "execution_count": null,
   "metadata": {},
   "outputs": [],
   "source": [
    "import QuantumCollocation as QC\n",
    "import NamedTrajectories as NT\n",
    "import TrajectoryIndexingUtils as NTidx\n",
    "import LinearAlgebra as LA\n",
    "import SparseArrays as SA\n",
    "import ForwardDiff as FD\n",
    "import Plots\n",
    "import Interpolations as IP\n",
    "using LaTeXStrings\n",
    "import JLD2"
   ]
  },
  {
   "cell_type": "code",
   "execution_count": null,
   "metadata": {},
   "outputs": [],
   "source": [
    "include(\"utils.jl\")\n",
    "include(\"system.jl\")\n",
    "include(\"constraints.jl\")\n",
    "include(\"objectives.jl\")"
   ]
  },
  {
   "cell_type": "code",
   "execution_count": null,
   "metadata": {},
   "outputs": [],
   "source": []
  },
  {
   "cell_type": "code",
   "execution_count": null,
   "metadata": {},
   "outputs": [],
   "source": [
    "V = 10.\n",
    "trunc = 13\n",
    "# E_R [kHz] found in Weidner thesis\n",
    "system = ShakenLatticeSystem1D(V, trunc; bloch_basis=true, bloch_transformation_trunc=3*trunc, include_V_derivative=true)\n",
    "# middle index of statevector where p = 0\n",
    "mid = system.params[:mid]\n",
    "dim = system.params[:dim]\n",
    "E_R = system.params[:E_R]\n",
    "#E_R = 1/0.05\n",
    "#print(\"time unit $(1/E_R) ms\\nE_R = $E_R kHz\")"
   ]
  },
  {
   "cell_type": "code",
   "execution_count": null,
   "metadata": {},
   "outputs": [],
   "source": [
    "system.params[:bloch_energies]"
   ]
  },
  {
   "cell_type": "code",
   "execution_count": null,
   "metadata": {},
   "outputs": [],
   "source": []
  },
  {
   "cell_type": "code",
   "execution_count": null,
   "metadata": {},
   "outputs": [],
   "source": [
    "duration = 2pi * 1.0 # in units of 1/E_R\n",
    "\n",
    "T = 601\n",
    "dt = duration / (T-1)\n",
    "dts = zeros(T) .+ dt\n",
    "dt_bound = (dt, dt)\n",
    "times = cumsum(dts) - dts\n",
    "duration"
   ]
  },
  {
   "cell_type": "code",
   "execution_count": null,
   "metadata": {},
   "outputs": [],
   "source": [
    "a_bound = fill(1.0, 2)\n",
    "phi_bound = [1.0 * pi]\n",
    "#dphi_bound = [100.]\n",
    "#ddphi_bound = [3000.]\n",
    "\n",
    "#phi = collect(sin.(11.5 *times)')\n",
    "phi = rand(1, T)\n",
    "a = vcat(cos.(phi), sin.(phi))\n",
    "\n",
    "dphi = NT.derivative(phi, dts)\n",
    "ddphi = NT.derivative(dphi, dts)"
   ]
  },
  {
   "cell_type": "code",
   "execution_count": null,
   "metadata": {},
   "outputs": [],
   "source": []
  },
  {
   "cell_type": "code",
   "execution_count": null,
   "metadata": {},
   "outputs": [],
   "source": [
    "Plots.plot(times, a')"
   ]
  },
  {
   "cell_type": "code",
   "execution_count": null,
   "metadata": {},
   "outputs": [],
   "source": [
    "Plots.plot(times, phi')"
   ]
  },
  {
   "cell_type": "code",
   "execution_count": null,
   "metadata": {},
   "outputs": [],
   "source": [
    "Plots.plot(times, dphi')"
   ]
  },
  {
   "cell_type": "code",
   "execution_count": null,
   "metadata": {},
   "outputs": [],
   "source": [
    "Plots.plot(times, ddphi')"
   ]
  },
  {
   "attachments": {},
   "cell_type": "markdown",
   "metadata": {},
   "source": [
    "psi0 = zeros(system.params[:dim])\n",
    "psi0[mid] = 0.\n",
    "psi0[mid-1] = sqrt(0.5)\n",
    "psi0[mid+1] = sqrt(0.5)\n",
    "normalize!(psi0)"
   ]
  },
  {
   "cell_type": "code",
   "execution_count": null,
   "metadata": {},
   "outputs": [],
   "source": [
    "#psi0 = get_bloch_state(system; lvl=0)\n",
    "psi0 = QC.cavity_state(0, dim)\n",
    "append!(psi0, zeros(dim))"
   ]
  },
  {
   "cell_type": "code",
   "execution_count": null,
   "metadata": {},
   "outputs": [],
   "source": [
    "#Plots.bar(-p_max:p_max, abs2.(psi0))\n",
    "Plots.bar(0:dim-1, abs2.(psi0[1:dim]))"
   ]
  },
  {
   "cell_type": "code",
   "execution_count": null,
   "metadata": {},
   "outputs": [],
   "source": []
  },
  {
   "cell_type": "code",
   "execution_count": null,
   "metadata": {},
   "outputs": [],
   "source": [
    "psi0_iso = QC.ket_to_iso(psi0)"
   ]
  },
  {
   "cell_type": "code",
   "execution_count": null,
   "metadata": {},
   "outputs": [],
   "source": [
    "psi_iso = QC.rollout(psi0_iso, a, dts, system; integrator=exp)"
   ]
  },
  {
   "cell_type": "code",
   "execution_count": null,
   "metadata": {},
   "outputs": [],
   "source": [
    "psi_iso += rand(size(psi_iso)...)"
   ]
  },
  {
   "cell_type": "code",
   "execution_count": null,
   "metadata": {},
   "outputs": [],
   "source": [
    "psi = hcat([QC.iso_to_ket(psi_iso[:,t]) for t=1:T]...)\n",
    "pops = abs2.(psi)"
   ]
  },
  {
   "cell_type": "code",
   "execution_count": null,
   "metadata": {},
   "outputs": [],
   "source": [
    "#Plots.plot(times, pops[:,:]', labels=(-p_max:1:p_max)', legend=:outertopright)#, xlim=(0.0, 2.0))\n",
    "Plots.plot(times, pops[1:dim,:]', labels=(0:dim-1)', legend=:outertopright)#, xlim=(0.0, 2.0))"
   ]
  },
  {
   "cell_type": "code",
   "execution_count": null,
   "metadata": {},
   "outputs": [],
   "source": [
    "comps = (\n",
    "    psi_iso = psi_iso,\n",
    "    a = a,\n",
    "    phi = phi,\n",
    "    # dphi = dphi,\n",
    "    # ddphi = ddphi,\n",
    "    dts = dts\n",
    ")\n",
    "initial = (\n",
    "    psi_iso = psi0_iso,\n",
    "    phi = [0.],\n",
    "    #dphi = [0.]\n",
    ")\n",
    "final = (;\n",
    "    phi = [0.],\n",
    "    #dphi = [0.]\n",
    ")\n",
    "goal = (;)\n",
    "bounds = (\n",
    "    phi = phi_bound,\n",
    "    # ddphi = ddphi_bound,\n",
    "    dts = dt_bound\n",
    ")\n",
    "\n",
    "Z_guess = nothing\n",
    "GC.gc()\n",
    "Z_guess = NT.NamedTrajectory(\n",
    "    comps;\n",
    "    controls=(:phi),\n",
    "    timestep=:dts,\n",
    "    bounds=bounds,\n",
    "    initial=initial,\n",
    "    final=final,\n",
    "    goal=goal\n",
    ")"
   ]
  },
  {
   "cell_type": "code",
   "execution_count": null,
   "metadata": {},
   "outputs": [],
   "source": []
  },
  {
   "cell_type": "code",
   "execution_count": null,
   "metadata": {},
   "outputs": [],
   "source": [
    "R = 1.0 * collect(LA.I(dim))\n",
    "R[8,8] = R[9,9] = 0.\n",
    "R = QC.QuantumSystems.iso(R)\n",
    "#R[8,8] = R[9+dim,9+dim] = 0. # this should get populations right AND fix y-z greatcircle\n",
    "R"
   ]
  },
  {
   "cell_type": "code",
   "execution_count": null,
   "metadata": {},
   "outputs": [],
   "source": [
    "kernel = sinc_kernel(50., vec(Z_guess.dts))\n",
    "convolver = LA.I(Z_guess.T) - kernel\n",
    "convolver = convolver' * convolver"
   ]
  },
  {
   "cell_type": "code",
   "execution_count": null,
   "metadata": {},
   "outputs": [],
   "source": [
    "state_goal = QC.cavity_state(3, dim)\n",
    "append!(state_goal, zeros(dim))"
   ]
  },
  {
   "cell_type": "code",
   "execution_count": null,
   "metadata": {},
   "outputs": [],
   "source": [
    "#J = NameComponentObjective(:psi_iso, [1:dim...], [1:T...], x -> 1 - abs2.(x' * state_goal), ([1:T...] ./ T) .* 100.; is_iso=true)\n",
    "#J1 = QC.QuantumObjective(name=:psi_iso, goals=QC.ket_to_iso(state_goal), loss=:InfidelityLoss, Q=100.0)\n",
    "#J += QC.QuadraticRegularizer(:dts, Z_guess, 0.01)\n",
    "#J += NameComponentQuadraticRegularizer(:a, [2], Z_guess, [0.001])\n",
    "\n",
    "J1 = QuadraticObjective(:psi_iso, Z_guess, R, vcat(1:dim, (2dim+1):3dim); Q=200.0)\n",
    "# J2 = NameComponentObjective(:psi_iso, [8, 9], [T], x -> real(x[1]'*x[2])^2, [100.0]; is_iso=true)\n",
    "# J4 = QC.QuadraticRegularizer(:ddphi, Z_guess, 1e-8/T)\n",
    "# J5 = QC.QuadraticRegularizer(:dts, Z_guess, 1e1/T)\n",
    "J5 = NameComponentQuadraticRegularizer(:psi_iso, [13], Z_guess, [1e1/T]; is_iso=true)\n",
    "\n",
    "# convolution\n",
    "J4 = QuadraticObjective(:phi, Z_guess, convolver, [1], 1:Z_guess.T; Q=50.0/T)\n",
    "\n",
    "J6 = NameComponentQuadraticRegularizer(:psi_iso, (dim+1):2*dim, Z_guess, fill(1e4/T/dim, dim); is_iso=true)\n",
    "\n",
    "J = J1 + J4 + J5 + J6"
   ]
  },
  {
   "cell_type": "code",
   "execution_count": null,
   "metadata": {},
   "outputs": [],
   "source": [
    "J.L(Z_guess.datavec, Z_guess)"
   ]
  },
  {
   "cell_type": "code",
   "execution_count": null,
   "metadata": {},
   "outputs": [],
   "source": [
    "J6.L(Z_guess.datavec, Z_guess)"
   ]
  },
  {
   "cell_type": "code",
   "execution_count": null,
   "metadata": {},
   "outputs": [],
   "source": [
    "integrators = nothing\n",
    "GC.gc()\n",
    "integrators = [\n",
    "    QC.QuantumStatePadeIntegrator(\n",
    "        system,\n",
    "        :psi_iso,\n",
    "        :a,\n",
    "        :dts;\n",
    "        order=4\n",
    "    ),\n",
    "    # QC.DerivativeIntegrator(\n",
    "    #     :phi,\n",
    "    #     :dphi,\n",
    "    #     :dts,\n",
    "    #     Z_guess\n",
    "    # ),\n",
    "    # QC.DerivativeIntegrator(\n",
    "    #     :dphi,\n",
    "    #     :ddphi,\n",
    "    #     :dts,\n",
    "    #     Z_guess\n",
    "    # )\n",
    "]"
   ]
  },
  {
   "cell_type": "code",
   "execution_count": null,
   "metadata": {},
   "outputs": [],
   "source": []
  },
  {
   "cell_type": "code",
   "execution_count": null,
   "metadata": {},
   "outputs": [],
   "source": [
    "constraints = [\n",
    "    IQPhiConstraint(:a, :phi, Z_guess),\n",
    "    FinalYZGreatCircleConstraint(:psi_iso, [8, 9], Z_guess)\n",
    "    #LinearSincConvolutionConstraint(:phi, :dts, Z_guess, 60.)\n",
    "    #OmegaAbsConstraint(1.0, Z_guess),\n",
    "    #PhiSincConvolutionConstraint(:a, :dts, Z_guess, 80.),\n",
    "    #PhiFunctionBoundConstraint(phase_bound, Z_guess),\n",
    "    #TimeSymmetricControlConstraint(:a, Z_guess)\n",
    "    #custom_bounds_constraint(:a, Z_guess, Int[], a_bound)\n",
    "]"
   ]
  },
  {
   "cell_type": "code",
   "execution_count": null,
   "metadata": {},
   "outputs": [],
   "source": [
    "# Ipopt options\n",
    "options = QC.Options(\n",
    "    max_iter=100,\n",
    ")"
   ]
  },
  {
   "cell_type": "code",
   "execution_count": null,
   "metadata": {},
   "outputs": [],
   "source": [
    "# defining quantum control problem\n",
    "prob = nothing\n",
    "GC.gc()\n",
    "prob = QC.QuantumControlProblem(\n",
    "    system, \n",
    "    Z_guess, \n",
    "    J, \n",
    "    integrators;\n",
    "    constraints=constraints,\n",
    "    options=options,\n",
    ")"
   ]
  },
  {
   "cell_type": "code",
   "execution_count": null,
   "metadata": {},
   "outputs": [],
   "source": [
    "QC.solve!(prob)"
   ]
  },
  {
   "cell_type": "code",
   "execution_count": null,
   "metadata": {},
   "outputs": [],
   "source": []
  },
  {
   "cell_type": "code",
   "execution_count": null,
   "metadata": {},
   "outputs": [],
   "source": [
    "Z = nothing\n",
    "GC.gc()\n",
    "Z = prob.trajectory"
   ]
  },
  {
   "cell_type": "code",
   "execution_count": null,
   "metadata": {},
   "outputs": [],
   "source": [
    "Z.psi_iso"
   ]
  },
  {
   "cell_type": "code",
   "execution_count": null,
   "metadata": {},
   "outputs": [],
   "source": [
    "psi_iso_rollout = QC.rollout(psi0_iso, Z.a, Z.dts, system; integrator=exp)\n",
    "psi = hcat([QC.iso_to_ket(psi_iso_rollout[:,t]) for t=1:T]...)\n",
    "pops = abs2.(psi)"
   ]
  },
  {
   "attachments": {},
   "cell_type": "markdown",
   "metadata": {},
   "source": [
    "psi = hcat([QC.iso_to_ket(Z.psi_iso[:,t]) for t=1:T]...)\n",
    "pops = hcat([abs2.(QC.iso_to_ket(Z.psi_iso[:,t])) for t=1:T]...)"
   ]
  },
  {
   "cell_type": "code",
   "execution_count": null,
   "metadata": {},
   "outputs": [],
   "source": [
    "psi[:,end]"
   ]
  },
  {
   "cell_type": "code",
   "execution_count": null,
   "metadata": {},
   "outputs": [],
   "source": [
    "1 - J1.L(Z.datavec, Z)/100"
   ]
  },
  {
   "cell_type": "code",
   "execution_count": null,
   "metadata": {},
   "outputs": [],
   "source": [
    "J4.L(Z.datavec, Z)"
   ]
  },
  {
   "cell_type": "code",
   "execution_count": null,
   "metadata": {},
   "outputs": [],
   "source": [
    "times = cumsum(Z.dts[1,:]) - Z.dts[1,:]"
   ]
  },
  {
   "cell_type": "code",
   "execution_count": null,
   "metadata": {},
   "outputs": [],
   "source": [
    "p = Plots.plot(times, pops[1:dim,:]', labels=(0:dim-1)', legend=:outertopright, size=(500, 300))\n",
    "Plots.xaxis!(p, \n",
    "    xlabel=L\"$t$ $[1/\\omega_R]$\"\n",
    ")\n",
    "Plots.yaxis!(p, \n",
    "    #ylabel=L\"population of momentum state $|p\\rangle$\"\n",
    "    ylabel=\"Bloch state population\"\n",
    ")\n",
    "Plots.title!(p, \"Splitting shaking sequence\")"
   ]
  },
  {
   "cell_type": "code",
   "execution_count": null,
   "metadata": {},
   "outputs": [],
   "source": [
    "p = Plots.plot(times, pops[dim+1:end,:]', labels=(0:dim-1)', legend=:outertopright, size=(500, 300))\n",
    "Plots.xaxis!(p, \n",
    "    xlabel=L\"$t$ $[1/\\omega_R]$\"\n",
    ")\n",
    "Plots.yaxis!(p, \n",
    "    #ylabel=L\"population of momentum state $|p\\rangle$\"\n",
    "    ylabel=\"Bloch state population\"\n",
    ")\n",
    "Plots.title!(p, \"Splitting shaking sequence - Diff states\")"
   ]
  },
  {
   "cell_type": "code",
   "execution_count": null,
   "metadata": {},
   "outputs": [],
   "source": [
    "∂pops = 2*real.(psi[1:dim,:].*conj.(psi[dim+1:end,:]));"
   ]
  },
  {
   "cell_type": "code",
   "execution_count": null,
   "metadata": {},
   "outputs": [],
   "source": [
    "p = Plots.plot(times, ∂pops', labels=(0:dim-1)', legend=:outertopright, size=(500, 300))\n",
    "Plots.xaxis!(p, \n",
    "    xlabel=L\"$t$ $[1/\\omega_R]$\"\n",
    ")\n",
    "Plots.yaxis!(p, \n",
    "    #ylabel=L\"population of momentum state $|p\\rangle$\"\n",
    "    ylabel=\"Bloch state population\"\n",
    ")\n",
    "Plots.title!(p, L\"Splitting shaking sequence - $\\partial_V Pops$\")"
   ]
  },
  {
   "cell_type": "code",
   "execution_count": null,
   "metadata": {},
   "outputs": [],
   "source": [
    "Plots.plot(times, pops[end,:])"
   ]
  },
  {
   "attachments": {},
   "cell_type": "markdown",
   "metadata": {},
   "source": [
    "blochs = bloch_states' * psi\n",
    "bloch_pops = abs2.(blochs)"
   ]
  },
  {
   "attachments": {},
   "cell_type": "markdown",
   "metadata": {},
   "source": [
    "p = Plots.plot(times, bloch_pops[:,:]', labels=(0:dim-1)', legend=:outertopright, size=(500, 300))\n",
    "Plots.xaxis!(p, \n",
    "    xlabel=L\"$t$ $[1/\\nu_R]$\"\n",
    ")\n",
    "Plots.yaxis!(p, \n",
    "    ylabel=L\"population of Bloch state $|B\\rangle$\"\n",
    ")\n",
    "Plots.title!(p, \"Splitting shaking sequence\")"
   ]
  },
  {
   "cell_type": "code",
   "execution_count": null,
   "metadata": {},
   "outputs": [],
   "source": [
    "Plots.plot(times, Z.a')"
   ]
  },
  {
   "cell_type": "code",
   "execution_count": null,
   "metadata": {},
   "outputs": [],
   "source": [
    "Plots.plot(times, Z.phi')"
   ]
  },
  {
   "cell_type": "code",
   "execution_count": null,
   "metadata": {},
   "outputs": [],
   "source": [
    "dphi = NT.derivative(Z.phi, dts)\n",
    "ddphi = NT.derivative(dphi, dts);"
   ]
  },
  {
   "cell_type": "code",
   "execution_count": null,
   "metadata": {},
   "outputs": [],
   "source": [
    "Plots.plot(times, dphi')"
   ]
  },
  {
   "cell_type": "code",
   "execution_count": null,
   "metadata": {},
   "outputs": [],
   "source": [
    "Plots.plot(times, ddphi')"
   ]
  },
  {
   "cell_type": "code",
   "execution_count": null,
   "metadata": {},
   "outputs": [],
   "source": [
    "p = Plots.plot(times, Z.phi', linecolor=:blue, label=L\"\\varphi(t)\", size=(500, 300))\n",
    "Plots.xaxis!(p, \n",
    "    xlabel=L\"$t$ $[1/\\omega_R]$\"\n",
    ")\n",
    "Plots.yaxis!(p, \n",
    "    ylabel=\"shaking amplitude\"\n",
    ")\n",
    "Plots.title!(p, \"Splitting shaking sequence\")"
   ]
  },
  {
   "cell_type": "code",
   "execution_count": null,
   "metadata": {},
   "outputs": [],
   "source": [
    "Z_guess = Z"
   ]
  },
  {
   "cell_type": "code",
   "execution_count": null,
   "metadata": {},
   "outputs": [],
   "source": [
    "import JLD2"
   ]
  },
  {
   "attachments": {},
   "cell_type": "markdown",
   "metadata": {},
   "source": [
    "duration_wr = round(duration/2pi; digits=2)"
   ]
  },
  {
   "attachments": {},
   "cell_type": "markdown",
   "metadata": {},
   "source": [
    "duration = sum(Z.dts) - Z.dts[end]\n",
    "duration_wr = round(duration/2pi; digits=2)\n",
    "s = \"\"\"\n",
    "Final infidelity (Bloch 3) in %:\n",
    "$(J1.L(Z.datavec, Z))\n",
    "\"\"\"\n",
    "write(\"$(duration_wr)wr.txt\", s)"
   ]
  },
  {
   "cell_type": "code",
   "execution_count": null,
   "metadata": {},
   "outputs": [],
   "source": [
    "JLD2.save(\"interferometer/split_bloch78_Vrobust.jld2\", Z)"
   ]
  },
  {
   "cell_type": "code",
   "execution_count": null,
   "metadata": {},
   "outputs": [],
   "source": [
    "slice = 1:T #div(2*T,3):T"
   ]
  },
  {
   "cell_type": "code",
   "execution_count": null,
   "metadata": {},
   "outputs": [],
   "source": [
    "freqs = collect(0:0.1:60)\n",
    "phi_ft = fourier_time_freq(Z.phi[1,slice], times[slice], freqs/2pi);"
   ]
  },
  {
   "cell_type": "code",
   "execution_count": null,
   "metadata": {},
   "outputs": [],
   "source": [
    "p = Plots.plot(freqs, abs2.(phi_ft), size=(500, 300), label=nothing)\n",
    "Plots.xaxis!(p, \n",
    "    xlabel=L\"$\\omega$ $[\\omega_R]$\"\n",
    ")\n",
    "Plots.yaxis!(p, \n",
    "    ylabel=\"Fourier amplitude\"\n",
    ")\n",
    "Plots.title!(p, \"Shaking protocol spectrum\")"
   ]
  },
  {
   "cell_type": "code",
   "execution_count": null,
   "metadata": {},
   "outputs": [],
   "source": []
  }
 ],
 "metadata": {
  "kernelspec": {
   "display_name": "Julia 1.9.2",
   "language": "julia",
   "name": "julia-1.9"
  },
  "language_info": {
   "file_extension": ".jl",
   "mimetype": "application/julia",
   "name": "julia",
   "version": "1.9.2"
  },
  "orig_nbformat": 4
 },
 "nbformat": 4,
 "nbformat_minor": 2
}
