{
 "cells": [
  {
   "cell_type": "code",
   "execution_count": null,
   "metadata": {},
   "outputs": [],
   "source": [
    "import Revise"
   ]
  },
  {
   "cell_type": "code",
   "execution_count": 2,
   "metadata": {},
   "outputs": [],
   "source": [
    "import QuantumCollocation as QC\n",
    "import NamedTrajectories as NT\n",
    "import TrajectoryIndexingUtils as NTidx\n",
    "import LinearAlgebra as LA\n",
    "import SparseArrays as SA\n",
    "import ForwardDiff as FD\n",
    "import Plots\n",
    "import Interpolations as IP\n",
    "using LaTeXStrings\n",
    "import JLD2"
   ]
  },
  {
   "attachments": {},
   "cell_type": "markdown",
   "metadata": {},
   "source": [
    "using FFTW:ifft, fft, fftshift, fftfreq"
   ]
  },
  {
   "cell_type": "code",
   "execution_count": 3,
   "metadata": {},
   "outputs": [
    {
     "data": {
      "text/plain": [
       "QuadraticObjective (generic function with 3 methods)"
      ]
     },
     "metadata": {},
     "output_type": "display_data"
    }
   ],
   "source": [
    "include(\"utils.jl\")\n",
    "include(\"system.jl\")\n",
    "include(\"constraints.jl\")\n",
    "include(\"objectives.jl\")"
   ]
  },
  {
   "cell_type": "code",
   "execution_count": null,
   "metadata": {},
   "outputs": [],
   "source": []
  },
  {
   "cell_type": "code",
   "execution_count": null,
   "metadata": {},
   "outputs": [],
   "source": [
    "V = 10.\n",
    "trunc = 13\n",
    "# E_R [kHz] found in Weidner thesis\n",
    "system = ShakenLatticeSystem1D(V, trunc; bloch_basis=true, bloch_transformation_trunc=3*trunc)\n",
    "# middle index of statevector where p = 0\n",
    "mid = system.params[:mid]\n",
    "dim = system.params[:dim]\n",
    "E_R = system.params[:E_R]\n",
    "#E_R = 1/0.05\n",
    "#print(\"time unit $(1/E_R) ms\\nE_R = $E_R kHz\")"
   ]
  },
  {
   "cell_type": "code",
   "execution_count": null,
   "metadata": {},
   "outputs": [],
   "source": [
    "system.params[:bloch_energies]"
   ]
  },
  {
   "cell_type": "code",
   "execution_count": null,
   "metadata": {},
   "outputs": [],
   "source": []
  },
  {
   "cell_type": "code",
   "execution_count": null,
   "metadata": {},
   "outputs": [],
   "source": [
    "system.H_drives_real[1]"
   ]
  },
  {
   "attachments": {},
   "cell_type": "markdown",
   "metadata": {},
   "source": [
    "df = DF.DataFrame(CSV.File(\"./paper_data/split_fig6_coarse.csv\"; header=0))"
   ]
  },
  {
   "attachments": {},
   "cell_type": "markdown",
   "metadata": {},
   "source": [
    "times = df[:,1] * E_R\n",
    "dts = times[2:end] - times[1:end-1]\n",
    "#push!(dts, dts[end])\n",
    "#push!(dts, 0.)\n",
    "phi = df[1:end-1,2]\n",
    "#push!(phi, 0.)"
   ]
  },
  {
   "attachments": {},
   "cell_type": "markdown",
   "metadata": {},
   "source": [
    "duration = sum(dts) # in 1/E_R\n",
    "\n",
    "T = length(dts)\n",
    "dt_avg = duration / (T-1)\n",
    "#dts = zeros(T) .+ dt\n",
    "dt_bound = (minimum(dts), maximum(dts))\n",
    "times = cumsum(dts) - dts"
   ]
  },
  {
   "attachments": {},
   "cell_type": "markdown",
   "metadata": {},
   "source": [
    "a_bound = fill(1., 2)\n",
    "dda_bound = fill(50., 2)\n",
    "\n",
    "a = vcat(cos.(phi)', sin.(phi)')\n",
    "\n",
    "da = NT.derivative(a, dts)\n",
    "dda = NT.derivative(da, dts)"
   ]
  },
  {
   "cell_type": "code",
   "execution_count": null,
   "metadata": {},
   "outputs": [],
   "source": [
    "duration = 2pi * 0.8 # in units of 1/E_R\n",
    "\n",
    "T = 801\n",
    "dt = duration / (T-1)\n",
    "dts = zeros(T) .+ dt\n",
    "dt_bound = (dt, dt)\n",
    "times = cumsum(dts) - dts\n",
    "duration"
   ]
  },
  {
   "cell_type": "code",
   "execution_count": null,
   "metadata": {},
   "outputs": [],
   "source": [
    "a_bound = fill(1.0, 2)\n",
    "phi_bound = [1.0 * pi]\n",
    "#dphi_bound = [100.]\n",
    "#ddphi_bound = [3000.]\n",
    "\n",
    "#phi = collect(sin.(11.5 *times)')\n",
    "phi = rand(1, T)\n",
    "a = vcat(cos.(phi), sin.(phi))\n",
    "\n",
    "dphi = NT.derivative(phi, dts)\n",
    "ddphi = NT.derivative(dphi, dts)"
   ]
  },
  {
   "cell_type": "code",
   "execution_count": null,
   "metadata": {},
   "outputs": [],
   "source": []
  },
  {
   "cell_type": "code",
   "execution_count": null,
   "metadata": {},
   "outputs": [],
   "source": [
    "Z = NT.load_traj(\"./interferometer/split_bloch78_time_study/0.6wr.jld2\")"
   ]
  },
  {
   "attachments": {},
   "cell_type": "markdown",
   "metadata": {},
   "source": [
    "NT.plot(Z, (:a, :phi), transformations=Dict(:psi_iso => x -> abs2.(QC.iso_to_ket(x))))"
   ]
  },
  {
   "cell_type": "code",
   "execution_count": null,
   "metadata": {},
   "outputs": [],
   "source": []
  },
  {
   "cell_type": "code",
   "execution_count": null,
   "metadata": {},
   "outputs": [],
   "source": [
    "a, phi, dts = Z.a, Z.phi, vec(Z.dts)\n",
    "# dts_new = fill(0.3*2pi/300, 301)\n",
    "# a = interpolate_controls(a, dts, dts_new)\n",
    "# dts = dts_new\n",
    "\n",
    "# phi = collect(atan.(a[2,:], a[1,:])')\n",
    "# phi_mod_clean!(phi)\n",
    "\n",
    "slice = 1:length(dts)\n",
    "a = a[:,slice]\n",
    "dts = dts[slice]\n",
    "phi = phi[:,slice]\n",
    "\n",
    "times = cumsum(dts) - dts\n",
    "T = length(times)"
   ]
  },
  {
   "cell_type": "code",
   "execution_count": null,
   "metadata": {},
   "outputs": [],
   "source": [
    "duration = times[end]\n",
    "T = length(times)\n",
    "dt = duration/(T-1)\n",
    "dt_bound = (0.9*dt, dt)\n",
    "T"
   ]
  },
  {
   "cell_type": "code",
   "execution_count": null,
   "metadata": {},
   "outputs": [],
   "source": [
    "a_bound = fill(1.0, 2)\n",
    "phi_bound = [1.0*pi]\n",
    "ddphi_bound = [1000.]\n",
    "\n",
    "dphi = NT.derivative(phi, dts)\n",
    "ddphi = NT.derivative(dphi, dts)"
   ]
  },
  {
   "cell_type": "code",
   "execution_count": null,
   "metadata": {},
   "outputs": [],
   "source": [
    "duration/2pi"
   ]
  },
  {
   "cell_type": "code",
   "execution_count": null,
   "metadata": {},
   "outputs": [],
   "source": [
    "times"
   ]
  },
  {
   "cell_type": "code",
   "execution_count": null,
   "metadata": {},
   "outputs": [],
   "source": [
    "Plots.plot(times, a')"
   ]
  },
  {
   "cell_type": "code",
   "execution_count": null,
   "metadata": {},
   "outputs": [],
   "source": [
    "Plots.plot(times, phi')"
   ]
  },
  {
   "cell_type": "code",
   "execution_count": null,
   "metadata": {},
   "outputs": [],
   "source": [
    "Plots.plot(times, dphi')"
   ]
  },
  {
   "cell_type": "code",
   "execution_count": null,
   "metadata": {},
   "outputs": [],
   "source": [
    "Plots.plot(times, ddphi')"
   ]
  },
  {
   "attachments": {},
   "cell_type": "markdown",
   "metadata": {},
   "source": [
    "psi0 = zeros(system.params[:dim])\n",
    "psi0[mid] = 0.\n",
    "psi0[mid-1] = sqrt(0.5)\n",
    "psi0[mid+1] = sqrt(0.5)\n",
    "normalize!(psi0)"
   ]
  },
  {
   "cell_type": "code",
   "execution_count": null,
   "metadata": {},
   "outputs": [],
   "source": [
    "#psi0 = get_bloch_state(system; lvl=0)\n",
    "psi0 = QC.cavity_state(0, dim)"
   ]
  },
  {
   "cell_type": "code",
   "execution_count": null,
   "metadata": {},
   "outputs": [],
   "source": [
    "#Plots.bar(-p_max:p_max, abs2.(psi0))\n",
    "Plots.bar(0:dim-1, abs2.(psi0))"
   ]
  },
  {
   "cell_type": "code",
   "execution_count": null,
   "metadata": {},
   "outputs": [],
   "source": []
  },
  {
   "cell_type": "code",
   "execution_count": null,
   "metadata": {},
   "outputs": [],
   "source": [
    "psi0_iso = QC.ket_to_iso(psi0)"
   ]
  },
  {
   "cell_type": "code",
   "execution_count": null,
   "metadata": {},
   "outputs": [],
   "source": [
    "psi_iso = QC.rollout(psi0_iso, a, dts, system; integrator=exp)"
   ]
  },
  {
   "cell_type": "code",
   "execution_count": null,
   "metadata": {},
   "outputs": [],
   "source": [
    "psi_iso += rand(size(psi_iso)...)"
   ]
  },
  {
   "cell_type": "code",
   "execution_count": null,
   "metadata": {},
   "outputs": [],
   "source": [
    "psi = hcat([QC.iso_to_ket(psi_iso[:,t]) for t=1:T]...)\n",
    "pops = abs2.(psi)"
   ]
  },
  {
   "cell_type": "code",
   "execution_count": null,
   "metadata": {},
   "outputs": [],
   "source": [
    "#Plots.plot(times, pops[:,:]', labels=(-p_max:1:p_max)', legend=:outertopright)#, xlim=(0.0, 2.0))\n",
    "Plots.plot(times, pops[:,:]', labels=(0:dim-1)', legend=:outertopright)#, xlim=(0.0, 2.0))"
   ]
  },
  {
   "attachments": {},
   "cell_type": "markdown",
   "metadata": {},
   "source": [
    "bloch_states = hcat([get_bloch_state(system; lvl=i) for i=0:dim-1]...)"
   ]
  },
  {
   "attachments": {},
   "cell_type": "markdown",
   "metadata": {},
   "source": [
    "psi"
   ]
  },
  {
   "attachments": {},
   "cell_type": "markdown",
   "metadata": {},
   "source": [
    "blochs = bloch_states' * psi\n",
    "bloch_pops = abs2.(blochs)"
   ]
  },
  {
   "attachments": {},
   "cell_type": "markdown",
   "metadata": {},
   "source": [
    "Plots.plot(times, bloch_pops[:,:]', labels=(0:8)', legend=:outertopright)#, xlim=(0.0, 2.0))"
   ]
  },
  {
   "attachments": {},
   "cell_type": "markdown",
   "metadata": {},
   "source": [
    "pops[:, end]"
   ]
  },
  {
   "cell_type": "code",
   "execution_count": null,
   "metadata": {},
   "outputs": [],
   "source": [
    "comps = (\n",
    "    psi_iso = psi_iso,\n",
    "    a = a,\n",
    "    phi = phi,\n",
    "    # dphi = dphi,\n",
    "    # ddphi = ddphi,\n",
    "    dts = dts\n",
    ")\n",
    "initial = (\n",
    "    psi_iso = psi0_iso,\n",
    "    phi = [0.],\n",
    "    #dphi = [0.]\n",
    ")\n",
    "final = (;\n",
    "    phi = [0.],\n",
    "    #dphi = [0.]\n",
    ")\n",
    "goal = (;)\n",
    "bounds = (\n",
    "    phi = phi_bound,\n",
    "    # ddphi = ddphi_bound,\n",
    "    dts = dt_bound\n",
    ")\n",
    "\n",
    "Z_guess = nothing\n",
    "GC.gc()\n",
    "Z_guess = NT.NamedTrajectory(\n",
    "    comps;\n",
    "    controls=(:phi),\n",
    "    timestep=:dts,\n",
    "    bounds=bounds,\n",
    "    initial=initial,\n",
    "    final=final,\n",
    "    goal=goal\n",
    ")"
   ]
  },
  {
   "attachments": {},
   "cell_type": "markdown",
   "metadata": {},
   "source": [
    "import JLD2"
   ]
  },
  {
   "attachments": {},
   "cell_type": "markdown",
   "metadata": {},
   "source": [
    "JLD2.save(\"./interferometer/mirror_victor2.jld2\", Z_guess)"
   ]
  },
  {
   "attachments": {},
   "cell_type": "markdown",
   "metadata": {},
   "source": [
    "Z_guess = NT.copy(Z_save)"
   ]
  },
  {
   "attachments": {},
   "cell_type": "markdown",
   "metadata": {},
   "source": [
    "NT.update_bounds!(Z_guess, :dda, [-5000. -5000.; 5000. 5000.])"
   ]
  },
  {
   "cell_type": "code",
   "execution_count": null,
   "metadata": {},
   "outputs": [],
   "source": []
  },
  {
   "cell_type": "code",
   "execution_count": null,
   "metadata": {},
   "outputs": [],
   "source": [
    "dim = system.params[:dim]"
   ]
  },
  {
   "cell_type": "code",
   "execution_count": null,
   "metadata": {},
   "outputs": [],
   "source": [
    "R = 1.0 * collect(LA.I(dim))\n",
    "R[10,10] = R[11,11] = 0.\n",
    "R = QC.QuantumSystems.iso(R)\n",
    "# R[8,8] = R[9+dim,9+dim] = 0. # this should get populations right AND fix y-z greatcircle\n",
    "R"
   ]
  },
  {
   "cell_type": "code",
   "execution_count": null,
   "metadata": {},
   "outputs": [],
   "source": [
    "kernel = sinc_kernel(50., vec(Z_guess.dts))\n",
    "convolver = LA.I(Z_guess.T) - kernel\n",
    "convolver = convolver' * convolver"
   ]
  },
  {
   "cell_type": "code",
   "execution_count": null,
   "metadata": {},
   "outputs": [],
   "source": [
    "Z_guess.psi_iso"
   ]
  },
  {
   "cell_type": "code",
   "execution_count": null,
   "metadata": {},
   "outputs": [],
   "source": [
    "state_goal = QC.cavity_state(3, dim)"
   ]
  },
  {
   "cell_type": "code",
   "execution_count": null,
   "metadata": {},
   "outputs": [],
   "source": [
    "#J = NameComponentObjective(:psi_iso, [1:dim...], [1:T...], x -> 1 - abs2.(x' * state_goal), ([1:T...] ./ T) .* 100.; is_iso=true)\n",
    "# J1 = QC.QuantumObjective(name=:psi_iso, goals=QC.ket_to_iso(state_goal), loss=:InfidelityLoss, Q=100.0)\n",
    "#J += QC.QuadraticRegularizer(:dts, Z_guess, 0.01)\n",
    "#J += NameComponentQuadraticRegularizer(:a, [2], Z_guess, [0.001])\n",
    "\n",
    "J1 = QuadraticObjective(:psi_iso, Z_guess, R; Q=200.0)\n",
    "# J2 = NameComponentObjective(:psi_iso, [8, 9], [T], x -> real(x[1]'*x[2])^2, [100.0]; is_iso=true)\n",
    "# J4 = QC.QuadraticRegularizer(:ddphi, Z_guess, 1e-8/T)\n",
    "# J5 = QC.QuadraticRegularizer(:dts, Z_guess, 1e1/T)\n",
    "J5 = NameComponentQuadraticRegularizer(:psi_iso, [13], Z_guess, [1e1/T]; is_iso=true)\n",
    "\n",
    "# convolution\n",
    "J4 = QuadraticObjective(:phi, Z_guess, convolver, [1], 1:Z_guess.T; Q=50.0/T)\n",
    "\n",
    "J = J1 + J4 + J5"
   ]
  },
  {
   "cell_type": "code",
   "execution_count": null,
   "metadata": {},
   "outputs": [],
   "source": [
    "J.L(Z_guess.datavec, Z_guess)"
   ]
  },
  {
   "cell_type": "code",
   "execution_count": null,
   "metadata": {},
   "outputs": [],
   "source": [
    "integrators = nothing\n",
    "GC.gc()\n",
    "integrators = [\n",
    "    QC.QuantumStatePadeIntegrator(\n",
    "        system,\n",
    "        :psi_iso,\n",
    "        :a,\n",
    "        :dts;\n",
    "        order=4\n",
    "    ),\n",
    "    # QC.DerivativeIntegrator(\n",
    "    #     :phi,\n",
    "    #     :dphi,\n",
    "    #     :dts,\n",
    "    #     Z_guess\n",
    "    # ),\n",
    "    # QC.DerivativeIntegrator(\n",
    "    #     :dphi,\n",
    "    #     :ddphi,\n",
    "    #     :dts,\n",
    "    #     Z_guess\n",
    "    # )\n",
    "]"
   ]
  },
  {
   "cell_type": "code",
   "execution_count": null,
   "metadata": {},
   "outputs": [],
   "source": []
  },
  {
   "cell_type": "code",
   "execution_count": null,
   "metadata": {},
   "outputs": [],
   "source": [
    "constraints = [\n",
    "    IQPhiConstraint(:a, :phi, Z_guess),\n",
    "    FinalYZGreatCircleConstraint(:psi_iso, [10, 11], Z_guess)\n",
    "    #LinearSincConvolutionConstraint(:phi, :dts, Z_guess, 60.)\n",
    "    #OmegaAbsConstraint(1.0, Z_guess),\n",
    "    #PhiSincConvolutionConstraint(:a, :dts, Z_guess, 80.),\n",
    "    #PhiFunctionBoundConstraint(phase_bound, Z_guess),\n",
    "    #TimeSymmetricControlConstraint(:a, Z_guess)\n",
    "    #custom_bounds_constraint(:a, Z_guess, Int[], a_bound)\n",
    "]"
   ]
  },
  {
   "cell_type": "code",
   "execution_count": null,
   "metadata": {},
   "outputs": [],
   "source": [
    "# Ipopt options\n",
    "options = QC.Options(\n",
    "    max_iter=200,\n",
    ")"
   ]
  },
  {
   "cell_type": "code",
   "execution_count": null,
   "metadata": {},
   "outputs": [],
   "source": [
    "# defining quantum control problem\n",
    "prob = nothing\n",
    "GC.gc()\n",
    "prob = QC.QuantumControlProblem(\n",
    "    system, \n",
    "    Z_guess, \n",
    "    J, \n",
    "    integrators;\n",
    "    constraints=constraints,\n",
    "    options=options,\n",
    ")"
   ]
  },
  {
   "cell_type": "code",
   "execution_count": null,
   "metadata": {},
   "outputs": [],
   "source": [
    "QC.solve!(prob)"
   ]
  },
  {
   "cell_type": "code",
   "execution_count": null,
   "metadata": {},
   "outputs": [],
   "source": []
  },
  {
   "cell_type": "code",
   "execution_count": null,
   "metadata": {},
   "outputs": [],
   "source": [
    "Z = nothing\n",
    "GC.gc()\n",
    "Z = prob.trajectory"
   ]
  },
  {
   "cell_type": "code",
   "execution_count": null,
   "metadata": {},
   "outputs": [],
   "source": [
    "Z.psi_iso"
   ]
  },
  {
   "cell_type": "code",
   "execution_count": null,
   "metadata": {},
   "outputs": [],
   "source": [
    "psi_iso_rollout = QC.rollout(psi0_iso, Z.a, Z.dts, system; integrator=exp)\n",
    "psi = hcat([QC.iso_to_ket(psi_iso_rollout[:,t]) for t=1:T]...)\n",
    "pops = abs2.(psi)"
   ]
  },
  {
   "attachments": {},
   "cell_type": "markdown",
   "metadata": {},
   "source": [
    "psi = hcat([QC.iso_to_ket(Z.psi_iso[:,t]) for t=1:T]...)\n",
    "pops = hcat([abs2.(QC.iso_to_ket(Z.psi_iso[:,t])) for t=1:T]...)"
   ]
  },
  {
   "cell_type": "code",
   "execution_count": null,
   "metadata": {},
   "outputs": [],
   "source": [
    "psi[:,end]"
   ]
  },
  {
   "cell_type": "code",
   "execution_count": null,
   "metadata": {},
   "outputs": [],
   "source": [
    "angle(psi[8,end]) - angle(psi[9,end])"
   ]
  },
  {
   "cell_type": "code",
   "execution_count": null,
   "metadata": {},
   "outputs": [],
   "source": [
    "1 - J1.L(Z.datavec, Z)/100"
   ]
  },
  {
   "cell_type": "code",
   "execution_count": null,
   "metadata": {},
   "outputs": [],
   "source": [
    "J4.L(Z.datavec, Z)"
   ]
  },
  {
   "attachments": {},
   "cell_type": "markdown",
   "metadata": {},
   "source": [
    "x = QC.iso_to_ket(Z.psi_iso[:,end])"
   ]
  },
  {
   "attachments": {},
   "cell_type": "markdown",
   "metadata": {},
   "source": [
    "x / exp(1im*angle(x[8]))"
   ]
  },
  {
   "cell_type": "code",
   "execution_count": null,
   "metadata": {},
   "outputs": [],
   "source": [
    "pops_goal"
   ]
  },
  {
   "cell_type": "code",
   "execution_count": null,
   "metadata": {},
   "outputs": [],
   "source": [
    "times = cumsum(Z.dts[1,:]) - Z.dts[1,:]"
   ]
  },
  {
   "cell_type": "code",
   "execution_count": null,
   "metadata": {},
   "outputs": [],
   "source": [
    "#p = Plots.plot(times, pops[:,:]', labels=(-p_max:1:p_max)', legend=:outertopright, size=(500, 300))\n",
    "p = Plots.plot(times, pops[:,:]', labels=(0:dim-1)', legend=:outertopright, size=(500, 300))\n",
    "Plots.xaxis!(p, \n",
    "    xlabel=L\"$t$ $[1/\\omega_R]$\"\n",
    ")\n",
    "Plots.yaxis!(p, \n",
    "    #ylabel=L\"population of momentum state $|p\\rangle$\"\n",
    "    ylabel=\"Bloch state population\"\n",
    ")\n",
    "Plots.title!(p, \"Splitting shaking sequence\")"
   ]
  },
  {
   "cell_type": "code",
   "execution_count": null,
   "metadata": {},
   "outputs": [],
   "source": [
    "Plots.plot(times, pops[end,:])"
   ]
  },
  {
   "attachments": {},
   "cell_type": "markdown",
   "metadata": {},
   "source": [
    "blochs = bloch_states' * psi\n",
    "bloch_pops = abs2.(blochs)"
   ]
  },
  {
   "attachments": {},
   "cell_type": "markdown",
   "metadata": {},
   "source": [
    "p = Plots.plot(times, bloch_pops[:,:]', labels=(0:dim-1)', legend=:outertopright, size=(500, 300))\n",
    "Plots.xaxis!(p, \n",
    "    xlabel=L\"$t$ $[1/\\nu_R]$\"\n",
    ")\n",
    "Plots.yaxis!(p, \n",
    "    ylabel=L\"population of Bloch state $|B\\rangle$\"\n",
    ")\n",
    "Plots.title!(p, \"Splitting shaking sequence\")"
   ]
  },
  {
   "cell_type": "code",
   "execution_count": null,
   "metadata": {},
   "outputs": [],
   "source": [
    "Plots.plot(times, Z.a')"
   ]
  },
  {
   "cell_type": "code",
   "execution_count": null,
   "metadata": {},
   "outputs": [],
   "source": [
    "Plots.plot(times, Z.phi')"
   ]
  },
  {
   "cell_type": "code",
   "execution_count": null,
   "metadata": {},
   "outputs": [],
   "source": [
    "dphi = NT.derivative(Z.phi, dts)\n",
    "ddphi = NT.derivative(dphi, dts);"
   ]
  },
  {
   "cell_type": "code",
   "execution_count": null,
   "metadata": {},
   "outputs": [],
   "source": [
    "Plots.plot(times, dphi')"
   ]
  },
  {
   "cell_type": "code",
   "execution_count": null,
   "metadata": {},
   "outputs": [],
   "source": [
    "Plots.plot(times, ddphi')"
   ]
  },
  {
   "cell_type": "code",
   "execution_count": null,
   "metadata": {},
   "outputs": [],
   "source": [
    "times_f1 = times[div(2*T,3):end]\n",
    "sin_f1 = pi/2*sin.(29.6*(times_f1 .- 0.27)) .- pi/2\n",
    "times_f2 = times[1:div(2*T,3)]\n",
    "sin_f2 = pi*sin.(11.5*(times_f2));"
   ]
  },
  {
   "cell_type": "code",
   "execution_count": null,
   "metadata": {},
   "outputs": [],
   "source": [
    "p = Plots.plot(times, Z.phi', linecolor=:blue, label=L\"\\varphi(t)\", size=(500, 300))\n",
    "Plots.plot!(p, times_f1, sin_f1, linecolor=:red, alpha=0.2, label=L\"\\omega=29.6\")\n",
    "Plots.plot!(p, times_f2, sin_f2, linecolor=:green, alpha=0.2, label=L\"\\omega=11.5\")\n",
    "# Plots.plot!(p, times, phase_bound.(times), linecolor=:grey, label=\"bound\")\n",
    "# Plots.plot!(p, times, -phase_bound.(times), linecolor=:grey, label=\"bound\")\n",
    "Plots.xaxis!(p, \n",
    "    xlabel=L\"$t$ $[1/\\omega_R]$\"\n",
    ")\n",
    "Plots.yaxis!(p, \n",
    "    ylabel=\"shaking amplitude\"\n",
    ")\n",
    "Plots.title!(p, \"Splitting shaking sequence\")"
   ]
  },
  {
   "cell_type": "code",
   "execution_count": null,
   "metadata": {},
   "outputs": [],
   "source": [
    "Z_guess = Z\n",
    "Z_save = NT.copy(Z)"
   ]
  },
  {
   "cell_type": "code",
   "execution_count": null,
   "metadata": {},
   "outputs": [],
   "source": [
    "import JLD2"
   ]
  },
  {
   "cell_type": "code",
   "execution_count": null,
   "metadata": {},
   "outputs": [],
   "source": [
    "duration_wr = round(duration/2pi; digits=2)"
   ]
  },
  {
   "cell_type": "code",
   "execution_count": null,
   "metadata": {},
   "outputs": [],
   "source": [
    "duration = sum(Z.dts) - Z.dts[end]\n",
    "duration_wr = round(duration/2pi; digits=2)\n",
    "s = \"\"\"\n",
    "Final infidelity (Bloch 3) in %:\n",
    "$(J1.L(Z.datavec, Z))\n",
    "\"\"\"\n",
    "write(\"$(duration_wr)wr.txt\", s)"
   ]
  },
  {
   "cell_type": "code",
   "execution_count": null,
   "metadata": {},
   "outputs": [],
   "source": [
    "JLD2.save(\"interferometer/split_bloch910_time_study/$(duration_wr)wr.jld2\", Z)"
   ]
  },
  {
   "cell_type": "code",
   "execution_count": null,
   "metadata": {},
   "outputs": [],
   "source": [
    "function fourier_time_freq(data_time, times, freqs)\n",
    "    dts = times[2:end] - times[1:end-1]\n",
    "    push!(dts, dts[end])\n",
    "    ft_mat = exp.(2im*pi*freqs*times')\n",
    "    data_freq = (dts' .* ft_mat) * data_time / sqrt.(2pi)\n",
    "    return data_freq\n",
    "end"
   ]
  },
  {
   "cell_type": "code",
   "execution_count": null,
   "metadata": {},
   "outputs": [],
   "source": [
    "slice = 1:T #div(2*T,3):T"
   ]
  },
  {
   "cell_type": "code",
   "execution_count": null,
   "metadata": {},
   "outputs": [],
   "source": [
    "freqs = collect(0:0.1:80)\n",
    "phi_ft = fourier_time_freq(Z.phi[1,slice], times[slice], freqs/2pi);"
   ]
  },
  {
   "cell_type": "code",
   "execution_count": null,
   "metadata": {},
   "outputs": [],
   "source": [
    "p = Plots.plot(freqs, abs2.(phi_ft), size=(500, 300), label=nothing)\n",
    "Plots.xaxis!(p, \n",
    "    xlabel=L\"$\\omega$ $[\\omega_R]$\"\n",
    ")\n",
    "Plots.yaxis!(p, \n",
    "    ylabel=\"Fourier amplitude\"\n",
    ")\n",
    "Plots.title!(p, \"Shaking protocol spectrum\")"
   ]
  },
  {
   "cell_type": "code",
   "execution_count": null,
   "metadata": {},
   "outputs": [],
   "source": [
    "dphi = NT.derivative(Z.phi, dts)"
   ]
  },
  {
   "cell_type": "code",
   "execution_count": null,
   "metadata": {},
   "outputs": [],
   "source": [
    "Plots.plot(times, dphi')"
   ]
  },
  {
   "cell_type": "code",
   "execution_count": null,
   "metadata": {},
   "outputs": [],
   "source": [
    "ddphi = NT.derivative(dphi, dts)"
   ]
  },
  {
   "cell_type": "code",
   "execution_count": null,
   "metadata": {},
   "outputs": [],
   "source": [
    "Plots.plot(times, ddphi')"
   ]
  },
  {
   "cell_type": "code",
   "execution_count": null,
   "metadata": {},
   "outputs": [],
   "source": []
  },
  {
   "cell_type": "code",
   "execution_count": null,
   "metadata": {},
   "outputs": [],
   "source": []
  },
  {
   "attachments": {},
   "cell_type": "markdown",
   "metadata": {},
   "source": [
    "# mirror (free rel phase)"
   ]
  },
  {
   "cell_type": "code",
   "execution_count": null,
   "metadata": {},
   "outputs": [],
   "source": [
    "V = 10.\n",
    "trunc = 11\n",
    "# E_R [kHz] found in Weidner thesis\n",
    "system = ShakenLatticeSystem1D(V, trunc; bloch_basis=true, bloch_transformation_trunc=2*trunc)\n",
    "# middle index of statevector where p = 0\n",
    "mid = system.params[:mid]\n",
    "dim = system.params[:dim]\n",
    "E_R = system.params[:E_R]\n",
    "#E_R = 1/0.05\n",
    "#print(\"time unit $(1/E_R) ms\\nE_R = $E_R kHz\")"
   ]
  },
  {
   "cell_type": "code",
   "execution_count": null,
   "metadata": {},
   "outputs": [],
   "source": [
    "duration = 2pi * 1.0 # in units of 1/E_R\n",
    "\n",
    "T = 1001\n",
    "dt = duration / (T-1)\n",
    "dts = zeros(T) .+ dt\n",
    "dt_bound = (dt, dt)\n",
    "times = cumsum(dts) - dts\n",
    "duration"
   ]
  },
  {
   "cell_type": "code",
   "execution_count": null,
   "metadata": {},
   "outputs": [],
   "source": [
    "a_bound = fill(1.0, 2)\n",
    "phi_bound = [1.0 * pi]\n",
    "#dphi_bound = [100.]\n",
    "#ddphi_bound = [3000.]\n",
    "\n",
    "phi = collect((sin.(11.5 *times) + sin.(20.0 * times) + sin.(27.0 * times))')\n",
    "#phi = rand(1, T)\n",
    "a = vcat(cos.(phi), sin.(phi))\n",
    "\n",
    "dphi = NT.derivative(phi, dts)\n",
    "ddphi = NT.derivative(dphi, dts)"
   ]
  },
  {
   "cell_type": "code",
   "execution_count": null,
   "metadata": {},
   "outputs": [],
   "source": [
    "Z1 = NT.load_traj(\"./interferometer/bloch_7_to_3.jld2\")\n",
    "Z2 = NT.load_traj(\"./interferometer/mirror_victor2.jld2\")"
   ]
  },
  {
   "cell_type": "code",
   "execution_count": null,
   "metadata": {},
   "outputs": [],
   "source": [
    "Z1.dts, Z2.dts"
   ]
  },
  {
   "cell_type": "code",
   "execution_count": null,
   "metadata": {},
   "outputs": [],
   "source": [
    "a, dts = get_interferometer(Z1, Z2, [])\n",
    "times = cumsum(dts) - dts\n",
    "T = length(times)"
   ]
  },
  {
   "cell_type": "code",
   "execution_count": null,
   "metadata": {},
   "outputs": [],
   "source": []
  },
  {
   "cell_type": "code",
   "execution_count": null,
   "metadata": {},
   "outputs": [],
   "source": [
    "Z = NT.load_traj(\"./interferometer/mirror_bloch7_bitshorter.jld2\")"
   ]
  },
  {
   "cell_type": "code",
   "execution_count": null,
   "metadata": {},
   "outputs": [],
   "source": [
    "a, dts = Z.a, vec(Z.dts)\n",
    "phi = collect(atan.(a[2,:], a[1,:])')\n",
    "\n",
    "slice = 1:length(dts)\n",
    "a = a[:,slice]\n",
    "dts = dts[slice]\n",
    "phi = phi[:,slice]\n",
    "\n",
    "times = cumsum(dts) - dts\n",
    "duration = times[end]\n",
    "T = length(times)"
   ]
  },
  {
   "attachments": {},
   "cell_type": "markdown",
   "metadata": {},
   "source": [
    "T_new = 600\n",
    "dt_new = duration[end]/(T_new-1)\n",
    "dts_new = fill(dt_new, T_new);"
   ]
  },
  {
   "attachments": {},
   "cell_type": "markdown",
   "metadata": {},
   "source": [
    "a = interpolate_controls(a, dts, dts_new)\n",
    "times = cumsum(dts_new) - dts_new;"
   ]
  },
  {
   "cell_type": "code",
   "execution_count": null,
   "metadata": {},
   "outputs": [],
   "source": [
    "duration = times[end]\n",
    "T = length(times)\n",
    "dt = duration/(T-1)\n",
    "dt_bound = (dt, dt)\n",
    "T"
   ]
  },
  {
   "cell_type": "code",
   "execution_count": null,
   "metadata": {},
   "outputs": [],
   "source": [
    "a_bound = fill(1.0, 2)\n",
    "phi_bound = [1*pi]\n",
    "ddphi_bound = [1000.]\n",
    "\n",
    "dphi = NT.derivative(phi, dts)\n",
    "ddphi = NT.derivative(dphi, dts)"
   ]
  },
  {
   "cell_type": "code",
   "execution_count": null,
   "metadata": {},
   "outputs": [],
   "source": []
  },
  {
   "cell_type": "code",
   "execution_count": null,
   "metadata": {},
   "outputs": [],
   "source": [
    "Plots.plot(times, a')"
   ]
  },
  {
   "cell_type": "code",
   "execution_count": null,
   "metadata": {},
   "outputs": [],
   "source": [
    "Plots.plot(times, phi')"
   ]
  },
  {
   "cell_type": "code",
   "execution_count": null,
   "metadata": {},
   "outputs": [],
   "source": [
    "Plots.plot(times, dphi')"
   ]
  },
  {
   "cell_type": "code",
   "execution_count": null,
   "metadata": {},
   "outputs": [],
   "source": [
    "Plots.plot(times, ddphi')"
   ]
  },
  {
   "cell_type": "code",
   "execution_count": null,
   "metadata": {},
   "outputs": [],
   "source": [
    "p = Plots.plot(times, phi', linecolor=:blue, label=L\"\\varphi(t)\", size=(500, 300))\n",
    "Plots.xaxis!(p, \n",
    "    xlabel=L\"$t$ $[1/\\omega_R]$\"\n",
    ")\n",
    "Plots.yaxis!(p, \n",
    "    ylabel=\"shaking amplitude\"\n",
    ")\n",
    "Plots.title!(p, L\"Mirror $|7\\rangle$ (guess)\")"
   ]
  },
  {
   "attachments": {},
   "cell_type": "markdown",
   "metadata": {},
   "source": [
    "psi0 = zeros(system.params[:dim])\n",
    "psi0[mid] = 0.\n",
    "psi0[mid-1] = sqrt(0.5)\n",
    "psi0[mid+1] = sqrt(0.5)\n",
    "normalize!(psi0)"
   ]
  },
  {
   "attachments": {},
   "cell_type": "markdown",
   "metadata": {},
   "source": [
    "#####Victor solution\n",
    "function get_pw_sin(sin_amps, sin_dts)\n",
    "    N = length(sin_amps)\n",
    "    sin_T = length(sin_dts)\n",
    "    T = N*sin_T + 1\n",
    "    sin_times = cumsum(sin_dts) - sin_dts\n",
    "    sin_time = sin_times[end]\n",
    "    dts = repeat(sin_dts, N)\n",
    "    push!(dts, 0.)\n",
    "    phi = zeros(T)\n",
    "    for i=1:N\n",
    "        phi[(i-1)*sin_T+1:i*sin_T] = (-1)^(i-1) * sin_amps[i] * sin.(pi*sin_times/sin_time)\n",
    "    end\n",
    "    a = zeros(2, T)\n",
    "    a[1,:] = cos.(phi)\n",
    "    a[2,:] = sin.(phi)\n",
    "    return a, dts, cumsum(dts) - dts\n",
    "end\n",
    "\n",
    "sin_amps = [0.3926, 0.6872, 0.6872, 0.4908, 0.4908, 0.7853, 0.7853]\n",
    "append!(sin_amps, sin_amps[end:-1:1]) \n",
    "\n",
    "freq = 11.5\n",
    "sin_time = 2pi * 1/freq / 2\n",
    "sin_T = 20\n",
    "sin_dts = fill(sin_time / sin_T, sin_T)\n",
    "a, dts, times = get_pw_sin(sin_amps, sin_dts)\n",
    "T = length(times)\n",
    "\n",
    "a_bound = fill(1., 2)\n",
    "dda_bound = fill(10000., 2)\n",
    "dt_bound = (dts[1], dts[1])\n",
    "\n",
    "da = NT.derivative(a, dts)\n",
    "da[:, end] = da[:, end-1]\n",
    "dda = NT.derivative(da, dts)\n",
    "dda[:, end] = dda[:, end-1] = dda[:, end-2]"
   ]
  },
  {
   "cell_type": "code",
   "execution_count": null,
   "metadata": {},
   "outputs": [],
   "source": []
  },
  {
   "cell_type": "code",
   "execution_count": null,
   "metadata": {},
   "outputs": [],
   "source": [
    "#psi0 = get_bloch_state(system; lvl=3)\n",
    "bloch_subspace = [7, 8]\n",
    "psip0 = QC.cavity_state(bloch_subspace[1], dim) + QC.cavity_state(bloch_subspace[2], dim)\n",
    "normalize!(psip0) \n",
    "psim0 = QC.cavity_state(bloch_subspace[1], dim) - QC.cavity_state(bloch_subspace[2], dim)\n",
    "normalize!(psim0)"
   ]
  },
  {
   "cell_type": "code",
   "execution_count": null,
   "metadata": {},
   "outputs": [],
   "source": [
    "system.params[:bloch_energies]"
   ]
  },
  {
   "cell_type": "code",
   "execution_count": null,
   "metadata": {},
   "outputs": [],
   "source": [
    "psip0_iso = QC.ket_to_iso(psip0)\n",
    "psim0_iso = QC.ket_to_iso(psim0)"
   ]
  },
  {
   "cell_type": "code",
   "execution_count": null,
   "metadata": {},
   "outputs": [],
   "source": [
    "psip_iso = QC.rollout(psip0_iso, a, dts, system; integrator=exp)\n",
    "psim_iso = QC.rollout(psim0_iso, a, dts, system; integrator=exp)"
   ]
  },
  {
   "cell_type": "code",
   "execution_count": null,
   "metadata": {},
   "outputs": [],
   "source": [
    "psip = hcat([QC.iso_to_ket(psip_iso[:,t]) for t=1:T]...)\n",
    "psip_pops = abs2.(psip)\n",
    "psim = hcat([QC.iso_to_ket(psim_iso[:,t]) for t=1:T]...)\n",
    "psim_pops = abs2.(psim)"
   ]
  },
  {
   "cell_type": "code",
   "execution_count": null,
   "metadata": {},
   "outputs": [],
   "source": [
    "x = 3"
   ]
  },
  {
   "cell_type": "code",
   "execution_count": null,
   "metadata": {},
   "outputs": [],
   "source": [
    "p = Plots.plot(times, psip_pops[:,:]', labels=(0:dim-1)', legend=:outertopright, size=(500, 300))\n",
    "Plots.xaxis!(p, \n",
    "    xlabel=L\"$t$ $[1/\\omega_R]$\"\n",
    ")\n",
    "Plots.yaxis!(p, \n",
    "    #ylabel=L\"population of momentum state $|p\\rangle$\"\n",
    "    ylabel=\"Bloch state population\"\n",
    ")\n",
    "Plots.title!(p, L\"Mirror $|%$(bloch_subspace[1])\\rangle+|%$(bloch_subspace[2])\\rangle \\rightarrow |%$(bloch_subspace[1])\\rangle-|%$(bloch_subspace[2])\\rangle$ (guess)\")"
   ]
  },
  {
   "cell_type": "code",
   "execution_count": null,
   "metadata": {},
   "outputs": [],
   "source": [
    "p = Plots.plot(times, psim_pops[:,:]', labels=(0:dim-1)', legend=:outertopright, size=(500, 300))\n",
    "Plots.xaxis!(p, \n",
    "    xlabel=L\"$t$ $[1/\\omega_R]$\"\n",
    ")\n",
    "Plots.yaxis!(p, \n",
    "    #ylabel=L\"population of momentum state $|p\\rangle$\"\n",
    "    ylabel=\"Bloch state population\"\n",
    ")\n",
    "Plots.title!(p, L\"Mirror $|%$(bloch_subspace[1])\\rangle-|%$(bloch_subspace[2])\\rangle \\rightarrow |%$(bloch_subspace[1])\\rangle+|%$(bloch_subspace[2])\\rangle$ (guess)\")"
   ]
  },
  {
   "cell_type": "code",
   "execution_count": null,
   "metadata": {},
   "outputs": [],
   "source": []
  },
  {
   "cell_type": "code",
   "execution_count": null,
   "metadata": {},
   "outputs": [],
   "source": [
    "comps = (\n",
    "    psip_iso = psip_iso,\n",
    "    psim_iso = psim_iso,\n",
    "    a = a,\n",
    "    phi = phi,\n",
    "    dts = dts\n",
    ")\n",
    "initial = (\n",
    "    psip_iso = psip0_iso,\n",
    "    psim_iso = psim0_iso,\n",
    "    phi = [0.]\n",
    ")\n",
    "final = (;\n",
    "    phi = [0.]\n",
    ")\n",
    "goal = (;)\n",
    "bounds = (\n",
    "    phi = phi_bound,\n",
    "    dts = dt_bound\n",
    ")\n",
    "\n",
    "Z_guess = nothing\n",
    "GC.gc()\n",
    "Z_guess = NT.NamedTrajectory(\n",
    "    comps;\n",
    "    controls=(:phi),\n",
    "    timestep=:dts,\n",
    "    bounds=bounds,\n",
    "    initial=initial,\n",
    "    final=final,\n",
    "    goal=goal\n",
    ")"
   ]
  },
  {
   "cell_type": "code",
   "execution_count": null,
   "metadata": {},
   "outputs": [],
   "source": [
    "kernel = sinc_kernel(40., vec(Z_guess.dts))\n",
    "convolver = LA.I(Z_guess.T) - kernel\n",
    "convolver = convolver' * convolver"
   ]
  },
  {
   "cell_type": "code",
   "execution_count": null,
   "metadata": {},
   "outputs": [],
   "source": [
    "dim = system.params[:dim]\n",
    "\n",
    "#J = NameComponentObjective(:psi_iso, [1:dim...], [1:T...], x -> 1 - abs2.(x' * state_goal), ([1:T...] ./ T) .* 100.; is_iso=true)\n",
    "J1 = QC.QuantumObjective(name=:psip_iso, goals=psim0_iso, loss=:InfidelityLoss, Q=100.0)\n",
    "J1 += QC.QuantumObjective(name=:psim_iso, goals=psip0_iso, loss=:InfidelityLoss, Q=100.0)\n",
    "#J += QC.QuadraticRegularizer(:dts, Z_guess, 0.01)\n",
    "#J += NameComponentQuadraticRegularizer(:a, [2], Z_guess, [0.001])\n",
    "#J += QC.QuadraticRegularizer(:ddphi, Z_guess, 1e-8/T)\n",
    "#J += QC.QuadraticRegularizer(:dts, Z_guess, 0.01)\n",
    "#J += NameComponentQuadraticRegularizer(:a, [2], Z_guess, [0.001])\n",
    "\n",
    "# J1 = QuadraticObjective(:psi_iso, Z_guess, R; Q=200.0)\n",
    "# J2 = NameComponentObjective(:psi_iso, [8, 9], [T], x -> real(x[1]'*x[2])^2, [100.0]; is_iso=true)\n",
    "# J3 = QC.QuadraticRegularizer(:ddphi, Z_guess, 1e-5/T)\n",
    "\n",
    "# convolution\n",
    "J4 = QuadraticObjective(:phi, Z_guess, convolver, [1], 1:Z_guess.T; Q=50.0/T)\n",
    "\n",
    "J = J1 + J4"
   ]
  },
  {
   "cell_type": "code",
   "execution_count": null,
   "metadata": {},
   "outputs": [],
   "source": [
    "J.L(Z_guess.datavec, Z_guess)"
   ]
  },
  {
   "cell_type": "code",
   "execution_count": null,
   "metadata": {},
   "outputs": [],
   "source": [
    "integrators = nothing\n",
    "GC.gc()\n",
    "integrators = [\n",
    "    QC.QuantumStatePadeIntegrator(\n",
    "        system,\n",
    "        :psip_iso,\n",
    "        :a,\n",
    "        :dts;\n",
    "        order=4\n",
    "    ),\n",
    "    QC.QuantumStatePadeIntegrator(\n",
    "        system,\n",
    "        :psim_iso,\n",
    "        :a,\n",
    "        :dts;\n",
    "        order=4\n",
    "    ),\n",
    "]"
   ]
  },
  {
   "cell_type": "code",
   "execution_count": null,
   "metadata": {},
   "outputs": [],
   "source": []
  },
  {
   "cell_type": "code",
   "execution_count": null,
   "metadata": {},
   "outputs": [],
   "source": [
    "constraints = [\n",
    "    IQPhiConstraint(:a, :phi, Z_guess),\n",
    "    #LinearSincConvolutionConstraint(:phi, :dts, Z_guess, 60.)\n",
    "    #OmegaAbsConstraint(1.0, Z_guess),\n",
    "    #PhiSincConvolutionConstraint(:a, :dts, Z_guess, 80.),\n",
    "    #PhiFunctionBoundConstraint(phase_bound, Z_guess),\n",
    "    #TimeSymmetricControlConstraint(:a, Z_guess)\n",
    "    #custom_bounds_constraint(:a, Z_guess, Int[], a_bound)\n",
    "]"
   ]
  },
  {
   "cell_type": "code",
   "execution_count": null,
   "metadata": {},
   "outputs": [],
   "source": [
    "# Ipopt options\n",
    "options = QC.Options(\n",
    "    max_iter=200,\n",
    ")"
   ]
  },
  {
   "cell_type": "code",
   "execution_count": null,
   "metadata": {},
   "outputs": [],
   "source": [
    "# defining quantum control problem\n",
    "prob = nothing\n",
    "GC.gc()\n",
    "prob = QC.QuantumControlProblem(\n",
    "    system, \n",
    "    Z_guess, \n",
    "    J, \n",
    "    integrators;\n",
    "    constraints=constraints,\n",
    "    options=options,\n",
    ")"
   ]
  },
  {
   "cell_type": "code",
   "execution_count": null,
   "metadata": {},
   "outputs": [],
   "source": [
    "QC.solve!(prob)"
   ]
  },
  {
   "cell_type": "code",
   "execution_count": null,
   "metadata": {},
   "outputs": [],
   "source": []
  },
  {
   "cell_type": "code",
   "execution_count": null,
   "metadata": {},
   "outputs": [],
   "source": [
    "Z = nothing\n",
    "GC.gc()\n",
    "Z = prob.trajectory"
   ]
  },
  {
   "cell_type": "code",
   "execution_count": null,
   "metadata": {},
   "outputs": [],
   "source": [
    "Z = NT.load_traj(\"interferometer/mirror_bloch78_freerelphase.jld2\")"
   ]
  },
  {
   "cell_type": "code",
   "execution_count": null,
   "metadata": {},
   "outputs": [],
   "source": [
    "psip_iso_rollout = QC.rollout(psip0_iso, Z.a, Z.dts, system; integrator=exp)\n",
    "psip = hcat([QC.iso_to_ket(psip_iso_rollout[:,t]) for t=1:Z.T]...)\n",
    "popsp = abs2.(psip)\n",
    "\n",
    "psim_iso_rollout = QC.rollout(psim0_iso, Z.a, Z.dts, system; integrator=exp)\n",
    "psim = hcat([QC.iso_to_ket(psim_iso_rollout[:,t]) for t=1:Z.T]...)\n",
    "popsm = abs2.(psim)"
   ]
  },
  {
   "attachments": {},
   "cell_type": "markdown",
   "metadata": {},
   "source": [
    "psi = hcat([QC.iso_to_ket(Z.psi_iso[:,t]) for t=1:T]...)\n",
    "pops = hcat([abs2.(QC.iso_to_ket(Z.psi_iso[:,t])) for t=1:T]...)"
   ]
  },
  {
   "cell_type": "code",
   "execution_count": null,
   "metadata": {},
   "outputs": [],
   "source": [
    "abs2.(psip[:,end]' * psim0)"
   ]
  },
  {
   "cell_type": "code",
   "execution_count": null,
   "metadata": {},
   "outputs": [],
   "source": [
    "abs2.(psim[:,end]' * psip0)"
   ]
  },
  {
   "cell_type": "code",
   "execution_count": null,
   "metadata": {},
   "outputs": [],
   "source": [
    "times = cumsum(Z.dts[1,:]) - Z.dts[1,:]"
   ]
  },
  {
   "cell_type": "code",
   "execution_count": null,
   "metadata": {},
   "outputs": [],
   "source": [
    "p = Plots.plot(times, popsp[:,:]', labels=(0:dim-1)', legend=:outertopright, size=(500, 300))\n",
    "Plots.xaxis!(p, \n",
    "    xlabel=L\"$t$ $[1/\\omega_R]$\"\n",
    ")\n",
    "Plots.yaxis!(p, \n",
    "    ylabel=\"Bloch state population\"\n",
    ")\n",
    "Plots.title!(p, L\"Mirror $|%$(bloch_subspace[1])\\rangle+|%$(bloch_subspace[2])\\rangle \\rightarrow |%$(bloch_subspace[1])\\rangle-|%$(bloch_subspace[2])\\rangle$\")"
   ]
  },
  {
   "cell_type": "code",
   "execution_count": null,
   "metadata": {},
   "outputs": [],
   "source": [
    "p = Plots.plot(times, popsm[:,:]', labels=(0:dim-1)', legend=:outertopright, size=(500, 300))\n",
    "Plots.xaxis!(p, \n",
    "    xlabel=L\"$t$ $[1/\\omega_R]$\"\n",
    ")\n",
    "Plots.yaxis!(p, \n",
    "    ylabel=\"Bloch state population\"\n",
    ")\n",
    "Plots.title!(p, L\"Mirror $|%$(bloch_subspace[1])\\rangle-|%$(bloch_subspace[2])\\rangle \\rightarrow |%$(bloch_subspace[1])\\rangle+|%$(bloch_subspace[2])\\rangle$\")"
   ]
  },
  {
   "cell_type": "code",
   "execution_count": null,
   "metadata": {},
   "outputs": [],
   "source": []
  },
  {
   "cell_type": "code",
   "execution_count": null,
   "metadata": {},
   "outputs": [],
   "source": [
    "Plots.plot(times, Z.a')"
   ]
  },
  {
   "cell_type": "code",
   "execution_count": null,
   "metadata": {},
   "outputs": [],
   "source": [
    "Plots.plot(times, Z.phi')"
   ]
  },
  {
   "cell_type": "code",
   "execution_count": null,
   "metadata": {},
   "outputs": [],
   "source": [
    "Plots.plot(times, Z.dphi')"
   ]
  },
  {
   "cell_type": "code",
   "execution_count": null,
   "metadata": {},
   "outputs": [],
   "source": [
    "Plots.plot(times, Z.ddphi')"
   ]
  },
  {
   "cell_type": "code",
   "execution_count": null,
   "metadata": {},
   "outputs": [],
   "source": [
    "p = Plots.plot(times, Z.phi', linecolor=:blue, label=L\"\\varphi(t)\", size=(700, 300))\n",
    "# Plots.plot!(p, times, phase_bound.(times), linecolor=:grey, label=\"bound\")\n",
    "# Plots.plot!(p, times, -phase_bound.(times), linecolor=:grey, label=\"bound\")\n",
    "Plots.xaxis!(p, \n",
    "    xlabel=L\"$t$ $[1/\\omega_R]$\"\n",
    ")\n",
    "Plots.yaxis!(p, \n",
    "    ylabel=\"shaking amplitude\"\n",
    ")\n",
    "Plots.title!(p, L\"Mirror $|7\\rangle$\")"
   ]
  },
  {
   "cell_type": "code",
   "execution_count": null,
   "metadata": {},
   "outputs": [],
   "source": [
    "pops[:,end]"
   ]
  },
  {
   "cell_type": "code",
   "execution_count": null,
   "metadata": {},
   "outputs": [],
   "source": [
    "Plots.plot(times, acos.(Z.a[1,:]))"
   ]
  },
  {
   "cell_type": "code",
   "execution_count": null,
   "metadata": {},
   "outputs": [],
   "source": [
    "Z_guess = Z\n",
    "Z_save = deepcopy(Z)"
   ]
  },
  {
   "cell_type": "code",
   "execution_count": null,
   "metadata": {},
   "outputs": [],
   "source": [
    "Z_guess = trajectory_shrink_extend(Z, 1001)"
   ]
  },
  {
   "cell_type": "code",
   "execution_count": null,
   "metadata": {},
   "outputs": [],
   "source": []
  },
  {
   "cell_type": "code",
   "execution_count": null,
   "metadata": {},
   "outputs": [],
   "source": [
    "import JLD2"
   ]
  },
  {
   "cell_type": "code",
   "execution_count": null,
   "metadata": {},
   "outputs": [],
   "source": [
    "JLD2.save(\"interferometer/mirror_bloch78_freerelphase.jld2\", Z)"
   ]
  },
  {
   "cell_type": "code",
   "execution_count": null,
   "metadata": {},
   "outputs": [],
   "source": []
  },
  {
   "cell_type": "code",
   "execution_count": null,
   "metadata": {},
   "outputs": [],
   "source": [
    "function fourier_time_freq(data_time, times, freqs)\n",
    "    dts = times[2:end] - times[1:end-1]\n",
    "    push!(dts, dts[end])\n",
    "    ft_mat = exp.(2im*pi*freqs*times')\n",
    "    data_freq = (dts' .* ft_mat) * data_time / sqrt.(2pi)\n",
    "    return data_freq\n",
    "end"
   ]
  },
  {
   "cell_type": "code",
   "execution_count": null,
   "metadata": {},
   "outputs": [],
   "source": [
    "freqs = collect(0:0.1:60)\n",
    "phi_ft = fourier_time_freq(Z.a[2,:], times, freqs/(2pi));\n",
    "#phi_ft = fourier_time_freq(phi, times, freqs/(2pi));"
   ]
  },
  {
   "cell_type": "code",
   "execution_count": null,
   "metadata": {},
   "outputs": [],
   "source": [
    "Plots.plot(freqs, abs2.(phi_ft))#, ylims=(0.0, 0.01))"
   ]
  },
  {
   "cell_type": "code",
   "execution_count": null,
   "metadata": {},
   "outputs": [],
   "source": []
  },
  {
   "cell_type": "code",
   "execution_count": null,
   "metadata": {},
   "outputs": [],
   "source": []
  },
  {
   "cell_type": "code",
   "execution_count": null,
   "metadata": {},
   "outputs": [],
   "source": []
  },
  {
   "cell_type": "code",
   "execution_count": null,
   "metadata": {},
   "outputs": [],
   "source": []
  },
  {
   "cell_type": "code",
   "execution_count": null,
   "metadata": {},
   "outputs": [],
   "source": []
  },
  {
   "attachments": {},
   "cell_type": "markdown",
   "metadata": {},
   "source": [
    "# mirror (Z gate)"
   ]
  },
  {
   "cell_type": "code",
   "execution_count": null,
   "metadata": {},
   "outputs": [],
   "source": [
    "V = 10.\n",
    "trunc = 11\n",
    "# E_R [kHz] found in Weidner thesis\n",
    "system = ShakenLatticeSystem1D(V, trunc; bloch_basis=true, bloch_transformation_trunc=2*trunc, odd_even_fix_above_degeneracy_diff=1e-20)\n",
    "# middle index of statevector where p = 0\n",
    "mid = system.params[:mid]\n",
    "dim = system.params[:dim]\n",
    "E_R = system.params[:E_R]\n",
    "#E_R = 1/0.05\n",
    "#print(\"time unit $(1/E_R) ms\\nE_R = $E_R kHz\")"
   ]
  },
  {
   "cell_type": "code",
   "execution_count": null,
   "metadata": {},
   "outputs": [],
   "source": [
    "duration = 2pi * 1.0 # in units of 1/E_R\n",
    "\n",
    "T = 1001\n",
    "dt = duration / (T-1)\n",
    "dts = zeros(T) .+ dt\n",
    "dt_bound = (dt, dt)\n",
    "times = cumsum(dts) - dts\n",
    "duration"
   ]
  },
  {
   "cell_type": "code",
   "execution_count": null,
   "metadata": {},
   "outputs": [],
   "source": [
    "a_bound = fill(1.0, 2)\n",
    "phi_bound = [1.0 * pi]\n",
    "#dphi_bound = [100.]\n",
    "#ddphi_bound = [3000.]\n",
    "\n",
    "#phi = collect((sin.(11.5 *times) + sin.(20.0 * times) + sin.(27.0 * times))')\n",
    "phi = rand(1, T)\n",
    "phi = zeros(1, T)\n",
    "a = vcat(cos.(phi), sin.(phi))\n",
    "\n",
    "dphi = NT.derivative(phi, dts)\n",
    "ddphi = NT.derivative(dphi, dts)"
   ]
  },
  {
   "cell_type": "code",
   "execution_count": null,
   "metadata": {},
   "outputs": [],
   "source": [
    "Plots.plot(times, a')"
   ]
  },
  {
   "cell_type": "code",
   "execution_count": null,
   "metadata": {},
   "outputs": [],
   "source": [
    "Plots.plot(times, phi')"
   ]
  },
  {
   "cell_type": "code",
   "execution_count": null,
   "metadata": {},
   "outputs": [],
   "source": [
    "Plots.plot(times, dphi')"
   ]
  },
  {
   "cell_type": "code",
   "execution_count": null,
   "metadata": {},
   "outputs": [],
   "source": [
    "Plots.plot(times, ddphi')"
   ]
  },
  {
   "cell_type": "code",
   "execution_count": null,
   "metadata": {},
   "outputs": [],
   "source": [
    "p = Plots.plot(times, phi', linecolor=:blue, label=L\"\\varphi(t)\", size=(500, 300))\n",
    "Plots.xaxis!(p, \n",
    "    xlabel=L\"$t$ $[1/\\omega_R]$\"\n",
    ")\n",
    "Plots.yaxis!(p, \n",
    "    ylabel=\"shaking amplitude\"\n",
    ")\n",
    "Plots.title!(p, L\"Mirror $|7\\rangle$ (guess)\")"
   ]
  },
  {
   "attachments": {},
   "cell_type": "markdown",
   "metadata": {},
   "source": [
    "psi0 = zeros(system.params[:dim])\n",
    "psi0[mid] = 0.\n",
    "psi0[mid-1] = sqrt(0.5)\n",
    "psi0[mid+1] = sqrt(0.5)\n",
    "normalize!(psi0)"
   ]
  },
  {
   "attachments": {},
   "cell_type": "markdown",
   "metadata": {},
   "source": [
    "#####Victor solution\n",
    "function get_pw_sin(sin_amps, sin_dts)\n",
    "    N = length(sin_amps)\n",
    "    sin_T = length(sin_dts)\n",
    "    T = N*sin_T + 1\n",
    "    sin_times = cumsum(sin_dts) - sin_dts\n",
    "    sin_time = sin_times[end]\n",
    "    dts = repeat(sin_dts, N)\n",
    "    push!(dts, 0.)\n",
    "    phi = zeros(T)\n",
    "    for i=1:N\n",
    "        phi[(i-1)*sin_T+1:i*sin_T] = (-1)^(i-1) * sin_amps[i] * sin.(pi*sin_times/sin_time)\n",
    "    end\n",
    "    a = zeros(2, T)\n",
    "    a[1,:] = cos.(phi)\n",
    "    a[2,:] = sin.(phi)\n",
    "    return a, dts, cumsum(dts) - dts\n",
    "end\n",
    "\n",
    "sin_amps = [0.3926, 0.6872, 0.6872, 0.4908, 0.4908, 0.7853, 0.7853]\n",
    "append!(sin_amps, sin_amps[end:-1:1]) \n",
    "\n",
    "freq = 11.5\n",
    "sin_time = 2pi * 1/freq / 2\n",
    "sin_T = 20\n",
    "sin_dts = fill(sin_time / sin_T, sin_T)\n",
    "a, dts, times = get_pw_sin(sin_amps, sin_dts)\n",
    "T = length(times)\n",
    "\n",
    "a_bound = fill(1., 2)\n",
    "dda_bound = fill(10000., 2)\n",
    "dt_bound = (dts[1], dts[1])\n",
    "\n",
    "da = NT.derivative(a, dts)\n",
    "da[:, end] = da[:, end-1]\n",
    "dda = NT.derivative(da, dts)\n",
    "dda[:, end] = dda[:, end-1] = dda[:, end-2]"
   ]
  },
  {
   "cell_type": "code",
   "execution_count": null,
   "metadata": {},
   "outputs": [],
   "source": []
  },
  {
   "cell_type": "code",
   "execution_count": null,
   "metadata": {},
   "outputs": [],
   "source": [
    "#psi0 = get_bloch_state(system; lvl=3)\n",
    "bloch_subspace = [7, 8]\n",
    "psi0 = QC.cavity_state(bloch_subspace[1], dim)\n",
    "psip0 = QC.cavity_state(bloch_subspace[1], dim) + QC.cavity_state(bloch_subspace[2], dim)\n",
    "normalize!(psip0) \n",
    "psim0 = QC.cavity_state(bloch_subspace[1], dim) - QC.cavity_state(bloch_subspace[2], dim)\n",
    "normalize!(psim0)"
   ]
  },
  {
   "cell_type": "code",
   "execution_count": null,
   "metadata": {},
   "outputs": [],
   "source": [
    "system.params[:bloch_energies]"
   ]
  },
  {
   "cell_type": "code",
   "execution_count": null,
   "metadata": {},
   "outputs": [],
   "source": [
    "psi0_iso = QC.ket_to_iso(psi0)\n",
    "psip0_iso = QC.ket_to_iso(psip0)"
   ]
  },
  {
   "cell_type": "code",
   "execution_count": null,
   "metadata": {},
   "outputs": [],
   "source": [
    "psi_iso = QC.rollout(psi0_iso, a, dts, system; integrator=exp)\n",
    "psip_iso = QC.rollout(psip0_iso, a, dts, system; integrator=exp)"
   ]
  },
  {
   "cell_type": "code",
   "execution_count": null,
   "metadata": {},
   "outputs": [],
   "source": [
    "psi_iso += rand(size(psi_iso)...)\n",
    "psip_iso += rand(size(psip_iso)...)"
   ]
  },
  {
   "cell_type": "code",
   "execution_count": null,
   "metadata": {},
   "outputs": [],
   "source": [
    "psi = hcat([QC.iso_to_ket(psi_iso[:,t]) for t=1:T]...)\n",
    "psi_pops = abs2.(psi)\n",
    "psip = hcat([QC.iso_to_ket(psip_iso[:,t]) for t=1:T]...)\n",
    "psip_pops = abs2.(psip)"
   ]
  },
  {
   "cell_type": "code",
   "execution_count": null,
   "metadata": {},
   "outputs": [],
   "source": [
    "p = Plots.plot(times, psi_pops[:,:]', labels=(0:dim-1)', legend=:outertopright, size=(500, 300))\n",
    "Plots.xaxis!(p, \n",
    "    xlabel=L\"$t$ $[1/\\omega_R]$\"\n",
    ")\n",
    "Plots.yaxis!(p, \n",
    "    #ylabel=L\"population of momentum state $|p\\rangle$\"\n",
    "    ylabel=\"Bloch state population\"\n",
    ")\n",
    "Plots.title!(p, L\"Mirror $|%$(bloch_subspace[1])\\rangle \\rightarrow |%$(bloch_subspace[1])\\rangle$ (guess)\")"
   ]
  },
  {
   "cell_type": "code",
   "execution_count": null,
   "metadata": {},
   "outputs": [],
   "source": [
    "p = Plots.plot(times, psip_pops[:,:]', labels=(0:dim-1)', legend=:outertopright, size=(500, 300))\n",
    "Plots.xaxis!(p, \n",
    "    xlabel=L\"$t$ $[1/\\omega_R]$\"\n",
    ")\n",
    "Plots.yaxis!(p, \n",
    "    #ylabel=L\"population of momentum state $|p\\rangle$\"\n",
    "    ylabel=\"Bloch state population\"\n",
    ")\n",
    "Plots.title!(p, L\"Mirror $|%$(bloch_subspace[1])\\rangle+|%$(bloch_subspace[2])\\rangle \\rightarrow |%$(bloch_subspace[1])\\rangle-|%$(bloch_subspace[2])\\rangle$ (guess)\")"
   ]
  },
  {
   "cell_type": "code",
   "execution_count": null,
   "metadata": {},
   "outputs": [],
   "source": []
  },
  {
   "cell_type": "code",
   "execution_count": null,
   "metadata": {},
   "outputs": [],
   "source": [
    "comps = (\n",
    "    psi_iso = psi_iso,\n",
    "    psip_iso = psip_iso,\n",
    "    a = a,\n",
    "    phi = phi,\n",
    "    dts = dts\n",
    ")\n",
    "initial = (\n",
    "    psi_iso = psi0_iso,\n",
    "    psip_iso = psip0_iso,\n",
    "    phi = [0.]\n",
    ")\n",
    "final = (;\n",
    "    phi = [0.]\n",
    ")\n",
    "goal = (;)\n",
    "bounds = (\n",
    "    phi = phi_bound,\n",
    "    dts = dt_bound\n",
    ")\n",
    "\n",
    "Z_guess = nothing\n",
    "GC.gc()\n",
    "Z_guess = NT.NamedTrajectory(\n",
    "    comps;\n",
    "    controls=(:phi),\n",
    "    timestep=:dts,\n",
    "    bounds=bounds,\n",
    "    initial=initial,\n",
    "    final=final,\n",
    "    goal=goal\n",
    ")"
   ]
  },
  {
   "cell_type": "code",
   "execution_count": null,
   "metadata": {},
   "outputs": [],
   "source": [
    "kernel = sinc_kernel(40., vec(Z_guess.dts))\n",
    "convolver = LA.I(Z_guess.T) - kernel\n",
    "convolver = convolver' * convolver"
   ]
  },
  {
   "cell_type": "code",
   "execution_count": null,
   "metadata": {},
   "outputs": [],
   "source": [
    "dim = system.params[:dim]\n",
    "\n",
    "#J = NameComponentObjective(:psi_iso, [1:dim...], [1:T...], x -> 1 - abs2.(x' * state_goal), ([1:T...] ./ T) .* 100.; is_iso=true)\n",
    "J1 = QC.QuantumObjective(name=:psip_iso, goals=QC.ket_to_iso(psim0), loss=:InfidelityLoss, Q=100.0)\n",
    "J1 += QC.QuantumObjective(name=:psi_iso, goals=psi0_iso, loss=:InfidelityLoss, Q=100.0)\n",
    "#J += QC.QuadraticRegularizer(:dts, Z_guess, 0.01)\n",
    "#J += NameComponentQuadraticRegularizer(:a, [2], Z_guess, [0.001])\n",
    "#J += QC.QuadraticRegularizer(:ddphi, Z_guess, 1e-8/T)\n",
    "#J += QC.QuadraticRegularizer(:dts, Z_guess, 0.01)\n",
    "#J += NameComponentQuadraticRegularizer(:a, [2], Z_guess, [0.001])\n",
    "\n",
    "# J1 = QuadraticObjective(:psi_iso, Z_guess, R; Q=200.0)\n",
    "# J2 = NameComponentObjective(:psi_iso, [8, 9], [T], x -> real(x[1]'*x[2])^2, [100.0]; is_iso=true)\n",
    "# J3 = QC.QuadraticRegularizer(:ddphi, Z_guess, 1e-5/T)\n",
    "\n",
    "# convolution\n",
    "J4 = QuadraticObjective(:phi, Z_guess, convolver, [1], 1:Z_guess.T; Q=50.0/T)\n",
    "\n",
    "J = J1 + J4"
   ]
  },
  {
   "cell_type": "code",
   "execution_count": null,
   "metadata": {},
   "outputs": [],
   "source": [
    "J.L(Z_guess.datavec, Z_guess)"
   ]
  },
  {
   "cell_type": "code",
   "execution_count": null,
   "metadata": {},
   "outputs": [],
   "source": [
    "integrators = nothing\n",
    "GC.gc()\n",
    "integrators = [\n",
    "    QC.QuantumStatePadeIntegrator(\n",
    "        system,\n",
    "        :psi_iso,\n",
    "        :a,\n",
    "        :dts;\n",
    "        order=4\n",
    "    ),\n",
    "    QC.QuantumStatePadeIntegrator(\n",
    "        system,\n",
    "        :psip_iso,\n",
    "        :a,\n",
    "        :dts;\n",
    "        order=4\n",
    "    ),\n",
    "]"
   ]
  },
  {
   "cell_type": "code",
   "execution_count": null,
   "metadata": {},
   "outputs": [],
   "source": []
  },
  {
   "cell_type": "code",
   "execution_count": null,
   "metadata": {},
   "outputs": [],
   "source": [
    "constraints = [\n",
    "    IQPhiConstraint(:a, :phi, Z_guess),\n",
    "    QC.ComplexModulusContraint(\n",
    "        R=sqrt(0.1),\n",
    "        comps=Z_guess.components[:psi_iso][[3, 3+dim]],\n",
    "        times=[div(Z_guess.T, 2)],\n",
    "        zdim=Z_guess.dim,\n",
    "        T=Z_guess.T,\n",
    "        negated=true\n",
    "    )\n",
    "    #LinearSincConvolutionConstraint(:phi, :dts, Z_guess, 60.)\n",
    "    #OmegaAbsConstraint(1.0, Z_guess),\n",
    "    #PhiSincConvolutionConstraint(:a, :dts, Z_guess, 80.),\n",
    "    #PhiFunctionBoundConstraint(phase_bound, Z_guess),\n",
    "    #TimeSymmetricControlConstraint(:a, Z_guess)\n",
    "    #custom_bounds_constraint(:a, Z_guess, Int[], a_bound)\n",
    "]"
   ]
  },
  {
   "cell_type": "code",
   "execution_count": null,
   "metadata": {},
   "outputs": [],
   "source": [
    "# Ipopt options\n",
    "options = QC.Options(\n",
    "    max_iter=200,\n",
    ")"
   ]
  },
  {
   "cell_type": "code",
   "execution_count": null,
   "metadata": {},
   "outputs": [],
   "source": [
    "# defining quantum control problem\n",
    "prob = nothing\n",
    "GC.gc()\n",
    "prob = QC.QuantumControlProblem(\n",
    "    system, \n",
    "    Z_guess, \n",
    "    J, \n",
    "    integrators;\n",
    "    constraints=constraints,\n",
    "    options=options,\n",
    ")"
   ]
  },
  {
   "cell_type": "code",
   "execution_count": null,
   "metadata": {},
   "outputs": [],
   "source": [
    "QC.solve!(prob)"
   ]
  },
  {
   "cell_type": "code",
   "execution_count": null,
   "metadata": {},
   "outputs": [],
   "source": []
  },
  {
   "cell_type": "code",
   "execution_count": null,
   "metadata": {},
   "outputs": [],
   "source": [
    "Z = nothing\n",
    "GC.gc()\n",
    "Z = prob.trajectory"
   ]
  },
  {
   "cell_type": "code",
   "execution_count": null,
   "metadata": {},
   "outputs": [],
   "source": [
    "psi_iso_rollout = QC.rollout(psi0_iso, Z.a, Z.dts, system; integrator=exp)\n",
    "psi = hcat([QC.iso_to_ket(psi_iso_rollout[:,t]) for t=1:Z.T]...)\n",
    "pops = abs2.(psi)\n",
    "\n",
    "psip_iso_rollout = QC.rollout(psip0_iso, Z.a, Z.dts, system; integrator=exp)\n",
    "psip = hcat([QC.iso_to_ket(psip_iso_rollout[:,t]) for t=1:Z.T]...)\n",
    "popsp = abs2.(psip)"
   ]
  },
  {
   "attachments": {},
   "cell_type": "markdown",
   "metadata": {},
   "source": [
    "psi = hcat([QC.iso_to_ket(Z.psi_iso[:,t]) for t=1:T]...)\n",
    "pops = hcat([abs2.(QC.iso_to_ket(Z.psi_iso[:,t])) for t=1:T]...)"
   ]
  },
  {
   "cell_type": "code",
   "execution_count": null,
   "metadata": {},
   "outputs": [],
   "source": [
    "abs2.(psi[:,end]' * psi0)"
   ]
  },
  {
   "cell_type": "code",
   "execution_count": null,
   "metadata": {},
   "outputs": [],
   "source": [
    "abs2.(psip[:,end]' * psim0)"
   ]
  },
  {
   "cell_type": "code",
   "execution_count": null,
   "metadata": {},
   "outputs": [],
   "source": [
    "times = cumsum(Z.dts[1,:]) - Z.dts[1,:]"
   ]
  },
  {
   "cell_type": "code",
   "execution_count": null,
   "metadata": {},
   "outputs": [],
   "source": [
    "p = Plots.plot(times, pops[:,:]', labels=(0:dim-1)', legend=:outertopright, size=(500, 300))\n",
    "Plots.xaxis!(p, \n",
    "    xlabel=L\"$t$ $[1/\\omega_R]$\"\n",
    ")\n",
    "Plots.yaxis!(p, \n",
    "    ylabel=\"Bloch state population\"\n",
    ")\n",
    "Plots.title!(p, L\"Mirror $|%$(bloch_subspace[1])\\rangle \\rightarrow |%$(bloch_subspace[1])\\rangle$\")"
   ]
  },
  {
   "cell_type": "code",
   "execution_count": null,
   "metadata": {},
   "outputs": [],
   "source": [
    "p = Plots.plot(times, popsp[:,:]', labels=(0:dim-1)', legend=:outertopright, size=(500, 300))\n",
    "Plots.xaxis!(p, \n",
    "    xlabel=L\"$t$ $[1/\\omega_R]$\"\n",
    ")\n",
    "Plots.yaxis!(p, \n",
    "    ylabel=\"Bloch state population\"\n",
    ")\n",
    "Plots.title!(p, L\"Mirror $|%$(bloch_subspace[1])\\rangle+|%$(bloch_subspace[2])\\rangle \\rightarrow |%$(bloch_subspace[1])\\rangle-|%$(bloch_subspace[2])\\rangle$\")"
   ]
  },
  {
   "cell_type": "code",
   "execution_count": null,
   "metadata": {},
   "outputs": [],
   "source": []
  },
  {
   "cell_type": "code",
   "execution_count": null,
   "metadata": {},
   "outputs": [],
   "source": [
    "Plots.plot(times, Z.a')"
   ]
  },
  {
   "cell_type": "code",
   "execution_count": null,
   "metadata": {},
   "outputs": [],
   "source": [
    "Plots.plot(times, Z.phi')"
   ]
  },
  {
   "cell_type": "code",
   "execution_count": null,
   "metadata": {},
   "outputs": [],
   "source": [
    "Plots.plot(times, Z.dphi')"
   ]
  },
  {
   "cell_type": "code",
   "execution_count": null,
   "metadata": {},
   "outputs": [],
   "source": [
    "Plots.plot(times, Z.ddphi')"
   ]
  },
  {
   "cell_type": "code",
   "execution_count": null,
   "metadata": {},
   "outputs": [],
   "source": [
    "p = Plots.plot(times, Z.phi', linecolor=:blue, label=L\"\\varphi(t)\", size=(500, 300))\n",
    "# Plots.plot!(p, times, phase_bound.(times), linecolor=:grey, label=\"bound\")\n",
    "# Plots.plot!(p, times, -phase_bound.(times), linecolor=:grey, label=\"bound\")\n",
    "Plots.xaxis!(p, \n",
    "    xlabel=L\"$t$ $[1/\\omega_R]$\"\n",
    ")\n",
    "Plots.yaxis!(p, \n",
    "    ylabel=\"shaking amplitude\"\n",
    ")\n",
    "Plots.title!(p, L\"Mirror $|7\\rangle$\")"
   ]
  },
  {
   "cell_type": "code",
   "execution_count": null,
   "metadata": {},
   "outputs": [],
   "source": [
    "pops[:,end]"
   ]
  },
  {
   "cell_type": "code",
   "execution_count": null,
   "metadata": {},
   "outputs": [],
   "source": [
    "Plots.plot(times, acos.(Z.a[1,:]))"
   ]
  },
  {
   "cell_type": "code",
   "execution_count": null,
   "metadata": {},
   "outputs": [],
   "source": [
    "Z_guess = Z\n",
    "Z_save = deepcopy(Z)"
   ]
  },
  {
   "cell_type": "code",
   "execution_count": null,
   "metadata": {},
   "outputs": [],
   "source": [
    "Z_guess = trajectory_shrink_extend(Z, 1001)"
   ]
  },
  {
   "cell_type": "code",
   "execution_count": null,
   "metadata": {},
   "outputs": [],
   "source": []
  },
  {
   "cell_type": "code",
   "execution_count": null,
   "metadata": {},
   "outputs": [],
   "source": [
    "import JLD2"
   ]
  },
  {
   "cell_type": "code",
   "execution_count": null,
   "metadata": {},
   "outputs": [],
   "source": [
    "JLD2.save(\"interferometer/mirror_bloch78_Z.jld2\", Z)"
   ]
  },
  {
   "cell_type": "code",
   "execution_count": null,
   "metadata": {},
   "outputs": [],
   "source": []
  },
  {
   "cell_type": "code",
   "execution_count": null,
   "metadata": {},
   "outputs": [],
   "source": [
    "function fourier_time_freq(data_time, times, freqs)\n",
    "    dts = times[2:end] - times[1:end-1]\n",
    "    push!(dts, dts[end])\n",
    "    ft_mat = exp.(2im*pi*freqs*times')\n",
    "    data_freq = (dts' .* ft_mat) * data_time / sqrt.(2pi)\n",
    "    return data_freq\n",
    "end"
   ]
  },
  {
   "cell_type": "code",
   "execution_count": null,
   "metadata": {},
   "outputs": [],
   "source": [
    "freqs = collect(0:0.1:60)\n",
    "phi_ft = fourier_time_freq(Z.a[2,:], times, freqs/(2pi));\n",
    "#phi_ft = fourier_time_freq(phi, times, freqs/(2pi));"
   ]
  },
  {
   "cell_type": "code",
   "execution_count": null,
   "metadata": {},
   "outputs": [],
   "source": [
    "Plots.plot(freqs, abs2.(phi_ft))#, ylims=(0.0, 0.01))"
   ]
  },
  {
   "cell_type": "code",
   "execution_count": null,
   "metadata": {},
   "outputs": [],
   "source": []
  },
  {
   "cell_type": "code",
   "execution_count": null,
   "metadata": {},
   "outputs": [],
   "source": []
  },
  {
   "cell_type": "code",
   "execution_count": null,
   "metadata": {},
   "outputs": [],
   "source": []
  },
  {
   "attachments": {},
   "cell_type": "markdown",
   "metadata": {},
   "source": [
    "## convergence plot"
   ]
  },
  {
   "cell_type": "code",
   "execution_count": 163,
   "metadata": {},
   "outputs": [
    {
     "name": "stdout",
     "output_type": "stream",
     "text": [
      "catch\n",
      "catch\n",
      "catch\n",
      "catch\n",
      "catch\n",
      "catch\n",
      "catch\n",
      "catch\n",
      "catch\n",
      "catch\n",
      "catch\n",
      "catch\n",
      "catch\n",
      "catch\n",
      "catch\n",
      "catch\n",
      "catch\n",
      "catch\n",
      "catch\n",
      "catch\n",
      "catch\n",
      "catch\n",
      "catch\n",
      "catch\n",
      "catch\n",
      "catch\n",
      "catch\n",
      "catch\n",
      "catch\n",
      "catch\n",
      "catch\n",
      "catch\n",
      "catch\n",
      "catch\n",
      "catch\n",
      "catch\n",
      "catch\n",
      "catch\n",
      "catch\n",
      "catch\n",
      "catch\n",
      "catch\n",
      "catch\n",
      "catch\n",
      "catch\n",
      "catch\n",
      "catch\n",
      "catch\n",
      "catch\n",
      "catch\n",
      "catch\n",
      "catch\n",
      "catch\n",
      "catch\n",
      "catch\n",
      "catch\n",
      "catch\n",
      "catch\n",
      "catch\n"
     ]
    }
   ],
   "source": [
    "L = zeros(201)\n",
    "grad = zeros(201)\n",
    "open(\"convergence2.txt\") do f\n",
    "    global L, grad\n",
    "    while !eof(f)\n",
    "        s = strip(readline(f))\n",
    "        pcs = split(s, \" \")\n",
    "        pcs = filter(x -> x != \"\", pcs)\n",
    "        try\n",
    "            i = parse(Int, pcs[1])\n",
    "        catch\n",
    "            println(\"catch\")\n",
    "            continue\n",
    "        end\n",
    "        L[i+1] = parse(Float64, pcs[2])\n",
    "        grad[i+1] = parse(Float64, pcs[6])\n",
    "        i += 1\n",
    "    end\n",
    "end"
   ]
  },
  {
   "cell_type": "code",
   "execution_count": 164,
   "metadata": {},
   "outputs": [
    {
     "name": "stdout",
     "output_type": "stream",
     "text": [
      "catch\n",
      "catch\n",
      "catch\n",
      "catch\n",
      "catch\n",
      "catch\n",
      "catch\n",
      "catch\n",
      "catch\n",
      "catch\n",
      "catch\n",
      "catch\n",
      "catch\n",
      "catch\n",
      "catch\n",
      "catch\n",
      "catch\n",
      "catch\n",
      "catch\n",
      "catch\n",
      "catch\n",
      "catch\n",
      "catch\n",
      "catch\n",
      "catch\n",
      "catch\n",
      "catch\n",
      "catch\n",
      "catch\n",
      "catch\n",
      "catch\n",
      "catch\n",
      "catch\n",
      "catch\n",
      "catch\n",
      "catch\n",
      "catch\n",
      "catch\n",
      "catch\n",
      "catch\n",
      "catch\n",
      "catch\n",
      "catch\n",
      "catch\n",
      "catch\n",
      "catch\n",
      "catch\n",
      "catch\n",
      "catch\n",
      "catch\n",
      "catch\n",
      "catch\n",
      "catch\n",
      "catch\n",
      "catch\n",
      "catch\n",
      "catch\n",
      "catch\n",
      "catch\n"
     ]
    }
   ],
   "source": [
    "L = hcat(L, zeros(201))\n",
    "grad = hcat(grad, zeros(201))\n",
    "open(\"convergence1.txt\") do f\n",
    "    global L, grad\n",
    "    while !eof(f)\n",
    "        s = strip(readline(f))\n",
    "        pcs = split(s, \" \")\n",
    "        pcs = filter(x -> x != \"\", pcs)\n",
    "        try\n",
    "            i = parse(Int, pcs[1])\n",
    "        catch\n",
    "            println(\"catch\")\n",
    "            continue\n",
    "        end\n",
    "        L[i+1,2] = parse(Float64, pcs[2])\n",
    "        grad[i+1,2] = parse(Float64, pcs[6])\n",
    "        i += 1\n",
    "    end\n",
    "end"
   ]
  },
  {
   "cell_type": "code",
   "execution_count": 165,
   "metadata": {},
   "outputs": [
    {
     "data": {
      "text/plain": [
       "201×2 Matrix{Float64}:\n",
       " 126.28       126.28\n",
       " 109.415      116.074\n",
       " 108.783      101.327\n",
       " 122.668      100.826\n",
       " 122.594      100.525\n",
       " 120.363      100.635\n",
       " 119.947      100.51\n",
       " 122.265      100.42\n",
       " 123.537      100.334\n",
       " 122.958      100.258\n",
       "   ⋮          \n",
       "   0.101583   100.0\n",
       "   0.101547   100.0\n",
       "   0.094748   100.0\n",
       "   0.0906403  100.0\n",
       "   0.11058    100.0\n",
       "   0.0931546  100.0\n",
       "   0.0922879  100.0\n",
       "   0.103963   100.0\n",
       "   0.101276   100.0"
      ]
     },
     "metadata": {},
     "output_type": "display_data"
    }
   ],
   "source": [
    "L"
   ]
  },
  {
   "cell_type": "code",
   "execution_count": 173,
   "metadata": {},
   "outputs": [
    {
     "data": {
      "image/png": "[encoded data removed]",
      "image/svg+xml": [
       "<?xml version=\"1.0\" encoding=\"utf-8\"?>\n",
       "<svg xmlns=\"http://www.w3.org/2000/svg\" xmlns:xlink=\"http://www.w3.org/1999/xlink\" width=\"500\" height=\"350\" viewBox=\"0 0 2000 1400\">\n",
       "<defs>\n",
       "  <clipPath id=\"clip700\">\n",
       "    <rect x=\"0\" y=\"0\" width=\"2000\" height=\"1400\"/>\n",
       "  </clipPath>\n",
       "</defs>\n",
       "<path clip-path=\"url(#clip700)\" d=\"M0 1400 L2000 1400 L2000 0 L0 0  Z\" fill=\"#ffffff\" fill-rule=\"evenodd\" fill-opacity=\"1\"/>\n",
       "<defs>\n",
       "  <clipPath id=\"clip701\">\n",
       "    <rect x=\"400\" y=\"0\" width=\"1401\" height=\"1400\"/>\n",
       "  </clipPath>\n",
       "</defs>\n",
       "<defs>\n",
       "  <clipPath id=\"clip702\">\n",
       "    <rect x=\"230\" y=\"47\" width=\"1723\" height=\"1175\"/>\n",
       "  </clipPath>\n",
       "</defs>\n",
       "<path clip-path=\"url(#clip700)\" d=\"M215.42 1221.08 L1952.76 1221.08 L1952.76 47.2441 L215.42 47.2441  Z\" fill=\"#ffffff\" fill-rule=\"evenodd\" fill-opacity=\"1\"/>\n",
       "<defs>\n",
       "  <clipPath id=\"clip703\">\n",
       "    <rect x=\"215\" y=\"47\" width=\"1738\" height=\"1175\"/>\n",
       "  </clipPath>\n",
       "</defs>\n",
       "<polyline clip-path=\"url(#clip703)\" style=\"stroke:#000000; stroke-linecap:round; stroke-linejoin:round; stroke-width:2; stroke-opacity:0.1; fill:none\" points=\"215.42,1221.08 215.42,47.2441 \"/>\n",
       "<polyline clip-path=\"url(#clip703)\" style=\"stroke:#000000; stroke-linecap:round; stroke-linejoin:round; stroke-width:2; stroke-opacity:0.1; fill:none\" points=\"647.593,1221.08 647.593,47.2441 \"/>\n",
       "<polyline clip-path=\"url(#clip703)\" style=\"stroke:#000000; stroke-linecap:round; stroke-linejoin:round; stroke-width:2; stroke-opacity:0.1; fill:none\" points=\"1079.77,1221.08 1079.77,47.2441 \"/>\n",
       "<polyline clip-path=\"url(#clip703)\" style=\"stroke:#000000; stroke-linecap:round; stroke-linejoin:round; stroke-width:2; stroke-opacity:0.1; fill:none\" points=\"1511.94,1221.08 1511.94,47.2441 \"/>\n",
       "<polyline clip-path=\"url(#clip703)\" style=\"stroke:#000000; stroke-linecap:round; stroke-linejoin:round; stroke-width:2; stroke-opacity:0.1; fill:none\" points=\"1944.11,1221.08 1944.11,47.2441 \"/>\n",
       "<polyline clip-path=\"url(#clip700)\" style=\"stroke:#000000; stroke-linecap:round; stroke-linejoin:round; stroke-width:4; stroke-opacity:1; fill:none\" points=\"215.42,1221.08 1952.76,1221.08 \"/>\n",
       "<polyline clip-path=\"url(#clip700)\" style=\"stroke:#000000; stroke-linecap:round; stroke-linejoin:round; stroke-width:4; stroke-opacity:1; fill:none\" points=\"215.42,1221.08 215.42,1202.18 \"/>\n",
       "<polyline clip-path=\"url(#clip700)\" style=\"stroke:#000000; stroke-linecap:round; stroke-linejoin:round; stroke-width:4; stroke-opacity:1; fill:none\" points=\"647.593,1221.08 647.593,1202.18 \"/>\n",
       "<polyline clip-path=\"url(#clip700)\" style=\"stroke:#000000; stroke-linecap:round; stroke-linejoin:round; stroke-width:4; stroke-opacity:1; fill:none\" points=\"1079.77,1221.08 1079.77,1202.18 \"/>\n",
       "<polyline clip-path=\"url(#clip700)\" style=\"stroke:#000000; stroke-linecap:round; stroke-linejoin:round; stroke-width:4; stroke-opacity:1; fill:none\" points=\"1511.94,1221.08 1511.94,1202.18 \"/>\n",
       "<polyline clip-path=\"url(#clip700)\" style=\"stroke:#000000; stroke-linecap:round; stroke-linejoin:round; stroke-width:4; stroke-opacity:1; fill:none\" points=\"1944.11,1221.08 1944.11,1202.18 \"/>\n",
       "<path clip-path=\"url(#clip700)\" d=\"M215.42 1248.79 Q211.809 1248.79 209.98 1252.36 Q208.175 1255.9 208.175 1263.03 Q208.175 1270.14 209.98 1273.7 Q211.809 1277.24 215.42 1277.24 Q219.054 1277.24 220.86 1273.7 Q222.688 1270.14 222.688 1263.03 Q222.688 1255.9 220.86 1252.36 Q219.054 1248.79 215.42 1248.79 M215.42 1245.09 Q221.23 1245.09 224.286 1249.7 Q227.364 1254.28 227.364 1263.03 Q227.364 1271.76 224.286 1276.36 Q221.23 1280.95 215.42 1280.95 Q209.61 1280.95 206.531 1276.36 Q203.475 1271.76 203.475 1263.03 Q203.475 1254.28 206.531 1249.7 Q209.61 1245.09 215.42 1245.09 Z\" fill=\"#000000\" fill-rule=\"nonzero\" fill-opacity=\"1\" /><path clip-path=\"url(#clip700)\" d=\"M622.292 1245.72 L640.649 1245.72 L640.649 1249.65 L626.575 1249.65 L626.575 1258.12 Q627.593 1257.78 628.612 1257.61 Q629.63 1257.43 630.649 1257.43 Q636.436 1257.43 639.815 1260.6 Q643.195 1263.77 643.195 1269.19 Q643.195 1274.77 639.723 1277.87 Q636.25 1280.95 629.931 1280.95 Q627.755 1280.95 625.487 1280.58 Q623.241 1280.21 620.834 1279.47 L620.834 1274.77 Q622.917 1275.9 625.139 1276.46 Q627.362 1277.01 629.838 1277.01 Q633.843 1277.01 636.181 1274.91 Q638.519 1272.8 638.519 1269.19 Q638.519 1265.58 636.181 1263.47 Q633.843 1261.36 629.838 1261.36 Q627.963 1261.36 626.088 1261.78 Q624.237 1262.2 622.292 1263.08 L622.292 1245.72 Z\" fill=\"#000000\" fill-rule=\"nonzero\" fill-opacity=\"1\" /><path clip-path=\"url(#clip700)\" d=\"M662.408 1248.79 Q658.797 1248.79 656.968 1252.36 Q655.162 1255.9 655.162 1263.03 Q655.162 1270.14 656.968 1273.7 Q658.797 1277.24 662.408 1277.24 Q666.042 1277.24 667.848 1273.7 Q669.676 1270.14 669.676 1263.03 Q669.676 1255.9 667.848 1252.36 Q666.042 1248.79 662.408 1248.79 M662.408 1245.09 Q668.218 1245.09 671.273 1249.7 Q674.352 1254.28 674.352 1263.03 Q674.352 1271.76 671.273 1276.36 Q668.218 1280.95 662.408 1280.95 Q656.598 1280.95 653.519 1276.36 Q650.463 1271.76 650.463 1263.03 Q650.463 1254.28 653.519 1249.7 Q656.598 1245.09 662.408 1245.09 Z\" fill=\"#000000\" fill-rule=\"nonzero\" fill-opacity=\"1\" /><path clip-path=\"url(#clip700)\" d=\"M1039.37 1276.34 L1047.01 1276.34 L1047.01 1249.98 L1038.7 1251.64 L1038.7 1247.38 L1046.97 1245.72 L1051.64 1245.72 L1051.64 1276.34 L1059.28 1276.34 L1059.28 1280.28 L1039.37 1280.28 L1039.37 1276.34 Z\" fill=\"#000000\" fill-rule=\"nonzero\" fill-opacity=\"1\" /><path clip-path=\"url(#clip700)\" d=\"M1078.72 1248.79 Q1075.11 1248.79 1073.28 1252.36 Q1071.48 1255.9 1071.48 1263.03 Q1071.48 1270.14 1073.28 1273.7 Q1075.11 1277.24 1078.72 1277.24 Q1082.36 1277.24 1084.16 1273.7 Q1085.99 1270.14 1085.99 1263.03 Q1085.99 1255.9 1084.16 1252.36 Q1082.36 1248.79 1078.72 1248.79 M1078.72 1245.09 Q1084.53 1245.09 1087.59 1249.7 Q1090.67 1254.28 1090.67 1263.03 Q1090.67 1271.76 1087.59 1276.36 Q1084.53 1280.95 1078.72 1280.95 Q1072.91 1280.95 1069.84 1276.36 Q1066.78 1271.76 1066.78 1263.03 Q1066.78 1254.28 1069.84 1249.7 Q1072.91 1245.09 1078.72 1245.09 Z\" fill=\"#000000\" fill-rule=\"nonzero\" fill-opacity=\"1\" /><path clip-path=\"url(#clip700)\" d=\"M1108.89 1248.79 Q1105.28 1248.79 1103.45 1252.36 Q1101.64 1255.9 1101.64 1263.03 Q1101.64 1270.14 1103.45 1273.7 Q1105.28 1277.24 1108.89 1277.24 Q1112.52 1277.24 1114.33 1273.7 Q1116.15 1270.14 1116.15 1263.03 Q1116.15 1255.9 1114.33 1252.36 Q1112.52 1248.79 1108.89 1248.79 M1108.89 1245.09 Q1114.7 1245.09 1117.75 1249.7 Q1120.83 1254.28 1120.83 1263.03 Q1120.83 1271.76 1117.75 1276.36 Q1114.7 1280.95 1108.89 1280.95 Q1103.08 1280.95 1100 1276.36 Q1096.94 1271.76 1096.94 1263.03 Q1096.94 1254.28 1100 1249.7 Q1103.08 1245.09 1108.89 1245.09 Z\" fill=\"#000000\" fill-rule=\"nonzero\" fill-opacity=\"1\" /><path clip-path=\"url(#clip700)\" d=\"M1471.55 1276.34 L1479.18 1276.34 L1479.18 1249.98 L1470.87 1251.64 L1470.87 1247.38 L1479.14 1245.72 L1483.81 1245.72 L1483.81 1276.34 L1491.45 1276.34 L1491.45 1280.28 L1471.55 1280.28 L1471.55 1276.34 Z\" fill=\"#000000\" fill-rule=\"nonzero\" fill-opacity=\"1\" /><path clip-path=\"url(#clip700)\" d=\"M1500.94 1245.72 L1519.3 1245.72 L1519.3 1249.65 L1505.23 1249.65 L1505.23 1258.12 Q1506.24 1257.78 1507.26 1257.61 Q1508.28 1257.43 1509.3 1257.43 Q1515.09 1257.43 1518.47 1260.6 Q1521.85 1263.77 1521.85 1269.19 Q1521.85 1274.77 1518.37 1277.87 Q1514.9 1280.95 1508.58 1280.95 Q1506.41 1280.95 1504.14 1280.58 Q1501.89 1280.21 1499.49 1279.47 L1499.49 1274.77 Q1501.57 1275.9 1503.79 1276.46 Q1506.01 1277.01 1508.49 1277.01 Q1512.49 1277.01 1514.83 1274.91 Q1517.17 1272.8 1517.17 1269.19 Q1517.17 1265.58 1514.83 1263.47 Q1512.49 1261.36 1508.49 1261.36 Q1506.62 1261.36 1504.74 1261.78 Q1502.89 1262.2 1500.94 1263.08 L1500.94 1245.72 Z\" fill=\"#000000\" fill-rule=\"nonzero\" fill-opacity=\"1\" /><path clip-path=\"url(#clip700)\" d=\"M1541.06 1248.79 Q1537.45 1248.79 1535.62 1252.36 Q1533.81 1255.9 1533.81 1263.03 Q1533.81 1270.14 1535.62 1273.7 Q1537.45 1277.24 1541.06 1277.24 Q1544.69 1277.24 1546.5 1273.7 Q1548.33 1270.14 1548.33 1263.03 Q1548.33 1255.9 1546.5 1252.36 Q1544.69 1248.79 1541.06 1248.79 M1541.06 1245.09 Q1546.87 1245.09 1549.93 1249.7 Q1553 1254.28 1553 1263.03 Q1553 1271.76 1549.93 1276.36 Q1546.87 1280.95 1541.06 1280.95 Q1535.25 1280.95 1532.17 1276.36 Q1529.12 1271.76 1529.12 1263.03 Q1529.12 1254.28 1532.17 1249.7 Q1535.25 1245.09 1541.06 1245.09 Z\" fill=\"#000000\" fill-rule=\"nonzero\" fill-opacity=\"1\" /><path clip-path=\"url(#clip700)\" d=\"M1907.8 1276.34 L1924.12 1276.34 L1924.12 1280.28 L1902.18 1280.28 L1902.18 1276.34 Q1904.84 1273.59 1909.43 1268.96 Q1914.03 1264.3 1915.21 1262.96 Q1917.46 1260.44 1918.34 1258.7 Q1919.24 1256.94 1919.24 1255.25 Q1919.24 1252.5 1917.3 1250.76 Q1915.37 1249.03 1912.27 1249.03 Q1910.07 1249.03 1907.62 1249.79 Q1905.19 1250.55 1902.41 1252.1 L1902.41 1247.38 Q1905.24 1246.25 1907.69 1245.67 Q1910.14 1245.09 1912.18 1245.09 Q1917.55 1245.09 1920.74 1247.78 Q1923.94 1250.46 1923.94 1254.95 Q1923.94 1257.08 1923.13 1259 Q1922.34 1260.9 1920.24 1263.49 Q1919.66 1264.16 1916.55 1267.38 Q1913.45 1270.58 1907.8 1276.34 Z\" fill=\"#000000\" fill-rule=\"nonzero\" fill-opacity=\"1\" /><path clip-path=\"url(#clip700)\" d=\"M1943.94 1248.79 Q1940.33 1248.79 1938.5 1252.36 Q1936.69 1255.9 1936.69 1263.03 Q1936.69 1270.14 1938.5 1273.7 Q1940.33 1277.24 1943.94 1277.24 Q1947.57 1277.24 1949.38 1273.7 Q1951.21 1270.14 1951.21 1263.03 Q1951.21 1255.9 1949.38 1252.36 Q1947.57 1248.79 1943.94 1248.79 M1943.94 1245.09 Q1949.75 1245.09 1952.8 1249.7 Q1955.88 1254.28 1955.88 1263.03 Q1955.88 1271.76 1952.8 1276.36 Q1949.75 1280.95 1943.94 1280.95 Q1938.13 1280.95 1935.05 1276.36 Q1931.99 1271.76 1931.99 1263.03 Q1931.99 1254.28 1935.05 1249.7 Q1938.13 1245.09 1943.94 1245.09 Z\" fill=\"#000000\" fill-rule=\"nonzero\" fill-opacity=\"1\" /><path clip-path=\"url(#clip700)\" d=\"M1974.1 1248.79 Q1970.49 1248.79 1968.66 1252.36 Q1966.86 1255.9 1966.86 1263.03 Q1966.86 1270.14 1968.66 1273.7 Q1970.49 1277.24 1974.1 1277.24 Q1977.73 1277.24 1979.54 1273.7 Q1981.37 1270.14 1981.37 1263.03 Q1981.37 1255.9 1979.54 1252.36 Q1977.73 1248.79 1974.1 1248.79 M1974.1 1245.09 Q1979.91 1245.09 1982.97 1249.7 Q1986.05 1254.28 1986.05 1263.03 Q1986.05 1271.76 1982.97 1276.36 Q1979.91 1280.95 1974.1 1280.95 Q1968.29 1280.95 1965.21 1276.36 Q1962.16 1271.76 1962.16 1263.03 Q1962.16 1254.28 1965.21 1249.7 Q1968.29 1245.09 1974.1 1245.09 Z\" fill=\"#000000\" fill-rule=\"nonzero\" fill-opacity=\"1\" /><path clip-path=\"url(#clip700)\" d=\"M951.808 1312.42 L958.238 1312.42 L958.238 1359.94 L951.808 1359.94 L951.808 1312.42 Z\" fill=\"#000000\" fill-rule=\"nonzero\" fill-opacity=\"1\" /><path clip-path=\"url(#clip700)\" d=\"M976.571 1314.17 L976.571 1324.29 L988.634 1324.29 L988.634 1328.84 L976.571 1328.84 L976.571 1348.2 Q976.571 1352.56 977.749 1353.8 Q978.958 1355.04 982.619 1355.04 L988.634 1355.04 L988.634 1359.94 L982.619 1359.94 Q975.839 1359.94 973.261 1357.43 Q970.683 1354.88 970.683 1348.2 L970.683 1328.84 L966.386 1328.84 L966.386 1324.29 L970.683 1324.29 L970.683 1314.17 L976.571 1314.17 Z\" fill=\"#000000\" fill-rule=\"nonzero\" fill-opacity=\"1\" /><path clip-path=\"url(#clip700)\" d=\"M1026.83 1340.65 L1026.83 1343.52 L999.901 1343.52 Q1000.28 1349.56 1003.53 1352.75 Q1006.81 1355.9 1012.63 1355.9 Q1016.01 1355.9 1019.16 1355.07 Q1022.34 1354.24 1025.46 1352.59 L1025.46 1358.13 Q1022.31 1359.46 1019 1360.16 Q1015.69 1360.86 1012.28 1360.86 Q1003.75 1360.86 998.756 1355.9 Q993.79 1350.93 993.79 1342.47 Q993.79 1333.71 998.501 1328.59 Q1003.24 1323.43 1011.26 1323.43 Q1018.46 1323.43 1022.63 1328.08 Q1026.83 1332.69 1026.83 1340.65 M1020.97 1338.93 Q1020.91 1334.13 1018.27 1331.26 Q1015.66 1328.4 1011.33 1328.4 Q1006.43 1328.4 1003.47 1331.17 Q1000.54 1333.94 1000.09 1338.96 L1020.97 1338.93 Z\" fill=\"#000000\" fill-rule=\"nonzero\" fill-opacity=\"1\" /><path clip-path=\"url(#clip700)\" d=\"M1057.1 1329.77 Q1056.11 1329.19 1054.93 1328.94 Q1053.79 1328.65 1052.39 1328.65 Q1047.42 1328.65 1044.75 1331.9 Q1042.11 1335.11 1042.11 1341.16 L1042.11 1359.94 L1036.22 1359.94 L1036.22 1324.29 L1042.11 1324.29 L1042.11 1329.83 Q1043.95 1326.58 1046.91 1325.02 Q1049.87 1323.43 1054.11 1323.43 Q1054.71 1323.43 1055.44 1323.53 Q1056.17 1323.59 1057.07 1323.75 L1057.1 1329.77 Z\" fill=\"#000000\" fill-rule=\"nonzero\" fill-opacity=\"1\" /><path clip-path=\"url(#clip700)\" d=\"M1079.44 1342.02 Q1072.34 1342.02 1069.61 1343.64 Q1066.87 1345.27 1066.87 1349.18 Q1066.87 1352.3 1068.91 1354.15 Q1070.97 1355.96 1074.51 1355.96 Q1079.38 1355.96 1082.31 1352.52 Q1085.27 1349.05 1085.27 1343.33 L1085.27 1342.02 L1079.44 1342.02 M1091.12 1339.6 L1091.12 1359.94 L1085.27 1359.94 L1085.27 1354.53 Q1083.26 1357.78 1080.27 1359.34 Q1077.28 1360.86 1072.95 1360.86 Q1067.47 1360.86 1064.23 1357.81 Q1061.01 1354.72 1061.01 1349.56 Q1061.01 1343.55 1065.02 1340.49 Q1069.06 1337.44 1077.05 1337.44 L1085.27 1337.44 L1085.27 1336.86 Q1085.27 1332.82 1082.59 1330.63 Q1079.95 1328.4 1075.14 1328.4 Q1072.09 1328.4 1069.19 1329.13 Q1066.3 1329.86 1063.62 1331.33 L1063.62 1325.92 Q1066.84 1324.67 1069.86 1324.07 Q1072.88 1323.43 1075.75 1323.43 Q1083.48 1323.43 1087.3 1327.44 Q1091.12 1331.45 1091.12 1339.6 Z\" fill=\"#000000\" fill-rule=\"nonzero\" fill-opacity=\"1\" /><path clip-path=\"url(#clip700)\" d=\"M1108.98 1314.17 L1108.98 1324.29 L1121.04 1324.29 L1121.04 1328.84 L1108.98 1328.84 L1108.98 1348.2 Q1108.98 1352.56 1110.16 1353.8 Q1111.36 1355.04 1115.03 1355.04 L1121.04 1355.04 L1121.04 1359.94 L1115.03 1359.94 Q1108.25 1359.94 1105.67 1357.43 Q1103.09 1354.88 1103.09 1348.2 L1103.09 1328.84 L1098.79 1328.84 L1098.79 1324.29 L1103.09 1324.29 L1103.09 1314.17 L1108.98 1314.17 Z\" fill=\"#000000\" fill-rule=\"nonzero\" fill-opacity=\"1\" /><path clip-path=\"url(#clip700)\" d=\"M1128.74 1324.29 L1134.6 1324.29 L1134.6 1359.94 L1128.74 1359.94 L1128.74 1324.29 M1128.74 1310.41 L1134.6 1310.41 L1134.6 1317.83 L1128.74 1317.83 L1128.74 1310.41 Z\" fill=\"#000000\" fill-rule=\"nonzero\" fill-opacity=\"1\" /><path clip-path=\"url(#clip700)\" d=\"M1160.67 1328.4 Q1155.96 1328.4 1153.22 1332.09 Q1150.48 1335.75 1150.48 1342.15 Q1150.48 1348.55 1153.19 1352.24 Q1155.92 1355.9 1160.67 1355.9 Q1165.35 1355.9 1168.08 1352.21 Q1170.82 1348.51 1170.82 1342.15 Q1170.82 1335.81 1168.08 1332.12 Q1165.35 1328.4 1160.67 1328.4 M1160.67 1323.43 Q1168.31 1323.43 1172.67 1328.4 Q1177.03 1333.36 1177.03 1342.15 Q1177.03 1350.9 1172.67 1355.9 Q1168.31 1360.86 1160.67 1360.86 Q1153 1360.86 1148.64 1355.9 Q1144.31 1350.9 1144.31 1342.15 Q1144.31 1333.36 1148.64 1328.4 Q1153 1323.43 1160.67 1323.43 Z\" fill=\"#000000\" fill-rule=\"nonzero\" fill-opacity=\"1\" /><path clip-path=\"url(#clip700)\" d=\"M1216.37 1338.42 L1216.37 1359.94 L1210.51 1359.94 L1210.51 1338.61 Q1210.51 1333.55 1208.54 1331.04 Q1206.56 1328.53 1202.62 1328.53 Q1197.87 1328.53 1195.14 1331.55 Q1192.4 1334.57 1192.4 1339.79 L1192.4 1359.94 L1186.51 1359.94 L1186.51 1324.29 L1192.4 1324.29 L1192.4 1329.83 Q1194.5 1326.62 1197.33 1325.02 Q1200.2 1323.43 1203.92 1323.43 Q1210.07 1323.43 1213.22 1327.25 Q1216.37 1331.04 1216.37 1338.42 Z\" fill=\"#000000\" fill-rule=\"nonzero\" fill-opacity=\"1\" /><polyline clip-path=\"url(#clip703)\" style=\"stroke:#000000; stroke-linecap:round; stroke-linejoin:round; stroke-width:2; stroke-opacity:0.1; fill:none\" points=\"215.42,1103.69 1952.76,1103.69 \"/>\n",
       "<polyline clip-path=\"url(#clip703)\" style=\"stroke:#000000; stroke-linecap:round; stroke-linejoin:round; stroke-width:2; stroke-opacity:0.1; fill:none\" points=\"215.42,868.926 1952.76,868.926 \"/>\n",
       "<polyline clip-path=\"url(#clip703)\" style=\"stroke:#000000; stroke-linecap:round; stroke-linejoin:round; stroke-width:2; stroke-opacity:0.1; fill:none\" points=\"215.42,634.16 1952.76,634.16 \"/>\n",
       "<polyline clip-path=\"url(#clip703)\" style=\"stroke:#000000; stroke-linecap:round; stroke-linejoin:round; stroke-width:2; stroke-opacity:0.1; fill:none\" points=\"215.42,399.394 1952.76,399.394 \"/>\n",
       "<polyline clip-path=\"url(#clip703)\" style=\"stroke:#000000; stroke-linecap:round; stroke-linejoin:round; stroke-width:2; stroke-opacity:0.1; fill:none\" points=\"215.42,164.627 1952.76,164.627 \"/>\n",
       "<polyline clip-path=\"url(#clip700)\" style=\"stroke:#000000; stroke-linecap:round; stroke-linejoin:round; stroke-width:4; stroke-opacity:1; fill:none\" points=\"215.42,1221.08 215.42,47.2441 \"/>\n",
       "<polyline clip-path=\"url(#clip700)\" style=\"stroke:#000000; stroke-linecap:round; stroke-linejoin:round; stroke-width:4; stroke-opacity:1; fill:none\" points=\"215.42,1103.69 234.317,1103.69 \"/>\n",
       "<polyline clip-path=\"url(#clip700)\" style=\"stroke:#000000; stroke-linecap:round; stroke-linejoin:round; stroke-width:4; stroke-opacity:1; fill:none\" points=\"215.42,868.926 234.317,868.926 \"/>\n",
       "<polyline clip-path=\"url(#clip700)\" style=\"stroke:#000000; stroke-linecap:round; stroke-linejoin:round; stroke-width:4; stroke-opacity:1; fill:none\" points=\"215.42,634.16 234.317,634.16 \"/>\n",
       "<polyline clip-path=\"url(#clip700)\" style=\"stroke:#000000; stroke-linecap:round; stroke-linejoin:round; stroke-width:4; stroke-opacity:1; fill:none\" points=\"215.42,399.394 234.317,399.394 \"/>\n",
       "<polyline clip-path=\"url(#clip700)\" style=\"stroke:#000000; stroke-linecap:round; stroke-linejoin:round; stroke-width:4; stroke-opacity:1; fill:none\" points=\"215.42,164.627 234.317,164.627 \"/>\n",
       "<path clip-path=\"url(#clip700)\" d=\"M123.545 1104.14 L153.221 1104.14 L153.221 1108.08 L123.545 1108.08 L123.545 1104.14 Z\" fill=\"#000000\" fill-rule=\"nonzero\" fill-opacity=\"1\" /><path clip-path=\"url(#clip700)\" d=\"M173.892 1101.83 Q170.744 1101.83 168.892 1103.98 Q167.063 1106.13 167.063 1109.88 Q167.063 1113.61 168.892 1115.79 Q170.744 1117.94 173.892 1117.94 Q177.04 1117.94 178.869 1115.79 Q180.721 1113.61 180.721 1109.88 Q180.721 1106.13 178.869 1103.98 Q177.04 1101.83 173.892 1101.83 M183.175 1087.18 L183.175 1091.44 Q181.415 1090.6 179.61 1090.16 Q177.827 1089.72 176.068 1089.72 Q171.438 1089.72 168.985 1092.85 Q166.554 1095.97 166.207 1102.29 Q167.573 1100.28 169.633 1099.21 Q171.693 1098.13 174.17 1098.13 Q179.378 1098.13 182.387 1101.3 Q185.42 1104.44 185.42 1109.88 Q185.42 1115.21 182.272 1118.43 Q179.124 1121.64 173.892 1121.64 Q167.897 1121.64 164.726 1117.06 Q161.554 1112.45 161.554 1103.73 Q161.554 1095.53 165.443 1090.67 Q169.332 1085.79 175.883 1085.79 Q177.642 1085.79 179.425 1086.13 Q181.23 1086.48 183.175 1087.18 Z\" fill=\"#000000\" fill-rule=\"nonzero\" fill-opacity=\"1\" /><path clip-path=\"url(#clip700)\" d=\"M123.221 869.378 L152.897 869.378 L152.897 873.313 L123.221 873.313 L123.221 869.378 Z\" fill=\"#000000\" fill-rule=\"nonzero\" fill-opacity=\"1\" /><path clip-path=\"url(#clip700)\" d=\"M175.837 855.72 L164.031 874.169 L175.837 874.169 L175.837 855.72 M174.61 851.646 L180.489 851.646 L180.489 874.169 L185.42 874.169 L185.42 878.058 L180.489 878.058 L180.489 886.206 L175.837 886.206 L175.837 878.058 L160.235 878.058 L160.235 873.544 L174.61 851.646 Z\" fill=\"#000000\" fill-rule=\"nonzero\" fill-opacity=\"1\" /><path clip-path=\"url(#clip700)\" d=\"M125.304 634.611 L154.98 634.611 L154.98 638.547 L125.304 638.547 L125.304 634.611 Z\" fill=\"#000000\" fill-rule=\"nonzero\" fill-opacity=\"1\" /><path clip-path=\"url(#clip700)\" d=\"M169.101 647.505 L185.42 647.505 L185.42 651.44 L163.476 651.44 L163.476 647.505 Q166.138 644.75 170.721 640.121 Q175.327 635.468 176.508 634.125 Q178.753 631.602 179.633 629.866 Q180.536 628.107 180.536 626.417 Q180.536 623.662 178.591 621.926 Q176.67 620.19 173.568 620.19 Q171.369 620.19 168.915 620.954 Q166.485 621.718 163.707 623.269 L163.707 618.547 Q166.531 617.412 168.985 616.834 Q171.438 616.255 173.475 616.255 Q178.846 616.255 182.04 618.94 Q185.235 621.625 185.235 626.116 Q185.235 628.246 184.424 630.167 Q183.637 632.065 181.531 634.658 Q180.952 635.329 177.85 638.547 Q174.749 641.741 169.101 647.505 Z\" fill=\"#000000\" fill-rule=\"nonzero\" fill-opacity=\"1\" /><path clip-path=\"url(#clip700)\" d=\"M173.475 385.192 Q169.864 385.192 168.036 388.757 Q166.23 392.299 166.23 399.428 Q166.23 406.535 168.036 410.1 Q169.864 413.641 173.475 413.641 Q177.11 413.641 178.915 410.1 Q180.744 406.535 180.744 399.428 Q180.744 392.299 178.915 388.757 Q177.11 385.192 173.475 385.192 M173.475 381.489 Q179.286 381.489 182.341 386.095 Q185.42 390.678 185.42 399.428 Q185.42 408.155 182.341 412.762 Q179.286 417.345 173.475 417.345 Q167.665 417.345 164.587 412.762 Q161.531 408.155 161.531 399.428 Q161.531 390.678 164.587 386.095 Q167.665 381.489 173.475 381.489 Z\" fill=\"#000000\" fill-rule=\"nonzero\" fill-opacity=\"1\" /><path clip-path=\"url(#clip700)\" d=\"M169.101 177.972 L185.42 177.972 L185.42 181.907 L163.476 181.907 L163.476 177.972 Q166.138 175.217 170.721 170.588 Q175.327 165.935 176.508 164.593 Q178.753 162.069 179.633 160.333 Q180.536 158.574 180.536 156.884 Q180.536 154.13 178.591 152.394 Q176.67 150.657 173.568 150.657 Q171.369 150.657 168.915 151.421 Q166.485 152.185 163.707 153.736 L163.707 149.014 Q166.531 147.88 168.985 147.301 Q171.438 146.722 173.475 146.722 Q178.846 146.722 182.04 149.407 Q185.235 152.093 185.235 156.583 Q185.235 158.713 184.424 160.634 Q183.637 162.532 181.531 165.125 Q180.952 165.796 177.85 169.014 Q174.749 172.208 169.101 177.972 Z\" fill=\"#000000\" fill-rule=\"nonzero\" fill-opacity=\"1\" /><path clip-path=\"url(#clip700)\" d=\"M72.1065 852.648 L70.0775 852.648 Q70.0775 849.138 69.6588 848.332 Q69.2079 847.527 67.0823 847.527 L32.7831 847.527 Q30.3355 847.527 29.7235 848.397 Q29.1116 849.234 29.1116 852.648 L27.0505 852.648 L26.3419 843.179 L67.0823 843.179 Q69.2079 843.179 69.6588 842.342 Q70.0775 841.505 70.0775 838.026 L72.1065 838.026 Q72.1065 838.832 72.042 840.506 Q71.9776 842.181 71.9454 843.405 Q71.9132 844.629 71.9132 845.337 Q71.9132 846.11 72.1065 852.648 Z\" fill=\"#000000\" fill-rule=\"nonzero\" fill-opacity=\"1\" /><path clip-path=\"url(#clip700)\" d=\"M68.5638 828.102 Q64.2482 832.45 58.0003 832.45 Q51.7201 832.45 47.1469 828.199 Q42.5415 823.916 42.5415 817.797 Q42.5415 811.806 47.1147 807.523 Q51.6557 803.207 58.0003 803.207 Q64.216 803.207 68.5316 807.555 Q72.8472 811.871 72.8472 817.861 Q72.8472 823.722 68.5638 828.102 M57.4528 826.975 Q63.8618 826.975 66.7603 825.301 Q71.1725 822.724 71.1725 817.797 Q71.1725 815.349 69.852 813.32 Q68.5316 811.259 66.3094 810.132 Q63.4109 808.682 57.4528 808.682 Q51.1082 808.682 48.3063 810.421 Q44.0229 812.998 44.0229 817.861 Q44.0229 819.987 45.1502 822.08 Q46.2452 824.141 48.4352 825.397 Q51.3337 826.975 57.4528 826.975 Z\" fill=\"#000000\" fill-rule=\"nonzero\" fill-opacity=\"1\" /><path clip-path=\"url(#clip700)\" d=\"M77.3238 802.163 Q75.1982 802.163 73.3625 800.553 Q71.5268 798.911 70.7216 796.077 Q68.8859 798.975 64.8601 798.975 Q61.7684 798.975 59.3851 796.946 Q56.8087 800.038 52.5897 800.038 Q48.6928 800.038 45.8265 796.946 Q42.9602 793.854 42.9602 789.346 Q42.9602 785.384 45.3434 782.357 Q42.2516 779.201 42.2194 775.368 Q42.2194 773.661 43.2822 772.856 Q44.345 772.019 45.4722 772.019 Q46.4706 772.019 46.9537 772.663 Q47.4368 773.275 47.4368 773.919 Q47.4368 774.724 46.9215 775.304 Q46.374 775.851 45.5366 775.851 Q44.1518 775.851 43.7331 774.788 Q43.6687 774.982 43.6687 775.433 Q43.6687 778.653 46.2452 781.391 Q48.7572 778.685 52.6541 778.685 Q56.551 778.685 59.4174 781.777 Q62.2837 784.869 62.2837 789.346 Q62.2837 793.049 60.2225 795.883 Q61.5429 797.011 63.3465 797.011 Q64.989 797.011 66.2772 796.012 Q67.5654 795.014 67.7587 793.5 Q67.8231 793.049 67.8231 788.573 Q67.8231 785.932 67.8875 784.482 Q67.9519 783.033 68.4028 780.972 Q68.8215 778.879 69.6588 777.236 Q72.042 772.953 77.195 772.921 Q80.9631 772.921 83.3141 777.268 Q85.6973 781.584 85.6973 787.574 Q85.6973 793.629 83.2819 797.912 Q80.8987 802.163 77.3238 802.163 M77.3238 798.717 Q80.0291 798.717 82.0903 795.529 Q84.1837 792.341 84.1837 787.51 Q84.1837 782.776 82.1225 779.587 Q80.0935 776.367 77.3238 776.367 Q75.3593 776.367 74.1032 777.494 Q72.8472 778.621 72.3319 780.94 Q71.8488 783.226 71.7522 784.837 Q71.6556 786.447 71.6556 789.41 L71.6556 793.307 Q71.7844 795.561 73.4269 797.139 Q75.0694 798.717 77.3238 798.717 M52.6541 795.11 Q60.77 795.11 60.77 789.346 Q60.77 786.447 58.1291 784.676 Q56.3578 783.613 52.5897 783.613 Q44.4738 783.613 44.4738 789.346 Q44.4738 792.244 47.1147 794.048 Q48.886 795.11 52.6541 795.11 Z\" fill=\"#000000\" fill-rule=\"nonzero\" fill-opacity=\"1\" /><path clip-path=\"url(#clip700)\" d=\"M64.0235 765.28 L62.5807 765.28 Q62.5807 759.734 59.6274 756.871 Q59.6274 756.082 59.8077 755.946 Q59.9881 755.811 60.8222 755.811 L86.7254 755.811 Q88.1006 755.811 88.5289 755.135 Q88.9573 754.459 88.9573 751.505 L88.9573 750.04 L90.3776 750.04 Q90.2423 751.663 90.2423 757.525 Q90.2423 763.386 90.3776 764.987 L88.9573 764.987 L88.9573 763.521 Q88.9573 760.613 88.5515 759.914 Q88.1231 759.215 86.7254 759.215 L62.8061 759.215 Q64.0235 761.628 64.0235 765.28 Z\" fill=\"#000000\" fill-rule=\"nonzero\" fill-opacity=\"1\" /><path clip-path=\"url(#clip700)\" d=\"M75.6112 747.798 Q68.8254 747.798 65.1282 746.084 Q59.6274 743.695 59.6274 738.059 Q59.6274 736.864 59.9656 735.624 Q60.2812 734.361 61.5211 732.783 Q62.761 731.183 64.79 730.213 Q68.7127 728.365 75.6112 728.365 Q82.3519 728.365 86.0265 730.078 Q91.392 732.58 91.392 738.104 Q91.392 740.178 90.3325 742.297 Q89.2729 744.394 86.7254 745.724 Q82.9155 747.798 75.6112 747.798 M75.0476 743.965 Q82.0137 743.965 84.7866 743.469 Q87.785 742.906 89.0925 741.373 Q90.3776 739.817 90.3776 738.104 Q90.3776 736.255 89.0024 734.722 Q87.6046 733.167 84.6063 732.693 Q81.653 732.175 75.0476 732.197 Q68.6225 732.197 66.0525 732.648 Q63.0541 733.257 61.8593 734.88 Q60.6419 736.481 60.6419 738.104 Q60.6419 738.712 60.8222 739.366 Q61.0026 739.997 61.5211 740.922 Q62.0396 741.846 63.3246 742.567 Q64.6096 743.266 66.5484 743.605 Q69.0508 743.965 75.0476 743.965 Z\" fill=\"#000000\" fill-rule=\"nonzero\" fill-opacity=\"1\" /><path clip-path=\"url(#clip700)\" d=\"M61.9052 717.894 Q48.629 717.894 37.9236 712.944 Q33.4342 710.834 29.6739 707.879 Q25.9136 704.925 24.2637 702.968 Q22.6137 701.011 22.6137 700.474 Q22.6137 699.706 23.3811 699.668 Q23.7648 699.668 24.7241 700.704 Q37.6166 713.366 61.9052 713.328 Q86.2706 713.328 98.6643 701.011 Q100.007 699.668 100.429 699.668 Q101.197 699.668 101.197 700.474 Q101.197 701.011 99.6236 702.891 Q98.0504 704.771 94.4435 707.687 Q90.8367 710.603 86.4241 712.714 Q75.7187 717.894 61.9052 717.894 Z\" fill=\"#000000\" fill-rule=\"nonzero\" fill-opacity=\"1\" /><path clip-path=\"url(#clip700)\" d=\"M86.5669 680.681 L25.1503 680.681 Q22.7027 680.681 22.7027 679.361 Q22.7027 678.04 24.6672 678.04 L86.0838 678.04 Q88.5314 678.04 88.5314 679.361 Q88.5314 680.681 86.5669 680.681 Z\" fill=\"#000000\" fill-rule=\"nonzero\" fill-opacity=\"1\" /><path clip-path=\"url(#clip700)\" d=\"M86.5669 662.961 L25.1503 662.961 Q22.7027 662.961 22.7027 661.64 Q22.7027 660.32 24.6672 660.32 L86.0838 660.32 Q88.5314 660.32 88.5314 661.64 Q88.5314 662.961 86.5669 662.961 Z\" fill=\"#000000\" fill-rule=\"nonzero\" fill-opacity=\"1\" /><path clip-path=\"url(#clip700)\" d=\"M71.2369 644.452 L62.5413 644.452 Q61.8006 644.452 61.5429 644.419 Q61.2853 644.387 61.0921 644.194 Q60.8988 644.001 60.8988 643.614 Q60.8988 643.163 61.0921 643.002 Q61.2853 642.809 62.026 642.68 Q66.5671 641.682 68.9825 639.556 Q71.3657 637.398 71.3657 633.502 Q71.3657 629.798 69.7232 627.93 Q68.0807 626.062 65.3754 626.062 Q60.5446 626.062 59.3207 632.922 Q58.5156 636.883 58.0003 638.526 Q57.4528 640.168 56.2612 641.617 Q53.9424 644.452 50.6574 644.452 Q47.3724 644.452 44.9569 641.972 Q42.5415 639.46 42.5415 633.92 Q42.5415 630.217 44.4094 627.705 Q43.8297 626.964 43.3466 626.577 Q42.5415 625.708 42.5415 625.257 Q42.5415 624.742 42.8957 624.645 Q43.2178 624.548 44.1518 624.548 L50.7862 624.548 Q51.5269 624.548 51.7846 624.581 Q52.0422 624.613 52.2354 624.806 Q52.3965 624.999 52.3965 625.418 Q52.3965 626.159 51.7846 626.191 Q43.7975 626.706 43.7975 633.92 Q43.7975 637.817 45.3112 639.556 Q46.7927 641.295 48.8216 641.295 Q49.9488 641.295 50.8184 640.78 Q51.6557 640.233 52.171 639.556 Q52.6541 638.848 53.1372 637.56 Q53.5881 636.271 53.7491 635.498 Q53.9101 634.693 54.2322 633.18 Q55.2306 627.898 57.3884 625.676 Q60.1581 622.906 63.6685 622.906 Q67.5654 622.906 70.2063 625.547 Q72.8472 628.188 72.8472 633.502 Q72.8472 637.785 69.9809 640.78 Q70.3673 641.167 70.7216 641.456 Q71.0437 641.746 71.1725 641.875 Q71.3013 641.972 71.3979 642.004 Q71.4623 642.036 71.5268 642.101 Q72.8472 643.421 72.8472 643.743 Q72.8472 644.258 72.4929 644.355 Q72.1709 644.452 71.2369 644.452 Z\" fill=\"#000000\" fill-rule=\"nonzero\" fill-opacity=\"1\" /><path clip-path=\"url(#clip700)\" d=\"M45.7299 621.056 L44.2806 621.056 Q44.1518 618.028 42.0262 616.031 Q39.8684 614.002 37.2275 613.326 Q34.5866 612.618 31.5271 612.553 L31.5271 610.911 L43.6687 610.911 L43.6687 601.474 L45.7299 601.474 L45.7299 610.911 L64.055 610.911 Q71.1725 610.911 71.1725 606.466 Q71.1725 604.566 69.2401 603.31 Q67.2756 602.054 63.7973 602.054 L60.1581 602.054 L60.1581 600.412 L63.9262 600.412 Q67.501 600.412 70.1741 602.054 Q72.8472 603.697 72.8472 606.949 Q72.8472 608.141 72.5251 609.333 Q72.2353 610.492 71.4623 612.038 Q70.6572 613.552 68.7248 614.518 Q66.7603 615.452 63.9262 615.452 L45.7299 615.452 L45.7299 621.056 Z\" fill=\"#000000\" fill-rule=\"nonzero\" fill-opacity=\"1\" /><path clip-path=\"url(#clip700)\" d=\"M57.5816 597.285 Q51.3659 597.285 46.9537 593.291 Q42.5415 589.297 42.5415 583.565 Q42.5415 577.768 46.3096 574.773 Q50.0777 571.745 55.4882 571.745 Q56.4866 571.745 56.6799 572.003 Q56.8731 572.261 56.8731 573.388 L56.8731 591.81 Q63.6041 591.81 66.7603 589.813 Q71.1725 587.043 71.1725 582.373 Q71.1725 581.729 71.0437 580.956 Q70.9148 580.183 70.3673 578.605 Q69.7876 577.027 68.274 575.642 Q66.7603 574.257 64.3771 573.452 Q63.4431 573.259 63.4753 572.615 Q63.4753 571.745 64.2482 571.745 Q64.8279 571.745 66.1484 572.389 Q67.4366 573.001 68.9825 574.193 Q70.5284 575.385 71.6878 577.703 Q72.8472 579.99 72.8472 582.76 Q72.8472 588.557 68.4672 592.937 Q64.055 597.285 57.5816 597.285 M55.4882 591.745 L55.4882 576.093 Q54.1034 576.093 52.5575 576.351 Q51.0116 576.576 48.886 577.285 Q46.7282 577.961 45.3756 579.571 Q44.0229 581.182 44.0229 583.565 Q44.0229 584.628 44.4738 585.787 Q44.9247 586.914 46.0197 588.299 Q47.1147 589.684 49.5946 590.65 Q52.0744 591.616 55.4882 591.745 Z\" fill=\"#000000\" fill-rule=\"nonzero\" fill-opacity=\"1\" /><path clip-path=\"url(#clip700)\" d=\"M82.8632 573.57 Q82.8632 570.059 82.4123 569.254 Q81.9937 568.417 79.9003 568.417 L49.0149 568.417 Q46.8249 568.417 46.2774 569.254 Q45.7299 570.059 45.7299 573.57 L43.6687 573.57 L42.9602 564.069 L47.3079 564.069 Q42.9602 560.108 42.9602 554.826 Q42.9602 549.222 47.3079 545.132 Q51.6557 541.042 57.8715 541.042 Q64.1516 541.042 68.4994 545.39 Q72.8472 549.738 72.8472 555.76 Q72.8472 559.045 71.1725 561.267 Q69.4656 563.457 68.2096 563.876 L68.8215 563.876 L79.9003 563.876 Q82.0259 563.876 82.4445 563.039 Q82.8632 562.201 82.8632 558.723 L84.8922 558.723 Q84.699 565.647 84.699 566.163 Q84.699 566.807 84.8922 573.57 L82.8632 573.57 M64.6025 563.876 Q65.6009 563.876 65.9551 563.747 Q66.3094 563.586 67.3722 562.942 Q71.3657 560.333 71.3657 556.082 Q71.3657 556.05 71.3657 556.018 Q71.3657 552.25 67.5332 549.383 Q63.6685 546.517 57.8715 546.517 Q52.3321 546.517 48.4674 549.126 Q44.6027 551.734 44.6027 555.341 Q44.6027 557.918 45.9875 560.172 Q47.3724 562.427 49.8844 563.876 L64.6025 563.876 Z\" fill=\"#000000\" fill-rule=\"nonzero\" fill-opacity=\"1\" /><path clip-path=\"url(#clip700)\" d=\"M86.5669 528.62 L25.1503 528.62 Q22.7027 528.62 22.7027 527.299 Q22.7027 525.979 24.6672 525.979 L86.0838 525.979 Q88.5314 525.979 88.5314 527.299 Q88.5314 528.62 86.5669 528.62 Z\" fill=\"#000000\" fill-rule=\"nonzero\" fill-opacity=\"1\" /><path clip-path=\"url(#clip700)\" d=\"M86.5669 510.11 L25.1503 510.11 Q22.7027 510.11 22.7027 508.79 Q22.7027 507.47 24.6672 507.47 L86.0838 507.47 Q88.5314 507.47 88.5314 508.79 Q88.5314 510.11 86.5669 510.11 Z\" fill=\"#000000\" fill-rule=\"nonzero\" fill-opacity=\"1\" /><path clip-path=\"url(#clip700)\" d=\"M90.5292 459.526 Q93.2796 459.526 95.6693 460.608 Q98.0364 461.668 99.5243 463.742 Q101.012 465.793 101.012 468.386 Q101.012 472.399 97.811 476.231 Q97.1572 476.998 96.5485 477.539 Q95.9398 478.08 93.1443 480.379 Q93.7981 480.763 94.4068 481.168 Q94.9929 481.574 96.323 482.724 Q97.6531 483.874 98.5775 485.069 Q99.5018 486.241 100.268 488.067 Q101.012 489.871 101.012 491.742 Q101.012 493.726 100.11 495.416 Q99.1861 497.085 97.7208 498.189 Q96.2329 499.271 94.3842 499.88 Q92.5131 500.466 90.5743 500.466 Q87.8239 500.466 85.4568 499.407 Q83.0671 498.325 81.5792 496.273 Q80.0913 494.199 80.0913 491.606 Q80.0913 487.571 83.27 483.761 Q83.9238 482.995 84.5325 482.454 Q85.1412 481.912 87.9366 479.613 Q87.4407 479.32 86.9898 479.004 Q86.5164 478.689 85.4793 477.9 Q84.4423 477.111 83.6082 476.186 Q82.774 475.239 81.9174 474.045 Q81.0607 472.85 80.5873 471.339 Q80.0913 469.829 80.0913 468.251 Q80.0913 466.267 81.0156 464.599 Q81.9174 462.908 83.4053 461.826 Q84.8706 460.721 86.7418 460.135 Q88.5904 459.526 90.5292 459.526 M90.5292 460.541 Q88.9286 460.541 87.373 461.014 Q85.8175 461.487 84.5099 462.389 Q83.1798 463.268 82.3682 464.711 Q81.5567 466.154 81.5567 467.913 Q81.5567 469.761 82.3457 471.475 Q83.1122 473.165 84.4198 474.495 Q85.7273 475.803 86.9447 476.705 Q88.1621 477.607 89.5598 478.396 Q90.0558 477.99 92.3553 476.254 Q94.6548 474.495 95.4664 473.751 Q98.7803 470.708 98.7803 467.642 Q98.7803 464.711 96.3907 462.637 Q93.9785 460.541 90.5292 460.541 M91.5437 481.597 Q91.0703 481.98 88.7708 483.761 Q86.4487 485.52 85.6371 486.263 Q82.3006 489.329 82.3006 492.35 Q82.3006 495.281 84.7128 497.378 Q87.125 499.452 90.5743 499.452 Q92.1749 499.452 93.7305 498.978 Q95.286 498.505 96.5936 497.626 Q97.9011 496.724 98.7127 495.281 Q99.5243 493.838 99.5243 492.08 Q99.5243 490.592 98.9832 489.172 Q98.4422 487.729 97.6306 486.647 Q96.819 485.565 95.6918 484.55 Q94.5646 483.536 93.5952 482.882 Q92.6258 482.206 91.5437 481.597 Z\" fill=\"#000000\" fill-rule=\"nonzero\" fill-opacity=\"1\" /><path clip-path=\"url(#clip700)\" d=\"M100.429 445.845 Q100.046 445.845 99.0864 444.847 Q86.1938 432.185 61.9052 432.185 Q37.5399 432.185 25.2229 444.348 Q23.8032 445.845 23.3811 445.845 Q22.6137 445.845 22.6137 445.077 Q22.6137 444.54 24.1869 442.66 Q25.7601 440.741 29.367 437.863 Q32.9738 434.947 37.3864 432.799 Q48.0918 427.619 61.9052 427.619 Q75.1815 427.619 85.8869 432.568 Q90.3762 434.679 94.1366 437.633 Q97.8969 440.588 99.5468 442.545 Q101.197 444.502 101.197 445.077 Q101.197 445.845 100.429 445.845 Z\" fill=\"#000000\" fill-rule=\"nonzero\" fill-opacity=\"1\" /><polyline clip-path=\"url(#clip703)\" style=\"stroke:#000000; stroke-linecap:round; stroke-linejoin:round; stroke-width:6; stroke-opacity:1; fill:none\" points=\"232.707,358.28 241.35,424.342 249.994,388.84 258.637,389.676 267.281,334.235 275.924,317.859 284.568,325.872 293.211,427.782 301.854,500.728 310.498,663.537 319.141,653.522 327.785,726.636 336.428,671.897 345.072,617.741 353.715,567.878 362.359,525.423 371.002,503.795 379.646,484.056 388.289,387.209 396.933,432.048 405.576,464.47 414.22,438.21 422.863,515.27 431.506,613.831 440.15,563.488 448.793,533.665 457.437,505.401 466.08,461.801 474.724,564.91 483.367,649.098 492.011,597.565 500.654,536.437 509.298,426.033 517.941,403.148 526.585,419.506 535.228,475.436 543.871,468.46 552.515,349.52 561.158,352.886 569.802,398.886 578.445,458.608 587.089,492.183 595.732,444.722 604.376,402.062 613.019,453.646 621.663,443.135 630.306,396.906 638.95,329.106 647.593,412.983 656.236,432.339 664.88,379.753 673.523,381.518 682.167,364.313 690.81,332.285 699.454,399.649 708.097,254.363 716.741,265.223 725.384,438.759 734.028,479.934 742.671,369.999 751.315,296.54 759.958,284.465 768.601,396.423 777.245,181.092 785.888,256.791 794.532,261.34 803.175,280.011 811.819,287.609 820.462,309.082 829.106,493.458 837.749,346.542 846.393,374.175 855.036,463.745 863.68,616.644 872.323,638.912 880.967,652.343 889.61,616.284 898.253,588.896 906.897,577.479 915.54,552.522 924.184,522.66 932.827,478.711 941.471,459.761 950.114,716.207 958.758,681.771 967.401,644.401 976.045,607.712 984.688,562.229 993.332,511.918 1001.97,459.761 1010.62,402.386 1019.26,409.885 1027.91,661.93 1036.55,462.499 1045.19,459.429 1053.84,498.901 1062.48,674.192 1071.12,646.892 1079.77,620.007 1088.41,583.904 1097.05,538.114 1105.7,487.096 1114.34,433.52 1122.98,374.8 1131.63,298.404 1140.27,369.146 1148.91,297.568 1157.56,364.058 1166.2,379.064 1174.84,539.688 1183.49,545.882 1192.13,679.613 1200.77,663.81 1209.42,623.194 1218.06,585.253 1226.71,544.988 1235.35,499.261 1243.99,448.452 1252.64,460.096 1261.28,695.367 1269.92,465.392 1278.57,463.029 1287.21,544.371 1295.85,697.441 1304.5,683.621 1313.14,653.596 1321.78,620.785 1330.43,576.647 1339.07,527.205 1347.71,475.892 1356.36,425.35 1365,379.064 1373.64,281.001 1382.29,369.713 1390.93,541.476 1399.57,403.755 1408.22,575.991 1416.86,486.249 1425.5,695.03 1434.15,363.551 1442.79,390.099 1451.44,563.234 1460.08,698.511 1468.72,677.661 1477.37,658.366 1486.01,212.239 1494.65,342.378 1503.3,501.102 1511.94,542.818 1520.58,576.812 1529.23,513.328 1537.87,515.767 1546.51,683.486 1555.16,367.212 1563.8,431.855 1572.44,647.088 1581.09,408.647 1589.73,479.934 1598.37,682.82 1607.02,337.007 1615.66,337.459 1624.3,348.57 1632.95,349.328 1641.59,352.886 1650.23,391.827 1658.88,635.242 1667.52,456.378 1676.17,457.005 1684.81,501.102 1693.45,620.394 1702.1,271.457 1710.74,268.245 1719.38,330.67 1728.03,351.473 1736.67,340.417 1745.31,345.469 1753.96,382.606 1762.6,616.284 1771.24,522.66 1779.89,518.54 1788.53,517.084 1797.17,532.611 1805.82,732.251 1814.46,361.57 1823.1,362.058 1831.75,368.308 1840.39,419.129 1849.03,690.833 1857.68,411.217 1866.32,411.217 1874.96,411.669 1883.61,411.734 1892.25,411.734 1900.9,411.799 1909.54,450.494 1918.18,678.384 1926.83,541.064 1935.47,392.269 1944.11,697.973 1952.76,571.624 \"/>\n",
       "<polyline clip-path=\"url(#clip703)\" style=\"stroke:#000000; stroke-linecap:round; stroke-linejoin:round; stroke-width:6; stroke-opacity:1; fill:none\" stroke-dasharray=\"3, 6\" points=\"232.707,392.714 241.35,459.429 249.994,545.522 258.637,534.237 267.281,532.196 275.924,594.901 284.568,592.369 293.211,570.296 301.854,540.9 310.498,504.592 319.141,489.13 327.785,499.624 336.428,561.123 345.072,758.643 353.715,793.861 362.359,745.766 371.002,708.641 379.646,691.771 388.289,680.744 396.933,648.622 405.576,623.607 414.22,616.284 422.863,868.926 431.506,995.563 440.15,948.974 448.793,895.998 457.437,845.607 466.08,796.255 474.724,743.977 483.367,695.367 492.011,653.821 500.654,603.075 509.298,843.089 517.941,973.725 526.585,927.494 535.228,878.61 543.871,837.29 552.515,794.213 561.158,741.406 569.802,685.679 578.445,635.294 587.089,907.743 595.732,1011.26 604.376,958.073 613.019,905.815 621.663,860.922 630.306,819.825 638.95,770.682 647.593,715.448 656.236,660.714 664.88,611.818 673.523,860.058 682.167,985.3 690.81,936.244 699.454,486.249 708.097,460.771 716.741,632.161 725.384,628.383 734.028,632.653 742.671,624.865 751.315,632.653 759.958,621.179 768.601,602.799 777.245,614.868 785.888,865.477 794.532,809.313 803.175,756.914 811.819,711.117 820.462,679.737 829.106,665.856 837.749,639.929 846.393,651.12 855.036,678.384 863.68,992.422 872.323,950.466 880.967,896.346 889.61,845.931 898.253,803.91 906.897,777.755 915.54,757.255 924.184,734.027 932.827,702.637 941.471,654.958 950.114,605.631 958.758,847.247 967.401,1007.41 976.045,983.339 984.688,934.925 993.332,889.114 1001.97,857.96 1010.62,829.904 1019.26,788.327 1027.91,734.756 1036.55,682.952 1045.19,642.445 1053.84,920.868 1062.48,957.202 1071.12,945.884 1079.77,901.872 1088.41,865.003 1097.05,819.052 1105.7,765.133 1114.34,712.048 1122.98,663.537 1131.63,620.007 1140.27,591.258 1148.91,861.36 1157.56,851.773 1166.2,809.155 1174.84,760.858 1183.49,706.913 1192.13,660.032 1200.77,627.48 1209.42,737.39 1218.06,702.637 1226.71,666.047 1235.35,960.166 1243.99,1037.41 1252.64,1072.61 1261.28,1040.27 1269.92,519.877 1278.57,998.005 1287.21,1108.56 1295.85,1085.1 1304.5,1030.29 1313.14,976.592 1321.78,924.526 1330.43,873.846 1339.07,821.607 1347.71,767.727 1356.36,715.198 1365,668.088 1373.64,631.189 1382.29,866.439 1390.93,811.249 1399.57,757.028 1408.22,716.207 1416.86,1139.54 1425.5,1206.92 1434.15,1165.58 1442.79,1109.92 1451.44,1054.01 1460.08,998.005 1468.72,941.892 1477.37,886.243 1486.01,831.591 1494.65,777.669 1503.3,737.005 1511.94,1191.4 1520.58,1136.15 1529.23,525.002 1537.87,1083.36 1546.51,1069.39 1555.16,525.062 1563.8,1077.55 1572.44,968.794 1581.09,1005.3 1589.73,1012.18 1598.37,956.629 1607.02,901.1 1615.66,846.257 1624.3,792.477 1632.95,740.168 1641.59,691.144 1650.23,483.257 1658.88,743.105 1667.52,699.054 1676.17,1092.32 1684.81,1156.63 1693.45,527.143 1702.1,1124.41 1710.74,1140.79 1719.38,1135.11 1728.03,1085.46 1736.67,527.205 1745.31,1036.58 1753.96,1152.09 1762.6,1128.72 1771.24,527.143 1779.89,514.777 1788.53,1074.3 1797.17,1019.06 1805.82,965.301 1814.46,911.833 1823.1,857.96 1831.75,527.393 1840.39,813.605 1849.03,1110.04 1857.68,1169.32 1866.32,1151.17 1874.96,1103.85 1883.61,527.456 1892.25,515.767 1900.9,1049.24 1909.54,994.475 1918.18,939.395 1926.83,884.139 1935.47,829.432 1944.11,785.471 1952.76,527.708 \"/>\n",
       "<path clip-path=\"url(#clip700)\" d=\"M1231.38 241.892 L1894.84 241.892 L1894.84 86.3718 L1231.38 86.3718  Z\" fill=\"#ffffff\" fill-rule=\"evenodd\" fill-opacity=\"1\"/>\n",
       "<polyline clip-path=\"url(#clip700)\" style=\"stroke:#000000; stroke-linecap:round; stroke-linejoin:round; stroke-width:4; stroke-opacity:1; fill:none\" points=\"1231.38,241.892 1894.84,241.892 1894.84,86.3718 1231.38,86.3718 1231.38,241.892 \"/>\n",
       "<polyline clip-path=\"url(#clip700)\" style=\"stroke:#000000; stroke-linecap:round; stroke-linejoin:round; stroke-width:6; stroke-opacity:1; fill:none\" points=\"1250.69,138.212 1366.51,138.212 \"/>\n",
       "<path clip-path=\"url(#clip700)\" d=\"M1385.81 128.517 L1390.07 128.517 L1395.4 148.748 L1400.7 128.517 L1405.72 128.517 L1411.04 148.748 L1416.34 128.517 L1420.6 128.517 L1413.82 154.442 L1408.8 154.442 L1403.22 133.192 L1397.62 154.442 L1392.59 154.442 L1385.81 128.517 Z\" fill=\"#000000\" fill-rule=\"nonzero\" fill-opacity=\"1\" /><path clip-path=\"url(#clip700)\" d=\"M1427.06 128.517 L1431.32 128.517 L1431.32 154.442 L1427.06 154.442 L1427.06 128.517 M1427.06 118.424 L1431.32 118.424 L1431.32 123.817 L1427.06 123.817 L1427.06 118.424 Z\" fill=\"#000000\" fill-rule=\"nonzero\" fill-opacity=\"1\" /><path clip-path=\"url(#clip700)\" d=\"M1444.45 121.155 L1444.45 128.517 L1453.22 128.517 L1453.22 131.827 L1444.45 131.827 L1444.45 145.901 Q1444.45 149.072 1445.3 149.975 Q1446.18 150.877 1448.84 150.877 L1453.22 150.877 L1453.22 154.442 L1448.84 154.442 Q1443.91 154.442 1442.04 152.614 Q1440.16 150.762 1440.16 145.901 L1440.16 131.827 L1437.04 131.827 L1437.04 128.517 L1440.16 128.517 L1440.16 121.155 L1444.45 121.155 Z\" fill=\"#000000\" fill-rule=\"nonzero\" fill-opacity=\"1\" /><path clip-path=\"url(#clip700)\" d=\"M1480.37 138.794 L1480.37 154.442 L1476.11 154.442 L1476.11 138.933 Q1476.11 135.253 1474.68 133.424 Q1473.24 131.595 1470.37 131.595 Q1466.92 131.595 1464.93 133.794 Q1462.94 135.993 1462.94 139.79 L1462.94 154.442 L1458.66 154.442 L1458.66 118.424 L1462.94 118.424 L1462.94 132.544 Q1464.47 130.206 1466.53 129.049 Q1468.61 127.892 1471.32 127.892 Q1475.79 127.892 1478.08 130.669 Q1480.37 133.424 1480.37 138.794 Z\" fill=\"#000000\" fill-rule=\"nonzero\" fill-opacity=\"1\" /><path clip-path=\"url(#clip700)\" d=\"M1533.71 128.303 Q1533.71 130.481 1532.21 132.449 Q1530.74 134.393 1528.49 135.634 Q1526.24 136.852 1523.69 137.32 Q1527.13 137.719 1529.12 139.592 Q1531.14 141.466 1531.14 144.09 Q1531.14 145.846 1530.11 147.697 Q1529.1 149.524 1527.36 151.023 Q1525.65 152.522 1523.13 153.482 Q1520.62 154.442 1517.88 154.442 L1500.76 154.442 Q1500.22 154.442 1500.01 154.419 Q1499.8 154.395 1499.63 154.278 Q1499.47 154.161 1499.47 153.904 Q1499.47 153.435 1499.63 153.224 Q1499.82 153.014 1500.03 152.99 Q1500.24 152.967 1500.76 152.967 Q1501.93 152.967 1502.63 152.896 Q1503.33 152.826 1503.78 152.732 Q1504.25 152.615 1504.48 152.287 Q1504.74 151.96 1504.86 151.678 Q1504.97 151.374 1505.14 150.695 L1511.55 124.93 Q1511.74 124.157 1511.74 124.04 Q1511.74 123.595 1511.46 123.478 Q1511.2 123.337 1510.45 123.267 L1508.63 123.173 Q1508.06 123.173 1507.83 123.15 Q1507.62 123.126 1507.46 123.009 Q1507.29 122.892 1507.29 122.635 Q1507.29 121.979 1507.57 121.838 Q1507.88 121.674 1508.67 121.674 L1524.79 121.674 Q1528.93 121.674 1531.32 123.595 Q1533.71 125.492 1533.71 128.303 M1529.36 128.115 Q1529.36 127.225 1529.12 126.429 Q1528.89 125.633 1528.33 124.86 Q1527.79 124.087 1526.71 123.642 Q1525.63 123.173 1524.13 123.173 L1517.93 123.173 Q1516.4 123.173 1516.03 123.454 Q1515.68 123.712 1515.35 125 L1512.37 136.875 L1519.38 136.875 Q1521.51 136.875 1523.38 136.103 Q1525.28 135.33 1526.57 134.088 Q1527.86 132.823 1528.61 131.254 Q1529.36 129.685 1529.36 128.115 M1526.66 143.551 Q1526.66 142.848 1526.55 142.169 Q1526.43 141.49 1526.05 140.693 Q1525.68 139.897 1525.09 139.311 Q1524.51 138.726 1523.48 138.328 Q1522.47 137.929 1521.16 137.929 L1512.09 137.929 L1508.77 151.327 Q1508.53 152.194 1508.53 152.428 Q1508.53 152.686 1508.65 152.779 Q1508.79 152.85 1509.17 152.896 Q1509.59 152.967 1510.22 152.967 L1516.73 152.967 Q1518.79 152.967 1520.67 152.17 Q1522.54 151.351 1523.83 150.039 Q1525.14 148.727 1525.89 147.017 Q1526.66 145.308 1526.66 143.551 Z\" fill=\"#000000\" fill-rule=\"nonzero\" fill-opacity=\"1\" /><path clip-path=\"url(#clip700)\" d=\"M1548.83 147.158 Q1548.88 146.572 1549.79 146.572 L1579.19 146.572 Q1580.57 146.572 1580.59 147.111 Q1580.59 147.697 1579.28 147.673 L1550.12 147.673 Q1548.83 147.697 1548.83 147.158 M1548.83 137.789 Q1548.83 137.203 1549.84 137.227 L1579.14 137.227 Q1580.57 137.227 1580.59 137.789 Q1580.59 138.328 1579.38 138.328 L1549.79 138.328 Q1548.83 138.328 1548.83 137.789 Z\" fill=\"#000000\" fill-rule=\"nonzero\" fill-opacity=\"1\" /><path clip-path=\"url(#clip700)\" d=\"M1599.1 154.442 Q1599.1 153.576 1599.17 153.318 Q1599.26 153.06 1599.64 152.662 L1608.84 142.403 Q1613.88 136.735 1613.88 131.793 Q1613.88 128.584 1612.19 126.289 Q1610.53 123.993 1607.46 123.993 Q1605.35 123.993 1603.57 125.281 Q1601.79 126.57 1600.97 128.865 Q1601.11 128.818 1601.61 128.818 Q1602.8 128.818 1603.46 129.568 Q1604.14 130.317 1604.14 131.324 Q1604.14 132.613 1603.29 133.245 Q1602.47 133.854 1601.65 133.854 Q1601.33 133.854 1600.88 133.784 Q1600.46 133.713 1599.78 133.058 Q1599.1 132.378 1599.1 131.184 Q1599.1 127.834 1601.63 125.164 Q1604.18 122.494 1608.07 122.494 Q1612.47 122.494 1615.36 125.117 Q1618.26 127.717 1618.26 131.793 Q1618.26 133.222 1617.82 134.533 Q1617.39 135.821 1616.81 136.829 Q1616.25 137.836 1614.7 139.452 Q1613.15 141.068 1611.91 142.216 Q1610.67 143.363 1607.88 145.799 L1602.8 150.742 L1611.44 150.742 Q1615.66 150.742 1615.99 150.367 Q1616.46 149.688 1617.04 146.104 L1618.26 146.104 L1616.9 154.442 L1599.1 154.442 Z\" fill=\"#000000\" fill-rule=\"nonzero\" fill-opacity=\"1\" /><path clip-path=\"url(#clip700)\" d=\"M1661.05 129.512 L1661.05 133.493 Q1659.25 132.498 1657.42 132.012 Q1655.61 131.503 1653.76 131.503 Q1649.62 131.503 1647.32 134.141 Q1645.03 136.757 1645.03 141.503 Q1645.03 146.248 1647.32 148.887 Q1649.62 151.502 1653.76 151.502 Q1655.61 151.502 1657.42 151.016 Q1659.25 150.507 1661.05 149.512 L1661.05 153.447 Q1659.27 154.28 1657.35 154.697 Q1655.45 155.114 1653.3 155.114 Q1647.44 155.114 1643.99 151.433 Q1640.54 147.753 1640.54 141.503 Q1640.54 135.16 1644.01 131.526 Q1647.51 127.892 1653.57 127.892 Q1655.54 127.892 1657.42 128.308 Q1659.29 128.702 1661.05 129.512 Z\" fill=\"#000000\" fill-rule=\"nonzero\" fill-opacity=\"1\" /><path clip-path=\"url(#clip700)\" d=\"M1678.5 131.503 Q1675.08 131.503 1673.09 134.188 Q1671.1 136.85 1671.1 141.503 Q1671.1 146.155 1673.07 148.84 Q1675.06 151.502 1678.5 151.502 Q1681.91 151.502 1683.9 148.817 Q1685.89 146.132 1685.89 141.503 Q1685.89 136.896 1683.9 134.211 Q1681.91 131.503 1678.5 131.503 M1678.5 127.892 Q1684.06 127.892 1687.23 131.503 Q1690.4 135.114 1690.4 141.503 Q1690.4 147.868 1687.23 151.502 Q1684.06 155.114 1678.5 155.114 Q1672.93 155.114 1669.76 151.502 Q1666.61 147.868 1666.61 141.503 Q1666.61 135.114 1669.76 131.503 Q1672.93 127.892 1678.5 127.892 Z\" fill=\"#000000\" fill-rule=\"nonzero\" fill-opacity=\"1\" /><path clip-path=\"url(#clip700)\" d=\"M1719.01 138.794 L1719.01 154.442 L1714.75 154.442 L1714.75 138.933 Q1714.75 135.253 1713.32 133.424 Q1711.88 131.595 1709.01 131.595 Q1705.57 131.595 1703.57 133.794 Q1701.58 135.993 1701.58 139.79 L1701.58 154.442 L1697.3 154.442 L1697.3 128.517 L1701.58 128.517 L1701.58 132.544 Q1703.11 130.206 1705.17 129.049 Q1707.25 127.892 1709.96 127.892 Q1714.43 127.892 1716.72 130.669 Q1719.01 133.424 1719.01 138.794 Z\" fill=\"#000000\" fill-rule=\"nonzero\" fill-opacity=\"1\" /><path clip-path=\"url(#clip700)\" d=\"M1744.04 129.28 L1744.04 133.308 Q1742.23 132.382 1740.29 131.919 Q1738.34 131.456 1736.26 131.456 Q1733.09 131.456 1731.49 132.429 Q1729.92 133.401 1729.92 135.345 Q1729.92 136.827 1731.05 137.683 Q1732.19 138.516 1735.61 139.28 L1737.07 139.604 Q1741.61 140.577 1743.5 142.359 Q1745.43 144.118 1745.43 147.29 Q1745.43 150.901 1742.56 153.007 Q1739.71 155.114 1734.71 155.114 Q1732.63 155.114 1730.36 154.697 Q1728.11 154.303 1725.61 153.493 L1725.61 149.095 Q1727.97 150.322 1730.26 150.947 Q1732.56 151.549 1734.8 151.549 Q1737.81 151.549 1739.43 150.53 Q1741.05 149.489 1741.05 147.614 Q1741.05 145.878 1739.87 144.952 Q1738.71 144.026 1734.75 143.169 L1733.27 142.822 Q1729.31 141.989 1727.56 140.276 Q1725.8 138.54 1725.8 135.53 Q1725.8 131.873 1728.39 129.882 Q1730.98 127.892 1735.75 127.892 Q1738.11 127.892 1740.19 128.239 Q1742.28 128.586 1744.04 129.28 Z\" fill=\"#000000\" fill-rule=\"nonzero\" fill-opacity=\"1\" /><path clip-path=\"url(#clip700)\" d=\"M1756.42 121.155 L1756.42 128.517 L1765.19 128.517 L1765.19 131.827 L1756.42 131.827 L1756.42 145.901 Q1756.42 149.072 1757.28 149.975 Q1758.16 150.877 1760.82 150.877 L1765.19 150.877 L1765.19 154.442 L1760.82 154.442 Q1755.89 154.442 1754.01 152.614 Q1752.14 150.762 1752.14 145.901 L1752.14 131.827 L1749.01 131.827 L1749.01 128.517 L1752.14 128.517 L1752.14 121.155 L1756.42 121.155 Z\" fill=\"#000000\" fill-rule=\"nonzero\" fill-opacity=\"1\" /><path clip-path=\"url(#clip700)\" d=\"M1785.82 132.498 Q1785.1 132.081 1784.25 131.896 Q1783.41 131.688 1782.39 131.688 Q1778.78 131.688 1776.84 134.049 Q1774.92 136.387 1774.92 140.785 L1774.92 154.442 L1770.63 154.442 L1770.63 128.517 L1774.92 128.517 L1774.92 132.544 Q1776.26 130.183 1778.41 129.049 Q1780.56 127.892 1783.64 127.892 Q1784.08 127.892 1784.62 127.961 Q1785.15 128.007 1785.8 128.123 L1785.82 132.498 Z\" fill=\"#000000\" fill-rule=\"nonzero\" fill-opacity=\"1\" /><path clip-path=\"url(#clip700)\" d=\"M1802.07 141.41 Q1796.91 141.41 1794.92 142.59 Q1792.93 143.771 1792.93 146.618 Q1792.93 148.887 1794.41 150.229 Q1795.91 151.549 1798.48 151.549 Q1802.02 151.549 1804.15 149.049 Q1806.31 146.526 1806.31 142.359 L1806.31 141.41 L1802.07 141.41 M1810.56 139.651 L1810.56 154.442 L1806.31 154.442 L1806.31 150.507 Q1804.85 152.868 1802.67 154.002 Q1800.5 155.114 1797.35 155.114 Q1793.37 155.114 1791 152.891 Q1788.67 150.646 1788.67 146.896 Q1788.67 142.521 1791.58 140.299 Q1794.52 138.077 1800.33 138.077 L1806.31 138.077 L1806.31 137.66 Q1806.31 134.72 1804.36 133.123 Q1802.44 131.503 1798.94 131.503 Q1796.72 131.503 1794.62 132.035 Q1792.51 132.567 1790.56 133.632 L1790.56 129.697 Q1792.9 128.794 1795.1 128.354 Q1797.3 127.892 1799.38 127.892 Q1805.01 127.892 1807.79 130.808 Q1810.56 133.725 1810.56 139.651 Z\" fill=\"#000000\" fill-rule=\"nonzero\" fill-opacity=\"1\" /><path clip-path=\"url(#clip700)\" d=\"M1819.34 128.517 L1823.6 128.517 L1823.6 154.442 L1819.34 154.442 L1819.34 128.517 M1819.34 118.424 L1823.6 118.424 L1823.6 123.817 L1819.34 123.817 L1819.34 118.424 Z\" fill=\"#000000\" fill-rule=\"nonzero\" fill-opacity=\"1\" /><path clip-path=\"url(#clip700)\" d=\"M1854.06 138.794 L1854.06 154.442 L1849.8 154.442 L1849.8 138.933 Q1849.8 135.253 1848.37 133.424 Q1846.93 131.595 1844.06 131.595 Q1840.61 131.595 1838.62 133.794 Q1836.63 135.993 1836.63 139.79 L1836.63 154.442 L1832.35 154.442 L1832.35 128.517 L1836.63 128.517 L1836.63 132.544 Q1838.16 130.206 1840.22 129.049 Q1842.3 127.892 1845.01 127.892 Q1849.48 127.892 1851.77 130.669 Q1854.06 133.424 1854.06 138.794 Z\" fill=\"#000000\" fill-rule=\"nonzero\" fill-opacity=\"1\" /><path clip-path=\"url(#clip700)\" d=\"M1866.77 121.155 L1866.77 128.517 L1875.54 128.517 L1875.54 131.827 L1866.77 131.827 L1866.77 145.901 Q1866.77 149.072 1867.62 149.975 Q1868.5 150.877 1871.17 150.877 L1875.54 150.877 L1875.54 154.442 L1871.17 154.442 Q1866.24 154.442 1864.36 152.614 Q1862.49 150.762 1862.49 145.901 L1862.49 131.827 L1859.36 131.827 L1859.36 128.517 L1862.49 128.517 L1862.49 121.155 L1866.77 121.155 Z\" fill=\"#000000\" fill-rule=\"nonzero\" fill-opacity=\"1\" /><polyline clip-path=\"url(#clip700)\" style=\"stroke:#000000; stroke-linecap:round; stroke-linejoin:round; stroke-width:6; stroke-opacity:1; fill:none\" stroke-dasharray=\"3, 6\" points=\"1250.69,190.052 1366.51,190.052 \"/>\n",
       "<path clip-path=\"url(#clip700)\" d=\"M1404.24 182.17 L1404.24 186.198 Q1402.43 185.272 1400.49 184.809 Q1398.54 184.346 1396.46 184.346 Q1393.29 184.346 1391.69 185.318 Q1390.12 186.29 1390.12 188.235 Q1390.12 189.716 1391.25 190.573 Q1392.39 191.406 1395.81 192.17 L1397.27 192.494 Q1401.81 193.466 1403.71 195.249 Q1405.63 197.008 1405.63 200.179 Q1405.63 203.79 1402.76 205.897 Q1399.91 208.003 1394.91 208.003 Q1392.83 208.003 1390.56 207.586 Q1388.31 207.193 1385.81 206.383 L1385.81 201.985 Q1388.17 203.211 1390.46 203.836 Q1392.76 204.438 1395 204.438 Q1398.01 204.438 1399.63 203.42 Q1401.25 202.378 1401.25 200.503 Q1401.25 198.767 1400.07 197.841 Q1398.91 196.915 1394.96 196.059 L1393.47 195.712 Q1389.52 194.878 1387.76 193.165 Q1386 191.429 1386 188.42 Q1386 184.762 1388.59 182.772 Q1391.18 180.781 1395.95 180.781 Q1398.31 180.781 1400.4 181.128 Q1402.48 181.475 1404.24 182.17 Z\" fill=\"#000000\" fill-rule=\"nonzero\" fill-opacity=\"1\" /><path clip-path=\"url(#clip700)\" d=\"M1416.62 174.045 L1416.62 181.406 L1425.39 181.406 L1425.39 184.716 L1416.62 184.716 L1416.62 198.79 Q1416.62 201.961 1417.48 202.864 Q1418.36 203.767 1421.02 203.767 L1425.39 203.767 L1425.39 207.332 L1421.02 207.332 Q1416.09 207.332 1414.21 205.503 Q1412.34 203.651 1412.34 198.79 L1412.34 184.716 L1409.21 184.716 L1409.21 181.406 L1412.34 181.406 L1412.34 174.045 L1416.62 174.045 Z\" fill=\"#000000\" fill-rule=\"nonzero\" fill-opacity=\"1\" /><path clip-path=\"url(#clip700)\" d=\"M1442.78 194.299 Q1437.62 194.299 1435.63 195.48 Q1433.64 196.661 1433.64 199.508 Q1433.64 201.776 1435.12 203.119 Q1436.62 204.438 1439.19 204.438 Q1442.73 204.438 1444.86 201.938 Q1447.02 199.415 1447.02 195.249 L1447.02 194.299 L1442.78 194.299 M1451.27 192.54 L1451.27 207.332 L1447.02 207.332 L1447.02 203.397 Q1445.56 205.758 1443.38 206.892 Q1441.21 208.003 1438.06 208.003 Q1434.08 208.003 1431.71 205.781 Q1429.38 203.536 1429.38 199.786 Q1429.38 195.411 1432.29 193.188 Q1435.23 190.966 1441.04 190.966 L1447.02 190.966 L1447.02 190.55 Q1447.02 187.61 1445.07 186.012 Q1443.15 184.392 1439.65 184.392 Q1437.43 184.392 1435.33 184.925 Q1433.22 185.457 1431.27 186.522 L1431.27 182.587 Q1433.61 181.684 1435.81 181.244 Q1438.01 180.781 1440.09 180.781 Q1445.72 180.781 1448.5 183.698 Q1451.27 186.614 1451.27 192.54 Z\" fill=\"#000000\" fill-rule=\"nonzero\" fill-opacity=\"1\" /><path clip-path=\"url(#clip700)\" d=\"M1481.6 191.684 L1481.6 207.332 L1477.34 207.332 L1477.34 191.823 Q1477.34 188.142 1475.9 186.313 Q1474.47 184.485 1471.6 184.485 Q1468.15 184.485 1466.16 186.684 Q1464.17 188.883 1464.17 192.679 L1464.17 207.332 L1459.89 207.332 L1459.89 181.406 L1464.17 181.406 L1464.17 185.434 Q1465.7 183.096 1467.76 181.938 Q1469.84 180.781 1472.55 180.781 Q1477.02 180.781 1479.31 183.559 Q1481.6 186.313 1481.6 191.684 Z\" fill=\"#000000\" fill-rule=\"nonzero\" fill-opacity=\"1\" /><path clip-path=\"url(#clip700)\" d=\"M1507.15 185.341 L1507.15 171.313 L1511.41 171.313 L1511.41 207.332 L1507.15 207.332 L1507.15 203.443 Q1505.81 205.758 1503.75 206.892 Q1501.71 208.003 1498.84 208.003 Q1494.14 208.003 1491.18 204.253 Q1488.24 200.503 1488.24 194.392 Q1488.24 188.281 1491.18 184.531 Q1494.14 180.781 1498.84 180.781 Q1501.71 180.781 1503.75 181.915 Q1505.81 183.026 1507.15 185.341 M1492.64 194.392 Q1492.64 199.091 1494.56 201.776 Q1496.51 204.438 1499.89 204.438 Q1503.26 204.438 1505.21 201.776 Q1507.15 199.091 1507.15 194.392 Q1507.15 189.693 1505.21 187.031 Q1503.26 184.346 1499.89 184.346 Q1496.51 184.346 1494.56 187.031 Q1492.64 189.693 1492.64 194.392 Z\" fill=\"#000000\" fill-rule=\"nonzero\" fill-opacity=\"1\" /><path clip-path=\"url(#clip700)\" d=\"M1531.97 194.299 Q1526.81 194.299 1524.82 195.48 Q1522.83 196.661 1522.83 199.508 Q1522.83 201.776 1524.31 203.119 Q1525.81 204.438 1528.38 204.438 Q1531.92 204.438 1534.05 201.938 Q1536.2 199.415 1536.2 195.249 L1536.2 194.299 L1531.97 194.299 M1540.46 192.54 L1540.46 207.332 L1536.2 207.332 L1536.2 203.397 Q1534.75 205.758 1532.57 206.892 Q1530.39 208.003 1527.25 208.003 Q1523.26 208.003 1520.9 205.781 Q1518.57 203.536 1518.57 199.786 Q1518.57 195.411 1521.48 193.188 Q1524.42 190.966 1530.23 190.966 L1536.2 190.966 L1536.2 190.55 Q1536.2 187.61 1534.26 186.012 Q1532.34 184.392 1528.84 184.392 Q1526.62 184.392 1524.51 184.925 Q1522.41 185.457 1520.46 186.522 L1520.46 182.587 Q1522.8 181.684 1525 181.244 Q1527.2 180.781 1529.28 180.781 Q1534.91 180.781 1537.69 183.698 Q1540.46 186.614 1540.46 192.54 Z\" fill=\"#000000\" fill-rule=\"nonzero\" fill-opacity=\"1\" /><path clip-path=\"url(#clip700)\" d=\"M1564.26 185.387 Q1563.54 184.971 1562.69 184.786 Q1561.85 184.577 1560.83 184.577 Q1557.22 184.577 1555.28 186.938 Q1553.36 189.276 1553.36 193.674 L1553.36 207.332 L1549.07 207.332 L1549.07 181.406 L1553.36 181.406 L1553.36 185.434 Q1554.7 183.073 1556.85 181.938 Q1559.01 180.781 1562.08 180.781 Q1562.52 180.781 1563.06 180.85 Q1563.59 180.897 1564.24 181.013 L1564.26 185.387 Z\" fill=\"#000000\" fill-rule=\"nonzero\" fill-opacity=\"1\" /><path clip-path=\"url(#clip700)\" d=\"M1584.95 185.341 L1584.95 171.313 L1589.21 171.313 L1589.21 207.332 L1584.95 207.332 L1584.95 203.443 Q1583.61 205.758 1581.55 206.892 Q1579.51 208.003 1576.64 208.003 Q1571.95 208.003 1568.98 204.253 Q1566.04 200.503 1566.04 194.392 Q1566.04 188.281 1568.98 184.531 Q1571.95 180.781 1576.64 180.781 Q1579.51 180.781 1581.55 181.915 Q1583.61 183.026 1584.95 185.341 M1570.44 194.392 Q1570.44 199.091 1572.36 201.776 Q1574.31 204.438 1577.69 204.438 Q1581.07 204.438 1583.01 201.776 Q1584.95 199.091 1584.95 194.392 Q1584.95 189.693 1583.01 187.031 Q1581.07 184.346 1577.69 184.346 Q1574.31 184.346 1572.36 187.031 Q1570.44 189.693 1570.44 194.392 Z\" fill=\"#000000\" fill-rule=\"nonzero\" fill-opacity=\"1\" /></svg>\n"
      ],
      "text/html": [
       "<?xml version=\"1.0\" encoding=\"utf-8\"?>\n",
       "<svg xmlns=\"http://www.w3.org/2000/svg\" xmlns:xlink=\"http://www.w3.org/1999/xlink\" width=\"500\" height=\"350\" viewBox=\"0 0 2000 1400\">\n",
       "<defs>\n",
       "  <clipPath id=\"clip750\">\n",
       "    <rect x=\"0\" y=\"0\" width=\"2000\" height=\"1400\"/>\n",
       "  </clipPath>\n",
       "</defs>\n",
       "<path clip-path=\"url(#clip750)\" d=\"M0 1400 L2000 1400 L2000 0 L0 0  Z\" fill=\"#ffffff\" fill-rule=\"evenodd\" fill-opacity=\"1\"/>\n",
       "<defs>\n",
       "  <clipPath id=\"clip751\">\n",
       "    <rect x=\"400\" y=\"0\" width=\"1401\" height=\"1400\"/>\n",
       "  </clipPath>\n",
       "</defs>\n",
       "<defs>\n",
       "  <clipPath id=\"clip752\">\n",
       "    <rect x=\"215\" y=\"47\" width=\"1738\" height=\"1175\"/>\n",
       "  </clipPath>\n",
       "</defs>\n",
       "<path clip-path=\"url(#clip750)\" d=\"M215.42 1221.08 L1952.76 1221.08 L1952.76 47.2441 L215.42 47.2441  Z\" fill=\"#ffffff\" fill-rule=\"evenodd\" fill-opacity=\"1\"/>\n",
       "<polyline clip-path=\"url(#clip752)\" style=\"stroke:#000000; stroke-linecap:round; stroke-linejoin:round; stroke-width:2; stroke-opacity:0.1; fill:none\" points=\"215.42,1221.08 215.42,47.2441 \"/>\n",
       "<polyline clip-path=\"url(#clip752)\" style=\"stroke:#000000; stroke-linecap:round; stroke-linejoin:round; stroke-width:2; stroke-opacity:0.1; fill:none\" points=\"647.593,1221.08 647.593,47.2441 \"/>\n",
       "<polyline clip-path=\"url(#clip752)\" style=\"stroke:#000000; stroke-linecap:round; stroke-linejoin:round; stroke-width:2; stroke-opacity:0.1; fill:none\" points=\"1079.77,1221.08 1079.77,47.2441 \"/>\n",
       "<polyline clip-path=\"url(#clip752)\" style=\"stroke:#000000; stroke-linecap:round; stroke-linejoin:round; stroke-width:2; stroke-opacity:0.1; fill:none\" points=\"1511.94,1221.08 1511.94,47.2441 \"/>\n",
       "<polyline clip-path=\"url(#clip752)\" style=\"stroke:#000000; stroke-linecap:round; stroke-linejoin:round; stroke-width:2; stroke-opacity:0.1; fill:none\" points=\"1944.11,1221.08 1944.11,47.2441 \"/>\n",
       "<polyline clip-path=\"url(#clip750)\" style=\"stroke:#000000; stroke-linecap:round; stroke-linejoin:round; stroke-width:4; stroke-opacity:1; fill:none\" points=\"215.42,1221.08 1952.76,1221.08 \"/>\n",
       "<polyline clip-path=\"url(#clip750)\" style=\"stroke:#000000; stroke-linecap:round; stroke-linejoin:round; stroke-width:4; stroke-opacity:1; fill:none\" points=\"215.42,1221.08 215.42,1202.18 \"/>\n",
       "<polyline clip-path=\"url(#clip750)\" style=\"stroke:#000000; stroke-linecap:round; stroke-linejoin:round; stroke-width:4; stroke-opacity:1; fill:none\" points=\"647.593,1221.08 647.593,1202.18 \"/>\n",
       "<polyline clip-path=\"url(#clip750)\" style=\"stroke:#000000; stroke-linecap:round; stroke-linejoin:round; stroke-width:4; stroke-opacity:1; fill:none\" points=\"1079.77,1221.08 1079.77,1202.18 \"/>\n",
       "<polyline clip-path=\"url(#clip750)\" style=\"stroke:#000000; stroke-linecap:round; stroke-linejoin:round; stroke-width:4; stroke-opacity:1; fill:none\" points=\"1511.94,1221.08 1511.94,1202.18 \"/>\n",
       "<polyline clip-path=\"url(#clip750)\" style=\"stroke:#000000; stroke-linecap:round; stroke-linejoin:round; stroke-width:4; stroke-opacity:1; fill:none\" points=\"1944.11,1221.08 1944.11,1202.18 \"/>\n",
       "<path clip-path=\"url(#clip750)\" d=\"M215.42 1248.79 Q211.809 1248.79 209.98 1252.36 Q208.175 1255.9 208.175 1263.03 Q208.175 1270.14 209.98 1273.7 Q211.809 1277.24 215.42 1277.24 Q219.054 1277.24 220.86 1273.7 Q222.688 1270.14 222.688 1263.03 Q222.688 1255.9 220.86 1252.36 Q219.054 1248.79 215.42 1248.79 M215.42 1245.09 Q221.23 1245.09 224.286 1249.7 Q227.364 1254.28 227.364 1263.03 Q227.364 1271.76 224.286 1276.36 Q221.23 1280.95 215.42 1280.95 Q209.61 1280.95 206.531 1276.36 Q203.475 1271.76 203.475 1263.03 Q203.475 1254.28 206.531 1249.7 Q209.61 1245.09 215.42 1245.09 Z\" fill=\"#000000\" fill-rule=\"nonzero\" fill-opacity=\"1\" /><path clip-path=\"url(#clip750)\" d=\"M622.292 1245.72 L640.649 1245.72 L640.649 1249.65 L626.575 1249.65 L626.575 1258.12 Q627.593 1257.78 628.612 1257.61 Q629.63 1257.43 630.649 1257.43 Q636.436 1257.43 639.815 1260.6 Q643.195 1263.77 643.195 1269.19 Q643.195 1274.77 639.723 1277.87 Q636.25 1280.95 629.931 1280.95 Q627.755 1280.95 625.487 1280.58 Q623.241 1280.21 620.834 1279.47 L620.834 1274.77 Q622.917 1275.9 625.139 1276.46 Q627.362 1277.01 629.838 1277.01 Q633.843 1277.01 636.181 1274.91 Q638.519 1272.8 638.519 1269.19 Q638.519 1265.58 636.181 1263.47 Q633.843 1261.36 629.838 1261.36 Q627.963 1261.36 626.088 1261.78 Q624.237 1262.2 622.292 1263.08 L622.292 1245.72 Z\" fill=\"#000000\" fill-rule=\"nonzero\" fill-opacity=\"1\" /><path clip-path=\"url(#clip750)\" d=\"M662.408 1248.79 Q658.797 1248.79 656.968 1252.36 Q655.162 1255.9 655.162 1263.03 Q655.162 1270.14 656.968 1273.7 Q658.797 1277.24 662.408 1277.24 Q666.042 1277.24 667.848 1273.7 Q669.676 1270.14 669.676 1263.03 Q669.676 1255.9 667.848 1252.36 Q666.042 1248.79 662.408 1248.79 M662.408 1245.09 Q668.218 1245.09 671.273 1249.7 Q674.352 1254.28 674.352 1263.03 Q674.352 1271.76 671.273 1276.36 Q668.218 1280.95 662.408 1280.95 Q656.598 1280.95 653.519 1276.36 Q650.463 1271.76 650.463 1263.03 Q650.463 1254.28 653.519 1249.7 Q656.598 1245.09 662.408 1245.09 Z\" fill=\"#000000\" fill-rule=\"nonzero\" fill-opacity=\"1\" /><path clip-path=\"url(#clip750)\" d=\"M1039.37 1276.34 L1047.01 1276.34 L1047.01 1249.98 L1038.7 1251.64 L1038.7 1247.38 L1046.97 1245.72 L1051.64 1245.72 L1051.64 1276.34 L1059.28 1276.34 L1059.28 1280.28 L1039.37 1280.28 L1039.37 1276.34 Z\" fill=\"#000000\" fill-rule=\"nonzero\" fill-opacity=\"1\" /><path clip-path=\"url(#clip750)\" d=\"M1078.72 1248.79 Q1075.11 1248.79 1073.28 1252.36 Q1071.48 1255.9 1071.48 1263.03 Q1071.48 1270.14 1073.28 1273.7 Q1075.11 1277.24 1078.72 1277.24 Q1082.36 1277.24 1084.16 1273.7 Q1085.99 1270.14 1085.99 1263.03 Q1085.99 1255.9 1084.16 1252.36 Q1082.36 1248.79 1078.72 1248.79 M1078.72 1245.09 Q1084.53 1245.09 1087.59 1249.7 Q1090.67 1254.28 1090.67 1263.03 Q1090.67 1271.76 1087.59 1276.36 Q1084.53 1280.95 1078.72 1280.95 Q1072.91 1280.95 1069.84 1276.36 Q1066.78 1271.76 1066.78 1263.03 Q1066.78 1254.28 1069.84 1249.7 Q1072.91 1245.09 1078.72 1245.09 Z\" fill=\"#000000\" fill-rule=\"nonzero\" fill-opacity=\"1\" /><path clip-path=\"url(#clip750)\" d=\"M1108.89 1248.79 Q1105.28 1248.79 1103.45 1252.36 Q1101.64 1255.9 1101.64 1263.03 Q1101.64 1270.14 1103.45 1273.7 Q1105.28 1277.24 1108.89 1277.24 Q1112.52 1277.24 1114.33 1273.7 Q1116.15 1270.14 1116.15 1263.03 Q1116.15 1255.9 1114.33 1252.36 Q1112.52 1248.79 1108.89 1248.79 M1108.89 1245.09 Q1114.7 1245.09 1117.75 1249.7 Q1120.83 1254.28 1120.83 1263.03 Q1120.83 1271.76 1117.75 1276.36 Q1114.7 1280.95 1108.89 1280.95 Q1103.08 1280.95 1100 1276.36 Q1096.94 1271.76 1096.94 1263.03 Q1096.94 1254.28 1100 1249.7 Q1103.08 1245.09 1108.89 1245.09 Z\" fill=\"#000000\" fill-rule=\"nonzero\" fill-opacity=\"1\" /><path clip-path=\"url(#clip750)\" d=\"M1471.55 1276.34 L1479.18 1276.34 L1479.18 1249.98 L1470.87 1251.64 L1470.87 1247.38 L1479.14 1245.72 L1483.81 1245.72 L1483.81 1276.34 L1491.45 1276.34 L1491.45 1280.28 L1471.55 1280.28 L1471.55 1276.34 Z\" fill=\"#000000\" fill-rule=\"nonzero\" fill-opacity=\"1\" /><path clip-path=\"url(#clip750)\" d=\"M1500.94 1245.72 L1519.3 1245.72 L1519.3 1249.65 L1505.23 1249.65 L1505.23 1258.12 Q1506.24 1257.78 1507.26 1257.61 Q1508.28 1257.43 1509.3 1257.43 Q1515.09 1257.43 1518.47 1260.6 Q1521.85 1263.77 1521.85 1269.19 Q1521.85 1274.77 1518.37 1277.87 Q1514.9 1280.95 1508.58 1280.95 Q1506.41 1280.95 1504.14 1280.58 Q1501.89 1280.21 1499.49 1279.47 L1499.49 1274.77 Q1501.57 1275.9 1503.79 1276.46 Q1506.01 1277.01 1508.49 1277.01 Q1512.49 1277.01 1514.83 1274.91 Q1517.17 1272.8 1517.17 1269.19 Q1517.17 1265.58 1514.83 1263.47 Q1512.49 1261.36 1508.49 1261.36 Q1506.62 1261.36 1504.74 1261.78 Q1502.89 1262.2 1500.94 1263.08 L1500.94 1245.72 Z\" fill=\"#000000\" fill-rule=\"nonzero\" fill-opacity=\"1\" /><path clip-path=\"url(#clip750)\" d=\"M1541.06 1248.79 Q1537.45 1248.79 1535.62 1252.36 Q1533.81 1255.9 1533.81 1263.03 Q1533.81 1270.14 1535.62 1273.7 Q1537.45 1277.24 1541.06 1277.24 Q1544.69 1277.24 1546.5 1273.7 Q1548.33 1270.14 1548.33 1263.03 Q1548.33 1255.9 1546.5 1252.36 Q1544.69 1248.79 1541.06 1248.79 M1541.06 1245.09 Q1546.87 1245.09 1549.93 1249.7 Q1553 1254.28 1553 1263.03 Q1553 1271.76 1549.93 1276.36 Q1546.87 1280.95 1541.06 1280.95 Q1535.25 1280.95 1532.17 1276.36 Q1529.12 1271.76 1529.12 1263.03 Q1529.12 1254.28 1532.17 1249.7 Q1535.25 1245.09 1541.06 1245.09 Z\" fill=\"#000000\" fill-rule=\"nonzero\" fill-opacity=\"1\" /><path clip-path=\"url(#clip750)\" d=\"M1907.8 1276.34 L1924.12 1276.34 L1924.12 1280.28 L1902.18 1280.28 L1902.18 1276.34 Q1904.84 1273.59 1909.43 1268.96 Q1914.03 1264.3 1915.21 1262.96 Q1917.46 1260.44 1918.34 1258.7 Q1919.24 1256.94 1919.24 1255.25 Q1919.24 1252.5 1917.3 1250.76 Q1915.37 1249.03 1912.27 1249.03 Q1910.07 1249.03 1907.62 1249.79 Q1905.19 1250.55 1902.41 1252.1 L1902.41 1247.38 Q1905.24 1246.25 1907.69 1245.67 Q1910.14 1245.09 1912.18 1245.09 Q1917.55 1245.09 1920.74 1247.78 Q1923.94 1250.46 1923.94 1254.95 Q1923.94 1257.08 1923.13 1259 Q1922.34 1260.9 1920.24 1263.49 Q1919.66 1264.16 1916.55 1267.38 Q1913.45 1270.58 1907.8 1276.34 Z\" fill=\"#000000\" fill-rule=\"nonzero\" fill-opacity=\"1\" /><path clip-path=\"url(#clip750)\" d=\"M1943.94 1248.79 Q1940.33 1248.79 1938.5 1252.36 Q1936.69 1255.9 1936.69 1263.03 Q1936.69 1270.14 1938.5 1273.7 Q1940.33 1277.24 1943.94 1277.24 Q1947.57 1277.24 1949.38 1273.7 Q1951.21 1270.14 1951.21 1263.03 Q1951.21 1255.9 1949.38 1252.36 Q1947.57 1248.79 1943.94 1248.79 M1943.94 1245.09 Q1949.75 1245.09 1952.8 1249.7 Q1955.88 1254.28 1955.88 1263.03 Q1955.88 1271.76 1952.8 1276.36 Q1949.75 1280.95 1943.94 1280.95 Q1938.13 1280.95 1935.05 1276.36 Q1931.99 1271.76 1931.99 1263.03 Q1931.99 1254.28 1935.05 1249.7 Q1938.13 1245.09 1943.94 1245.09 Z\" fill=\"#000000\" fill-rule=\"nonzero\" fill-opacity=\"1\" /><path clip-path=\"url(#clip750)\" d=\"M1974.1 1248.79 Q1970.49 1248.79 1968.66 1252.36 Q1966.86 1255.9 1966.86 1263.03 Q1966.86 1270.14 1968.66 1273.7 Q1970.49 1277.24 1974.1 1277.24 Q1977.73 1277.24 1979.54 1273.7 Q1981.37 1270.14 1981.37 1263.03 Q1981.37 1255.9 1979.54 1252.36 Q1977.73 1248.79 1974.1 1248.79 M1974.1 1245.09 Q1979.91 1245.09 1982.97 1249.7 Q1986.05 1254.28 1986.05 1263.03 Q1986.05 1271.76 1982.97 1276.36 Q1979.91 1280.95 1974.1 1280.95 Q1968.29 1280.95 1965.21 1276.36 Q1962.16 1271.76 1962.16 1263.03 Q1962.16 1254.28 1965.21 1249.7 Q1968.29 1245.09 1974.1 1245.09 Z\" fill=\"#000000\" fill-rule=\"nonzero\" fill-opacity=\"1\" /><path clip-path=\"url(#clip750)\" d=\"M951.808 1312.42 L958.238 1312.42 L958.238 1359.94 L951.808 1359.94 L951.808 1312.42 Z\" fill=\"#000000\" fill-rule=\"nonzero\" fill-opacity=\"1\" /><path clip-path=\"url(#clip750)\" d=\"M976.571 1314.17 L976.571 1324.29 L988.634 1324.29 L988.634 1328.84 L976.571 1328.84 L976.571 1348.2 Q976.571 1352.56 977.749 1353.8 Q978.958 1355.04 982.619 1355.04 L988.634 1355.04 L988.634 1359.94 L982.619 1359.94 Q975.839 1359.94 973.261 1357.43 Q970.683 1354.88 970.683 1348.2 L970.683 1328.84 L966.386 1328.84 L966.386 1324.29 L970.683 1324.29 L970.683 1314.17 L976.571 1314.17 Z\" fill=\"#000000\" fill-rule=\"nonzero\" fill-opacity=\"1\" /><path clip-path=\"url(#clip750)\" d=\"M1026.83 1340.65 L1026.83 1343.52 L999.901 1343.52 Q1000.28 1349.56 1003.53 1352.75 Q1006.81 1355.9 1012.63 1355.9 Q1016.01 1355.9 1019.16 1355.07 Q1022.34 1354.24 1025.46 1352.59 L1025.46 1358.13 Q1022.31 1359.46 1019 1360.16 Q1015.69 1360.86 1012.28 1360.86 Q1003.75 1360.86 998.756 1355.9 Q993.79 1350.93 993.79 1342.47 Q993.79 1333.71 998.501 1328.59 Q1003.24 1323.43 1011.26 1323.43 Q1018.46 1323.43 1022.63 1328.08 Q1026.83 1332.69 1026.83 1340.65 M1020.97 1338.93 Q1020.91 1334.13 1018.27 1331.26 Q1015.66 1328.4 1011.33 1328.4 Q1006.43 1328.4 1003.47 1331.17 Q1000.54 1333.94 1000.09 1338.96 L1020.97 1338.93 Z\" fill=\"#000000\" fill-rule=\"nonzero\" fill-opacity=\"1\" /><path clip-path=\"url(#clip750)\" d=\"M1057.1 1329.77 Q1056.11 1329.19 1054.93 1328.94 Q1053.79 1328.65 1052.39 1328.65 Q1047.42 1328.65 1044.75 1331.9 Q1042.11 1335.11 1042.11 1341.16 L1042.11 1359.94 L1036.22 1359.94 L1036.22 1324.29 L1042.11 1324.29 L1042.11 1329.83 Q1043.95 1326.58 1046.91 1325.02 Q1049.87 1323.43 1054.11 1323.43 Q1054.71 1323.43 1055.44 1323.53 Q1056.17 1323.59 1057.07 1323.75 L1057.1 1329.77 Z\" fill=\"#000000\" fill-rule=\"nonzero\" fill-opacity=\"1\" /><path clip-path=\"url(#clip750)\" d=\"M1079.44 1342.02 Q1072.34 1342.02 1069.61 1343.64 Q1066.87 1345.27 1066.87 1349.18 Q1066.87 1352.3 1068.91 1354.15 Q1070.97 1355.96 1074.51 1355.96 Q1079.38 1355.96 1082.31 1352.52 Q1085.27 1349.05 1085.27 1343.33 L1085.27 1342.02 L1079.44 1342.02 M1091.12 1339.6 L1091.12 1359.94 L1085.27 1359.94 L1085.27 1354.53 Q1083.26 1357.78 1080.27 1359.34 Q1077.28 1360.86 1072.95 1360.86 Q1067.47 1360.86 1064.23 1357.81 Q1061.01 1354.72 1061.01 1349.56 Q1061.01 1343.55 1065.02 1340.49 Q1069.06 1337.44 1077.05 1337.44 L1085.27 1337.44 L1085.27 1336.86 Q1085.27 1332.82 1082.59 1330.63 Q1079.95 1328.4 1075.14 1328.4 Q1072.09 1328.4 1069.19 1329.13 Q1066.3 1329.86 1063.62 1331.33 L1063.62 1325.92 Q1066.84 1324.67 1069.86 1324.07 Q1072.88 1323.43 1075.75 1323.43 Q1083.48 1323.43 1087.3 1327.44 Q1091.12 1331.45 1091.12 1339.6 Z\" fill=\"#000000\" fill-rule=\"nonzero\" fill-opacity=\"1\" /><path clip-path=\"url(#clip750)\" d=\"M1108.98 1314.17 L1108.98 1324.29 L1121.04 1324.29 L1121.04 1328.84 L1108.98 1328.84 L1108.98 1348.2 Q1108.98 1352.56 1110.16 1353.8 Q1111.36 1355.04 1115.03 1355.04 L1121.04 1355.04 L1121.04 1359.94 L1115.03 1359.94 Q1108.25 1359.94 1105.67 1357.43 Q1103.09 1354.88 1103.09 1348.2 L1103.09 1328.84 L1098.79 1328.84 L1098.79 1324.29 L1103.09 1324.29 L1103.09 1314.17 L1108.98 1314.17 Z\" fill=\"#000000\" fill-rule=\"nonzero\" fill-opacity=\"1\" /><path clip-path=\"url(#clip750)\" d=\"M1128.74 1324.29 L1134.6 1324.29 L1134.6 1359.94 L1128.74 1359.94 L1128.74 1324.29 M1128.74 1310.41 L1134.6 1310.41 L1134.6 1317.83 L1128.74 1317.83 L1128.74 1310.41 Z\" fill=\"#000000\" fill-rule=\"nonzero\" fill-opacity=\"1\" /><path clip-path=\"url(#clip750)\" d=\"M1160.67 1328.4 Q1155.96 1328.4 1153.22 1332.09 Q1150.48 1335.75 1150.48 1342.15 Q1150.48 1348.55 1153.19 1352.24 Q1155.92 1355.9 1160.67 1355.9 Q1165.35 1355.9 1168.08 1352.21 Q1170.82 1348.51 1170.82 1342.15 Q1170.82 1335.81 1168.08 1332.12 Q1165.35 1328.4 1160.67 1328.4 M1160.67 1323.43 Q1168.31 1323.43 1172.67 1328.4 Q1177.03 1333.36 1177.03 1342.15 Q1177.03 1350.9 1172.67 1355.9 Q1168.31 1360.86 1160.67 1360.86 Q1153 1360.86 1148.64 1355.9 Q1144.31 1350.9 1144.31 1342.15 Q1144.31 1333.36 1148.64 1328.4 Q1153 1323.43 1160.67 1323.43 Z\" fill=\"#000000\" fill-rule=\"nonzero\" fill-opacity=\"1\" /><path clip-path=\"url(#clip750)\" d=\"M1216.37 1338.42 L1216.37 1359.94 L1210.51 1359.94 L1210.51 1338.61 Q1210.51 1333.55 1208.54 1331.04 Q1206.56 1328.53 1202.62 1328.53 Q1197.87 1328.53 1195.14 1331.55 Q1192.4 1334.57 1192.4 1339.79 L1192.4 1359.94 L1186.51 1359.94 L1186.51 1324.29 L1192.4 1324.29 L1192.4 1329.83 Q1194.5 1326.62 1197.33 1325.02 Q1200.2 1323.43 1203.92 1323.43 Q1210.07 1323.43 1213.22 1327.25 Q1216.37 1331.04 1216.37 1338.42 Z\" fill=\"#000000\" fill-rule=\"nonzero\" fill-opacity=\"1\" /><polyline clip-path=\"url(#clip752)\" style=\"stroke:#000000; stroke-linecap:round; stroke-linejoin:round; stroke-width:2; stroke-opacity:0.1; fill:none\" points=\"215.42,1103.69 1952.76,1103.69 \"/>\n",
       "<polyline clip-path=\"url(#clip752)\" style=\"stroke:#000000; stroke-linecap:round; stroke-linejoin:round; stroke-width:2; stroke-opacity:0.1; fill:none\" points=\"215.42,868.926 1952.76,868.926 \"/>\n",
       "<polyline clip-path=\"url(#clip752)\" style=\"stroke:#000000; stroke-linecap:round; stroke-linejoin:round; stroke-width:2; stroke-opacity:0.1; fill:none\" points=\"215.42,634.16 1952.76,634.16 \"/>\n",
       "<polyline clip-path=\"url(#clip752)\" style=\"stroke:#000000; stroke-linecap:round; stroke-linejoin:round; stroke-width:2; stroke-opacity:0.1; fill:none\" points=\"215.42,399.394 1952.76,399.394 \"/>\n",
       "<polyline clip-path=\"url(#clip752)\" style=\"stroke:#000000; stroke-linecap:round; stroke-linejoin:round; stroke-width:2; stroke-opacity:0.1; fill:none\" points=\"215.42,164.627 1952.76,164.627 \"/>\n",
       "<polyline clip-path=\"url(#clip750)\" style=\"stroke:#000000; stroke-linecap:round; stroke-linejoin:round; stroke-width:4; stroke-opacity:1; fill:none\" points=\"215.42,1221.08 215.42,47.2441 \"/>\n",
       "<polyline clip-path=\"url(#clip750)\" style=\"stroke:#000000; stroke-linecap:round; stroke-linejoin:round; stroke-width:4; stroke-opacity:1; fill:none\" points=\"215.42,1103.69 234.317,1103.69 \"/>\n",
       "<polyline clip-path=\"url(#clip750)\" style=\"stroke:#000000; stroke-linecap:round; stroke-linejoin:round; stroke-width:4; stroke-opacity:1; fill:none\" points=\"215.42,868.926 234.317,868.926 \"/>\n",
       "<polyline clip-path=\"url(#clip750)\" style=\"stroke:#000000; stroke-linecap:round; stroke-linejoin:round; stroke-width:4; stroke-opacity:1; fill:none\" points=\"215.42,634.16 234.317,634.16 \"/>\n",
       "<polyline clip-path=\"url(#clip750)\" style=\"stroke:#000000; stroke-linecap:round; stroke-linejoin:round; stroke-width:4; stroke-opacity:1; fill:none\" points=\"215.42,399.394 234.317,399.394 \"/>\n",
       "<polyline clip-path=\"url(#clip750)\" style=\"stroke:#000000; stroke-linecap:round; stroke-linejoin:round; stroke-width:4; stroke-opacity:1; fill:none\" points=\"215.42,164.627 234.317,164.627 \"/>\n",
       "<path clip-path=\"url(#clip750)\" d=\"M123.545 1104.14 L153.221 1104.14 L153.221 1108.08 L123.545 1108.08 L123.545 1104.14 Z\" fill=\"#000000\" fill-rule=\"nonzero\" fill-opacity=\"1\" /><path clip-path=\"url(#clip750)\" d=\"M173.892 1101.83 Q170.744 1101.83 168.892 1103.98 Q167.063 1106.13 167.063 1109.88 Q167.063 1113.61 168.892 1115.79 Q170.744 1117.94 173.892 1117.94 Q177.04 1117.94 178.869 1115.79 Q180.721 1113.61 180.721 1109.88 Q180.721 1106.13 178.869 1103.98 Q177.04 1101.83 173.892 1101.83 M183.175 1087.18 L183.175 1091.44 Q181.415 1090.6 179.61 1090.16 Q177.827 1089.72 176.068 1089.72 Q171.438 1089.72 168.985 1092.85 Q166.554 1095.97 166.207 1102.29 Q167.573 1100.28 169.633 1099.21 Q171.693 1098.13 174.17 1098.13 Q179.378 1098.13 182.387 1101.3 Q185.42 1104.44 185.42 1109.88 Q185.42 1115.21 182.272 1118.43 Q179.124 1121.64 173.892 1121.64 Q167.897 1121.64 164.726 1117.06 Q161.554 1112.45 161.554 1103.73 Q161.554 1095.53 165.443 1090.67 Q169.332 1085.79 175.883 1085.79 Q177.642 1085.79 179.425 1086.13 Q181.23 1086.48 183.175 1087.18 Z\" fill=\"#000000\" fill-rule=\"nonzero\" fill-opacity=\"1\" /><path clip-path=\"url(#clip750)\" d=\"M123.221 869.378 L152.897 869.378 L152.897 873.313 L123.221 873.313 L123.221 869.378 Z\" fill=\"#000000\" fill-rule=\"nonzero\" fill-opacity=\"1\" /><path clip-path=\"url(#clip750)\" d=\"M175.837 855.72 L164.031 874.169 L175.837 874.169 L175.837 855.72 M174.61 851.646 L180.489 851.646 L180.489 874.169 L185.42 874.169 L185.42 878.058 L180.489 878.058 L180.489 886.206 L175.837 886.206 L175.837 878.058 L160.235 878.058 L160.235 873.544 L174.61 851.646 Z\" fill=\"#000000\" fill-rule=\"nonzero\" fill-opacity=\"1\" /><path clip-path=\"url(#clip750)\" d=\"M125.304 634.611 L154.98 634.611 L154.98 638.547 L125.304 638.547 L125.304 634.611 Z\" fill=\"#000000\" fill-rule=\"nonzero\" fill-opacity=\"1\" /><path clip-path=\"url(#clip750)\" d=\"M169.101 647.505 L185.42 647.505 L185.42 651.44 L163.476 651.44 L163.476 647.505 Q166.138 644.75 170.721 640.121 Q175.327 635.468 176.508 634.125 Q178.753 631.602 179.633 629.866 Q180.536 628.107 180.536 626.417 Q180.536 623.662 178.591 621.926 Q176.67 620.19 173.568 620.19 Q171.369 620.19 168.915 620.954 Q166.485 621.718 163.707 623.269 L163.707 618.547 Q166.531 617.412 168.985 616.834 Q171.438 616.255 173.475 616.255 Q178.846 616.255 182.04 618.94 Q185.235 621.625 185.235 626.116 Q185.235 628.246 184.424 630.167 Q183.637 632.065 181.531 634.658 Q180.952 635.329 177.85 638.547 Q174.749 641.741 169.101 647.505 Z\" fill=\"#000000\" fill-rule=\"nonzero\" fill-opacity=\"1\" /><path clip-path=\"url(#clip750)\" d=\"M173.475 385.192 Q169.864 385.192 168.036 388.757 Q166.23 392.299 166.23 399.428 Q166.23 406.535 168.036 410.1 Q169.864 413.641 173.475 413.641 Q177.11 413.641 178.915 410.1 Q180.744 406.535 180.744 399.428 Q180.744 392.299 178.915 388.757 Q177.11 385.192 173.475 385.192 M173.475 381.489 Q179.286 381.489 182.341 386.095 Q185.42 390.678 185.42 399.428 Q185.42 408.155 182.341 412.762 Q179.286 417.345 173.475 417.345 Q167.665 417.345 164.587 412.762 Q161.531 408.155 161.531 399.428 Q161.531 390.678 164.587 386.095 Q167.665 381.489 173.475 381.489 Z\" fill=\"#000000\" fill-rule=\"nonzero\" fill-opacity=\"1\" /><path clip-path=\"url(#clip750)\" d=\"M169.101 177.972 L185.42 177.972 L185.42 181.907 L163.476 181.907 L163.476 177.972 Q166.138 175.217 170.721 170.588 Q175.327 165.935 176.508 164.593 Q178.753 162.069 179.633 160.333 Q180.536 158.574 180.536 156.884 Q180.536 154.13 178.591 152.394 Q176.67 150.657 173.568 150.657 Q171.369 150.657 168.915 151.421 Q166.485 152.185 163.707 153.736 L163.707 149.014 Q166.531 147.88 168.985 147.301 Q171.438 146.722 173.475 146.722 Q178.846 146.722 182.04 149.407 Q185.235 152.093 185.235 156.583 Q185.235 158.713 184.424 160.634 Q183.637 162.532 181.531 165.125 Q180.952 165.796 177.85 169.014 Q174.749 172.208 169.101 177.972 Z\" fill=\"#000000\" fill-rule=\"nonzero\" fill-opacity=\"1\" /><path clip-path=\"url(#clip750)\" d=\"M72.1065 852.648 L70.0775 852.648 Q70.0775 849.138 69.6588 848.332 Q69.2079 847.527 67.0823 847.527 L32.7831 847.527 Q30.3355 847.527 29.7235 848.397 Q29.1116 849.234 29.1116 852.648 L27.0505 852.648 L26.3419 843.179 L67.0823 843.179 Q69.2079 843.179 69.6588 842.342 Q70.0775 841.505 70.0775 838.026 L72.1065 838.026 Q72.1065 838.832 72.042 840.506 Q71.9776 842.181 71.9454 843.405 Q71.9132 844.629 71.9132 845.337 Q71.9132 846.11 72.1065 852.648 Z\" fill=\"#000000\" fill-rule=\"nonzero\" fill-opacity=\"1\" /><path clip-path=\"url(#clip750)\" d=\"M68.5638 828.102 Q64.2482 832.45 58.0003 832.45 Q51.7201 832.45 47.1469 828.199 Q42.5415 823.916 42.5415 817.797 Q42.5415 811.806 47.1147 807.523 Q51.6557 803.207 58.0003 803.207 Q64.216 803.207 68.5316 807.555 Q72.8472 811.871 72.8472 817.861 Q72.8472 823.722 68.5638 828.102 M57.4528 826.975 Q63.8618 826.975 66.7603 825.301 Q71.1725 822.724 71.1725 817.797 Q71.1725 815.349 69.852 813.32 Q68.5316 811.259 66.3094 810.132 Q63.4109 808.682 57.4528 808.682 Q51.1082 808.682 48.3063 810.421 Q44.0229 812.998 44.0229 817.861 Q44.0229 819.987 45.1502 822.08 Q46.2452 824.141 48.4352 825.397 Q51.3337 826.975 57.4528 826.975 Z\" fill=\"#000000\" fill-rule=\"nonzero\" fill-opacity=\"1\" /><path clip-path=\"url(#clip750)\" d=\"M77.3238 802.163 Q75.1982 802.163 73.3625 800.553 Q71.5268 798.911 70.7216 796.077 Q68.8859 798.975 64.8601 798.975 Q61.7684 798.975 59.3851 796.946 Q56.8087 800.038 52.5897 800.038 Q48.6928 800.038 45.8265 796.946 Q42.9602 793.854 42.9602 789.346 Q42.9602 785.384 45.3434 782.357 Q42.2516 779.201 42.2194 775.368 Q42.2194 773.661 43.2822 772.856 Q44.345 772.019 45.4722 772.019 Q46.4706 772.019 46.9537 772.663 Q47.4368 773.275 47.4368 773.919 Q47.4368 774.724 46.9215 775.304 Q46.374 775.851 45.5366 775.851 Q44.1518 775.851 43.7331 774.788 Q43.6687 774.982 43.6687 775.433 Q43.6687 778.653 46.2452 781.391 Q48.7572 778.685 52.6541 778.685 Q56.551 778.685 59.4174 781.777 Q62.2837 784.869 62.2837 789.346 Q62.2837 793.049 60.2225 795.883 Q61.5429 797.011 63.3465 797.011 Q64.989 797.011 66.2772 796.012 Q67.5654 795.014 67.7587 793.5 Q67.8231 793.049 67.8231 788.573 Q67.8231 785.932 67.8875 784.482 Q67.9519 783.033 68.4028 780.972 Q68.8215 778.879 69.6588 777.236 Q72.042 772.953 77.195 772.921 Q80.9631 772.921 83.3141 777.268 Q85.6973 781.584 85.6973 787.574 Q85.6973 793.629 83.2819 797.912 Q80.8987 802.163 77.3238 802.163 M77.3238 798.717 Q80.0291 798.717 82.0903 795.529 Q84.1837 792.341 84.1837 787.51 Q84.1837 782.776 82.1225 779.587 Q80.0935 776.367 77.3238 776.367 Q75.3593 776.367 74.1032 777.494 Q72.8472 778.621 72.3319 780.94 Q71.8488 783.226 71.7522 784.837 Q71.6556 786.447 71.6556 789.41 L71.6556 793.307 Q71.7844 795.561 73.4269 797.139 Q75.0694 798.717 77.3238 798.717 M52.6541 795.11 Q60.77 795.11 60.77 789.346 Q60.77 786.447 58.1291 784.676 Q56.3578 783.613 52.5897 783.613 Q44.4738 783.613 44.4738 789.346 Q44.4738 792.244 47.1147 794.048 Q48.886 795.11 52.6541 795.11 Z\" fill=\"#000000\" fill-rule=\"nonzero\" fill-opacity=\"1\" /><path clip-path=\"url(#clip750)\" d=\"M64.0235 765.28 L62.5807 765.28 Q62.5807 759.734 59.6274 756.871 Q59.6274 756.082 59.8077 755.946 Q59.9881 755.811 60.8222 755.811 L86.7254 755.811 Q88.1006 755.811 88.5289 755.135 Q88.9573 754.459 88.9573 751.505 L88.9573 750.04 L90.3776 750.04 Q90.2423 751.663 90.2423 757.525 Q90.2423 763.386 90.3776 764.987 L88.9573 764.987 L88.9573 763.521 Q88.9573 760.613 88.5515 759.914 Q88.1231 759.215 86.7254 759.215 L62.8061 759.215 Q64.0235 761.628 64.0235 765.28 Z\" fill=\"#000000\" fill-rule=\"nonzero\" fill-opacity=\"1\" /><path clip-path=\"url(#clip750)\" d=\"M75.6112 747.798 Q68.8254 747.798 65.1282 746.084 Q59.6274 743.695 59.6274 738.059 Q59.6274 736.864 59.9656 735.624 Q60.2812 734.361 61.5211 732.783 Q62.761 731.183 64.79 730.213 Q68.7127 728.365 75.6112 728.365 Q82.3519 728.365 86.0265 730.078 Q91.392 732.58 91.392 738.104 Q91.392 740.178 90.3325 742.297 Q89.2729 744.394 86.7254 745.724 Q82.9155 747.798 75.6112 747.798 M75.0476 743.965 Q82.0137 743.965 84.7866 743.469 Q87.785 742.906 89.0925 741.373 Q90.3776 739.817 90.3776 738.104 Q90.3776 736.255 89.0024 734.722 Q87.6046 733.167 84.6063 732.693 Q81.653 732.175 75.0476 732.197 Q68.6225 732.197 66.0525 732.648 Q63.0541 733.257 61.8593 734.88 Q60.6419 736.481 60.6419 738.104 Q60.6419 738.712 60.8222 739.366 Q61.0026 739.997 61.5211 740.922 Q62.0396 741.846 63.3246 742.567 Q64.6096 743.266 66.5484 743.605 Q69.0508 743.965 75.0476 743.965 Z\" fill=\"#000000\" fill-rule=\"nonzero\" fill-opacity=\"1\" /><path clip-path=\"url(#clip750)\" d=\"M61.9052 717.894 Q48.629 717.894 37.9236 712.944 Q33.4342 710.834 29.6739 707.879 Q25.9136 704.925 24.2637 702.968 Q22.6137 701.011 22.6137 700.474 Q22.6137 699.706 23.3811 699.668 Q23.7648 699.668 24.7241 700.704 Q37.6166 713.366 61.9052 713.328 Q86.2706 713.328 98.6643 701.011 Q100.007 699.668 100.429 699.668 Q101.197 699.668 101.197 700.474 Q101.197 701.011 99.6236 702.891 Q98.0504 704.771 94.4435 707.687 Q90.8367 710.603 86.4241 712.714 Q75.7187 717.894 61.9052 717.894 Z\" fill=\"#000000\" fill-rule=\"nonzero\" fill-opacity=\"1\" /><path clip-path=\"url(#clip750)\" d=\"M86.5669 680.681 L25.1503 680.681 Q22.7027 680.681 22.7027 679.361 Q22.7027 678.04 24.6672 678.04 L86.0838 678.04 Q88.5314 678.04 88.5314 679.361 Q88.5314 680.681 86.5669 680.681 Z\" fill=\"#000000\" fill-rule=\"nonzero\" fill-opacity=\"1\" /><path clip-path=\"url(#clip750)\" d=\"M86.5669 662.961 L25.1503 662.961 Q22.7027 662.961 22.7027 661.64 Q22.7027 660.32 24.6672 660.32 L86.0838 660.32 Q88.5314 660.32 88.5314 661.64 Q88.5314 662.961 86.5669 662.961 Z\" fill=\"#000000\" fill-rule=\"nonzero\" fill-opacity=\"1\" /><path clip-path=\"url(#clip750)\" d=\"M71.2369 644.452 L62.5413 644.452 Q61.8006 644.452 61.5429 644.419 Q61.2853 644.387 61.0921 644.194 Q60.8988 644.001 60.8988 643.614 Q60.8988 643.163 61.0921 643.002 Q61.2853 642.809 62.026 642.68 Q66.5671 641.682 68.9825 639.556 Q71.3657 637.398 71.3657 633.502 Q71.3657 629.798 69.7232 627.93 Q68.0807 626.062 65.3754 626.062 Q60.5446 626.062 59.3207 632.922 Q58.5156 636.883 58.0003 638.526 Q57.4528 640.168 56.2612 641.617 Q53.9424 644.452 50.6574 644.452 Q47.3724 644.452 44.9569 641.972 Q42.5415 639.46 42.5415 633.92 Q42.5415 630.217 44.4094 627.705 Q43.8297 626.964 43.3466 626.577 Q42.5415 625.708 42.5415 625.257 Q42.5415 624.742 42.8957 624.645 Q43.2178 624.548 44.1518 624.548 L50.7862 624.548 Q51.5269 624.548 51.7846 624.581 Q52.0422 624.613 52.2354 624.806 Q52.3965 624.999 52.3965 625.418 Q52.3965 626.159 51.7846 626.191 Q43.7975 626.706 43.7975 633.92 Q43.7975 637.817 45.3112 639.556 Q46.7927 641.295 48.8216 641.295 Q49.9488 641.295 50.8184 640.78 Q51.6557 640.233 52.171 639.556 Q52.6541 638.848 53.1372 637.56 Q53.5881 636.271 53.7491 635.498 Q53.9101 634.693 54.2322 633.18 Q55.2306 627.898 57.3884 625.676 Q60.1581 622.906 63.6685 622.906 Q67.5654 622.906 70.2063 625.547 Q72.8472 628.188 72.8472 633.502 Q72.8472 637.785 69.9809 640.78 Q70.3673 641.167 70.7216 641.456 Q71.0437 641.746 71.1725 641.875 Q71.3013 641.972 71.3979 642.004 Q71.4623 642.036 71.5268 642.101 Q72.8472 643.421 72.8472 643.743 Q72.8472 644.258 72.4929 644.355 Q72.1709 644.452 71.2369 644.452 Z\" fill=\"#000000\" fill-rule=\"nonzero\" fill-opacity=\"1\" /><path clip-path=\"url(#clip750)\" d=\"M45.7299 621.056 L44.2806 621.056 Q44.1518 618.028 42.0262 616.031 Q39.8684 614.002 37.2275 613.326 Q34.5866 612.618 31.5271 612.553 L31.5271 610.911 L43.6687 610.911 L43.6687 601.474 L45.7299 601.474 L45.7299 610.911 L64.055 610.911 Q71.1725 610.911 71.1725 606.466 Q71.1725 604.566 69.2401 603.31 Q67.2756 602.054 63.7973 602.054 L60.1581 602.054 L60.1581 600.412 L63.9262 600.412 Q67.501 600.412 70.1741 602.054 Q72.8472 603.697 72.8472 606.949 Q72.8472 608.141 72.5251 609.333 Q72.2353 610.492 71.4623 612.038 Q70.6572 613.552 68.7248 614.518 Q66.7603 615.452 63.9262 615.452 L45.7299 615.452 L45.7299 621.056 Z\" fill=\"#000000\" fill-rule=\"nonzero\" fill-opacity=\"1\" /><path clip-path=\"url(#clip750)\" d=\"M57.5816 597.285 Q51.3659 597.285 46.9537 593.291 Q42.5415 589.297 42.5415 583.565 Q42.5415 577.768 46.3096 574.773 Q50.0777 571.745 55.4882 571.745 Q56.4866 571.745 56.6799 572.003 Q56.8731 572.261 56.8731 573.388 L56.8731 591.81 Q63.6041 591.81 66.7603 589.813 Q71.1725 587.043 71.1725 582.373 Q71.1725 581.729 71.0437 580.956 Q70.9148 580.183 70.3673 578.605 Q69.7876 577.027 68.274 575.642 Q66.7603 574.257 64.3771 573.452 Q63.4431 573.259 63.4753 572.615 Q63.4753 571.745 64.2482 571.745 Q64.8279 571.745 66.1484 572.389 Q67.4366 573.001 68.9825 574.193 Q70.5284 575.385 71.6878 577.703 Q72.8472 579.99 72.8472 582.76 Q72.8472 588.557 68.4672 592.937 Q64.055 597.285 57.5816 597.285 M55.4882 591.745 L55.4882 576.093 Q54.1034 576.093 52.5575 576.351 Q51.0116 576.576 48.886 577.285 Q46.7282 577.961 45.3756 579.571 Q44.0229 581.182 44.0229 583.565 Q44.0229 584.628 44.4738 585.787 Q44.9247 586.914 46.0197 588.299 Q47.1147 589.684 49.5946 590.65 Q52.0744 591.616 55.4882 591.745 Z\" fill=\"#000000\" fill-rule=\"nonzero\" fill-opacity=\"1\" /><path clip-path=\"url(#clip750)\" d=\"M82.8632 573.57 Q82.8632 570.059 82.4123 569.254 Q81.9937 568.417 79.9003 568.417 L49.0149 568.417 Q46.8249 568.417 46.2774 569.254 Q45.7299 570.059 45.7299 573.57 L43.6687 573.57 L42.9602 564.069 L47.3079 564.069 Q42.9602 560.108 42.9602 554.826 Q42.9602 549.222 47.3079 545.132 Q51.6557 541.042 57.8715 541.042 Q64.1516 541.042 68.4994 545.39 Q72.8472 549.738 72.8472 555.76 Q72.8472 559.045 71.1725 561.267 Q69.4656 563.457 68.2096 563.876 L68.8215 563.876 L79.9003 563.876 Q82.0259 563.876 82.4445 563.039 Q82.8632 562.201 82.8632 558.723 L84.8922 558.723 Q84.699 565.647 84.699 566.163 Q84.699 566.807 84.8922 573.57 L82.8632 573.57 M64.6025 563.876 Q65.6009 563.876 65.9551 563.747 Q66.3094 563.586 67.3722 562.942 Q71.3657 560.333 71.3657 556.082 Q71.3657 556.05 71.3657 556.018 Q71.3657 552.25 67.5332 549.383 Q63.6685 546.517 57.8715 546.517 Q52.3321 546.517 48.4674 549.126 Q44.6027 551.734 44.6027 555.341 Q44.6027 557.918 45.9875 560.172 Q47.3724 562.427 49.8844 563.876 L64.6025 563.876 Z\" fill=\"#000000\" fill-rule=\"nonzero\" fill-opacity=\"1\" /><path clip-path=\"url(#clip750)\" d=\"M86.5669 528.62 L25.1503 528.62 Q22.7027 528.62 22.7027 527.299 Q22.7027 525.979 24.6672 525.979 L86.0838 525.979 Q88.5314 525.979 88.5314 527.299 Q88.5314 528.62 86.5669 528.62 Z\" fill=\"#000000\" fill-rule=\"nonzero\" fill-opacity=\"1\" /><path clip-path=\"url(#clip750)\" d=\"M86.5669 510.11 L25.1503 510.11 Q22.7027 510.11 22.7027 508.79 Q22.7027 507.47 24.6672 507.47 L86.0838 507.47 Q88.5314 507.47 88.5314 508.79 Q88.5314 510.11 86.5669 510.11 Z\" fill=\"#000000\" fill-rule=\"nonzero\" fill-opacity=\"1\" /><path clip-path=\"url(#clip750)\" d=\"M90.5292 459.526 Q93.2796 459.526 95.6693 460.608 Q98.0364 461.668 99.5243 463.742 Q101.012 465.793 101.012 468.386 Q101.012 472.399 97.811 476.231 Q97.1572 476.998 96.5485 477.539 Q95.9398 478.08 93.1443 480.379 Q93.7981 480.763 94.4068 481.168 Q94.9929 481.574 96.323 482.724 Q97.6531 483.874 98.5775 485.069 Q99.5018 486.241 100.268 488.067 Q101.012 489.871 101.012 491.742 Q101.012 493.726 100.11 495.416 Q99.1861 497.085 97.7208 498.189 Q96.2329 499.271 94.3842 499.88 Q92.5131 500.466 90.5743 500.466 Q87.8239 500.466 85.4568 499.407 Q83.0671 498.325 81.5792 496.273 Q80.0913 494.199 80.0913 491.606 Q80.0913 487.571 83.27 483.761 Q83.9238 482.995 84.5325 482.454 Q85.1412 481.912 87.9366 479.613 Q87.4407 479.32 86.9898 479.004 Q86.5164 478.689 85.4793 477.9 Q84.4423 477.111 83.6082 476.186 Q82.774 475.239 81.9174 474.045 Q81.0607 472.85 80.5873 471.339 Q80.0913 469.829 80.0913 468.251 Q80.0913 466.267 81.0156 464.599 Q81.9174 462.908 83.4053 461.826 Q84.8706 460.721 86.7418 460.135 Q88.5904 459.526 90.5292 459.526 M90.5292 460.541 Q88.9286 460.541 87.373 461.014 Q85.8175 461.487 84.5099 462.389 Q83.1798 463.268 82.3682 464.711 Q81.5567 466.154 81.5567 467.913 Q81.5567 469.761 82.3457 471.475 Q83.1122 473.165 84.4198 474.495 Q85.7273 475.803 86.9447 476.705 Q88.1621 477.607 89.5598 478.396 Q90.0558 477.99 92.3553 476.254 Q94.6548 474.495 95.4664 473.751 Q98.7803 470.708 98.7803 467.642 Q98.7803 464.711 96.3907 462.637 Q93.9785 460.541 90.5292 460.541 M91.5437 481.597 Q91.0703 481.98 88.7708 483.761 Q86.4487 485.52 85.6371 486.263 Q82.3006 489.329 82.3006 492.35 Q82.3006 495.281 84.7128 497.378 Q87.125 499.452 90.5743 499.452 Q92.1749 499.452 93.7305 498.978 Q95.286 498.505 96.5936 497.626 Q97.9011 496.724 98.7127 495.281 Q99.5243 493.838 99.5243 492.08 Q99.5243 490.592 98.9832 489.172 Q98.4422 487.729 97.6306 486.647 Q96.819 485.565 95.6918 484.55 Q94.5646 483.536 93.5952 482.882 Q92.6258 482.206 91.5437 481.597 Z\" fill=\"#000000\" fill-rule=\"nonzero\" fill-opacity=\"1\" /><path clip-path=\"url(#clip750)\" d=\"M100.429 445.845 Q100.046 445.845 99.0864 444.847 Q86.1938 432.185 61.9052 432.185 Q37.5399 432.185 25.2229 444.348 Q23.8032 445.845 23.3811 445.845 Q22.6137 445.845 22.6137 445.077 Q22.6137 444.54 24.1869 442.66 Q25.7601 440.741 29.367 437.863 Q32.9738 434.947 37.3864 432.799 Q48.0918 427.619 61.9052 427.619 Q75.1815 427.619 85.8869 432.568 Q90.3762 434.679 94.1366 437.633 Q97.8969 440.588 99.5468 442.545 Q101.197 444.502 101.197 445.077 Q101.197 445.845 100.429 445.845 Z\" fill=\"#000000\" fill-rule=\"nonzero\" fill-opacity=\"1\" /><polyline clip-path=\"url(#clip752)\" style=\"stroke:#000000; stroke-linecap:round; stroke-linejoin:round; stroke-width:6; stroke-opacity:1; fill:none\" points=\"232.707,358.28 241.35,424.342 249.994,388.84 258.637,389.676 267.281,334.235 275.924,317.859 284.568,325.872 293.211,427.782 301.854,500.728 310.498,663.537 319.141,653.522 327.785,726.636 336.428,671.897 345.072,617.741 353.715,567.878 362.359,525.423 371.002,503.795 379.646,484.056 388.289,387.209 396.933,432.048 405.576,464.47 414.22,438.21 422.863,515.27 431.506,613.831 440.15,563.488 448.793,533.665 457.437,505.401 466.08,461.801 474.724,564.91 483.367,649.098 492.011,597.565 500.654,536.437 509.298,426.033 517.941,403.148 526.585,419.506 535.228,475.436 543.871,468.46 552.515,349.52 561.158,352.886 569.802,398.886 578.445,458.608 587.089,492.183 595.732,444.722 604.376,402.062 613.019,453.646 621.663,443.135 630.306,396.906 638.95,329.106 647.593,412.983 656.236,432.339 664.88,379.753 673.523,381.518 682.167,364.313 690.81,332.285 699.454,399.649 708.097,254.363 716.741,265.223 725.384,438.759 734.028,479.934 742.671,369.999 751.315,296.54 759.958,284.465 768.601,396.423 777.245,181.092 785.888,256.791 794.532,261.34 803.175,280.011 811.819,287.609 820.462,309.082 829.106,493.458 837.749,346.542 846.393,374.175 855.036,463.745 863.68,616.644 872.323,638.912 880.967,652.343 889.61,616.284 898.253,588.896 906.897,577.479 915.54,552.522 924.184,522.66 932.827,478.711 941.471,459.761 950.114,716.207 958.758,681.771 967.401,644.401 976.045,607.712 984.688,562.229 993.332,511.918 1001.97,459.761 1010.62,402.386 1019.26,409.885 1027.91,661.93 1036.55,462.499 1045.19,459.429 1053.84,498.901 1062.48,674.192 1071.12,646.892 1079.77,620.007 1088.41,583.904 1097.05,538.114 1105.7,487.096 1114.34,433.52 1122.98,374.8 1131.63,298.404 1140.27,369.146 1148.91,297.568 1157.56,364.058 1166.2,379.064 1174.84,539.688 1183.49,545.882 1192.13,679.613 1200.77,663.81 1209.42,623.194 1218.06,585.253 1226.71,544.988 1235.35,499.261 1243.99,448.452 1252.64,460.096 1261.28,695.367 1269.92,465.392 1278.57,463.029 1287.21,544.371 1295.85,697.441 1304.5,683.621 1313.14,653.596 1321.78,620.785 1330.43,576.647 1339.07,527.205 1347.71,475.892 1356.36,425.35 1365,379.064 1373.64,281.001 1382.29,369.713 1390.93,541.476 1399.57,403.755 1408.22,575.991 1416.86,486.249 1425.5,695.03 1434.15,363.551 1442.79,390.099 1451.44,563.234 1460.08,698.511 1468.72,677.661 1477.37,658.366 1486.01,212.239 1494.65,342.378 1503.3,501.102 1511.94,542.818 1520.58,576.812 1529.23,513.328 1537.87,515.767 1546.51,683.486 1555.16,367.212 1563.8,431.855 1572.44,647.088 1581.09,408.647 1589.73,479.934 1598.37,682.82 1607.02,337.007 1615.66,337.459 1624.3,348.57 1632.95,349.328 1641.59,352.886 1650.23,391.827 1658.88,635.242 1667.52,456.378 1676.17,457.005 1684.81,501.102 1693.45,620.394 1702.1,271.457 1710.74,268.245 1719.38,330.67 1728.03,351.473 1736.67,340.417 1745.31,345.469 1753.96,382.606 1762.6,616.284 1771.24,522.66 1779.89,518.54 1788.53,517.084 1797.17,532.611 1805.82,732.251 1814.46,361.57 1823.1,362.058 1831.75,368.308 1840.39,419.129 1849.03,690.833 1857.68,411.217 1866.32,411.217 1874.96,411.669 1883.61,411.734 1892.25,411.734 1900.9,411.799 1909.54,450.494 1918.18,678.384 1926.83,541.064 1935.47,392.269 1944.11,697.973 1952.76,571.624 \"/>\n",
       "<polyline clip-path=\"url(#clip752)\" style=\"stroke:#000000; stroke-linecap:round; stroke-linejoin:round; stroke-width:6; stroke-opacity:1; fill:none\" stroke-dasharray=\"3, 6\" points=\"232.707,392.714 241.35,459.429 249.994,545.522 258.637,534.237 267.281,532.196 275.924,594.901 284.568,592.369 293.211,570.296 301.854,540.9 310.498,504.592 319.141,489.13 327.785,499.624 336.428,561.123 345.072,758.643 353.715,793.861 362.359,745.766 371.002,708.641 379.646,691.771 388.289,680.744 396.933,648.622 405.576,623.607 414.22,616.284 422.863,868.926 431.506,995.563 440.15,948.974 448.793,895.998 457.437,845.607 466.08,796.255 474.724,743.977 483.367,695.367 492.011,653.821 500.654,603.075 509.298,843.089 517.941,973.725 526.585,927.494 535.228,878.61 543.871,837.29 552.515,794.213 561.158,741.406 569.802,685.679 578.445,635.294 587.089,907.743 595.732,1011.26 604.376,958.073 613.019,905.815 621.663,860.922 630.306,819.825 638.95,770.682 647.593,715.448 656.236,660.714 664.88,611.818 673.523,860.058 682.167,985.3 690.81,936.244 699.454,486.249 708.097,460.771 716.741,632.161 725.384,628.383 734.028,632.653 742.671,624.865 751.315,632.653 759.958,621.179 768.601,602.799 777.245,614.868 785.888,865.477 794.532,809.313 803.175,756.914 811.819,711.117 820.462,679.737 829.106,665.856 837.749,639.929 846.393,651.12 855.036,678.384 863.68,992.422 872.323,950.466 880.967,896.346 889.61,845.931 898.253,803.91 906.897,777.755 915.54,757.255 924.184,734.027 932.827,702.637 941.471,654.958 950.114,605.631 958.758,847.247 967.401,1007.41 976.045,983.339 984.688,934.925 993.332,889.114 1001.97,857.96 1010.62,829.904 1019.26,788.327 1027.91,734.756 1036.55,682.952 1045.19,642.445 1053.84,920.868 1062.48,957.202 1071.12,945.884 1079.77,901.872 1088.41,865.003 1097.05,819.052 1105.7,765.133 1114.34,712.048 1122.98,663.537 1131.63,620.007 1140.27,591.258 1148.91,861.36 1157.56,851.773 1166.2,809.155 1174.84,760.858 1183.49,706.913 1192.13,660.032 1200.77,627.48 1209.42,737.39 1218.06,702.637 1226.71,666.047 1235.35,960.166 1243.99,1037.41 1252.64,1072.61 1261.28,1040.27 1269.92,519.877 1278.57,998.005 1287.21,1108.56 1295.85,1085.1 1304.5,1030.29 1313.14,976.592 1321.78,924.526 1330.43,873.846 1339.07,821.607 1347.71,767.727 1356.36,715.198 1365,668.088 1373.64,631.189 1382.29,866.439 1390.93,811.249 1399.57,757.028 1408.22,716.207 1416.86,1139.54 1425.5,1206.92 1434.15,1165.58 1442.79,1109.92 1451.44,1054.01 1460.08,998.005 1468.72,941.892 1477.37,886.243 1486.01,831.591 1494.65,777.669 1503.3,737.005 1511.94,1191.4 1520.58,1136.15 1529.23,525.002 1537.87,1083.36 1546.51,1069.39 1555.16,525.062 1563.8,1077.55 1572.44,968.794 1581.09,1005.3 1589.73,1012.18 1598.37,956.629 1607.02,901.1 1615.66,846.257 1624.3,792.477 1632.95,740.168 1641.59,691.144 1650.23,483.257 1658.88,743.105 1667.52,699.054 1676.17,1092.32 1684.81,1156.63 1693.45,527.143 1702.1,1124.41 1710.74,1140.79 1719.38,1135.11 1728.03,1085.46 1736.67,527.205 1745.31,1036.58 1753.96,1152.09 1762.6,1128.72 1771.24,527.143 1779.89,514.777 1788.53,1074.3 1797.17,1019.06 1805.82,965.301 1814.46,911.833 1823.1,857.96 1831.75,527.393 1840.39,813.605 1849.03,1110.04 1857.68,1169.32 1866.32,1151.17 1874.96,1103.85 1883.61,527.456 1892.25,515.767 1900.9,1049.24 1909.54,994.475 1918.18,939.395 1926.83,884.139 1935.47,829.432 1944.11,785.471 1952.76,527.708 \"/>\n",
       "<path clip-path=\"url(#clip750)\" d=\"M1231.38 241.892 L1894.84 241.892 L1894.84 86.3718 L1231.38 86.3718  Z\" fill=\"#ffffff\" fill-rule=\"evenodd\" fill-opacity=\"1\"/>\n",
       "<polyline clip-path=\"url(#clip750)\" style=\"stroke:#000000; stroke-linecap:round; stroke-linejoin:round; stroke-width:4; stroke-opacity:1; fill:none\" points=\"1231.38,241.892 1894.84,241.892 1894.84,86.3718 1231.38,86.3718 1231.38,241.892 \"/>\n",
       "<polyline clip-path=\"url(#clip750)\" style=\"stroke:#000000; stroke-linecap:round; stroke-linejoin:round; stroke-width:6; stroke-opacity:1; fill:none\" points=\"1250.69,138.212 1366.51,138.212 \"/>\n",
       "<path clip-path=\"url(#clip750)\" d=\"M1385.81 128.517 L1390.07 128.517 L1395.4 148.748 L1400.7 128.517 L1405.72 128.517 L1411.04 148.748 L1416.34 128.517 L1420.6 128.517 L1413.82 154.442 L1408.8 154.442 L1403.22 133.192 L1397.62 154.442 L1392.59 154.442 L1385.81 128.517 Z\" fill=\"#000000\" fill-rule=\"nonzero\" fill-opacity=\"1\" /><path clip-path=\"url(#clip750)\" d=\"M1427.06 128.517 L1431.32 128.517 L1431.32 154.442 L1427.06 154.442 L1427.06 128.517 M1427.06 118.424 L1431.32 118.424 L1431.32 123.817 L1427.06 123.817 L1427.06 118.424 Z\" fill=\"#000000\" fill-rule=\"nonzero\" fill-opacity=\"1\" /><path clip-path=\"url(#clip750)\" d=\"M1444.45 121.155 L1444.45 128.517 L1453.22 128.517 L1453.22 131.827 L1444.45 131.827 L1444.45 145.901 Q1444.45 149.072 1445.3 149.975 Q1446.18 150.877 1448.84 150.877 L1453.22 150.877 L1453.22 154.442 L1448.84 154.442 Q1443.91 154.442 1442.04 152.614 Q1440.16 150.762 1440.16 145.901 L1440.16 131.827 L1437.04 131.827 L1437.04 128.517 L1440.16 128.517 L1440.16 121.155 L1444.45 121.155 Z\" fill=\"#000000\" fill-rule=\"nonzero\" fill-opacity=\"1\" /><path clip-path=\"url(#clip750)\" d=\"M1480.37 138.794 L1480.37 154.442 L1476.11 154.442 L1476.11 138.933 Q1476.11 135.253 1474.68 133.424 Q1473.24 131.595 1470.37 131.595 Q1466.92 131.595 1464.93 133.794 Q1462.94 135.993 1462.94 139.79 L1462.94 154.442 L1458.66 154.442 L1458.66 118.424 L1462.94 118.424 L1462.94 132.544 Q1464.47 130.206 1466.53 129.049 Q1468.61 127.892 1471.32 127.892 Q1475.79 127.892 1478.08 130.669 Q1480.37 133.424 1480.37 138.794 Z\" fill=\"#000000\" fill-rule=\"nonzero\" fill-opacity=\"1\" /><path clip-path=\"url(#clip750)\" d=\"M1533.71 128.303 Q1533.71 130.481 1532.21 132.449 Q1530.74 134.393 1528.49 135.634 Q1526.24 136.852 1523.69 137.32 Q1527.13 137.719 1529.12 139.592 Q1531.14 141.466 1531.14 144.09 Q1531.14 145.846 1530.11 147.697 Q1529.1 149.524 1527.36 151.023 Q1525.65 152.522 1523.13 153.482 Q1520.62 154.442 1517.88 154.442 L1500.76 154.442 Q1500.22 154.442 1500.01 154.419 Q1499.8 154.395 1499.63 154.278 Q1499.47 154.161 1499.47 153.904 Q1499.47 153.435 1499.63 153.224 Q1499.82 153.014 1500.03 152.99 Q1500.24 152.967 1500.76 152.967 Q1501.93 152.967 1502.63 152.896 Q1503.33 152.826 1503.78 152.732 Q1504.25 152.615 1504.48 152.287 Q1504.74 151.96 1504.86 151.678 Q1504.97 151.374 1505.14 150.695 L1511.55 124.93 Q1511.74 124.157 1511.74 124.04 Q1511.74 123.595 1511.46 123.478 Q1511.2 123.337 1510.45 123.267 L1508.63 123.173 Q1508.06 123.173 1507.83 123.15 Q1507.62 123.126 1507.46 123.009 Q1507.29 122.892 1507.29 122.635 Q1507.29 121.979 1507.57 121.838 Q1507.88 121.674 1508.67 121.674 L1524.79 121.674 Q1528.93 121.674 1531.32 123.595 Q1533.71 125.492 1533.71 128.303 M1529.36 128.115 Q1529.36 127.225 1529.12 126.429 Q1528.89 125.633 1528.33 124.86 Q1527.79 124.087 1526.71 123.642 Q1525.63 123.173 1524.13 123.173 L1517.93 123.173 Q1516.4 123.173 1516.03 123.454 Q1515.68 123.712 1515.35 125 L1512.37 136.875 L1519.38 136.875 Q1521.51 136.875 1523.38 136.103 Q1525.28 135.33 1526.57 134.088 Q1527.86 132.823 1528.61 131.254 Q1529.36 129.685 1529.36 128.115 M1526.66 143.551 Q1526.66 142.848 1526.55 142.169 Q1526.43 141.49 1526.05 140.693 Q1525.68 139.897 1525.09 139.311 Q1524.51 138.726 1523.48 138.328 Q1522.47 137.929 1521.16 137.929 L1512.09 137.929 L1508.77 151.327 Q1508.53 152.194 1508.53 152.428 Q1508.53 152.686 1508.65 152.779 Q1508.79 152.85 1509.17 152.896 Q1509.59 152.967 1510.22 152.967 L1516.73 152.967 Q1518.79 152.967 1520.67 152.17 Q1522.54 151.351 1523.83 150.039 Q1525.14 148.727 1525.89 147.017 Q1526.66 145.308 1526.66 143.551 Z\" fill=\"#000000\" fill-rule=\"nonzero\" fill-opacity=\"1\" /><path clip-path=\"url(#clip750)\" d=\"M1548.83 147.158 Q1548.88 146.572 1549.79 146.572 L1579.19 146.572 Q1580.57 146.572 1580.59 147.111 Q1580.59 147.697 1579.28 147.673 L1550.12 147.673 Q1548.83 147.697 1548.83 147.158 M1548.83 137.789 Q1548.83 137.203 1549.84 137.227 L1579.14 137.227 Q1580.57 137.227 1580.59 137.789 Q1580.59 138.328 1579.38 138.328 L1549.79 138.328 Q1548.83 138.328 1548.83 137.789 Z\" fill=\"#000000\" fill-rule=\"nonzero\" fill-opacity=\"1\" /><path clip-path=\"url(#clip750)\" d=\"M1599.1 154.442 Q1599.1 153.576 1599.17 153.318 Q1599.26 153.06 1599.64 152.662 L1608.84 142.403 Q1613.88 136.735 1613.88 131.793 Q1613.88 128.584 1612.19 126.289 Q1610.53 123.993 1607.46 123.993 Q1605.35 123.993 1603.57 125.281 Q1601.79 126.57 1600.97 128.865 Q1601.11 128.818 1601.61 128.818 Q1602.8 128.818 1603.46 129.568 Q1604.14 130.317 1604.14 131.324 Q1604.14 132.613 1603.29 133.245 Q1602.47 133.854 1601.65 133.854 Q1601.33 133.854 1600.88 133.784 Q1600.46 133.713 1599.78 133.058 Q1599.1 132.378 1599.1 131.184 Q1599.1 127.834 1601.63 125.164 Q1604.18 122.494 1608.07 122.494 Q1612.47 122.494 1615.36 125.117 Q1618.26 127.717 1618.26 131.793 Q1618.26 133.222 1617.82 134.533 Q1617.39 135.821 1616.81 136.829 Q1616.25 137.836 1614.7 139.452 Q1613.15 141.068 1611.91 142.216 Q1610.67 143.363 1607.88 145.799 L1602.8 150.742 L1611.44 150.742 Q1615.66 150.742 1615.99 150.367 Q1616.46 149.688 1617.04 146.104 L1618.26 146.104 L1616.9 154.442 L1599.1 154.442 Z\" fill=\"#000000\" fill-rule=\"nonzero\" fill-opacity=\"1\" /><path clip-path=\"url(#clip750)\" d=\"M1661.05 129.512 L1661.05 133.493 Q1659.25 132.498 1657.42 132.012 Q1655.61 131.503 1653.76 131.503 Q1649.62 131.503 1647.32 134.141 Q1645.03 136.757 1645.03 141.503 Q1645.03 146.248 1647.32 148.887 Q1649.62 151.502 1653.76 151.502 Q1655.61 151.502 1657.42 151.016 Q1659.25 150.507 1661.05 149.512 L1661.05 153.447 Q1659.27 154.28 1657.35 154.697 Q1655.45 155.114 1653.3 155.114 Q1647.44 155.114 1643.99 151.433 Q1640.54 147.753 1640.54 141.503 Q1640.54 135.16 1644.01 131.526 Q1647.51 127.892 1653.57 127.892 Q1655.54 127.892 1657.42 128.308 Q1659.29 128.702 1661.05 129.512 Z\" fill=\"#000000\" fill-rule=\"nonzero\" fill-opacity=\"1\" /><path clip-path=\"url(#clip750)\" d=\"M1678.5 131.503 Q1675.08 131.503 1673.09 134.188 Q1671.1 136.85 1671.1 141.503 Q1671.1 146.155 1673.07 148.84 Q1675.06 151.502 1678.5 151.502 Q1681.91 151.502 1683.9 148.817 Q1685.89 146.132 1685.89 141.503 Q1685.89 136.896 1683.9 134.211 Q1681.91 131.503 1678.5 131.503 M1678.5 127.892 Q1684.06 127.892 1687.23 131.503 Q1690.4 135.114 1690.4 141.503 Q1690.4 147.868 1687.23 151.502 Q1684.06 155.114 1678.5 155.114 Q1672.93 155.114 1669.76 151.502 Q1666.61 147.868 1666.61 141.503 Q1666.61 135.114 1669.76 131.503 Q1672.93 127.892 1678.5 127.892 Z\" fill=\"#000000\" fill-rule=\"nonzero\" fill-opacity=\"1\" /><path clip-path=\"url(#clip750)\" d=\"M1719.01 138.794 L1719.01 154.442 L1714.75 154.442 L1714.75 138.933 Q1714.75 135.253 1713.32 133.424 Q1711.88 131.595 1709.01 131.595 Q1705.57 131.595 1703.57 133.794 Q1701.58 135.993 1701.58 139.79 L1701.58 154.442 L1697.3 154.442 L1697.3 128.517 L1701.58 128.517 L1701.58 132.544 Q1703.11 130.206 1705.17 129.049 Q1707.25 127.892 1709.96 127.892 Q1714.43 127.892 1716.72 130.669 Q1719.01 133.424 1719.01 138.794 Z\" fill=\"#000000\" fill-rule=\"nonzero\" fill-opacity=\"1\" /><path clip-path=\"url(#clip750)\" d=\"M1744.04 129.28 L1744.04 133.308 Q1742.23 132.382 1740.29 131.919 Q1738.34 131.456 1736.26 131.456 Q1733.09 131.456 1731.49 132.429 Q1729.92 133.401 1729.92 135.345 Q1729.92 136.827 1731.05 137.683 Q1732.19 138.516 1735.61 139.28 L1737.07 139.604 Q1741.61 140.577 1743.5 142.359 Q1745.43 144.118 1745.43 147.29 Q1745.43 150.901 1742.56 153.007 Q1739.71 155.114 1734.71 155.114 Q1732.63 155.114 1730.36 154.697 Q1728.11 154.303 1725.61 153.493 L1725.61 149.095 Q1727.97 150.322 1730.26 150.947 Q1732.56 151.549 1734.8 151.549 Q1737.81 151.549 1739.43 150.53 Q1741.05 149.489 1741.05 147.614 Q1741.05 145.878 1739.87 144.952 Q1738.71 144.026 1734.75 143.169 L1733.27 142.822 Q1729.31 141.989 1727.56 140.276 Q1725.8 138.54 1725.8 135.53 Q1725.8 131.873 1728.39 129.882 Q1730.98 127.892 1735.75 127.892 Q1738.11 127.892 1740.19 128.239 Q1742.28 128.586 1744.04 129.28 Z\" fill=\"#000000\" fill-rule=\"nonzero\" fill-opacity=\"1\" /><path clip-path=\"url(#clip750)\" d=\"M1756.42 121.155 L1756.42 128.517 L1765.19 128.517 L1765.19 131.827 L1756.42 131.827 L1756.42 145.901 Q1756.42 149.072 1757.28 149.975 Q1758.16 150.877 1760.82 150.877 L1765.19 150.877 L1765.19 154.442 L1760.82 154.442 Q1755.89 154.442 1754.01 152.614 Q1752.14 150.762 1752.14 145.901 L1752.14 131.827 L1749.01 131.827 L1749.01 128.517 L1752.14 128.517 L1752.14 121.155 L1756.42 121.155 Z\" fill=\"#000000\" fill-rule=\"nonzero\" fill-opacity=\"1\" /><path clip-path=\"url(#clip750)\" d=\"M1785.82 132.498 Q1785.1 132.081 1784.25 131.896 Q1783.41 131.688 1782.39 131.688 Q1778.78 131.688 1776.84 134.049 Q1774.92 136.387 1774.92 140.785 L1774.92 154.442 L1770.63 154.442 L1770.63 128.517 L1774.92 128.517 L1774.92 132.544 Q1776.26 130.183 1778.41 129.049 Q1780.56 127.892 1783.64 127.892 Q1784.08 127.892 1784.62 127.961 Q1785.15 128.007 1785.8 128.123 L1785.82 132.498 Z\" fill=\"#000000\" fill-rule=\"nonzero\" fill-opacity=\"1\" /><path clip-path=\"url(#clip750)\" d=\"M1802.07 141.41 Q1796.91 141.41 1794.92 142.59 Q1792.93 143.771 1792.93 146.618 Q1792.93 148.887 1794.41 150.229 Q1795.91 151.549 1798.48 151.549 Q1802.02 151.549 1804.15 149.049 Q1806.31 146.526 1806.31 142.359 L1806.31 141.41 L1802.07 141.41 M1810.56 139.651 L1810.56 154.442 L1806.31 154.442 L1806.31 150.507 Q1804.85 152.868 1802.67 154.002 Q1800.5 155.114 1797.35 155.114 Q1793.37 155.114 1791 152.891 Q1788.67 150.646 1788.67 146.896 Q1788.67 142.521 1791.58 140.299 Q1794.52 138.077 1800.33 138.077 L1806.31 138.077 L1806.31 137.66 Q1806.31 134.72 1804.36 133.123 Q1802.44 131.503 1798.94 131.503 Q1796.72 131.503 1794.62 132.035 Q1792.51 132.567 1790.56 133.632 L1790.56 129.697 Q1792.9 128.794 1795.1 128.354 Q1797.3 127.892 1799.38 127.892 Q1805.01 127.892 1807.79 130.808 Q1810.56 133.725 1810.56 139.651 Z\" fill=\"#000000\" fill-rule=\"nonzero\" fill-opacity=\"1\" /><path clip-path=\"url(#clip750)\" d=\"M1819.34 128.517 L1823.6 128.517 L1823.6 154.442 L1819.34 154.442 L1819.34 128.517 M1819.34 118.424 L1823.6 118.424 L1823.6 123.817 L1819.34 123.817 L1819.34 118.424 Z\" fill=\"#000000\" fill-rule=\"nonzero\" fill-opacity=\"1\" /><path clip-path=\"url(#clip750)\" d=\"M1854.06 138.794 L1854.06 154.442 L1849.8 154.442 L1849.8 138.933 Q1849.8 135.253 1848.37 133.424 Q1846.93 131.595 1844.06 131.595 Q1840.61 131.595 1838.62 133.794 Q1836.63 135.993 1836.63 139.79 L1836.63 154.442 L1832.35 154.442 L1832.35 128.517 L1836.63 128.517 L1836.63 132.544 Q1838.16 130.206 1840.22 129.049 Q1842.3 127.892 1845.01 127.892 Q1849.48 127.892 1851.77 130.669 Q1854.06 133.424 1854.06 138.794 Z\" fill=\"#000000\" fill-rule=\"nonzero\" fill-opacity=\"1\" /><path clip-path=\"url(#clip750)\" d=\"M1866.77 121.155 L1866.77 128.517 L1875.54 128.517 L1875.54 131.827 L1866.77 131.827 L1866.77 145.901 Q1866.77 149.072 1867.62 149.975 Q1868.5 150.877 1871.17 150.877 L1875.54 150.877 L1875.54 154.442 L1871.17 154.442 Q1866.24 154.442 1864.36 152.614 Q1862.49 150.762 1862.49 145.901 L1862.49 131.827 L1859.36 131.827 L1859.36 128.517 L1862.49 128.517 L1862.49 121.155 L1866.77 121.155 Z\" fill=\"#000000\" fill-rule=\"nonzero\" fill-opacity=\"1\" /><polyline clip-path=\"url(#clip750)\" style=\"stroke:#000000; stroke-linecap:round; stroke-linejoin:round; stroke-width:6; stroke-opacity:1; fill:none\" stroke-dasharray=\"3, 6\" points=\"1250.69,190.052 1366.51,190.052 \"/>\n",
       "<path clip-path=\"url(#clip750)\" d=\"M1404.24 182.17 L1404.24 186.198 Q1402.43 185.272 1400.49 184.809 Q1398.54 184.346 1396.46 184.346 Q1393.29 184.346 1391.69 185.318 Q1390.12 186.29 1390.12 188.235 Q1390.12 189.716 1391.25 190.573 Q1392.39 191.406 1395.81 192.17 L1397.27 192.494 Q1401.81 193.466 1403.71 195.249 Q1405.63 197.008 1405.63 200.179 Q1405.63 203.79 1402.76 205.897 Q1399.91 208.003 1394.91 208.003 Q1392.83 208.003 1390.56 207.586 Q1388.31 207.193 1385.81 206.383 L1385.81 201.985 Q1388.17 203.211 1390.46 203.836 Q1392.76 204.438 1395 204.438 Q1398.01 204.438 1399.63 203.42 Q1401.25 202.378 1401.25 200.503 Q1401.25 198.767 1400.07 197.841 Q1398.91 196.915 1394.96 196.059 L1393.47 195.712 Q1389.52 194.878 1387.76 193.165 Q1386 191.429 1386 188.42 Q1386 184.762 1388.59 182.772 Q1391.18 180.781 1395.95 180.781 Q1398.31 180.781 1400.4 181.128 Q1402.48 181.475 1404.24 182.17 Z\" fill=\"#000000\" fill-rule=\"nonzero\" fill-opacity=\"1\" /><path clip-path=\"url(#clip750)\" d=\"M1416.62 174.045 L1416.62 181.406 L1425.39 181.406 L1425.39 184.716 L1416.62 184.716 L1416.62 198.79 Q1416.62 201.961 1417.48 202.864 Q1418.36 203.767 1421.02 203.767 L1425.39 203.767 L1425.39 207.332 L1421.02 207.332 Q1416.09 207.332 1414.21 205.503 Q1412.34 203.651 1412.34 198.79 L1412.34 184.716 L1409.21 184.716 L1409.21 181.406 L1412.34 181.406 L1412.34 174.045 L1416.62 174.045 Z\" fill=\"#000000\" fill-rule=\"nonzero\" fill-opacity=\"1\" /><path clip-path=\"url(#clip750)\" d=\"M1442.78 194.299 Q1437.62 194.299 1435.63 195.48 Q1433.64 196.661 1433.64 199.508 Q1433.64 201.776 1435.12 203.119 Q1436.62 204.438 1439.19 204.438 Q1442.73 204.438 1444.86 201.938 Q1447.02 199.415 1447.02 195.249 L1447.02 194.299 L1442.78 194.299 M1451.27 192.54 L1451.27 207.332 L1447.02 207.332 L1447.02 203.397 Q1445.56 205.758 1443.38 206.892 Q1441.21 208.003 1438.06 208.003 Q1434.08 208.003 1431.71 205.781 Q1429.38 203.536 1429.38 199.786 Q1429.38 195.411 1432.29 193.188 Q1435.23 190.966 1441.04 190.966 L1447.02 190.966 L1447.02 190.55 Q1447.02 187.61 1445.07 186.012 Q1443.15 184.392 1439.65 184.392 Q1437.43 184.392 1435.33 184.925 Q1433.22 185.457 1431.27 186.522 L1431.27 182.587 Q1433.61 181.684 1435.81 181.244 Q1438.01 180.781 1440.09 180.781 Q1445.72 180.781 1448.5 183.698 Q1451.27 186.614 1451.27 192.54 Z\" fill=\"#000000\" fill-rule=\"nonzero\" fill-opacity=\"1\" /><path clip-path=\"url(#clip750)\" d=\"M1481.6 191.684 L1481.6 207.332 L1477.34 207.332 L1477.34 191.823 Q1477.34 188.142 1475.9 186.313 Q1474.47 184.485 1471.6 184.485 Q1468.15 184.485 1466.16 186.684 Q1464.17 188.883 1464.17 192.679 L1464.17 207.332 L1459.89 207.332 L1459.89 181.406 L1464.17 181.406 L1464.17 185.434 Q1465.7 183.096 1467.76 181.938 Q1469.84 180.781 1472.55 180.781 Q1477.02 180.781 1479.31 183.559 Q1481.6 186.313 1481.6 191.684 Z\" fill=\"#000000\" fill-rule=\"nonzero\" fill-opacity=\"1\" /><path clip-path=\"url(#clip750)\" d=\"M1507.15 185.341 L1507.15 171.313 L1511.41 171.313 L1511.41 207.332 L1507.15 207.332 L1507.15 203.443 Q1505.81 205.758 1503.75 206.892 Q1501.71 208.003 1498.84 208.003 Q1494.14 208.003 1491.18 204.253 Q1488.24 200.503 1488.24 194.392 Q1488.24 188.281 1491.18 184.531 Q1494.14 180.781 1498.84 180.781 Q1501.71 180.781 1503.75 181.915 Q1505.81 183.026 1507.15 185.341 M1492.64 194.392 Q1492.64 199.091 1494.56 201.776 Q1496.51 204.438 1499.89 204.438 Q1503.26 204.438 1505.21 201.776 Q1507.15 199.091 1507.15 194.392 Q1507.15 189.693 1505.21 187.031 Q1503.26 184.346 1499.89 184.346 Q1496.51 184.346 1494.56 187.031 Q1492.64 189.693 1492.64 194.392 Z\" fill=\"#000000\" fill-rule=\"nonzero\" fill-opacity=\"1\" /><path clip-path=\"url(#clip750)\" d=\"M1531.97 194.299 Q1526.81 194.299 1524.82 195.48 Q1522.83 196.661 1522.83 199.508 Q1522.83 201.776 1524.31 203.119 Q1525.81 204.438 1528.38 204.438 Q1531.92 204.438 1534.05 201.938 Q1536.2 199.415 1536.2 195.249 L1536.2 194.299 L1531.97 194.299 M1540.46 192.54 L1540.46 207.332 L1536.2 207.332 L1536.2 203.397 Q1534.75 205.758 1532.57 206.892 Q1530.39 208.003 1527.25 208.003 Q1523.26 208.003 1520.9 205.781 Q1518.57 203.536 1518.57 199.786 Q1518.57 195.411 1521.48 193.188 Q1524.42 190.966 1530.23 190.966 L1536.2 190.966 L1536.2 190.55 Q1536.2 187.61 1534.26 186.012 Q1532.34 184.392 1528.84 184.392 Q1526.62 184.392 1524.51 184.925 Q1522.41 185.457 1520.46 186.522 L1520.46 182.587 Q1522.8 181.684 1525 181.244 Q1527.2 180.781 1529.28 180.781 Q1534.91 180.781 1537.69 183.698 Q1540.46 186.614 1540.46 192.54 Z\" fill=\"#000000\" fill-rule=\"nonzero\" fill-opacity=\"1\" /><path clip-path=\"url(#clip750)\" d=\"M1564.26 185.387 Q1563.54 184.971 1562.69 184.786 Q1561.85 184.577 1560.83 184.577 Q1557.22 184.577 1555.28 186.938 Q1553.36 189.276 1553.36 193.674 L1553.36 207.332 L1549.07 207.332 L1549.07 181.406 L1553.36 181.406 L1553.36 185.434 Q1554.7 183.073 1556.85 181.938 Q1559.01 180.781 1562.08 180.781 Q1562.52 180.781 1563.06 180.85 Q1563.59 180.897 1564.24 181.013 L1564.26 185.387 Z\" fill=\"#000000\" fill-rule=\"nonzero\" fill-opacity=\"1\" /><path clip-path=\"url(#clip750)\" d=\"M1584.95 185.341 L1584.95 171.313 L1589.21 171.313 L1589.21 207.332 L1584.95 207.332 L1584.95 203.443 Q1583.61 205.758 1581.55 206.892 Q1579.51 208.003 1576.64 208.003 Q1571.95 208.003 1568.98 204.253 Q1566.04 200.503 1566.04 194.392 Q1566.04 188.281 1568.98 184.531 Q1571.95 180.781 1576.64 180.781 Q1579.51 180.781 1581.55 181.915 Q1583.61 183.026 1584.95 185.341 M1570.44 194.392 Q1570.44 199.091 1572.36 201.776 Q1574.31 204.438 1577.69 204.438 Q1581.07 204.438 1583.01 201.776 Q1584.95 199.091 1584.95 194.392 Q1584.95 189.693 1583.01 187.031 Q1581.07 184.346 1577.69 184.346 Q1574.31 184.346 1572.36 187.031 Q1570.44 189.693 1570.44 194.392 Z\" fill=\"#000000\" fill-rule=\"nonzero\" fill-opacity=\"1\" /></svg>\n"
      ]
     },
     "metadata": {},
     "output_type": "display_data"
    }
   ],
   "source": [
    "p = Plots.plot(\n",
    "    log10.(grad),\n",
    "    size=(500,350),\n",
    "    label=[L\"with $B=2$ constraint\" \"standard\"], \n",
    "    legend=:topright,\n",
    "    xlabel=\"Iteration\",\n",
    "    ylabel=L\"\\log_{10}\\left(||\\!\\mathrm{step}\\,|\\!|_\\infty\\right)\",\n",
    "    ylim=(-7, 3),\n",
    "    xlim=(0, 201),\n",
    "    c=:black,\n",
    "    linestyle=[:solid :dot],\n",
    "    linewidth=1.5\n",
    "    )"
   ]
  },
  {
   "cell_type": "code",
   "execution_count": 174,
   "metadata": {},
   "outputs": [
    {
     "data": {
      "text/plain": [
       "\"/local/lmseifert/Infleqtion/research-superstaq/research_superstaq/theory/shaken_lattice/Max_QC/patent_figs/step_size.pdf\""
      ]
     },
     "metadata": {},
     "output_type": "display_data"
    }
   ],
   "source": [
    "Plots.savefig(p, \"patent_figs/step_size.pdf\")"
   ]
  },
  {
   "cell_type": "code",
   "execution_count": 175,
   "metadata": {},
   "outputs": [
    {
     "data": {
      "image/png": "[encoded data removed]",
      "image/svg+xml": [
       "<?xml version=\"1.0\" encoding=\"utf-8\"?>\n",
       "<svg xmlns=\"http://www.w3.org/2000/svg\" xmlns:xlink=\"http://www.w3.org/1999/xlink\" width=\"500\" height=\"350\" viewBox=\"0 0 2000 1400\">\n",
       "<defs>\n",
       "  <clipPath id=\"clip800\">\n",
       "    <rect x=\"0\" y=\"0\" width=\"2000\" height=\"1400\"/>\n",
       "  </clipPath>\n",
       "</defs>\n",
       "<path clip-path=\"url(#clip800)\" d=\"M0 1400 L2000 1400 L2000 0 L0 0  Z\" fill=\"#ffffff\" fill-rule=\"evenodd\" fill-opacity=\"1\"/>\n",
       "<defs>\n",
       "  <clipPath id=\"clip801\">\n",
       "    <rect x=\"400\" y=\"0\" width=\"1401\" height=\"1400\"/>\n",
       "  </clipPath>\n",
       "</defs>\n",
       "<defs>\n",
       "  <clipPath id=\"clip802\">\n",
       "    <rect x=\"215\" y=\"47\" width=\"1738\" height=\"1175\"/>\n",
       "  </clipPath>\n",
       "</defs>\n",
       "<path clip-path=\"url(#clip800)\" d=\"M230.765 1221.08 L1952.76 1221.08 L1952.76 47.2441 L230.765 47.2441  Z\" fill=\"#ffffff\" fill-rule=\"evenodd\" fill-opacity=\"1\"/>\n",
       "<defs>\n",
       "  <clipPath id=\"clip803\">\n",
       "    <rect x=\"230\" y=\"47\" width=\"1723\" height=\"1175\"/>\n",
       "  </clipPath>\n",
       "</defs>\n",
       "<polyline clip-path=\"url(#clip803)\" style=\"stroke:#000000; stroke-linecap:round; stroke-linejoin:round; stroke-width:2; stroke-opacity:0.1; fill:none\" points=\"230.765,1221.08 230.765,47.2441 \"/>\n",
       "<polyline clip-path=\"url(#clip803)\" style=\"stroke:#000000; stroke-linecap:round; stroke-linejoin:round; stroke-width:2; stroke-opacity:0.1; fill:none\" points=\"659.121,1221.08 659.121,47.2441 \"/>\n",
       "<polyline clip-path=\"url(#clip803)\" style=\"stroke:#000000; stroke-linecap:round; stroke-linejoin:round; stroke-width:2; stroke-opacity:0.1; fill:none\" points=\"1087.48,1221.08 1087.48,47.2441 \"/>\n",
       "<polyline clip-path=\"url(#clip803)\" style=\"stroke:#000000; stroke-linecap:round; stroke-linejoin:round; stroke-width:2; stroke-opacity:0.1; fill:none\" points=\"1515.83,1221.08 1515.83,47.2441 \"/>\n",
       "<polyline clip-path=\"url(#clip803)\" style=\"stroke:#000000; stroke-linecap:round; stroke-linejoin:round; stroke-width:2; stroke-opacity:0.1; fill:none\" points=\"1944.19,1221.08 1944.19,47.2441 \"/>\n",
       "<polyline clip-path=\"url(#clip800)\" style=\"stroke:#000000; stroke-linecap:round; stroke-linejoin:round; stroke-width:4; stroke-opacity:1; fill:none\" points=\"230.765,1221.08 1952.76,1221.08 \"/>\n",
       "<polyline clip-path=\"url(#clip800)\" style=\"stroke:#000000; stroke-linecap:round; stroke-linejoin:round; stroke-width:4; stroke-opacity:1; fill:none\" points=\"230.765,1221.08 230.765,1202.18 \"/>\n",
       "<polyline clip-path=\"url(#clip800)\" style=\"stroke:#000000; stroke-linecap:round; stroke-linejoin:round; stroke-width:4; stroke-opacity:1; fill:none\" points=\"659.121,1221.08 659.121,1202.18 \"/>\n",
       "<polyline clip-path=\"url(#clip800)\" style=\"stroke:#000000; stroke-linecap:round; stroke-linejoin:round; stroke-width:4; stroke-opacity:1; fill:none\" points=\"1087.48,1221.08 1087.48,1202.18 \"/>\n",
       "<polyline clip-path=\"url(#clip800)\" style=\"stroke:#000000; stroke-linecap:round; stroke-linejoin:round; stroke-width:4; stroke-opacity:1; fill:none\" points=\"1515.83,1221.08 1515.83,1202.18 \"/>\n",
       "<polyline clip-path=\"url(#clip800)\" style=\"stroke:#000000; stroke-linecap:round; stroke-linejoin:round; stroke-width:4; stroke-opacity:1; fill:none\" points=\"1944.19,1221.08 1944.19,1202.18 \"/>\n",
       "<path clip-path=\"url(#clip800)\" d=\"M230.765 1248.79 Q227.154 1248.79 225.326 1252.36 Q223.52 1255.9 223.52 1263.03 Q223.52 1270.14 225.326 1273.7 Q227.154 1277.24 230.765 1277.24 Q234.4 1277.24 236.205 1273.7 Q238.034 1270.14 238.034 1263.03 Q238.034 1255.9 236.205 1252.36 Q234.4 1248.79 230.765 1248.79 M230.765 1245.09 Q236.576 1245.09 239.631 1249.7 Q242.71 1254.28 242.71 1263.03 Q242.71 1271.76 239.631 1276.36 Q236.576 1280.95 230.765 1280.95 Q224.955 1280.95 221.877 1276.36 Q218.821 1271.76 218.821 1263.03 Q218.821 1254.28 221.877 1249.7 Q224.955 1245.09 230.765 1245.09 Z\" fill=\"#000000\" fill-rule=\"nonzero\" fill-opacity=\"1\" /><path clip-path=\"url(#clip800)\" d=\"M633.82 1245.72 L652.177 1245.72 L652.177 1249.65 L638.103 1249.65 L638.103 1258.12 Q639.121 1257.78 640.14 1257.61 Q641.158 1257.43 642.177 1257.43 Q647.964 1257.43 651.343 1260.6 Q654.723 1263.77 654.723 1269.19 Q654.723 1274.77 651.251 1277.87 Q647.779 1280.95 641.459 1280.95 Q639.283 1280.95 637.015 1280.58 Q634.769 1280.21 632.362 1279.47 L632.362 1274.77 Q634.445 1275.9 636.668 1276.46 Q638.89 1277.01 641.367 1277.01 Q645.371 1277.01 647.709 1274.91 Q650.047 1272.8 650.047 1269.19 Q650.047 1265.58 647.709 1263.47 Q645.371 1261.36 641.367 1261.36 Q639.492 1261.36 637.617 1261.78 Q635.765 1262.2 633.82 1263.08 L633.82 1245.72 Z\" fill=\"#000000\" fill-rule=\"nonzero\" fill-opacity=\"1\" /><path clip-path=\"url(#clip800)\" d=\"M673.936 1248.79 Q670.325 1248.79 668.496 1252.36 Q666.691 1255.9 666.691 1263.03 Q666.691 1270.14 668.496 1273.7 Q670.325 1277.24 673.936 1277.24 Q677.57 1277.24 679.376 1273.7 Q681.204 1270.14 681.204 1263.03 Q681.204 1255.9 679.376 1252.36 Q677.57 1248.79 673.936 1248.79 M673.936 1245.09 Q679.746 1245.09 682.802 1249.7 Q685.88 1254.28 685.88 1263.03 Q685.88 1271.76 682.802 1276.36 Q679.746 1280.95 673.936 1280.95 Q668.126 1280.95 665.047 1276.36 Q661.992 1271.76 661.992 1263.03 Q661.992 1254.28 665.047 1249.7 Q668.126 1245.09 673.936 1245.09 Z\" fill=\"#000000\" fill-rule=\"nonzero\" fill-opacity=\"1\" /><path clip-path=\"url(#clip800)\" d=\"M1047.08 1276.34 L1054.72 1276.34 L1054.72 1249.98 L1046.41 1251.64 L1046.41 1247.38 L1054.68 1245.72 L1059.35 1245.72 L1059.35 1276.34 L1066.99 1276.34 L1066.99 1280.28 L1047.08 1280.28 L1047.08 1276.34 Z\" fill=\"#000000\" fill-rule=\"nonzero\" fill-opacity=\"1\" /><path clip-path=\"url(#clip800)\" d=\"M1086.44 1248.79 Q1082.82 1248.79 1081 1252.36 Q1079.19 1255.9 1079.19 1263.03 Q1079.19 1270.14 1081 1273.7 Q1082.82 1277.24 1086.44 1277.24 Q1090.07 1277.24 1091.88 1273.7 Q1093.7 1270.14 1093.7 1263.03 Q1093.7 1255.9 1091.88 1252.36 Q1090.07 1248.79 1086.44 1248.79 M1086.44 1245.09 Q1092.25 1245.09 1095.3 1249.7 Q1098.38 1254.28 1098.38 1263.03 Q1098.38 1271.76 1095.3 1276.36 Q1092.25 1280.95 1086.44 1280.95 Q1080.63 1280.95 1077.55 1276.36 Q1074.49 1271.76 1074.49 1263.03 Q1074.49 1254.28 1077.55 1249.7 Q1080.63 1245.09 1086.44 1245.09 Z\" fill=\"#000000\" fill-rule=\"nonzero\" fill-opacity=\"1\" /><path clip-path=\"url(#clip800)\" d=\"M1116.6 1248.79 Q1112.99 1248.79 1111.16 1252.36 Q1109.35 1255.9 1109.35 1263.03 Q1109.35 1270.14 1111.16 1273.7 Q1112.99 1277.24 1116.6 1277.24 Q1120.23 1277.24 1122.04 1273.7 Q1123.87 1270.14 1123.87 1263.03 Q1123.87 1255.9 1122.04 1252.36 Q1120.23 1248.79 1116.6 1248.79 M1116.6 1245.09 Q1122.41 1245.09 1125.46 1249.7 Q1128.54 1254.28 1128.54 1263.03 Q1128.54 1271.76 1125.46 1276.36 Q1122.41 1280.95 1116.6 1280.95 Q1110.79 1280.95 1107.71 1276.36 Q1104.65 1271.76 1104.65 1263.03 Q1104.65 1254.28 1107.71 1249.7 Q1110.79 1245.09 1116.6 1245.09 Z\" fill=\"#000000\" fill-rule=\"nonzero\" fill-opacity=\"1\" /><path clip-path=\"url(#clip800)\" d=\"M1475.44 1276.34 L1483.08 1276.34 L1483.08 1249.98 L1474.77 1251.64 L1474.77 1247.38 L1483.03 1245.72 L1487.71 1245.72 L1487.71 1276.34 L1495.35 1276.34 L1495.35 1280.28 L1475.44 1280.28 L1475.44 1276.34 Z\" fill=\"#000000\" fill-rule=\"nonzero\" fill-opacity=\"1\" /><path clip-path=\"url(#clip800)\" d=\"M1504.84 1245.72 L1523.19 1245.72 L1523.19 1249.65 L1509.12 1249.65 L1509.12 1258.12 Q1510.14 1257.78 1511.16 1257.61 Q1512.18 1257.43 1513.19 1257.43 Q1518.98 1257.43 1522.36 1260.6 Q1525.74 1263.77 1525.74 1269.19 Q1525.74 1274.77 1522.27 1277.87 Q1518.8 1280.95 1512.48 1280.95 Q1510.3 1280.95 1508.03 1280.58 Q1505.79 1280.21 1503.38 1279.47 L1503.38 1274.77 Q1505.46 1275.9 1507.68 1276.46 Q1509.91 1277.01 1512.38 1277.01 Q1516.39 1277.01 1518.73 1274.91 Q1521.06 1272.8 1521.06 1269.19 Q1521.06 1265.58 1518.73 1263.47 Q1516.39 1261.36 1512.38 1261.36 Q1510.51 1261.36 1508.63 1261.78 Q1506.78 1262.2 1504.84 1263.08 L1504.84 1245.72 Z\" fill=\"#000000\" fill-rule=\"nonzero\" fill-opacity=\"1\" /><path clip-path=\"url(#clip800)\" d=\"M1544.95 1248.79 Q1541.34 1248.79 1539.51 1252.36 Q1537.71 1255.9 1537.71 1263.03 Q1537.71 1270.14 1539.51 1273.7 Q1541.34 1277.24 1544.95 1277.24 Q1548.59 1277.24 1550.39 1273.7 Q1552.22 1270.14 1552.22 1263.03 Q1552.22 1255.9 1550.39 1252.36 Q1548.59 1248.79 1544.95 1248.79 M1544.95 1245.09 Q1550.76 1245.09 1553.82 1249.7 Q1556.9 1254.28 1556.9 1263.03 Q1556.9 1271.76 1553.82 1276.36 Q1550.76 1280.95 1544.95 1280.95 Q1539.14 1280.95 1536.06 1276.36 Q1533.01 1271.76 1533.01 1263.03 Q1533.01 1254.28 1536.06 1249.7 Q1539.14 1245.09 1544.95 1245.09 Z\" fill=\"#000000\" fill-rule=\"nonzero\" fill-opacity=\"1\" /><path clip-path=\"url(#clip800)\" d=\"M1907.88 1276.34 L1924.2 1276.34 L1924.2 1280.28 L1902.26 1280.28 L1902.26 1276.34 Q1904.92 1273.59 1909.5 1268.96 Q1914.11 1264.3 1915.29 1262.96 Q1917.53 1260.44 1918.41 1258.7 Q1919.32 1256.94 1919.32 1255.25 Q1919.32 1252.5 1917.37 1250.76 Q1915.45 1249.03 1912.35 1249.03 Q1910.15 1249.03 1907.7 1249.79 Q1905.27 1250.55 1902.49 1252.1 L1902.49 1247.38 Q1905.31 1246.25 1907.77 1245.67 Q1910.22 1245.09 1912.26 1245.09 Q1917.63 1245.09 1920.82 1247.78 Q1924.02 1250.46 1924.02 1254.95 Q1924.02 1257.08 1923.21 1259 Q1922.42 1260.9 1920.31 1263.49 Q1919.73 1264.16 1916.63 1267.38 Q1913.53 1270.58 1907.88 1276.34 Z\" fill=\"#000000\" fill-rule=\"nonzero\" fill-opacity=\"1\" /><path clip-path=\"url(#clip800)\" d=\"M1944.02 1248.79 Q1940.4 1248.79 1938.58 1252.36 Q1936.77 1255.9 1936.77 1263.03 Q1936.77 1270.14 1938.58 1273.7 Q1940.4 1277.24 1944.02 1277.24 Q1947.65 1277.24 1949.45 1273.7 Q1951.28 1270.14 1951.28 1263.03 Q1951.28 1255.9 1949.45 1252.36 Q1947.65 1248.79 1944.02 1248.79 M1944.02 1245.09 Q1949.83 1245.09 1952.88 1249.7 Q1955.96 1254.28 1955.96 1263.03 Q1955.96 1271.76 1952.88 1276.36 Q1949.83 1280.95 1944.02 1280.95 Q1938.21 1280.95 1935.13 1276.36 Q1932.07 1271.76 1932.07 1263.03 Q1932.07 1254.28 1935.13 1249.7 Q1938.21 1245.09 1944.02 1245.09 Z\" fill=\"#000000\" fill-rule=\"nonzero\" fill-opacity=\"1\" /><path clip-path=\"url(#clip800)\" d=\"M1974.18 1248.79 Q1970.57 1248.79 1968.74 1252.36 Q1966.93 1255.9 1966.93 1263.03 Q1966.93 1270.14 1968.74 1273.7 Q1970.57 1277.24 1974.18 1277.24 Q1977.81 1277.24 1979.62 1273.7 Q1981.45 1270.14 1981.45 1263.03 Q1981.45 1255.9 1979.62 1252.36 Q1977.81 1248.79 1974.18 1248.79 M1974.18 1245.09 Q1979.99 1245.09 1983.04 1249.7 Q1986.12 1254.28 1986.12 1263.03 Q1986.12 1271.76 1983.04 1276.36 Q1979.99 1280.95 1974.18 1280.95 Q1968.37 1280.95 1965.29 1276.36 Q1962.23 1271.76 1962.23 1263.03 Q1962.23 1254.28 1965.29 1249.7 Q1968.37 1245.09 1974.18 1245.09 Z\" fill=\"#000000\" fill-rule=\"nonzero\" fill-opacity=\"1\" /><path clip-path=\"url(#clip800)\" d=\"M959.481 1312.42 L965.911 1312.42 L965.911 1359.94 L959.481 1359.94 L959.481 1312.42 Z\" fill=\"#000000\" fill-rule=\"nonzero\" fill-opacity=\"1\" /><path clip-path=\"url(#clip800)\" d=\"M984.244 1314.17 L984.244 1324.29 L996.307 1324.29 L996.307 1328.84 L984.244 1328.84 L984.244 1348.2 Q984.244 1352.56 985.421 1353.8 Q986.631 1355.04 990.291 1355.04 L996.307 1355.04 L996.307 1359.94 L990.291 1359.94 Q983.512 1359.94 980.934 1357.43 Q978.356 1354.88 978.356 1348.2 L978.356 1328.84 L974.059 1328.84 L974.059 1324.29 L978.356 1324.29 L978.356 1314.17 L984.244 1314.17 Z\" fill=\"#000000\" fill-rule=\"nonzero\" fill-opacity=\"1\" /><path clip-path=\"url(#clip800)\" d=\"M1034.5 1340.65 L1034.5 1343.52 L1007.57 1343.52 Q1007.96 1349.56 1011.2 1352.75 Q1014.48 1355.9 1020.31 1355.9 Q1023.68 1355.9 1026.83 1355.07 Q1030.01 1354.24 1033.13 1352.59 L1033.13 1358.13 Q1029.98 1359.46 1026.67 1360.16 Q1023.36 1360.86 1019.96 1360.86 Q1011.43 1360.86 1006.43 1355.9 Q1001.46 1350.93 1001.46 1342.47 Q1001.46 1333.71 1006.17 1328.59 Q1010.92 1323.43 1018.94 1323.43 Q1026.13 1323.43 1030.3 1328.08 Q1034.5 1332.69 1034.5 1340.65 M1028.64 1338.93 Q1028.58 1334.13 1025.94 1331.26 Q1023.33 1328.4 1019 1328.4 Q1014.1 1328.4 1011.14 1331.17 Q1008.21 1333.94 1007.77 1338.96 L1028.64 1338.93 Z\" fill=\"#000000\" fill-rule=\"nonzero\" fill-opacity=\"1\" /><path clip-path=\"url(#clip800)\" d=\"M1064.77 1329.77 Q1063.78 1329.19 1062.61 1328.94 Q1061.46 1328.65 1060.06 1328.65 Q1055.09 1328.65 1052.42 1331.9 Q1049.78 1335.11 1049.78 1341.16 L1049.78 1359.94 L1043.89 1359.94 L1043.89 1324.29 L1049.78 1324.29 L1049.78 1329.83 Q1051.62 1326.58 1054.58 1325.02 Q1057.54 1323.43 1061.78 1323.43 Q1062.38 1323.43 1063.11 1323.53 Q1063.85 1323.59 1064.74 1323.75 L1064.77 1329.77 Z\" fill=\"#000000\" fill-rule=\"nonzero\" fill-opacity=\"1\" /><path clip-path=\"url(#clip800)\" d=\"M1087.11 1342.02 Q1080.02 1342.02 1077.28 1343.64 Q1074.54 1345.27 1074.54 1349.18 Q1074.54 1352.3 1076.58 1354.15 Q1078.65 1355.96 1082.18 1355.96 Q1087.05 1355.96 1089.98 1352.52 Q1092.94 1349.05 1092.94 1343.33 L1092.94 1342.02 L1087.11 1342.02 M1098.79 1339.6 L1098.79 1359.94 L1092.94 1359.94 L1092.94 1354.53 Q1090.93 1357.78 1087.94 1359.34 Q1084.95 1360.86 1080.62 1360.86 Q1075.15 1360.86 1071.9 1357.81 Q1068.68 1354.72 1068.68 1349.56 Q1068.68 1343.55 1072.7 1340.49 Q1076.74 1337.44 1084.73 1337.44 L1092.94 1337.44 L1092.94 1336.86 Q1092.94 1332.82 1090.26 1330.63 Q1087.62 1328.4 1082.82 1328.4 Q1079.76 1328.4 1076.86 1329.13 Q1073.97 1329.86 1071.29 1331.33 L1071.29 1325.92 Q1074.51 1324.67 1077.53 1324.07 Q1080.56 1323.43 1083.42 1323.43 Q1091.16 1323.43 1094.98 1327.44 Q1098.79 1331.45 1098.79 1339.6 Z\" fill=\"#000000\" fill-rule=\"nonzero\" fill-opacity=\"1\" /><path clip-path=\"url(#clip800)\" d=\"M1116.65 1314.17 L1116.65 1324.29 L1128.71 1324.29 L1128.71 1328.84 L1116.65 1328.84 L1116.65 1348.2 Q1116.65 1352.56 1117.83 1353.8 Q1119.04 1355.04 1122.7 1355.04 L1128.71 1355.04 L1128.71 1359.94 L1122.7 1359.94 Q1115.92 1359.94 1113.34 1357.43 Q1110.76 1354.88 1110.76 1348.2 L1110.76 1328.84 L1106.47 1328.84 L1106.47 1324.29 L1110.76 1324.29 L1110.76 1314.17 L1116.65 1314.17 Z\" fill=\"#000000\" fill-rule=\"nonzero\" fill-opacity=\"1\" /><path clip-path=\"url(#clip800)\" d=\"M1136.42 1324.29 L1142.27 1324.29 L1142.27 1359.94 L1136.42 1359.94 L1136.42 1324.29 M1136.42 1310.41 L1142.27 1310.41 L1142.27 1317.83 L1136.42 1317.83 L1136.42 1310.41 Z\" fill=\"#000000\" fill-rule=\"nonzero\" fill-opacity=\"1\" /><path clip-path=\"url(#clip800)\" d=\"M1168.34 1328.4 Q1163.63 1328.4 1160.89 1332.09 Q1158.15 1335.75 1158.15 1342.15 Q1158.15 1348.55 1160.86 1352.24 Q1163.6 1355.9 1168.34 1355.9 Q1173.02 1355.9 1175.76 1352.21 Q1178.49 1348.51 1178.49 1342.15 Q1178.49 1335.81 1175.76 1332.12 Q1173.02 1328.4 1168.34 1328.4 M1168.34 1323.43 Q1175.98 1323.43 1180.34 1328.4 Q1184.7 1333.36 1184.7 1342.15 Q1184.7 1350.9 1180.34 1355.9 Q1175.98 1360.86 1168.34 1360.86 Q1160.67 1360.86 1156.31 1355.9 Q1151.98 1350.9 1151.98 1342.15 Q1151.98 1333.36 1156.31 1328.4 Q1160.67 1323.43 1168.34 1323.43 Z\" fill=\"#000000\" fill-rule=\"nonzero\" fill-opacity=\"1\" /><path clip-path=\"url(#clip800)\" d=\"M1224.04 1338.42 L1224.04 1359.94 L1218.18 1359.94 L1218.18 1338.61 Q1218.18 1333.55 1216.21 1331.04 Q1214.24 1328.53 1210.29 1328.53 Q1205.55 1328.53 1202.81 1331.55 Q1200.07 1334.57 1200.07 1339.79 L1200.07 1359.94 L1194.18 1359.94 L1194.18 1324.29 L1200.07 1324.29 L1200.07 1329.83 Q1202.17 1326.62 1205.01 1325.02 Q1207.87 1323.43 1211.6 1323.43 Q1217.74 1323.43 1220.89 1327.25 Q1224.04 1331.04 1224.04 1338.42 Z\" fill=\"#000000\" fill-rule=\"nonzero\" fill-opacity=\"1\" /><polyline clip-path=\"url(#clip803)\" style=\"stroke:#000000; stroke-linecap:round; stroke-linejoin:round; stroke-width:2; stroke-opacity:0.1; fill:none\" points=\"230.765,1221.08 1952.76,1221.08 \"/>\n",
       "<polyline clip-path=\"url(#clip803)\" style=\"stroke:#000000; stroke-linecap:round; stroke-linejoin:round; stroke-width:2; stroke-opacity:0.1; fill:none\" points=\"230.765,1040.49 1952.76,1040.49 \"/>\n",
       "<polyline clip-path=\"url(#clip803)\" style=\"stroke:#000000; stroke-linecap:round; stroke-linejoin:round; stroke-width:2; stroke-opacity:0.1; fill:none\" points=\"230.765,859.897 1952.76,859.897 \"/>\n",
       "<polyline clip-path=\"url(#clip803)\" style=\"stroke:#000000; stroke-linecap:round; stroke-linejoin:round; stroke-width:2; stroke-opacity:0.1; fill:none\" points=\"230.765,679.307 1952.76,679.307 \"/>\n",
       "<polyline clip-path=\"url(#clip803)\" style=\"stroke:#000000; stroke-linecap:round; stroke-linejoin:round; stroke-width:2; stroke-opacity:0.1; fill:none\" points=\"230.765,498.718 1952.76,498.718 \"/>\n",
       "<polyline clip-path=\"url(#clip803)\" style=\"stroke:#000000; stroke-linecap:round; stroke-linejoin:round; stroke-width:2; stroke-opacity:0.1; fill:none\" points=\"230.765,318.128 1952.76,318.128 \"/>\n",
       "<polyline clip-path=\"url(#clip803)\" style=\"stroke:#000000; stroke-linecap:round; stroke-linejoin:round; stroke-width:2; stroke-opacity:0.1; fill:none\" points=\"230.765,137.539 1952.76,137.539 \"/>\n",
       "<polyline clip-path=\"url(#clip800)\" style=\"stroke:#000000; stroke-linecap:round; stroke-linejoin:round; stroke-width:4; stroke-opacity:1; fill:none\" points=\"230.765,1221.08 230.765,47.2441 \"/>\n",
       "<polyline clip-path=\"url(#clip800)\" style=\"stroke:#000000; stroke-linecap:round; stroke-linejoin:round; stroke-width:4; stroke-opacity:1; fill:none\" points=\"230.765,1221.08 249.663,1221.08 \"/>\n",
       "<polyline clip-path=\"url(#clip800)\" style=\"stroke:#000000; stroke-linecap:round; stroke-linejoin:round; stroke-width:4; stroke-opacity:1; fill:none\" points=\"230.765,1040.49 249.663,1040.49 \"/>\n",
       "<polyline clip-path=\"url(#clip800)\" style=\"stroke:#000000; stroke-linecap:round; stroke-linejoin:round; stroke-width:4; stroke-opacity:1; fill:none\" points=\"230.765,859.897 249.663,859.897 \"/>\n",
       "<polyline clip-path=\"url(#clip800)\" style=\"stroke:#000000; stroke-linecap:round; stroke-linejoin:round; stroke-width:4; stroke-opacity:1; fill:none\" points=\"230.765,679.307 249.663,679.307 \"/>\n",
       "<polyline clip-path=\"url(#clip800)\" style=\"stroke:#000000; stroke-linecap:round; stroke-linejoin:round; stroke-width:4; stroke-opacity:1; fill:none\" points=\"230.765,498.718 249.663,498.718 \"/>\n",
       "<polyline clip-path=\"url(#clip800)\" style=\"stroke:#000000; stroke-linecap:round; stroke-linejoin:round; stroke-width:4; stroke-opacity:1; fill:none\" points=\"230.765,318.128 249.663,318.128 \"/>\n",
       "<polyline clip-path=\"url(#clip800)\" style=\"stroke:#000000; stroke-linecap:round; stroke-linejoin:round; stroke-width:4; stroke-opacity:1; fill:none\" points=\"230.765,137.539 249.663,137.539 \"/>\n",
       "<path clip-path=\"url(#clip800)\" d=\"M188.821 1206.87 Q185.21 1206.87 183.381 1210.44 Q181.576 1213.98 181.576 1221.11 Q181.576 1228.22 183.381 1231.78 Q185.21 1235.32 188.821 1235.32 Q192.455 1235.32 194.261 1231.78 Q196.089 1228.22 196.089 1221.11 Q196.089 1213.98 194.261 1210.44 Q192.455 1206.87 188.821 1206.87 M188.821 1203.17 Q194.631 1203.17 197.687 1207.78 Q200.765 1212.36 200.765 1221.11 Q200.765 1229.84 197.687 1234.44 Q194.631 1239.03 188.821 1239.03 Q183.011 1239.03 179.932 1234.44 Q176.877 1229.84 176.877 1221.11 Q176.877 1212.36 179.932 1207.78 Q183.011 1203.17 188.821 1203.17 Z\" fill=\"#000000\" fill-rule=\"nonzero\" fill-opacity=\"1\" /><path clip-path=\"url(#clip800)\" d=\"M152.687 1053.83 L169.006 1053.83 L169.006 1057.77 L147.062 1057.77 L147.062 1053.83 Q149.724 1051.08 154.307 1046.45 Q158.914 1041.79 160.094 1040.45 Q162.34 1037.93 163.219 1036.19 Q164.122 1034.43 164.122 1032.74 Q164.122 1029.99 162.178 1028.25 Q160.256 1026.52 157.154 1026.52 Q154.955 1026.52 152.502 1027.28 Q150.071 1028.04 147.293 1029.6 L147.293 1024.87 Q150.117 1023.74 152.571 1023.16 Q155.025 1022.58 157.062 1022.58 Q162.432 1022.58 165.627 1025.27 Q168.821 1027.95 168.821 1032.44 Q168.821 1034.57 168.011 1036.49 Q167.224 1038.39 165.117 1040.98 Q164.539 1041.66 161.437 1044.87 Q158.335 1048.07 152.687 1053.83 Z\" fill=\"#000000\" fill-rule=\"nonzero\" fill-opacity=\"1\" /><path clip-path=\"url(#clip800)\" d=\"M188.821 1026.29 Q185.21 1026.29 183.381 1029.85 Q181.576 1033.39 181.576 1040.52 Q181.576 1047.63 183.381 1051.19 Q185.21 1054.73 188.821 1054.73 Q192.455 1054.73 194.261 1051.19 Q196.089 1047.63 196.089 1040.52 Q196.089 1033.39 194.261 1029.85 Q192.455 1026.29 188.821 1026.29 M188.821 1022.58 Q194.631 1022.58 197.687 1027.19 Q200.765 1031.77 200.765 1040.52 Q200.765 1049.25 197.687 1053.85 Q194.631 1058.44 188.821 1058.44 Q183.011 1058.44 179.932 1053.85 Q176.877 1049.25 176.877 1040.52 Q176.877 1031.77 179.932 1027.19 Q183.011 1022.58 188.821 1022.58 Z\" fill=\"#000000\" fill-rule=\"nonzero\" fill-opacity=\"1\" /><path clip-path=\"url(#clip800)\" d=\"M161.506 846.691 L149.701 865.14 L161.506 865.14 L161.506 846.691 M160.279 842.617 L166.159 842.617 L166.159 865.14 L171.09 865.14 L171.09 869.029 L166.159 869.029 L166.159 877.177 L161.506 877.177 L161.506 869.029 L145.905 869.029 L145.905 864.515 L160.279 842.617 Z\" fill=\"#000000\" fill-rule=\"nonzero\" fill-opacity=\"1\" /><path clip-path=\"url(#clip800)\" d=\"M188.821 845.696 Q185.21 845.696 183.381 849.26 Q181.576 852.802 181.576 859.932 Q181.576 867.038 183.381 870.603 Q185.21 874.144 188.821 874.144 Q192.455 874.144 194.261 870.603 Q196.089 867.038 196.089 859.932 Q196.089 852.802 194.261 849.26 Q192.455 845.696 188.821 845.696 M188.821 841.992 Q194.631 841.992 197.687 846.598 Q200.765 851.182 200.765 859.932 Q200.765 868.658 197.687 873.265 Q194.631 877.848 188.821 877.848 Q183.011 877.848 179.932 873.265 Q176.877 868.658 176.877 859.932 Q176.877 851.182 179.932 846.598 Q183.011 841.992 188.821 841.992 Z\" fill=\"#000000\" fill-rule=\"nonzero\" fill-opacity=\"1\" /><path clip-path=\"url(#clip800)\" d=\"M159.238 677.444 Q156.09 677.444 154.238 679.597 Q152.409 681.749 152.409 685.499 Q152.409 689.226 154.238 691.402 Q156.09 693.555 159.238 693.555 Q162.386 693.555 164.215 691.402 Q166.066 689.226 166.066 685.499 Q166.066 681.749 164.215 679.597 Q162.386 677.444 159.238 677.444 M168.52 662.791 L168.52 667.05 Q166.761 666.217 164.955 665.777 Q163.173 665.338 161.414 665.338 Q156.784 665.338 154.33 668.462 Q151.9 671.587 151.553 677.907 Q152.918 675.893 154.979 674.828 Q157.039 673.74 159.516 673.74 Q164.724 673.74 167.733 676.912 Q170.766 680.06 170.766 685.499 Q170.766 690.823 167.617 694.041 Q164.469 697.259 159.238 697.259 Q153.242 697.259 150.071 692.675 Q146.9 688.069 146.9 679.342 Q146.9 671.148 150.789 666.287 Q154.678 661.402 161.229 661.402 Q162.988 661.402 164.77 661.75 Q166.576 662.097 168.52 662.791 Z\" fill=\"#000000\" fill-rule=\"nonzero\" fill-opacity=\"1\" /><path clip-path=\"url(#clip800)\" d=\"M188.821 665.106 Q185.21 665.106 183.381 668.671 Q181.576 672.212 181.576 679.342 Q181.576 686.449 183.381 690.013 Q185.21 693.555 188.821 693.555 Q192.455 693.555 194.261 690.013 Q196.089 686.449 196.089 679.342 Q196.089 672.212 194.261 668.671 Q192.455 665.106 188.821 665.106 M188.821 661.402 Q194.631 661.402 197.687 666.009 Q200.765 670.592 200.765 679.342 Q200.765 688.069 197.687 692.675 Q194.631 697.259 188.821 697.259 Q183.011 697.259 179.932 692.675 Q176.877 688.069 176.877 679.342 Q176.877 670.592 179.932 666.009 Q183.011 661.402 188.821 661.402 Z\" fill=\"#000000\" fill-rule=\"nonzero\" fill-opacity=\"1\" /><path clip-path=\"url(#clip800)\" d=\"M158.659 499.586 Q155.326 499.586 153.404 501.368 Q151.506 503.151 151.506 506.276 Q151.506 509.401 153.404 511.183 Q155.326 512.965 158.659 512.965 Q161.992 512.965 163.914 511.183 Q165.835 509.378 165.835 506.276 Q165.835 503.151 163.914 501.368 Q162.016 499.586 158.659 499.586 M153.983 497.595 Q150.974 496.854 149.284 494.794 Q147.617 492.734 147.617 489.771 Q147.617 485.628 150.557 483.22 Q153.52 480.813 158.659 480.813 Q163.821 480.813 166.761 483.22 Q169.701 485.628 169.701 489.771 Q169.701 492.734 168.011 494.794 Q166.344 496.854 163.358 497.595 Q166.738 498.382 168.613 500.674 Q170.511 502.966 170.511 506.276 Q170.511 511.299 167.432 513.984 Q164.377 516.669 158.659 516.669 Q152.942 516.669 149.863 513.984 Q146.807 511.299 146.807 506.276 Q146.807 502.966 148.705 500.674 Q150.604 498.382 153.983 497.595 M152.27 490.211 Q152.27 492.896 153.937 494.401 Q155.627 495.905 158.659 495.905 Q161.668 495.905 163.358 494.401 Q165.071 492.896 165.071 490.211 Q165.071 487.526 163.358 486.021 Q161.668 484.517 158.659 484.517 Q155.627 484.517 153.937 486.021 Q152.27 487.526 152.27 490.211 Z\" fill=\"#000000\" fill-rule=\"nonzero\" fill-opacity=\"1\" /><path clip-path=\"url(#clip800)\" d=\"M188.821 484.517 Q185.21 484.517 183.381 488.081 Q181.576 491.623 181.576 498.753 Q181.576 505.859 183.381 509.424 Q185.21 512.965 188.821 512.965 Q192.455 512.965 194.261 509.424 Q196.089 505.859 196.089 498.753 Q196.089 491.623 194.261 488.081 Q192.455 484.517 188.821 484.517 M188.821 480.813 Q194.631 480.813 197.687 485.419 Q200.765 490.003 200.765 498.753 Q200.765 507.479 197.687 512.086 Q194.631 516.669 188.821 516.669 Q183.011 516.669 179.932 512.086 Q176.877 507.479 176.877 498.753 Q176.877 490.003 179.932 485.419 Q183.011 480.813 188.821 480.813 Z\" fill=\"#000000\" fill-rule=\"nonzero\" fill-opacity=\"1\" /><path clip-path=\"url(#clip800)\" d=\"M119.307 331.473 L126.946 331.473 L126.946 305.108 L118.636 306.774 L118.636 302.515 L126.9 300.848 L131.576 300.848 L131.576 331.473 L139.215 331.473 L139.215 335.408 L119.307 335.408 L119.307 331.473 Z\" fill=\"#000000\" fill-rule=\"nonzero\" fill-opacity=\"1\" /><path clip-path=\"url(#clip800)\" d=\"M158.659 303.927 Q155.048 303.927 153.219 307.492 Q151.414 311.033 151.414 318.163 Q151.414 325.27 153.219 328.834 Q155.048 332.376 158.659 332.376 Q162.293 332.376 164.099 328.834 Q165.928 325.27 165.928 318.163 Q165.928 311.033 164.099 307.492 Q162.293 303.927 158.659 303.927 M158.659 300.223 Q164.469 300.223 167.525 304.83 Q170.603 309.413 170.603 318.163 Q170.603 326.89 167.525 331.496 Q164.469 336.08 158.659 336.08 Q152.849 336.08 149.77 331.496 Q146.715 326.89 146.715 318.163 Q146.715 309.413 149.77 304.83 Q152.849 300.223 158.659 300.223 Z\" fill=\"#000000\" fill-rule=\"nonzero\" fill-opacity=\"1\" /><path clip-path=\"url(#clip800)\" d=\"M188.821 303.927 Q185.21 303.927 183.381 307.492 Q181.576 311.033 181.576 318.163 Q181.576 325.27 183.381 328.834 Q185.21 332.376 188.821 332.376 Q192.455 332.376 194.261 328.834 Q196.089 325.27 196.089 318.163 Q196.089 311.033 194.261 307.492 Q192.455 303.927 188.821 303.927 M188.821 300.223 Q194.631 300.223 197.687 304.83 Q200.765 309.413 200.765 318.163 Q200.765 326.89 197.687 331.496 Q194.631 336.08 188.821 336.08 Q183.011 336.08 179.932 331.496 Q176.877 326.89 176.877 318.163 Q176.877 309.413 179.932 304.83 Q183.011 300.223 188.821 300.223 Z\" fill=\"#000000\" fill-rule=\"nonzero\" fill-opacity=\"1\" /><path clip-path=\"url(#clip800)\" d=\"M119.307 150.884 L126.946 150.884 L126.946 124.518 L118.636 126.185 L118.636 121.926 L126.9 120.259 L131.576 120.259 L131.576 150.884 L139.215 150.884 L139.215 154.819 L119.307 154.819 L119.307 150.884 Z\" fill=\"#000000\" fill-rule=\"nonzero\" fill-opacity=\"1\" /><path clip-path=\"url(#clip800)\" d=\"M152.687 150.884 L169.006 150.884 L169.006 154.819 L147.062 154.819 L147.062 150.884 Q149.724 148.129 154.307 143.499 Q158.914 138.847 160.094 137.504 Q162.34 134.981 163.219 133.245 Q164.122 131.486 164.122 129.796 Q164.122 127.041 162.178 125.305 Q160.256 123.569 157.154 123.569 Q154.955 123.569 152.502 124.333 Q150.071 125.097 147.293 126.648 L147.293 121.926 Q150.117 120.791 152.571 120.213 Q155.025 119.634 157.062 119.634 Q162.432 119.634 165.627 122.319 Q168.821 125.004 168.821 129.495 Q168.821 131.625 168.011 133.546 Q167.224 135.444 165.117 138.037 Q164.539 138.708 161.437 141.925 Q158.335 145.12 152.687 150.884 Z\" fill=\"#000000\" fill-rule=\"nonzero\" fill-opacity=\"1\" /><path clip-path=\"url(#clip800)\" d=\"M188.821 123.338 Q185.21 123.338 183.381 126.902 Q181.576 130.444 181.576 137.574 Q181.576 144.68 183.381 148.245 Q185.21 151.786 188.821 151.786 Q192.455 151.786 194.261 148.245 Q196.089 144.68 196.089 137.574 Q196.089 130.444 194.261 126.902 Q192.455 123.338 188.821 123.338 M188.821 119.634 Q194.631 119.634 197.687 124.24 Q200.765 128.824 200.765 137.574 Q200.765 146.3 197.687 150.907 Q194.631 155.49 188.821 155.49 Q183.011 155.49 179.932 150.907 Q176.877 146.3 176.877 137.574 Q176.877 128.824 179.932 124.24 Q183.011 119.634 188.821 119.634 Z\" fill=\"#000000\" fill-rule=\"nonzero\" fill-opacity=\"1\" /><path clip-path=\"url(#clip800)\" d=\"M31.2207 862.498 Q31.2207 869.5 36.4405 873.638 Q41.6604 877.744 50.6679 877.744 Q59.6435 877.744 64.8634 873.638 Q70.0833 869.5 70.0833 862.498 Q70.0833 855.496 64.8634 851.422 Q59.6435 847.316 50.6679 847.316 Q41.6604 847.316 36.4405 851.422 Q31.2207 855.496 31.2207 862.498 M26.0008 862.498 Q26.0008 852.504 32.7166 846.52 Q39.4006 840.536 50.6679 840.536 Q61.9034 840.536 68.6192 846.52 Q75.3032 852.504 75.3032 862.498 Q75.3032 872.524 68.6192 878.539 Q61.9352 884.523 50.6679 884.523 Q39.4006 884.523 32.7166 878.539 Q26.0008 872.524 26.0008 862.498 Z\" fill=\"#000000\" fill-rule=\"nonzero\" fill-opacity=\"1\" /><path clip-path=\"url(#clip800)\" d=\"M56.588 805.143 Q50.1268 805.143 46.4665 807.816 Q42.7744 810.458 42.7744 815.105 Q42.7744 819.752 46.4665 822.426 Q50.1268 825.068 56.588 825.068 Q63.0492 825.068 66.7413 822.426 Q70.4016 819.752 70.4016 815.105 Q70.4016 810.458 66.7413 807.816 Q63.0492 805.143 56.588 805.143 M44.1431 825.068 Q40.9602 823.221 39.4324 820.421 Q37.8728 817.588 37.8728 813.673 Q37.8728 807.18 43.0291 803.138 Q48.1853 799.064 56.588 799.064 Q64.9907 799.064 70.147 803.138 Q75.3032 807.18 75.3032 813.673 Q75.3032 817.588 73.7754 820.421 Q72.2158 823.221 69.033 825.068 L74.3802 825.068 L74.3802 830.956 L24.855 830.956 L24.855 825.068 L44.1431 825.068 Z\" fill=\"#000000\" fill-rule=\"nonzero\" fill-opacity=\"1\" /><path clip-path=\"url(#clip800)\" d=\"M38.7322 789.356 L38.7322 783.499 L75.0167 783.499 Q81.828 783.499 84.8836 786.109 Q87.9391 788.687 87.9391 794.448 L87.9391 796.676 L82.9739 796.676 L82.9739 795.117 Q82.9739 791.775 81.4143 790.565 Q79.8865 789.356 75.0167 789.356 L38.7322 789.356 M24.855 789.356 L24.855 783.499 L32.271 783.499 L32.271 789.356 L24.855 789.356 Z\" fill=\"#000000\" fill-rule=\"nonzero\" fill-opacity=\"1\" /><path clip-path=\"url(#clip800)\" d=\"M55.0921 740.754 L57.9566 740.754 L57.9566 767.681 Q64.0041 767.299 67.1869 764.052 Q70.3379 760.774 70.3379 754.949 Q70.3379 751.575 69.5104 748.424 Q68.6829 745.242 67.0278 742.122 L72.5659 742.122 Q73.9027 745.273 74.603 748.584 Q75.3032 751.894 75.3032 755.299 Q75.3032 763.829 70.3379 768.826 Q65.3727 773.792 56.9063 773.792 Q48.1534 773.792 43.0291 769.081 Q37.8728 764.339 37.8728 756.318 Q37.8728 749.125 42.5198 744.955 Q47.1349 740.754 55.0921 740.754 M53.3733 746.61 Q48.5672 746.674 45.7026 749.316 Q42.8381 751.926 42.8381 756.254 Q42.8381 761.156 45.6072 764.116 Q48.3762 767.044 53.4052 767.49 L53.3733 746.61 Z\" fill=\"#000000\" fill-rule=\"nonzero\" fill-opacity=\"1\" /><path clip-path=\"url(#clip800)\" d=\"M40.1008 705.488 L45.5753 705.488 Q44.2067 707.97 43.5383 710.485 Q42.8381 712.967 42.8381 715.514 Q42.8381 721.211 46.4665 724.362 Q50.0632 727.513 56.588 727.513 Q63.1129 727.513 66.7413 724.362 Q70.3379 721.211 70.3379 715.514 Q70.3379 712.967 69.6695 710.485 Q68.9693 707.97 67.6007 705.488 L73.0115 705.488 Q74.1574 707.939 74.7303 710.58 Q75.3032 713.19 75.3032 716.15 Q75.3032 724.203 70.2424 728.945 Q65.1817 733.688 56.588 733.688 Q47.867 733.688 42.8699 728.914 Q37.8728 724.107 37.8728 715.768 Q37.8728 713.063 38.4457 710.485 Q38.9868 707.907 40.1008 705.488 Z\" fill=\"#000000\" fill-rule=\"nonzero\" fill-opacity=\"1\" /><path clip-path=\"url(#clip800)\" d=\"M28.6107 689.51 L38.7322 689.51 L38.7322 677.447 L43.2837 677.447 L43.2837 689.51 L62.6354 689.51 Q66.9959 689.51 68.2373 688.332 Q69.4786 687.123 69.4786 683.462 L69.4786 677.447 L74.3802 677.447 L74.3802 683.462 Q74.3802 690.242 71.8657 692.82 Q69.3194 695.398 62.6354 695.398 L43.2837 695.398 L43.2837 699.695 L38.7322 699.695 L38.7322 695.398 L28.6107 695.398 L28.6107 689.51 Z\" fill=\"#000000\" fill-rule=\"nonzero\" fill-opacity=\"1\" /><path clip-path=\"url(#clip800)\" d=\"M38.7322 669.744 L38.7322 663.888 L74.3802 663.888 L74.3802 669.744 L38.7322 669.744 M24.855 669.744 L24.855 663.888 L32.271 663.888 L32.271 669.744 L24.855 669.744 Z\" fill=\"#000000\" fill-rule=\"nonzero\" fill-opacity=\"1\" /><path clip-path=\"url(#clip800)\" d=\"M38.7322 655.835 L38.7322 649.629 L68.651 638.489 L38.7322 627.349 L38.7322 621.142 L74.3802 634.51 L74.3802 642.467 L38.7322 655.835 Z\" fill=\"#000000\" fill-rule=\"nonzero\" fill-opacity=\"1\" /><path clip-path=\"url(#clip800)\" d=\"M55.0921 582.566 L57.9566 582.566 L57.9566 609.493 Q64.0041 609.111 67.1869 605.864 Q70.3379 602.586 70.3379 596.761 Q70.3379 593.388 69.5104 590.237 Q68.6829 587.054 67.0278 583.935 L72.5659 583.935 Q73.9027 587.086 74.603 590.396 Q75.3032 593.706 75.3032 597.112 Q75.3032 605.642 70.3379 610.639 Q65.3727 615.604 56.9063 615.604 Q48.1534 615.604 43.0291 610.893 Q37.8728 606.151 37.8728 598.13 Q37.8728 590.937 42.5198 586.767 Q47.1349 582.566 55.0921 582.566 M53.3733 588.422 Q48.5672 588.486 45.7026 591.128 Q42.8381 593.738 42.8381 598.066 Q42.8381 602.968 45.6072 605.928 Q48.3762 608.856 53.4052 609.302 L53.3733 588.422 Z\" fill=\"#000000\" fill-rule=\"nonzero\" fill-opacity=\"1\" /><path clip-path=\"url(#clip800)\" d=\"M38.7322 556.435 L38.7322 550.228 L68.651 539.088 L38.7322 527.948 L38.7322 521.742 L74.3802 535.11 L74.3802 543.067 L38.7322 556.435 Z\" fill=\"#000000\" fill-rule=\"nonzero\" fill-opacity=\"1\" /><path clip-path=\"url(#clip800)\" d=\"M56.4607 497.456 Q56.4607 504.554 58.0839 507.291 Q59.7072 510.029 63.6221 510.029 Q66.7413 510.029 68.5874 507.992 Q70.4016 505.923 70.4016 502.39 Q70.4016 497.52 66.9641 494.592 Q63.4948 491.632 57.7657 491.632 L56.4607 491.632 L56.4607 497.456 M54.0417 485.775 L74.3802 485.775 L74.3802 491.632 L68.9693 491.632 Q72.2158 493.637 73.7754 496.629 Q75.3032 499.621 75.3032 503.949 Q75.3032 509.424 72.2476 512.67 Q69.1603 515.885 64.0041 515.885 Q57.9885 515.885 54.9329 511.875 Q51.8774 507.833 51.8774 499.844 L51.8774 491.632 L51.3045 491.632 Q47.2622 491.632 45.0661 494.305 Q42.8381 496.947 42.8381 501.753 Q42.8381 504.809 43.5701 507.705 Q44.3022 510.602 45.7663 513.275 L40.3555 513.275 Q39.1141 510.061 38.5094 507.037 Q37.8728 504.013 37.8728 501.149 Q37.8728 493.414 41.8832 489.595 Q45.8936 485.775 54.0417 485.775 Z\" fill=\"#000000\" fill-rule=\"nonzero\" fill-opacity=\"1\" /><path clip-path=\"url(#clip800)\" d=\"M24.855 473.712 L24.855 467.856 L74.3802 467.856 L74.3802 473.712 L24.855 473.712 Z\" fill=\"#000000\" fill-rule=\"nonzero\" fill-opacity=\"1\" /><path clip-path=\"url(#clip800)\" d=\"M60.3119 456.207 L38.7322 456.207 L38.7322 450.35 L60.0891 450.35 Q65.1499 450.35 67.6962 448.377 Q70.2106 446.403 70.2106 442.457 Q70.2106 437.714 67.1869 434.977 Q64.1632 432.208 58.9433 432.208 L38.7322 432.208 L38.7322 426.351 L74.3802 426.351 L74.3802 432.208 L68.9056 432.208 Q72.1522 434.34 73.7436 437.173 Q75.3032 439.974 75.3032 443.698 Q75.3032 449.841 71.4838 453.024 Q67.6643 456.207 60.3119 456.207 M37.8728 441.47 L37.8728 441.47 Z\" fill=\"#000000\" fill-rule=\"nonzero\" fill-opacity=\"1\" /><path clip-path=\"url(#clip800)\" d=\"M55.0921 383.797 L57.9566 383.797 L57.9566 410.724 Q64.0041 410.342 67.1869 407.095 Q70.3379 403.817 70.3379 397.992 Q70.3379 394.618 69.5104 391.467 Q68.6829 388.285 67.0278 385.165 L72.5659 385.165 Q73.9027 388.316 74.603 391.627 Q75.3032 394.937 75.3032 398.342 Q75.3032 406.872 70.3379 411.869 Q65.3727 416.835 56.9063 416.835 Q48.1534 416.835 43.0291 412.124 Q37.8728 407.382 37.8728 399.361 Q37.8728 392.168 42.5198 387.998 Q47.1349 383.797 55.0921 383.797 M53.3733 389.653 Q48.5672 389.717 45.7026 392.359 Q42.8381 394.969 42.8381 399.297 Q42.8381 404.199 45.6072 407.159 Q48.3762 410.087 53.4052 410.533 L53.3733 389.653 Z\" fill=\"#000000\" fill-rule=\"nonzero\" fill-opacity=\"1\" /><polyline clip-path=\"url(#clip803)\" style=\"stroke:#000000; stroke-linecap:round; stroke-linejoin:round; stroke-width:6; stroke-opacity:1; fill:none\" points=\"239.332,80.836 247.9,233.117 256.467,238.822 265.034,113.448 273.601,114.116 282.168,134.26 290.735,138.019 299.302,117.088 307.869,105.602 316.437,110.83 325.004,111.26 333.571,110.333 342.138,110.745 350.705,112.167 359.272,116.307 367.839,121.254 376.406,143.665 384.973,173.453 393.541,201.61 402.108,251.554 410.675,299.159 419.242,305.937 427.809,306.519 436.376,309.445 444.943,310.051 453.51,312.214 462.078,315.62 470.645,317.726 479.212,321.555 487.779,321.711 496.346,321.889 504.913,322.586 513.48,324.668 522.047,363.21 530.614,894.902 539.182,846.043 547.749,739.61 556.316,814.77 564.883,1152.17 573.45,928.985 582.017,1125.2 590.584,1088.8 599.151,1105.62 607.719,1139.18 616.286,1179.75 624.853,1177.15 633.42,1187.29 641.987,1198.86 650.554,1200.27 659.121,1205.22 667.688,1208.2 676.255,1210.53 684.823,1212.99 693.39,1214.73 701.957,1213.89 710.524,1215.21 719.091,1215.69 727.658,1215.7 736.225,1215.07 744.792,1215.33 753.359,1216.62 761.927,1216.35 770.494,1215.78 779.061,1216.76 787.628,1217.38 796.195,1217.37 804.762,1217.35 813.329,1217.33 821.896,1217.31 830.464,1217.09 839.031,1218.25 847.598,1218.33 856.165,1218.53 864.732,1219.18 873.299,1217.76 881.866,1217.9 890.433,1218.09 899,1218.42 907.568,1218.7 916.135,1218.82 924.702,1218.92 933.269,1219.1 941.836,1219.16 950.403,1219.19 958.97,1218.92 967.537,1218.93 976.105,1218.94 984.672,1218.98 993.239,1219.19 1001.81,1219.21 1010.37,1219.23 1018.94,1219.24 1027.51,1219.25 1036.07,1219.04 1044.64,1219.23 1053.21,1219.34 1061.78,1219.37 1070.34,1219.04 1078.91,1219.06 1087.48,1219.08 1096.04,1219.08 1104.61,1219.14 1113.18,1219.27 1121.75,1219.28 1130.31,1219.28 1138.88,1219.29 1147.45,1219.29 1156.01,1219.29 1164.58,1219.3 1173.15,1219.35 1181.72,1219.3 1190.28,1219.15 1198.85,1219.29 1207.42,1219.3 1215.98,1219.31 1224.55,1219.37 1233.12,1219.41 1241.69,1219.49 1250.25,1219.52 1258.82,1219.53 1267.39,1219.36 1275.95,1219.51 1284.52,1219.59 1293.09,1219.62 1301.65,1219.38 1310.22,1219.39 1318.79,1219.4 1327.36,1219.42 1335.92,1219.4 1344.49,1219.52 1353.06,1219.54 1361.62,1219.57 1370.19,1219.6 1378.76,1219.68 1387.33,1219.64 1395.89,1219.65 1404.46,1219.7 1413.03,1219.74 1421.59,1219.74 1430.16,1219.62 1438.73,1219.8 1447.3,1219.81 1455.86,1219.7 1464.43,1219.72 1473,1219.74 1481.56,1219.75 1490.13,1219.88 1498.7,1220.04 1507.27,1219.93 1515.83,1219.88 1524.4,1219.89 1532.97,1220.02 1541.53,1220.07 1550.1,1219.89 1558.67,1220.16 1567.24,1220.2 1575.8,1219.93 1584.37,1220.13 1592.94,1220.2 1601.5,1219.91 1610.07,1219.92 1618.64,1219.93 1627.21,1219.94 1635.77,1219.95 1644.34,1220.22 1652.91,1220.25 1661.47,1219.98 1670.04,1220.13 1678.61,1220.25 1687.18,1220.25 1695.74,1220.02 1704.31,1220.07 1712.88,1220.08 1721.44,1220.08 1730.01,1220.09 1738.58,1220.09 1747.15,1220.2 1755.71,1220.21 1764.28,1220.11 1772.85,1220.2 1781.41,1220.22 1789.98,1220.22 1798.55,1220.21 1807.11,1220.08 1815.68,1220.21 1824.25,1220.24 1832.82,1220.26 1841.38,1220.26 1849.95,1220.1 1858.52,1220.14 1867.08,1220.15 1875.65,1220.16 1884.22,1220.16 1892.79,1220.16 1901.35,1220.22 1909.92,1220.26 1918.49,1220.08 1927.05,1220.23 1935.62,1220.24 1944.19,1220.14 1952.76,1220.16 \"/>\n",
       "<polyline clip-path=\"url(#clip803)\" style=\"stroke:#000000; stroke-linecap:round; stroke-linejoin:round; stroke-width:6; stroke-opacity:1; fill:none\" stroke-dasharray=\"3, 6\" points=\"239.332,80.836 247.9,172.988 256.467,306.142 265.034,310.669 273.601,313.384 282.168,312.398 290.735,313.519 299.302,314.333 307.869,315.109 316.437,315.799 325.004,316.907 333.571,317.859 342.138,318.111 350.705,318.125 359.272,318.124 367.839,318.125 376.406,318.125 384.973,318.126 393.541,318.127 402.108,318.128 410.675,318.128 419.242,318.128 427.809,318.128 436.376,318.128 444.943,318.128 453.51,318.128 462.078,318.128 470.645,318.128 479.212,318.128 487.779,318.128 496.346,318.128 504.913,318.128 513.48,318.128 522.047,318.128 530.614,318.128 539.182,318.128 547.749,318.128 556.316,318.128 564.883,318.128 573.45,318.128 582.017,318.128 590.584,318.128 599.151,318.128 607.719,318.128 616.286,318.128 624.853,318.128 633.42,318.128 641.987,318.128 650.554,318.128 659.121,318.128 667.688,318.128 676.255,318.128 684.823,318.128 693.39,318.128 701.957,318.128 710.524,318.128 719.091,318.128 727.658,318.128 736.225,318.128 744.792,318.128 753.359,318.128 761.927,318.128 770.494,318.115 779.061,318.119 787.628,318.122 796.195,318.121 804.762,318.121 813.329,318.122 821.896,318.123 830.464,318.125 839.031,318.127 847.598,318.128 856.165,318.128 864.732,318.128 873.299,318.128 881.866,318.128 890.433,318.128 899,318.128 907.568,318.128 916.135,318.128 924.702,318.128 933.269,318.128 941.836,318.128 950.403,318.128 958.97,318.128 967.537,318.128 976.105,318.128 984.672,318.128 993.239,318.128 1001.81,318.128 1010.37,318.128 1018.94,318.128 1027.51,318.128 1036.07,318.128 1044.64,318.128 1053.21,318.128 1061.78,318.128 1070.34,318.128 1078.91,318.128 1087.48,318.128 1096.04,318.128 1104.61,318.128 1113.18,318.128 1121.75,318.128 1130.31,318.128 1138.88,318.128 1147.45,318.128 1156.01,318.128 1164.58,318.128 1173.15,318.128 1181.72,318.128 1190.28,318.128 1198.85,318.128 1207.42,318.128 1215.98,318.128 1224.55,318.128 1233.12,318.128 1241.69,318.128 1250.25,318.128 1258.82,318.128 1267.39,318.128 1275.95,318.128 1284.52,318.128 1293.09,318.128 1301.65,318.128 1310.22,318.128 1318.79,318.128 1327.36,318.128 1335.92,318.128 1344.49,318.128 1353.06,318.128 1361.62,318.128 1370.19,318.128 1378.76,318.128 1387.33,318.128 1395.89,318.128 1404.46,318.128 1413.03,318.128 1421.59,318.128 1430.16,318.128 1438.73,318.128 1447.3,318.128 1455.86,318.128 1464.43,318.128 1473,318.128 1481.56,318.128 1490.13,318.128 1498.7,318.128 1507.27,318.128 1515.83,318.128 1524.4,318.128 1532.97,318.128 1541.53,318.128 1550.1,318.128 1558.67,318.128 1567.24,318.128 1575.8,318.128 1584.37,318.128 1592.94,318.128 1601.5,318.128 1610.07,318.128 1618.64,318.128 1627.21,318.128 1635.77,318.128 1644.34,318.128 1652.91,318.128 1661.47,318.128 1670.04,318.128 1678.61,318.128 1687.18,318.128 1695.74,318.128 1704.31,318.128 1712.88,318.128 1721.44,318.128 1730.01,318.128 1738.58,318.128 1747.15,318.128 1755.71,318.128 1764.28,318.128 1772.85,318.128 1781.41,318.128 1789.98,318.128 1798.55,318.128 1807.11,318.128 1815.68,318.128 1824.25,318.128 1832.82,318.128 1841.38,318.128 1849.95,318.128 1858.52,318.128 1867.08,318.128 1875.65,318.128 1884.22,318.128 1892.79,318.128 1901.35,318.128 1909.92,318.128 1918.49,318.128 1927.05,318.128 1935.62,318.128 1944.19,318.128 1952.76,318.128 \"/>\n",
       "<path clip-path=\"url(#clip800)\" d=\"M1233.43 241.892 L1895.36 241.892 L1895.36 86.3718 L1233.43 86.3718  Z\" fill=\"#ffffff\" fill-rule=\"evenodd\" fill-opacity=\"1\"/>\n",
       "<polyline clip-path=\"url(#clip800)\" style=\"stroke:#000000; stroke-linecap:round; stroke-linejoin:round; stroke-width:4; stroke-opacity:1; fill:none\" points=\"1233.43,241.892 1895.36,241.892 1895.36,86.3718 1233.43,86.3718 1233.43,241.892 \"/>\n",
       "<polyline clip-path=\"url(#clip800)\" style=\"stroke:#000000; stroke-linecap:round; stroke-linejoin:round; stroke-width:6; stroke-opacity:1; fill:none\" points=\"1252.56,138.212 1367.36,138.212 \"/>\n",
       "<path clip-path=\"url(#clip800)\" d=\"M1386.49 128.517 L1390.75 128.517 L1396.08 148.748 L1401.38 128.517 L1406.4 128.517 L1411.73 148.748 L1417.03 128.517 L1421.29 128.517 L1414.5 154.442 L1409.48 154.442 L1403.9 133.192 L1398.3 154.442 L1393.28 154.442 L1386.49 128.517 Z\" fill=\"#000000\" fill-rule=\"nonzero\" fill-opacity=\"1\" /><path clip-path=\"url(#clip800)\" d=\"M1427.74 128.517 L1432 128.517 L1432 154.442 L1427.74 154.442 L1427.74 128.517 M1427.74 118.424 L1432 118.424 L1432 123.817 L1427.74 123.817 L1427.74 118.424 Z\" fill=\"#000000\" fill-rule=\"nonzero\" fill-opacity=\"1\" /><path clip-path=\"url(#clip800)\" d=\"M1445.13 121.155 L1445.13 128.517 L1453.9 128.517 L1453.9 131.827 L1445.13 131.827 L1445.13 145.901 Q1445.13 149.072 1445.98 149.975 Q1446.86 150.877 1449.53 150.877 L1453.9 150.877 L1453.9 154.442 L1449.53 154.442 Q1444.6 154.442 1442.72 152.614 Q1440.85 150.762 1440.85 145.901 L1440.85 131.827 L1437.72 131.827 L1437.72 128.517 L1440.85 128.517 L1440.85 121.155 L1445.13 121.155 Z\" fill=\"#000000\" fill-rule=\"nonzero\" fill-opacity=\"1\" /><path clip-path=\"url(#clip800)\" d=\"M1481.05 138.794 L1481.05 154.442 L1476.79 154.442 L1476.79 138.933 Q1476.79 135.253 1475.36 133.424 Q1473.92 131.595 1471.05 131.595 Q1467.6 131.595 1465.61 133.794 Q1463.62 135.993 1463.62 139.79 L1463.62 154.442 L1459.34 154.442 L1459.34 118.424 L1463.62 118.424 L1463.62 132.544 Q1465.15 130.206 1467.21 129.049 Q1469.29 127.892 1472 127.892 Q1476.47 127.892 1478.76 130.669 Q1481.05 133.424 1481.05 138.794 Z\" fill=\"#000000\" fill-rule=\"nonzero\" fill-opacity=\"1\" /><path clip-path=\"url(#clip800)\" d=\"M1534.39 128.303 Q1534.39 130.481 1532.9 132.449 Q1531.42 134.393 1529.17 135.634 Q1526.92 136.852 1524.37 137.32 Q1527.81 137.719 1529.8 139.592 Q1531.82 141.466 1531.82 144.09 Q1531.82 145.846 1530.79 147.697 Q1529.78 149.524 1528.05 151.023 Q1526.34 152.522 1523.81 153.482 Q1521.3 154.442 1518.56 154.442 L1501.44 154.442 Q1500.9 154.442 1500.69 154.419 Q1500.48 154.395 1500.31 154.278 Q1500.15 154.161 1500.15 153.904 Q1500.15 153.435 1500.31 153.224 Q1500.5 153.014 1500.71 152.99 Q1500.92 152.967 1501.44 152.967 Q1502.61 152.967 1503.31 152.896 Q1504.02 152.826 1504.46 152.732 Q1504.93 152.615 1505.16 152.287 Q1505.42 151.96 1505.54 151.678 Q1505.65 151.374 1505.82 150.695 L1512.24 124.93 Q1512.42 124.157 1512.42 124.04 Q1512.42 123.595 1512.14 123.478 Q1511.89 123.337 1511.14 123.267 L1509.31 123.173 Q1508.75 123.173 1508.51 123.15 Q1508.3 123.126 1508.14 123.009 Q1507.97 122.892 1507.97 122.635 Q1507.97 121.979 1508.25 121.838 Q1508.56 121.674 1509.36 121.674 L1525.47 121.674 Q1529.62 121.674 1532.01 123.595 Q1534.39 125.492 1534.39 128.303 M1530.04 128.115 Q1530.04 127.225 1529.8 126.429 Q1529.57 125.633 1529.01 124.86 Q1528.47 124.087 1527.39 123.642 Q1526.31 123.173 1524.81 123.173 L1518.61 123.173 Q1517.09 123.173 1516.71 123.454 Q1516.36 123.712 1516.03 125 L1513.06 136.875 L1520.06 136.875 Q1522.19 136.875 1524.07 136.103 Q1525.96 135.33 1527.25 134.088 Q1528.54 132.823 1529.29 131.254 Q1530.04 129.685 1530.04 128.115 M1527.34 143.551 Q1527.34 142.848 1527.23 142.169 Q1527.11 141.49 1526.74 140.693 Q1526.36 139.897 1525.77 139.311 Q1525.19 138.726 1524.16 138.328 Q1523.15 137.929 1521.84 137.929 L1512.78 137.929 L1509.45 151.327 Q1509.22 152.194 1509.22 152.428 Q1509.22 152.686 1509.33 152.779 Q1509.47 152.85 1509.85 152.896 Q1510.27 152.967 1510.9 152.967 L1517.41 152.967 Q1519.47 152.967 1521.35 152.17 Q1523.22 151.351 1524.51 150.039 Q1525.82 148.727 1526.57 147.017 Q1527.34 145.308 1527.34 143.551 Z\" fill=\"#000000\" fill-rule=\"nonzero\" fill-opacity=\"1\" /><path clip-path=\"url(#clip800)\" d=\"M1549.51 147.158 Q1549.56 146.572 1550.47 146.572 L1579.87 146.572 Q1581.25 146.572 1581.28 147.111 Q1581.28 147.697 1579.96 147.673 L1550.8 147.673 Q1549.51 147.697 1549.51 147.158 M1549.51 137.789 Q1549.51 137.203 1550.52 137.227 L1579.82 137.227 Q1581.25 137.227 1581.28 137.789 Q1581.28 138.328 1580.06 138.328 L1550.47 138.328 Q1549.51 138.328 1549.51 137.789 Z\" fill=\"#000000\" fill-rule=\"nonzero\" fill-opacity=\"1\" /><path clip-path=\"url(#clip800)\" d=\"M1599.78 154.442 Q1599.78 153.576 1599.85 153.318 Q1599.95 153.06 1600.32 152.662 L1609.53 142.403 Q1614.56 136.735 1614.56 131.793 Q1614.56 128.584 1612.88 126.289 Q1611.21 123.993 1608.14 123.993 Q1606.04 123.993 1604.26 125.281 Q1602.48 126.57 1601.66 128.865 Q1601.8 128.818 1602.29 128.818 Q1603.48 128.818 1604.14 129.568 Q1604.82 130.317 1604.82 131.324 Q1604.82 132.613 1603.98 133.245 Q1603.16 133.854 1602.34 133.854 Q1602.01 133.854 1601.56 133.784 Q1601.14 133.713 1600.46 133.058 Q1599.78 132.378 1599.78 131.184 Q1599.78 127.834 1602.31 125.164 Q1604.87 122.494 1608.75 122.494 Q1613.16 122.494 1616.04 125.117 Q1618.94 127.717 1618.94 131.793 Q1618.94 133.222 1618.5 134.533 Q1618.08 135.821 1617.49 136.829 Q1616.93 137.836 1615.38 139.452 Q1613.84 141.068 1612.59 142.216 Q1611.35 143.363 1608.57 145.799 L1603.48 150.742 L1612.13 150.742 Q1616.34 150.742 1616.67 150.367 Q1617.14 149.688 1617.72 146.104 L1618.94 146.104 L1617.58 154.442 L1599.78 154.442 Z\" fill=\"#000000\" fill-rule=\"nonzero\" fill-opacity=\"1\" /><path clip-path=\"url(#clip800)\" d=\"M1661.73 129.512 L1661.73 133.493 Q1659.93 132.498 1658.1 132.012 Q1656.29 131.503 1654.44 131.503 Q1650.3 131.503 1648.01 134.141 Q1645.71 136.757 1645.71 141.503 Q1645.71 146.248 1648.01 148.887 Q1650.3 151.502 1654.44 151.502 Q1656.29 151.502 1658.1 151.016 Q1659.93 150.507 1661.73 149.512 L1661.73 153.447 Q1659.95 154.28 1658.03 154.697 Q1656.13 155.114 1653.98 155.114 Q1648.12 155.114 1644.67 151.433 Q1641.22 147.753 1641.22 141.503 Q1641.22 135.16 1644.7 131.526 Q1648.19 127.892 1654.26 127.892 Q1656.22 127.892 1658.1 128.308 Q1659.97 128.702 1661.73 129.512 Z\" fill=\"#000000\" fill-rule=\"nonzero\" fill-opacity=\"1\" /><path clip-path=\"url(#clip800)\" d=\"M1679.19 131.503 Q1675.76 131.503 1673.77 134.188 Q1671.78 136.85 1671.78 141.503 Q1671.78 146.155 1673.75 148.84 Q1675.74 151.502 1679.19 151.502 Q1682.59 151.502 1684.58 148.817 Q1686.57 146.132 1686.57 141.503 Q1686.57 136.896 1684.58 134.211 Q1682.59 131.503 1679.19 131.503 M1679.19 127.892 Q1684.74 127.892 1687.91 131.503 Q1691.09 135.114 1691.09 141.503 Q1691.09 147.868 1687.91 151.502 Q1684.74 155.114 1679.19 155.114 Q1673.61 155.114 1670.44 151.502 Q1667.29 147.868 1667.29 141.503 Q1667.29 135.114 1670.44 131.503 Q1673.61 127.892 1679.19 127.892 Z\" fill=\"#000000\" fill-rule=\"nonzero\" fill-opacity=\"1\" /><path clip-path=\"url(#clip800)\" d=\"M1719.7 138.794 L1719.7 154.442 L1715.44 154.442 L1715.44 138.933 Q1715.44 135.253 1714 133.424 Q1712.57 131.595 1709.7 131.595 Q1706.25 131.595 1704.26 133.794 Q1702.27 135.993 1702.27 139.79 L1702.27 154.442 L1697.98 154.442 L1697.98 128.517 L1702.27 128.517 L1702.27 132.544 Q1703.79 130.206 1705.85 129.049 Q1707.94 127.892 1710.65 127.892 Q1715.11 127.892 1717.4 130.669 Q1719.7 133.424 1719.7 138.794 Z\" fill=\"#000000\" fill-rule=\"nonzero\" fill-opacity=\"1\" /><path clip-path=\"url(#clip800)\" d=\"M1744.72 129.28 L1744.72 133.308 Q1742.91 132.382 1740.97 131.919 Q1739.02 131.456 1736.94 131.456 Q1733.77 131.456 1732.17 132.429 Q1730.6 133.401 1730.6 135.345 Q1730.6 136.827 1731.73 137.683 Q1732.87 138.516 1736.29 139.28 L1737.75 139.604 Q1742.29 140.577 1744.19 142.359 Q1746.11 144.118 1746.11 147.29 Q1746.11 150.901 1743.24 153.007 Q1740.39 155.114 1735.39 155.114 Q1733.31 155.114 1731.04 154.697 Q1728.79 154.303 1726.29 153.493 L1726.29 149.095 Q1728.65 150.322 1730.95 150.947 Q1733.24 151.549 1735.48 151.549 Q1738.49 151.549 1740.11 150.53 Q1741.73 149.489 1741.73 147.614 Q1741.73 145.878 1740.55 144.952 Q1739.4 144.026 1735.44 143.169 L1733.96 142.822 Q1730 141.989 1728.24 140.276 Q1726.48 138.54 1726.48 135.53 Q1726.48 131.873 1729.07 129.882 Q1731.66 127.892 1736.43 127.892 Q1738.79 127.892 1740.88 128.239 Q1742.96 128.586 1744.72 129.28 Z\" fill=\"#000000\" fill-rule=\"nonzero\" fill-opacity=\"1\" /><path clip-path=\"url(#clip800)\" d=\"M1757.1 121.155 L1757.1 128.517 L1765.88 128.517 L1765.88 131.827 L1757.1 131.827 L1757.1 145.901 Q1757.1 149.072 1757.96 149.975 Q1758.84 150.877 1761.5 150.877 L1765.88 150.877 L1765.88 154.442 L1761.5 154.442 Q1756.57 154.442 1754.7 152.614 Q1752.82 150.762 1752.82 145.901 L1752.82 131.827 L1749.7 131.827 L1749.7 128.517 L1752.82 128.517 L1752.82 121.155 L1757.1 121.155 Z\" fill=\"#000000\" fill-rule=\"nonzero\" fill-opacity=\"1\" /><path clip-path=\"url(#clip800)\" d=\"M1786.5 132.498 Q1785.78 132.081 1784.93 131.896 Q1784.09 131.688 1783.08 131.688 Q1779.46 131.688 1777.52 134.049 Q1775.6 136.387 1775.6 140.785 L1775.6 154.442 L1771.32 154.442 L1771.32 128.517 L1775.6 128.517 L1775.6 132.544 Q1776.94 130.183 1779.09 129.049 Q1781.25 127.892 1784.33 127.892 Q1784.77 127.892 1785.3 127.961 Q1785.83 128.007 1786.48 128.123 L1786.5 132.498 Z\" fill=\"#000000\" fill-rule=\"nonzero\" fill-opacity=\"1\" /><path clip-path=\"url(#clip800)\" d=\"M1802.75 141.41 Q1797.59 141.41 1795.6 142.59 Q1793.61 143.771 1793.61 146.618 Q1793.61 148.887 1795.09 150.229 Q1796.59 151.549 1799.16 151.549 Q1802.7 151.549 1804.83 149.049 Q1806.99 146.526 1806.99 142.359 L1806.99 141.41 L1802.75 141.41 M1811.25 139.651 L1811.25 154.442 L1806.99 154.442 L1806.99 150.507 Q1805.53 152.868 1803.35 154.002 Q1801.18 155.114 1798.03 155.114 Q1794.05 155.114 1791.69 152.891 Q1789.35 150.646 1789.35 146.896 Q1789.35 142.521 1792.27 140.299 Q1795.2 138.077 1801.02 138.077 L1806.99 138.077 L1806.99 137.66 Q1806.99 134.72 1805.04 133.123 Q1803.12 131.503 1799.63 131.503 Q1797.4 131.503 1795.3 132.035 Q1793.19 132.567 1791.25 133.632 L1791.25 129.697 Q1793.58 128.794 1795.78 128.354 Q1797.98 127.892 1800.07 127.892 Q1805.69 127.892 1808.47 130.808 Q1811.25 133.725 1811.25 139.651 Z\" fill=\"#000000\" fill-rule=\"nonzero\" fill-opacity=\"1\" /><path clip-path=\"url(#clip800)\" d=\"M1820.02 128.517 L1824.28 128.517 L1824.28 154.442 L1820.02 154.442 L1820.02 128.517 M1820.02 118.424 L1824.28 118.424 L1824.28 123.817 L1820.02 123.817 L1820.02 118.424 Z\" fill=\"#000000\" fill-rule=\"nonzero\" fill-opacity=\"1\" /><path clip-path=\"url(#clip800)\" d=\"M1854.74 138.794 L1854.74 154.442 L1850.48 154.442 L1850.48 138.933 Q1850.48 135.253 1849.05 133.424 Q1847.61 131.595 1844.74 131.595 Q1841.29 131.595 1839.3 133.794 Q1837.31 135.993 1837.31 139.79 L1837.31 154.442 L1833.03 154.442 L1833.03 128.517 L1837.31 128.517 L1837.31 132.544 Q1838.84 130.206 1840.9 129.049 Q1842.98 127.892 1845.69 127.892 Q1850.16 127.892 1852.45 130.669 Q1854.74 133.424 1854.74 138.794 Z\" fill=\"#000000\" fill-rule=\"nonzero\" fill-opacity=\"1\" /><path clip-path=\"url(#clip800)\" d=\"M1867.45 121.155 L1867.45 128.517 L1876.22 128.517 L1876.22 131.827 L1867.45 131.827 L1867.45 145.901 Q1867.45 149.072 1868.31 149.975 Q1869.19 150.877 1871.85 150.877 L1876.22 150.877 L1876.22 154.442 L1871.85 154.442 Q1866.92 154.442 1865.04 152.614 Q1863.17 150.762 1863.17 145.901 L1863.17 131.827 L1860.04 131.827 L1860.04 128.517 L1863.17 128.517 L1863.17 121.155 L1867.45 121.155 Z\" fill=\"#000000\" fill-rule=\"nonzero\" fill-opacity=\"1\" /><polyline clip-path=\"url(#clip800)\" style=\"stroke:#000000; stroke-linecap:round; stroke-linejoin:round; stroke-width:6; stroke-opacity:1; fill:none\" stroke-dasharray=\"3, 6\" points=\"1252.56,190.052 1367.36,190.052 \"/>\n",
       "<path clip-path=\"url(#clip800)\" d=\"M1404.92 182.17 L1404.92 186.198 Q1403.11 185.272 1401.17 184.809 Q1399.23 184.346 1397.14 184.346 Q1393.97 184.346 1392.37 185.318 Q1390.8 186.29 1390.8 188.235 Q1390.8 189.716 1391.93 190.573 Q1393.07 191.406 1396.49 192.17 L1397.95 192.494 Q1402.49 193.466 1404.39 195.249 Q1406.31 197.008 1406.31 200.179 Q1406.31 203.79 1403.44 205.897 Q1400.59 208.003 1395.59 208.003 Q1393.51 208.003 1391.24 207.586 Q1388.99 207.193 1386.49 206.383 L1386.49 201.985 Q1388.85 203.211 1391.15 203.836 Q1393.44 204.438 1395.68 204.438 Q1398.69 204.438 1400.31 203.42 Q1401.93 202.378 1401.93 200.503 Q1401.93 198.767 1400.75 197.841 Q1399.6 196.915 1395.64 196.059 L1394.16 195.712 Q1390.2 194.878 1388.44 193.165 Q1386.68 191.429 1386.68 188.42 Q1386.68 184.762 1389.27 182.772 Q1391.86 180.781 1396.63 180.781 Q1398.99 180.781 1401.08 181.128 Q1403.16 181.475 1404.92 182.17 Z\" fill=\"#000000\" fill-rule=\"nonzero\" fill-opacity=\"1\" /><path clip-path=\"url(#clip800)\" d=\"M1417.3 174.045 L1417.3 181.406 L1426.08 181.406 L1426.08 184.716 L1417.3 184.716 L1417.3 198.79 Q1417.3 201.961 1418.16 202.864 Q1419.04 203.767 1421.7 203.767 L1426.08 203.767 L1426.08 207.332 L1421.7 207.332 Q1416.77 207.332 1414.9 205.503 Q1413.02 203.651 1413.02 198.79 L1413.02 184.716 L1409.9 184.716 L1409.9 181.406 L1413.02 181.406 L1413.02 174.045 L1417.3 174.045 Z\" fill=\"#000000\" fill-rule=\"nonzero\" fill-opacity=\"1\" /><path clip-path=\"url(#clip800)\" d=\"M1443.46 194.299 Q1438.3 194.299 1436.31 195.48 Q1434.32 196.661 1434.32 199.508 Q1434.32 201.776 1435.8 203.119 Q1437.3 204.438 1439.87 204.438 Q1443.41 204.438 1445.54 201.938 Q1447.7 199.415 1447.7 195.249 L1447.7 194.299 L1443.46 194.299 M1451.96 192.54 L1451.96 207.332 L1447.7 207.332 L1447.7 203.397 Q1446.24 205.758 1444.06 206.892 Q1441.89 208.003 1438.74 208.003 Q1434.76 208.003 1432.4 205.781 Q1430.06 203.536 1430.06 199.786 Q1430.06 195.411 1432.98 193.188 Q1435.91 190.966 1441.73 190.966 L1447.7 190.966 L1447.7 190.55 Q1447.7 187.61 1445.75 186.012 Q1443.83 184.392 1440.34 184.392 Q1438.11 184.392 1436.01 184.925 Q1433.9 185.457 1431.96 186.522 L1431.96 182.587 Q1434.29 181.684 1436.49 181.244 Q1438.69 180.781 1440.78 180.781 Q1446.4 180.781 1449.18 183.698 Q1451.96 186.614 1451.96 192.54 Z\" fill=\"#000000\" fill-rule=\"nonzero\" fill-opacity=\"1\" /><path clip-path=\"url(#clip800)\" d=\"M1482.28 191.684 L1482.28 207.332 L1478.02 207.332 L1478.02 191.823 Q1478.02 188.142 1476.59 186.313 Q1475.15 184.485 1472.28 184.485 Q1468.83 184.485 1466.84 186.684 Q1464.85 188.883 1464.85 192.679 L1464.85 207.332 L1460.57 207.332 L1460.57 181.406 L1464.85 181.406 L1464.85 185.434 Q1466.38 183.096 1468.44 181.938 Q1470.52 180.781 1473.23 180.781 Q1477.7 180.781 1479.99 183.559 Q1482.28 186.313 1482.28 191.684 Z\" fill=\"#000000\" fill-rule=\"nonzero\" fill-opacity=\"1\" /><path clip-path=\"url(#clip800)\" d=\"M1507.84 185.341 L1507.84 171.313 L1512.1 171.313 L1512.1 207.332 L1507.84 207.332 L1507.84 203.443 Q1506.49 205.758 1504.43 206.892 Q1502.4 208.003 1499.53 208.003 Q1494.83 208.003 1491.86 204.253 Q1488.92 200.503 1488.92 194.392 Q1488.92 188.281 1491.86 184.531 Q1494.83 180.781 1499.53 180.781 Q1502.4 180.781 1504.43 181.915 Q1506.49 183.026 1507.84 185.341 M1493.32 194.392 Q1493.32 199.091 1495.24 201.776 Q1497.19 204.438 1500.57 204.438 Q1503.95 204.438 1505.89 201.776 Q1507.84 199.091 1507.84 194.392 Q1507.84 189.693 1505.89 187.031 Q1503.95 184.346 1500.57 184.346 Q1497.19 184.346 1495.24 187.031 Q1493.32 189.693 1493.32 194.392 Z\" fill=\"#000000\" fill-rule=\"nonzero\" fill-opacity=\"1\" /><path clip-path=\"url(#clip800)\" d=\"M1532.65 194.299 Q1527.49 194.299 1525.5 195.48 Q1523.51 196.661 1523.51 199.508 Q1523.51 201.776 1524.99 203.119 Q1526.49 204.438 1529.06 204.438 Q1532.6 204.438 1534.73 201.938 Q1536.89 199.415 1536.89 195.249 L1536.89 194.299 L1532.65 194.299 M1541.15 192.54 L1541.15 207.332 L1536.89 207.332 L1536.89 203.397 Q1535.43 205.758 1533.25 206.892 Q1531.08 208.003 1527.93 208.003 Q1523.95 208.003 1521.59 205.781 Q1519.25 203.536 1519.25 199.786 Q1519.25 195.411 1522.16 193.188 Q1525.1 190.966 1530.91 190.966 L1536.89 190.966 L1536.89 190.55 Q1536.89 187.61 1534.94 186.012 Q1533.02 184.392 1529.53 184.392 Q1527.3 184.392 1525.2 184.925 Q1523.09 185.457 1521.15 186.522 L1521.15 182.587 Q1523.48 181.684 1525.68 181.244 Q1527.88 180.781 1529.97 180.781 Q1535.59 180.781 1538.37 183.698 Q1541.15 186.614 1541.15 192.54 Z\" fill=\"#000000\" fill-rule=\"nonzero\" fill-opacity=\"1\" /><path clip-path=\"url(#clip800)\" d=\"M1564.94 185.387 Q1564.22 184.971 1563.37 184.786 Q1562.53 184.577 1561.52 184.577 Q1557.91 184.577 1555.96 186.938 Q1554.04 189.276 1554.04 193.674 L1554.04 207.332 L1549.76 207.332 L1549.76 181.406 L1554.04 181.406 L1554.04 185.434 Q1555.38 183.073 1557.53 181.938 Q1559.69 180.781 1562.77 180.781 Q1563.21 180.781 1563.74 180.85 Q1564.27 180.897 1564.92 181.013 L1564.94 185.387 Z\" fill=\"#000000\" fill-rule=\"nonzero\" fill-opacity=\"1\" /><path clip-path=\"url(#clip800)\" d=\"M1585.64 185.341 L1585.64 171.313 L1589.9 171.313 L1589.9 207.332 L1585.64 207.332 L1585.64 203.443 Q1584.29 205.758 1582.23 206.892 Q1580.2 208.003 1577.33 208.003 Q1572.63 208.003 1569.66 204.253 Q1566.72 200.503 1566.72 194.392 Q1566.72 188.281 1569.66 184.531 Q1572.63 180.781 1577.33 180.781 Q1580.2 180.781 1582.23 181.915 Q1584.29 183.026 1585.64 185.341 M1571.12 194.392 Q1571.12 199.091 1573.04 201.776 Q1574.99 204.438 1578.37 204.438 Q1581.75 204.438 1583.69 201.776 Q1585.64 199.091 1585.64 194.392 Q1585.64 189.693 1583.69 187.031 Q1581.75 184.346 1578.37 184.346 Q1574.99 184.346 1573.04 187.031 Q1571.12 189.693 1571.12 194.392 Z\" fill=\"#000000\" fill-rule=\"nonzero\" fill-opacity=\"1\" /></svg>\n"
      ],
      "text/html": [
       "<?xml version=\"1.0\" encoding=\"utf-8\"?>\n",
       "<svg xmlns=\"http://www.w3.org/2000/svg\" xmlns:xlink=\"http://www.w3.org/1999/xlink\" width=\"500\" height=\"350\" viewBox=\"0 0 2000 1400\">\n",
       "<defs>\n",
       "  <clipPath id=\"clip850\">\n",
       "    <rect x=\"0\" y=\"0\" width=\"2000\" height=\"1400\"/>\n",
       "  </clipPath>\n",
       "</defs>\n",
       "<path clip-path=\"url(#clip850)\" d=\"M0 1400 L2000 1400 L2000 0 L0 0  Z\" fill=\"#ffffff\" fill-rule=\"evenodd\" fill-opacity=\"1\"/>\n",
       "<defs>\n",
       "  <clipPath id=\"clip851\">\n",
       "    <rect x=\"400\" y=\"0\" width=\"1401\" height=\"1400\"/>\n",
       "  </clipPath>\n",
       "</defs>\n",
       "<defs>\n",
       "  <clipPath id=\"clip852\">\n",
       "    <rect x=\"230\" y=\"47\" width=\"1723\" height=\"1175\"/>\n",
       "  </clipPath>\n",
       "</defs>\n",
       "<path clip-path=\"url(#clip850)\" d=\"M230.765 1221.08 L1952.76 1221.08 L1952.76 47.2441 L230.765 47.2441  Z\" fill=\"#ffffff\" fill-rule=\"evenodd\" fill-opacity=\"1\"/>\n",
       "<polyline clip-path=\"url(#clip852)\" style=\"stroke:#000000; stroke-linecap:round; stroke-linejoin:round; stroke-width:2; stroke-opacity:0.1; fill:none\" points=\"230.765,1221.08 230.765,47.2441 \"/>\n",
       "<polyline clip-path=\"url(#clip852)\" style=\"stroke:#000000; stroke-linecap:round; stroke-linejoin:round; stroke-width:2; stroke-opacity:0.1; fill:none\" points=\"659.121,1221.08 659.121,47.2441 \"/>\n",
       "<polyline clip-path=\"url(#clip852)\" style=\"stroke:#000000; stroke-linecap:round; stroke-linejoin:round; stroke-width:2; stroke-opacity:0.1; fill:none\" points=\"1087.48,1221.08 1087.48,47.2441 \"/>\n",
       "<polyline clip-path=\"url(#clip852)\" style=\"stroke:#000000; stroke-linecap:round; stroke-linejoin:round; stroke-width:2; stroke-opacity:0.1; fill:none\" points=\"1515.83,1221.08 1515.83,47.2441 \"/>\n",
       "<polyline clip-path=\"url(#clip852)\" style=\"stroke:#000000; stroke-linecap:round; stroke-linejoin:round; stroke-width:2; stroke-opacity:0.1; fill:none\" points=\"1944.19,1221.08 1944.19,47.2441 \"/>\n",
       "<polyline clip-path=\"url(#clip850)\" style=\"stroke:#000000; stroke-linecap:round; stroke-linejoin:round; stroke-width:4; stroke-opacity:1; fill:none\" points=\"230.765,1221.08 1952.76,1221.08 \"/>\n",
       "<polyline clip-path=\"url(#clip850)\" style=\"stroke:#000000; stroke-linecap:round; stroke-linejoin:round; stroke-width:4; stroke-opacity:1; fill:none\" points=\"230.765,1221.08 230.765,1202.18 \"/>\n",
       "<polyline clip-path=\"url(#clip850)\" style=\"stroke:#000000; stroke-linecap:round; stroke-linejoin:round; stroke-width:4; stroke-opacity:1; fill:none\" points=\"659.121,1221.08 659.121,1202.18 \"/>\n",
       "<polyline clip-path=\"url(#clip850)\" style=\"stroke:#000000; stroke-linecap:round; stroke-linejoin:round; stroke-width:4; stroke-opacity:1; fill:none\" points=\"1087.48,1221.08 1087.48,1202.18 \"/>\n",
       "<polyline clip-path=\"url(#clip850)\" style=\"stroke:#000000; stroke-linecap:round; stroke-linejoin:round; stroke-width:4; stroke-opacity:1; fill:none\" points=\"1515.83,1221.08 1515.83,1202.18 \"/>\n",
       "<polyline clip-path=\"url(#clip850)\" style=\"stroke:#000000; stroke-linecap:round; stroke-linejoin:round; stroke-width:4; stroke-opacity:1; fill:none\" points=\"1944.19,1221.08 1944.19,1202.18 \"/>\n",
       "<path clip-path=\"url(#clip850)\" d=\"M230.765 1248.79 Q227.154 1248.79 225.326 1252.36 Q223.52 1255.9 223.52 1263.03 Q223.52 1270.14 225.326 1273.7 Q227.154 1277.24 230.765 1277.24 Q234.4 1277.24 236.205 1273.7 Q238.034 1270.14 238.034 1263.03 Q238.034 1255.9 236.205 1252.36 Q234.4 1248.79 230.765 1248.79 M230.765 1245.09 Q236.576 1245.09 239.631 1249.7 Q242.71 1254.28 242.71 1263.03 Q242.71 1271.76 239.631 1276.36 Q236.576 1280.95 230.765 1280.95 Q224.955 1280.95 221.877 1276.36 Q218.821 1271.76 218.821 1263.03 Q218.821 1254.28 221.877 1249.7 Q224.955 1245.09 230.765 1245.09 Z\" fill=\"#000000\" fill-rule=\"nonzero\" fill-opacity=\"1\" /><path clip-path=\"url(#clip850)\" d=\"M633.82 1245.72 L652.177 1245.72 L652.177 1249.65 L638.103 1249.65 L638.103 1258.12 Q639.121 1257.78 640.14 1257.61 Q641.158 1257.43 642.177 1257.43 Q647.964 1257.43 651.343 1260.6 Q654.723 1263.77 654.723 1269.19 Q654.723 1274.77 651.251 1277.87 Q647.779 1280.95 641.459 1280.95 Q639.283 1280.95 637.015 1280.58 Q634.769 1280.21 632.362 1279.47 L632.362 1274.77 Q634.445 1275.9 636.668 1276.46 Q638.89 1277.01 641.367 1277.01 Q645.371 1277.01 647.709 1274.91 Q650.047 1272.8 650.047 1269.19 Q650.047 1265.58 647.709 1263.47 Q645.371 1261.36 641.367 1261.36 Q639.492 1261.36 637.617 1261.78 Q635.765 1262.2 633.82 1263.08 L633.82 1245.72 Z\" fill=\"#000000\" fill-rule=\"nonzero\" fill-opacity=\"1\" /><path clip-path=\"url(#clip850)\" d=\"M673.936 1248.79 Q670.325 1248.79 668.496 1252.36 Q666.691 1255.9 666.691 1263.03 Q666.691 1270.14 668.496 1273.7 Q670.325 1277.24 673.936 1277.24 Q677.57 1277.24 679.376 1273.7 Q681.204 1270.14 681.204 1263.03 Q681.204 1255.9 679.376 1252.36 Q677.57 1248.79 673.936 1248.79 M673.936 1245.09 Q679.746 1245.09 682.802 1249.7 Q685.88 1254.28 685.88 1263.03 Q685.88 1271.76 682.802 1276.36 Q679.746 1280.95 673.936 1280.95 Q668.126 1280.95 665.047 1276.36 Q661.992 1271.76 661.992 1263.03 Q661.992 1254.28 665.047 1249.7 Q668.126 1245.09 673.936 1245.09 Z\" fill=\"#000000\" fill-rule=\"nonzero\" fill-opacity=\"1\" /><path clip-path=\"url(#clip850)\" d=\"M1047.08 1276.34 L1054.72 1276.34 L1054.72 1249.98 L1046.41 1251.64 L1046.41 1247.38 L1054.68 1245.72 L1059.35 1245.72 L1059.35 1276.34 L1066.99 1276.34 L1066.99 1280.28 L1047.08 1280.28 L1047.08 1276.34 Z\" fill=\"#000000\" fill-rule=\"nonzero\" fill-opacity=\"1\" /><path clip-path=\"url(#clip850)\" d=\"M1086.44 1248.79 Q1082.82 1248.79 1081 1252.36 Q1079.19 1255.9 1079.19 1263.03 Q1079.19 1270.14 1081 1273.7 Q1082.82 1277.24 1086.44 1277.24 Q1090.07 1277.24 1091.88 1273.7 Q1093.7 1270.14 1093.7 1263.03 Q1093.7 1255.9 1091.88 1252.36 Q1090.07 1248.79 1086.44 1248.79 M1086.44 1245.09 Q1092.25 1245.09 1095.3 1249.7 Q1098.38 1254.28 1098.38 1263.03 Q1098.38 1271.76 1095.3 1276.36 Q1092.25 1280.95 1086.44 1280.95 Q1080.63 1280.95 1077.55 1276.36 Q1074.49 1271.76 1074.49 1263.03 Q1074.49 1254.28 1077.55 1249.7 Q1080.63 1245.09 1086.44 1245.09 Z\" fill=\"#000000\" fill-rule=\"nonzero\" fill-opacity=\"1\" /><path clip-path=\"url(#clip850)\" d=\"M1116.6 1248.79 Q1112.99 1248.79 1111.16 1252.36 Q1109.35 1255.9 1109.35 1263.03 Q1109.35 1270.14 1111.16 1273.7 Q1112.99 1277.24 1116.6 1277.24 Q1120.23 1277.24 1122.04 1273.7 Q1123.87 1270.14 1123.87 1263.03 Q1123.87 1255.9 1122.04 1252.36 Q1120.23 1248.79 1116.6 1248.79 M1116.6 1245.09 Q1122.41 1245.09 1125.46 1249.7 Q1128.54 1254.28 1128.54 1263.03 Q1128.54 1271.76 1125.46 1276.36 Q1122.41 1280.95 1116.6 1280.95 Q1110.79 1280.95 1107.71 1276.36 Q1104.65 1271.76 1104.65 1263.03 Q1104.65 1254.28 1107.71 1249.7 Q1110.79 1245.09 1116.6 1245.09 Z\" fill=\"#000000\" fill-rule=\"nonzero\" fill-opacity=\"1\" /><path clip-path=\"url(#clip850)\" d=\"M1475.44 1276.34 L1483.08 1276.34 L1483.08 1249.98 L1474.77 1251.64 L1474.77 1247.38 L1483.03 1245.72 L1487.71 1245.72 L1487.71 1276.34 L1495.35 1276.34 L1495.35 1280.28 L1475.44 1280.28 L1475.44 1276.34 Z\" fill=\"#000000\" fill-rule=\"nonzero\" fill-opacity=\"1\" /><path clip-path=\"url(#clip850)\" d=\"M1504.84 1245.72 L1523.19 1245.72 L1523.19 1249.65 L1509.12 1249.65 L1509.12 1258.12 Q1510.14 1257.78 1511.16 1257.61 Q1512.18 1257.43 1513.19 1257.43 Q1518.98 1257.43 1522.36 1260.6 Q1525.74 1263.77 1525.74 1269.19 Q1525.74 1274.77 1522.27 1277.87 Q1518.8 1280.95 1512.48 1280.95 Q1510.3 1280.95 1508.03 1280.58 Q1505.79 1280.21 1503.38 1279.47 L1503.38 1274.77 Q1505.46 1275.9 1507.68 1276.46 Q1509.91 1277.01 1512.38 1277.01 Q1516.39 1277.01 1518.73 1274.91 Q1521.06 1272.8 1521.06 1269.19 Q1521.06 1265.58 1518.73 1263.47 Q1516.39 1261.36 1512.38 1261.36 Q1510.51 1261.36 1508.63 1261.78 Q1506.78 1262.2 1504.84 1263.08 L1504.84 1245.72 Z\" fill=\"#000000\" fill-rule=\"nonzero\" fill-opacity=\"1\" /><path clip-path=\"url(#clip850)\" d=\"M1544.95 1248.79 Q1541.34 1248.79 1539.51 1252.36 Q1537.71 1255.9 1537.71 1263.03 Q1537.71 1270.14 1539.51 1273.7 Q1541.34 1277.24 1544.95 1277.24 Q1548.59 1277.24 1550.39 1273.7 Q1552.22 1270.14 1552.22 1263.03 Q1552.22 1255.9 1550.39 1252.36 Q1548.59 1248.79 1544.95 1248.79 M1544.95 1245.09 Q1550.76 1245.09 1553.82 1249.7 Q1556.9 1254.28 1556.9 1263.03 Q1556.9 1271.76 1553.82 1276.36 Q1550.76 1280.95 1544.95 1280.95 Q1539.14 1280.95 1536.06 1276.36 Q1533.01 1271.76 1533.01 1263.03 Q1533.01 1254.28 1536.06 1249.7 Q1539.14 1245.09 1544.95 1245.09 Z\" fill=\"#000000\" fill-rule=\"nonzero\" fill-opacity=\"1\" /><path clip-path=\"url(#clip850)\" d=\"M1907.88 1276.34 L1924.2 1276.34 L1924.2 1280.28 L1902.26 1280.28 L1902.26 1276.34 Q1904.92 1273.59 1909.5 1268.96 Q1914.11 1264.3 1915.29 1262.96 Q1917.53 1260.44 1918.41 1258.7 Q1919.32 1256.94 1919.32 1255.25 Q1919.32 1252.5 1917.37 1250.76 Q1915.45 1249.03 1912.35 1249.03 Q1910.15 1249.03 1907.7 1249.79 Q1905.27 1250.55 1902.49 1252.1 L1902.49 1247.38 Q1905.31 1246.25 1907.77 1245.67 Q1910.22 1245.09 1912.26 1245.09 Q1917.63 1245.09 1920.82 1247.78 Q1924.02 1250.46 1924.02 1254.95 Q1924.02 1257.08 1923.21 1259 Q1922.42 1260.9 1920.31 1263.49 Q1919.73 1264.16 1916.63 1267.38 Q1913.53 1270.58 1907.88 1276.34 Z\" fill=\"#000000\" fill-rule=\"nonzero\" fill-opacity=\"1\" /><path clip-path=\"url(#clip850)\" d=\"M1944.02 1248.79 Q1940.4 1248.79 1938.58 1252.36 Q1936.77 1255.9 1936.77 1263.03 Q1936.77 1270.14 1938.58 1273.7 Q1940.4 1277.24 1944.02 1277.24 Q1947.65 1277.24 1949.45 1273.7 Q1951.28 1270.14 1951.28 1263.03 Q1951.28 1255.9 1949.45 1252.36 Q1947.65 1248.79 1944.02 1248.79 M1944.02 1245.09 Q1949.83 1245.09 1952.88 1249.7 Q1955.96 1254.28 1955.96 1263.03 Q1955.96 1271.76 1952.88 1276.36 Q1949.83 1280.95 1944.02 1280.95 Q1938.21 1280.95 1935.13 1276.36 Q1932.07 1271.76 1932.07 1263.03 Q1932.07 1254.28 1935.13 1249.7 Q1938.21 1245.09 1944.02 1245.09 Z\" fill=\"#000000\" fill-rule=\"nonzero\" fill-opacity=\"1\" /><path clip-path=\"url(#clip850)\" d=\"M1974.18 1248.79 Q1970.57 1248.79 1968.74 1252.36 Q1966.93 1255.9 1966.93 1263.03 Q1966.93 1270.14 1968.74 1273.7 Q1970.57 1277.24 1974.18 1277.24 Q1977.81 1277.24 1979.62 1273.7 Q1981.45 1270.14 1981.45 1263.03 Q1981.45 1255.9 1979.62 1252.36 Q1977.81 1248.79 1974.18 1248.79 M1974.18 1245.09 Q1979.99 1245.09 1983.04 1249.7 Q1986.12 1254.28 1986.12 1263.03 Q1986.12 1271.76 1983.04 1276.36 Q1979.99 1280.95 1974.18 1280.95 Q1968.37 1280.95 1965.29 1276.36 Q1962.23 1271.76 1962.23 1263.03 Q1962.23 1254.28 1965.29 1249.7 Q1968.37 1245.09 1974.18 1245.09 Z\" fill=\"#000000\" fill-rule=\"nonzero\" fill-opacity=\"1\" /><path clip-path=\"url(#clip850)\" d=\"M959.481 1312.42 L965.911 1312.42 L965.911 1359.94 L959.481 1359.94 L959.481 1312.42 Z\" fill=\"#000000\" fill-rule=\"nonzero\" fill-opacity=\"1\" /><path clip-path=\"url(#clip850)\" d=\"M984.244 1314.17 L984.244 1324.29 L996.307 1324.29 L996.307 1328.84 L984.244 1328.84 L984.244 1348.2 Q984.244 1352.56 985.421 1353.8 Q986.631 1355.04 990.291 1355.04 L996.307 1355.04 L996.307 1359.94 L990.291 1359.94 Q983.512 1359.94 980.934 1357.43 Q978.356 1354.88 978.356 1348.2 L978.356 1328.84 L974.059 1328.84 L974.059 1324.29 L978.356 1324.29 L978.356 1314.17 L984.244 1314.17 Z\" fill=\"#000000\" fill-rule=\"nonzero\" fill-opacity=\"1\" /><path clip-path=\"url(#clip850)\" d=\"M1034.5 1340.65 L1034.5 1343.52 L1007.57 1343.52 Q1007.96 1349.56 1011.2 1352.75 Q1014.48 1355.9 1020.31 1355.9 Q1023.68 1355.9 1026.83 1355.07 Q1030.01 1354.24 1033.13 1352.59 L1033.13 1358.13 Q1029.98 1359.46 1026.67 1360.16 Q1023.36 1360.86 1019.96 1360.86 Q1011.43 1360.86 1006.43 1355.9 Q1001.46 1350.93 1001.46 1342.47 Q1001.46 1333.71 1006.17 1328.59 Q1010.92 1323.43 1018.94 1323.43 Q1026.13 1323.43 1030.3 1328.08 Q1034.5 1332.69 1034.5 1340.65 M1028.64 1338.93 Q1028.58 1334.13 1025.94 1331.26 Q1023.33 1328.4 1019 1328.4 Q1014.1 1328.4 1011.14 1331.17 Q1008.21 1333.94 1007.77 1338.96 L1028.64 1338.93 Z\" fill=\"#000000\" fill-rule=\"nonzero\" fill-opacity=\"1\" /><path clip-path=\"url(#clip850)\" d=\"M1064.77 1329.77 Q1063.78 1329.19 1062.61 1328.94 Q1061.46 1328.65 1060.06 1328.65 Q1055.09 1328.65 1052.42 1331.9 Q1049.78 1335.11 1049.78 1341.16 L1049.78 1359.94 L1043.89 1359.94 L1043.89 1324.29 L1049.78 1324.29 L1049.78 1329.83 Q1051.62 1326.58 1054.58 1325.02 Q1057.54 1323.43 1061.78 1323.43 Q1062.38 1323.43 1063.11 1323.53 Q1063.85 1323.59 1064.74 1323.75 L1064.77 1329.77 Z\" fill=\"#000000\" fill-rule=\"nonzero\" fill-opacity=\"1\" /><path clip-path=\"url(#clip850)\" d=\"M1087.11 1342.02 Q1080.02 1342.02 1077.28 1343.64 Q1074.54 1345.27 1074.54 1349.18 Q1074.54 1352.3 1076.58 1354.15 Q1078.65 1355.96 1082.18 1355.96 Q1087.05 1355.96 1089.98 1352.52 Q1092.94 1349.05 1092.94 1343.33 L1092.94 1342.02 L1087.11 1342.02 M1098.79 1339.6 L1098.79 1359.94 L1092.94 1359.94 L1092.94 1354.53 Q1090.93 1357.78 1087.94 1359.34 Q1084.95 1360.86 1080.62 1360.86 Q1075.15 1360.86 1071.9 1357.81 Q1068.68 1354.72 1068.68 1349.56 Q1068.68 1343.55 1072.7 1340.49 Q1076.74 1337.44 1084.73 1337.44 L1092.94 1337.44 L1092.94 1336.86 Q1092.94 1332.82 1090.26 1330.63 Q1087.62 1328.4 1082.82 1328.4 Q1079.76 1328.4 1076.86 1329.13 Q1073.97 1329.86 1071.29 1331.33 L1071.29 1325.92 Q1074.51 1324.67 1077.53 1324.07 Q1080.56 1323.43 1083.42 1323.43 Q1091.16 1323.43 1094.98 1327.44 Q1098.79 1331.45 1098.79 1339.6 Z\" fill=\"#000000\" fill-rule=\"nonzero\" fill-opacity=\"1\" /><path clip-path=\"url(#clip850)\" d=\"M1116.65 1314.17 L1116.65 1324.29 L1128.71 1324.29 L1128.71 1328.84 L1116.65 1328.84 L1116.65 1348.2 Q1116.65 1352.56 1117.83 1353.8 Q1119.04 1355.04 1122.7 1355.04 L1128.71 1355.04 L1128.71 1359.94 L1122.7 1359.94 Q1115.92 1359.94 1113.34 1357.43 Q1110.76 1354.88 1110.76 1348.2 L1110.76 1328.84 L1106.47 1328.84 L1106.47 1324.29 L1110.76 1324.29 L1110.76 1314.17 L1116.65 1314.17 Z\" fill=\"#000000\" fill-rule=\"nonzero\" fill-opacity=\"1\" /><path clip-path=\"url(#clip850)\" d=\"M1136.42 1324.29 L1142.27 1324.29 L1142.27 1359.94 L1136.42 1359.94 L1136.42 1324.29 M1136.42 1310.41 L1142.27 1310.41 L1142.27 1317.83 L1136.42 1317.83 L1136.42 1310.41 Z\" fill=\"#000000\" fill-rule=\"nonzero\" fill-opacity=\"1\" /><path clip-path=\"url(#clip850)\" d=\"M1168.34 1328.4 Q1163.63 1328.4 1160.89 1332.09 Q1158.15 1335.75 1158.15 1342.15 Q1158.15 1348.55 1160.86 1352.24 Q1163.6 1355.9 1168.34 1355.9 Q1173.02 1355.9 1175.76 1352.21 Q1178.49 1348.51 1178.49 1342.15 Q1178.49 1335.81 1175.76 1332.12 Q1173.02 1328.4 1168.34 1328.4 M1168.34 1323.43 Q1175.98 1323.43 1180.34 1328.4 Q1184.7 1333.36 1184.7 1342.15 Q1184.7 1350.9 1180.34 1355.9 Q1175.98 1360.86 1168.34 1360.86 Q1160.67 1360.86 1156.31 1355.9 Q1151.98 1350.9 1151.98 1342.15 Q1151.98 1333.36 1156.31 1328.4 Q1160.67 1323.43 1168.34 1323.43 Z\" fill=\"#000000\" fill-rule=\"nonzero\" fill-opacity=\"1\" /><path clip-path=\"url(#clip850)\" d=\"M1224.04 1338.42 L1224.04 1359.94 L1218.18 1359.94 L1218.18 1338.61 Q1218.18 1333.55 1216.21 1331.04 Q1214.24 1328.53 1210.29 1328.53 Q1205.55 1328.53 1202.81 1331.55 Q1200.07 1334.57 1200.07 1339.79 L1200.07 1359.94 L1194.18 1359.94 L1194.18 1324.29 L1200.07 1324.29 L1200.07 1329.83 Q1202.17 1326.62 1205.01 1325.02 Q1207.87 1323.43 1211.6 1323.43 Q1217.74 1323.43 1220.89 1327.25 Q1224.04 1331.04 1224.04 1338.42 Z\" fill=\"#000000\" fill-rule=\"nonzero\" fill-opacity=\"1\" /><polyline clip-path=\"url(#clip852)\" style=\"stroke:#000000; stroke-linecap:round; stroke-linejoin:round; stroke-width:2; stroke-opacity:0.1; fill:none\" points=\"230.765,1221.08 1952.76,1221.08 \"/>\n",
       "<polyline clip-path=\"url(#clip852)\" style=\"stroke:#000000; stroke-linecap:round; stroke-linejoin:round; stroke-width:2; stroke-opacity:0.1; fill:none\" points=\"230.765,1040.49 1952.76,1040.49 \"/>\n",
       "<polyline clip-path=\"url(#clip852)\" style=\"stroke:#000000; stroke-linecap:round; stroke-linejoin:round; stroke-width:2; stroke-opacity:0.1; fill:none\" points=\"230.765,859.897 1952.76,859.897 \"/>\n",
       "<polyline clip-path=\"url(#clip852)\" style=\"stroke:#000000; stroke-linecap:round; stroke-linejoin:round; stroke-width:2; stroke-opacity:0.1; fill:none\" points=\"230.765,679.307 1952.76,679.307 \"/>\n",
       "<polyline clip-path=\"url(#clip852)\" style=\"stroke:#000000; stroke-linecap:round; stroke-linejoin:round; stroke-width:2; stroke-opacity:0.1; fill:none\" points=\"230.765,498.718 1952.76,498.718 \"/>\n",
       "<polyline clip-path=\"url(#clip852)\" style=\"stroke:#000000; stroke-linecap:round; stroke-linejoin:round; stroke-width:2; stroke-opacity:0.1; fill:none\" points=\"230.765,318.128 1952.76,318.128 \"/>\n",
       "<polyline clip-path=\"url(#clip852)\" style=\"stroke:#000000; stroke-linecap:round; stroke-linejoin:round; stroke-width:2; stroke-opacity:0.1; fill:none\" points=\"230.765,137.539 1952.76,137.539 \"/>\n",
       "<polyline clip-path=\"url(#clip850)\" style=\"stroke:#000000; stroke-linecap:round; stroke-linejoin:round; stroke-width:4; stroke-opacity:1; fill:none\" points=\"230.765,1221.08 230.765,47.2441 \"/>\n",
       "<polyline clip-path=\"url(#clip850)\" style=\"stroke:#000000; stroke-linecap:round; stroke-linejoin:round; stroke-width:4; stroke-opacity:1; fill:none\" points=\"230.765,1221.08 249.663,1221.08 \"/>\n",
       "<polyline clip-path=\"url(#clip850)\" style=\"stroke:#000000; stroke-linecap:round; stroke-linejoin:round; stroke-width:4; stroke-opacity:1; fill:none\" points=\"230.765,1040.49 249.663,1040.49 \"/>\n",
       "<polyline clip-path=\"url(#clip850)\" style=\"stroke:#000000; stroke-linecap:round; stroke-linejoin:round; stroke-width:4; stroke-opacity:1; fill:none\" points=\"230.765,859.897 249.663,859.897 \"/>\n",
       "<polyline clip-path=\"url(#clip850)\" style=\"stroke:#000000; stroke-linecap:round; stroke-linejoin:round; stroke-width:4; stroke-opacity:1; fill:none\" points=\"230.765,679.307 249.663,679.307 \"/>\n",
       "<polyline clip-path=\"url(#clip850)\" style=\"stroke:#000000; stroke-linecap:round; stroke-linejoin:round; stroke-width:4; stroke-opacity:1; fill:none\" points=\"230.765,498.718 249.663,498.718 \"/>\n",
       "<polyline clip-path=\"url(#clip850)\" style=\"stroke:#000000; stroke-linecap:round; stroke-linejoin:round; stroke-width:4; stroke-opacity:1; fill:none\" points=\"230.765,318.128 249.663,318.128 \"/>\n",
       "<polyline clip-path=\"url(#clip850)\" style=\"stroke:#000000; stroke-linecap:round; stroke-linejoin:round; stroke-width:4; stroke-opacity:1; fill:none\" points=\"230.765,137.539 249.663,137.539 \"/>\n",
       "<path clip-path=\"url(#clip850)\" d=\"M188.821 1206.87 Q185.21 1206.87 183.381 1210.44 Q181.576 1213.98 181.576 1221.11 Q181.576 1228.22 183.381 1231.78 Q185.21 1235.32 188.821 1235.32 Q192.455 1235.32 194.261 1231.78 Q196.089 1228.22 196.089 1221.11 Q196.089 1213.98 194.261 1210.44 Q192.455 1206.87 188.821 1206.87 M188.821 1203.17 Q194.631 1203.17 197.687 1207.78 Q200.765 1212.36 200.765 1221.11 Q200.765 1229.84 197.687 1234.44 Q194.631 1239.03 188.821 1239.03 Q183.011 1239.03 179.932 1234.44 Q176.877 1229.84 176.877 1221.11 Q176.877 1212.36 179.932 1207.78 Q183.011 1203.17 188.821 1203.17 Z\" fill=\"#000000\" fill-rule=\"nonzero\" fill-opacity=\"1\" /><path clip-path=\"url(#clip850)\" d=\"M152.687 1053.83 L169.006 1053.83 L169.006 1057.77 L147.062 1057.77 L147.062 1053.83 Q149.724 1051.08 154.307 1046.45 Q158.914 1041.79 160.094 1040.45 Q162.34 1037.93 163.219 1036.19 Q164.122 1034.43 164.122 1032.74 Q164.122 1029.99 162.178 1028.25 Q160.256 1026.52 157.154 1026.52 Q154.955 1026.52 152.502 1027.28 Q150.071 1028.04 147.293 1029.6 L147.293 1024.87 Q150.117 1023.74 152.571 1023.16 Q155.025 1022.58 157.062 1022.58 Q162.432 1022.58 165.627 1025.27 Q168.821 1027.95 168.821 1032.44 Q168.821 1034.57 168.011 1036.49 Q167.224 1038.39 165.117 1040.98 Q164.539 1041.66 161.437 1044.87 Q158.335 1048.07 152.687 1053.83 Z\" fill=\"#000000\" fill-rule=\"nonzero\" fill-opacity=\"1\" /><path clip-path=\"url(#clip850)\" d=\"M188.821 1026.29 Q185.21 1026.29 183.381 1029.85 Q181.576 1033.39 181.576 1040.52 Q181.576 1047.63 183.381 1051.19 Q185.21 1054.73 188.821 1054.73 Q192.455 1054.73 194.261 1051.19 Q196.089 1047.63 196.089 1040.52 Q196.089 1033.39 194.261 1029.85 Q192.455 1026.29 188.821 1026.29 M188.821 1022.58 Q194.631 1022.58 197.687 1027.19 Q200.765 1031.77 200.765 1040.52 Q200.765 1049.25 197.687 1053.85 Q194.631 1058.44 188.821 1058.44 Q183.011 1058.44 179.932 1053.85 Q176.877 1049.25 176.877 1040.52 Q176.877 1031.77 179.932 1027.19 Q183.011 1022.58 188.821 1022.58 Z\" fill=\"#000000\" fill-rule=\"nonzero\" fill-opacity=\"1\" /><path clip-path=\"url(#clip850)\" d=\"M161.506 846.691 L149.701 865.14 L161.506 865.14 L161.506 846.691 M160.279 842.617 L166.159 842.617 L166.159 865.14 L171.09 865.14 L171.09 869.029 L166.159 869.029 L166.159 877.177 L161.506 877.177 L161.506 869.029 L145.905 869.029 L145.905 864.515 L160.279 842.617 Z\" fill=\"#000000\" fill-rule=\"nonzero\" fill-opacity=\"1\" /><path clip-path=\"url(#clip850)\" d=\"M188.821 845.696 Q185.21 845.696 183.381 849.26 Q181.576 852.802 181.576 859.932 Q181.576 867.038 183.381 870.603 Q185.21 874.144 188.821 874.144 Q192.455 874.144 194.261 870.603 Q196.089 867.038 196.089 859.932 Q196.089 852.802 194.261 849.26 Q192.455 845.696 188.821 845.696 M188.821 841.992 Q194.631 841.992 197.687 846.598 Q200.765 851.182 200.765 859.932 Q200.765 868.658 197.687 873.265 Q194.631 877.848 188.821 877.848 Q183.011 877.848 179.932 873.265 Q176.877 868.658 176.877 859.932 Q176.877 851.182 179.932 846.598 Q183.011 841.992 188.821 841.992 Z\" fill=\"#000000\" fill-rule=\"nonzero\" fill-opacity=\"1\" /><path clip-path=\"url(#clip850)\" d=\"M159.238 677.444 Q156.09 677.444 154.238 679.597 Q152.409 681.749 152.409 685.499 Q152.409 689.226 154.238 691.402 Q156.09 693.555 159.238 693.555 Q162.386 693.555 164.215 691.402 Q166.066 689.226 166.066 685.499 Q166.066 681.749 164.215 679.597 Q162.386 677.444 159.238 677.444 M168.52 662.791 L168.52 667.05 Q166.761 666.217 164.955 665.777 Q163.173 665.338 161.414 665.338 Q156.784 665.338 154.33 668.462 Q151.9 671.587 151.553 677.907 Q152.918 675.893 154.979 674.828 Q157.039 673.74 159.516 673.74 Q164.724 673.74 167.733 676.912 Q170.766 680.06 170.766 685.499 Q170.766 690.823 167.617 694.041 Q164.469 697.259 159.238 697.259 Q153.242 697.259 150.071 692.675 Q146.9 688.069 146.9 679.342 Q146.9 671.148 150.789 666.287 Q154.678 661.402 161.229 661.402 Q162.988 661.402 164.77 661.75 Q166.576 662.097 168.52 662.791 Z\" fill=\"#000000\" fill-rule=\"nonzero\" fill-opacity=\"1\" /><path clip-path=\"url(#clip850)\" d=\"M188.821 665.106 Q185.21 665.106 183.381 668.671 Q181.576 672.212 181.576 679.342 Q181.576 686.449 183.381 690.013 Q185.21 693.555 188.821 693.555 Q192.455 693.555 194.261 690.013 Q196.089 686.449 196.089 679.342 Q196.089 672.212 194.261 668.671 Q192.455 665.106 188.821 665.106 M188.821 661.402 Q194.631 661.402 197.687 666.009 Q200.765 670.592 200.765 679.342 Q200.765 688.069 197.687 692.675 Q194.631 697.259 188.821 697.259 Q183.011 697.259 179.932 692.675 Q176.877 688.069 176.877 679.342 Q176.877 670.592 179.932 666.009 Q183.011 661.402 188.821 661.402 Z\" fill=\"#000000\" fill-rule=\"nonzero\" fill-opacity=\"1\" /><path clip-path=\"url(#clip850)\" d=\"M158.659 499.586 Q155.326 499.586 153.404 501.368 Q151.506 503.151 151.506 506.276 Q151.506 509.401 153.404 511.183 Q155.326 512.965 158.659 512.965 Q161.992 512.965 163.914 511.183 Q165.835 509.378 165.835 506.276 Q165.835 503.151 163.914 501.368 Q162.016 499.586 158.659 499.586 M153.983 497.595 Q150.974 496.854 149.284 494.794 Q147.617 492.734 147.617 489.771 Q147.617 485.628 150.557 483.22 Q153.52 480.813 158.659 480.813 Q163.821 480.813 166.761 483.22 Q169.701 485.628 169.701 489.771 Q169.701 492.734 168.011 494.794 Q166.344 496.854 163.358 497.595 Q166.738 498.382 168.613 500.674 Q170.511 502.966 170.511 506.276 Q170.511 511.299 167.432 513.984 Q164.377 516.669 158.659 516.669 Q152.942 516.669 149.863 513.984 Q146.807 511.299 146.807 506.276 Q146.807 502.966 148.705 500.674 Q150.604 498.382 153.983 497.595 M152.27 490.211 Q152.27 492.896 153.937 494.401 Q155.627 495.905 158.659 495.905 Q161.668 495.905 163.358 494.401 Q165.071 492.896 165.071 490.211 Q165.071 487.526 163.358 486.021 Q161.668 484.517 158.659 484.517 Q155.627 484.517 153.937 486.021 Q152.27 487.526 152.27 490.211 Z\" fill=\"#000000\" fill-rule=\"nonzero\" fill-opacity=\"1\" /><path clip-path=\"url(#clip850)\" d=\"M188.821 484.517 Q185.21 484.517 183.381 488.081 Q181.576 491.623 181.576 498.753 Q181.576 505.859 183.381 509.424 Q185.21 512.965 188.821 512.965 Q192.455 512.965 194.261 509.424 Q196.089 505.859 196.089 498.753 Q196.089 491.623 194.261 488.081 Q192.455 484.517 188.821 484.517 M188.821 480.813 Q194.631 480.813 197.687 485.419 Q200.765 490.003 200.765 498.753 Q200.765 507.479 197.687 512.086 Q194.631 516.669 188.821 516.669 Q183.011 516.669 179.932 512.086 Q176.877 507.479 176.877 498.753 Q176.877 490.003 179.932 485.419 Q183.011 480.813 188.821 480.813 Z\" fill=\"#000000\" fill-rule=\"nonzero\" fill-opacity=\"1\" /><path clip-path=\"url(#clip850)\" d=\"M119.307 331.473 L126.946 331.473 L126.946 305.108 L118.636 306.774 L118.636 302.515 L126.9 300.848 L131.576 300.848 L131.576 331.473 L139.215 331.473 L139.215 335.408 L119.307 335.408 L119.307 331.473 Z\" fill=\"#000000\" fill-rule=\"nonzero\" fill-opacity=\"1\" /><path clip-path=\"url(#clip850)\" d=\"M158.659 303.927 Q155.048 303.927 153.219 307.492 Q151.414 311.033 151.414 318.163 Q151.414 325.27 153.219 328.834 Q155.048 332.376 158.659 332.376 Q162.293 332.376 164.099 328.834 Q165.928 325.27 165.928 318.163 Q165.928 311.033 164.099 307.492 Q162.293 303.927 158.659 303.927 M158.659 300.223 Q164.469 300.223 167.525 304.83 Q170.603 309.413 170.603 318.163 Q170.603 326.89 167.525 331.496 Q164.469 336.08 158.659 336.08 Q152.849 336.08 149.77 331.496 Q146.715 326.89 146.715 318.163 Q146.715 309.413 149.77 304.83 Q152.849 300.223 158.659 300.223 Z\" fill=\"#000000\" fill-rule=\"nonzero\" fill-opacity=\"1\" /><path clip-path=\"url(#clip850)\" d=\"M188.821 303.927 Q185.21 303.927 183.381 307.492 Q181.576 311.033 181.576 318.163 Q181.576 325.27 183.381 328.834 Q185.21 332.376 188.821 332.376 Q192.455 332.376 194.261 328.834 Q196.089 325.27 196.089 318.163 Q196.089 311.033 194.261 307.492 Q192.455 303.927 188.821 303.927 M188.821 300.223 Q194.631 300.223 197.687 304.83 Q200.765 309.413 200.765 318.163 Q200.765 326.89 197.687 331.496 Q194.631 336.08 188.821 336.08 Q183.011 336.08 179.932 331.496 Q176.877 326.89 176.877 318.163 Q176.877 309.413 179.932 304.83 Q183.011 300.223 188.821 300.223 Z\" fill=\"#000000\" fill-rule=\"nonzero\" fill-opacity=\"1\" /><path clip-path=\"url(#clip850)\" d=\"M119.307 150.884 L126.946 150.884 L126.946 124.518 L118.636 126.185 L118.636 121.926 L126.9 120.259 L131.576 120.259 L131.576 150.884 L139.215 150.884 L139.215 154.819 L119.307 154.819 L119.307 150.884 Z\" fill=\"#000000\" fill-rule=\"nonzero\" fill-opacity=\"1\" /><path clip-path=\"url(#clip850)\" d=\"M152.687 150.884 L169.006 150.884 L169.006 154.819 L147.062 154.819 L147.062 150.884 Q149.724 148.129 154.307 143.499 Q158.914 138.847 160.094 137.504 Q162.34 134.981 163.219 133.245 Q164.122 131.486 164.122 129.796 Q164.122 127.041 162.178 125.305 Q160.256 123.569 157.154 123.569 Q154.955 123.569 152.502 124.333 Q150.071 125.097 147.293 126.648 L147.293 121.926 Q150.117 120.791 152.571 120.213 Q155.025 119.634 157.062 119.634 Q162.432 119.634 165.627 122.319 Q168.821 125.004 168.821 129.495 Q168.821 131.625 168.011 133.546 Q167.224 135.444 165.117 138.037 Q164.539 138.708 161.437 141.925 Q158.335 145.12 152.687 150.884 Z\" fill=\"#000000\" fill-rule=\"nonzero\" fill-opacity=\"1\" /><path clip-path=\"url(#clip850)\" d=\"M188.821 123.338 Q185.21 123.338 183.381 126.902 Q181.576 130.444 181.576 137.574 Q181.576 144.68 183.381 148.245 Q185.21 151.786 188.821 151.786 Q192.455 151.786 194.261 148.245 Q196.089 144.68 196.089 137.574 Q196.089 130.444 194.261 126.902 Q192.455 123.338 188.821 123.338 M188.821 119.634 Q194.631 119.634 197.687 124.24 Q200.765 128.824 200.765 137.574 Q200.765 146.3 197.687 150.907 Q194.631 155.49 188.821 155.49 Q183.011 155.49 179.932 150.907 Q176.877 146.3 176.877 137.574 Q176.877 128.824 179.932 124.24 Q183.011 119.634 188.821 119.634 Z\" fill=\"#000000\" fill-rule=\"nonzero\" fill-opacity=\"1\" /><path clip-path=\"url(#clip850)\" d=\"M31.2207 862.498 Q31.2207 869.5 36.4405 873.638 Q41.6604 877.744 50.6679 877.744 Q59.6435 877.744 64.8634 873.638 Q70.0833 869.5 70.0833 862.498 Q70.0833 855.496 64.8634 851.422 Q59.6435 847.316 50.6679 847.316 Q41.6604 847.316 36.4405 851.422 Q31.2207 855.496 31.2207 862.498 M26.0008 862.498 Q26.0008 852.504 32.7166 846.52 Q39.4006 840.536 50.6679 840.536 Q61.9034 840.536 68.6192 846.52 Q75.3032 852.504 75.3032 862.498 Q75.3032 872.524 68.6192 878.539 Q61.9352 884.523 50.6679 884.523 Q39.4006 884.523 32.7166 878.539 Q26.0008 872.524 26.0008 862.498 Z\" fill=\"#000000\" fill-rule=\"nonzero\" fill-opacity=\"1\" /><path clip-path=\"url(#clip850)\" d=\"M56.588 805.143 Q50.1268 805.143 46.4665 807.816 Q42.7744 810.458 42.7744 815.105 Q42.7744 819.752 46.4665 822.426 Q50.1268 825.068 56.588 825.068 Q63.0492 825.068 66.7413 822.426 Q70.4016 819.752 70.4016 815.105 Q70.4016 810.458 66.7413 807.816 Q63.0492 805.143 56.588 805.143 M44.1431 825.068 Q40.9602 823.221 39.4324 820.421 Q37.8728 817.588 37.8728 813.673 Q37.8728 807.18 43.0291 803.138 Q48.1853 799.064 56.588 799.064 Q64.9907 799.064 70.147 803.138 Q75.3032 807.18 75.3032 813.673 Q75.3032 817.588 73.7754 820.421 Q72.2158 823.221 69.033 825.068 L74.3802 825.068 L74.3802 830.956 L24.855 830.956 L24.855 825.068 L44.1431 825.068 Z\" fill=\"#000000\" fill-rule=\"nonzero\" fill-opacity=\"1\" /><path clip-path=\"url(#clip850)\" d=\"M38.7322 789.356 L38.7322 783.499 L75.0167 783.499 Q81.828 783.499 84.8836 786.109 Q87.9391 788.687 87.9391 794.448 L87.9391 796.676 L82.9739 796.676 L82.9739 795.117 Q82.9739 791.775 81.4143 790.565 Q79.8865 789.356 75.0167 789.356 L38.7322 789.356 M24.855 789.356 L24.855 783.499 L32.271 783.499 L32.271 789.356 L24.855 789.356 Z\" fill=\"#000000\" fill-rule=\"nonzero\" fill-opacity=\"1\" /><path clip-path=\"url(#clip850)\" d=\"M55.0921 740.754 L57.9566 740.754 L57.9566 767.681 Q64.0041 767.299 67.1869 764.052 Q70.3379 760.774 70.3379 754.949 Q70.3379 751.575 69.5104 748.424 Q68.6829 745.242 67.0278 742.122 L72.5659 742.122 Q73.9027 745.273 74.603 748.584 Q75.3032 751.894 75.3032 755.299 Q75.3032 763.829 70.3379 768.826 Q65.3727 773.792 56.9063 773.792 Q48.1534 773.792 43.0291 769.081 Q37.8728 764.339 37.8728 756.318 Q37.8728 749.125 42.5198 744.955 Q47.1349 740.754 55.0921 740.754 M53.3733 746.61 Q48.5672 746.674 45.7026 749.316 Q42.8381 751.926 42.8381 756.254 Q42.8381 761.156 45.6072 764.116 Q48.3762 767.044 53.4052 767.49 L53.3733 746.61 Z\" fill=\"#000000\" fill-rule=\"nonzero\" fill-opacity=\"1\" /><path clip-path=\"url(#clip850)\" d=\"M40.1008 705.488 L45.5753 705.488 Q44.2067 707.97 43.5383 710.485 Q42.8381 712.967 42.8381 715.514 Q42.8381 721.211 46.4665 724.362 Q50.0632 727.513 56.588 727.513 Q63.1129 727.513 66.7413 724.362 Q70.3379 721.211 70.3379 715.514 Q70.3379 712.967 69.6695 710.485 Q68.9693 707.97 67.6007 705.488 L73.0115 705.488 Q74.1574 707.939 74.7303 710.58 Q75.3032 713.19 75.3032 716.15 Q75.3032 724.203 70.2424 728.945 Q65.1817 733.688 56.588 733.688 Q47.867 733.688 42.8699 728.914 Q37.8728 724.107 37.8728 715.768 Q37.8728 713.063 38.4457 710.485 Q38.9868 707.907 40.1008 705.488 Z\" fill=\"#000000\" fill-rule=\"nonzero\" fill-opacity=\"1\" /><path clip-path=\"url(#clip850)\" d=\"M28.6107 689.51 L38.7322 689.51 L38.7322 677.447 L43.2837 677.447 L43.2837 689.51 L62.6354 689.51 Q66.9959 689.51 68.2373 688.332 Q69.4786 687.123 69.4786 683.462 L69.4786 677.447 L74.3802 677.447 L74.3802 683.462 Q74.3802 690.242 71.8657 692.82 Q69.3194 695.398 62.6354 695.398 L43.2837 695.398 L43.2837 699.695 L38.7322 699.695 L38.7322 695.398 L28.6107 695.398 L28.6107 689.51 Z\" fill=\"#000000\" fill-rule=\"nonzero\" fill-opacity=\"1\" /><path clip-path=\"url(#clip850)\" d=\"M38.7322 669.744 L38.7322 663.888 L74.3802 663.888 L74.3802 669.744 L38.7322 669.744 M24.855 669.744 L24.855 663.888 L32.271 663.888 L32.271 669.744 L24.855 669.744 Z\" fill=\"#000000\" fill-rule=\"nonzero\" fill-opacity=\"1\" /><path clip-path=\"url(#clip850)\" d=\"M38.7322 655.835 L38.7322 649.629 L68.651 638.489 L38.7322 627.349 L38.7322 621.142 L74.3802 634.51 L74.3802 642.467 L38.7322 655.835 Z\" fill=\"#000000\" fill-rule=\"nonzero\" fill-opacity=\"1\" /><path clip-path=\"url(#clip850)\" d=\"M55.0921 582.566 L57.9566 582.566 L57.9566 609.493 Q64.0041 609.111 67.1869 605.864 Q70.3379 602.586 70.3379 596.761 Q70.3379 593.388 69.5104 590.237 Q68.6829 587.054 67.0278 583.935 L72.5659 583.935 Q73.9027 587.086 74.603 590.396 Q75.3032 593.706 75.3032 597.112 Q75.3032 605.642 70.3379 610.639 Q65.3727 615.604 56.9063 615.604 Q48.1534 615.604 43.0291 610.893 Q37.8728 606.151 37.8728 598.13 Q37.8728 590.937 42.5198 586.767 Q47.1349 582.566 55.0921 582.566 M53.3733 588.422 Q48.5672 588.486 45.7026 591.128 Q42.8381 593.738 42.8381 598.066 Q42.8381 602.968 45.6072 605.928 Q48.3762 608.856 53.4052 609.302 L53.3733 588.422 Z\" fill=\"#000000\" fill-rule=\"nonzero\" fill-opacity=\"1\" /><path clip-path=\"url(#clip850)\" d=\"M38.7322 556.435 L38.7322 550.228 L68.651 539.088 L38.7322 527.948 L38.7322 521.742 L74.3802 535.11 L74.3802 543.067 L38.7322 556.435 Z\" fill=\"#000000\" fill-rule=\"nonzero\" fill-opacity=\"1\" /><path clip-path=\"url(#clip850)\" d=\"M56.4607 497.456 Q56.4607 504.554 58.0839 507.291 Q59.7072 510.029 63.6221 510.029 Q66.7413 510.029 68.5874 507.992 Q70.4016 505.923 70.4016 502.39 Q70.4016 497.52 66.9641 494.592 Q63.4948 491.632 57.7657 491.632 L56.4607 491.632 L56.4607 497.456 M54.0417 485.775 L74.3802 485.775 L74.3802 491.632 L68.9693 491.632 Q72.2158 493.637 73.7754 496.629 Q75.3032 499.621 75.3032 503.949 Q75.3032 509.424 72.2476 512.67 Q69.1603 515.885 64.0041 515.885 Q57.9885 515.885 54.9329 511.875 Q51.8774 507.833 51.8774 499.844 L51.8774 491.632 L51.3045 491.632 Q47.2622 491.632 45.0661 494.305 Q42.8381 496.947 42.8381 501.753 Q42.8381 504.809 43.5701 507.705 Q44.3022 510.602 45.7663 513.275 L40.3555 513.275 Q39.1141 510.061 38.5094 507.037 Q37.8728 504.013 37.8728 501.149 Q37.8728 493.414 41.8832 489.595 Q45.8936 485.775 54.0417 485.775 Z\" fill=\"#000000\" fill-rule=\"nonzero\" fill-opacity=\"1\" /><path clip-path=\"url(#clip850)\" d=\"M24.855 473.712 L24.855 467.856 L74.3802 467.856 L74.3802 473.712 L24.855 473.712 Z\" fill=\"#000000\" fill-rule=\"nonzero\" fill-opacity=\"1\" /><path clip-path=\"url(#clip850)\" d=\"M60.3119 456.207 L38.7322 456.207 L38.7322 450.35 L60.0891 450.35 Q65.1499 450.35 67.6962 448.377 Q70.2106 446.403 70.2106 442.457 Q70.2106 437.714 67.1869 434.977 Q64.1632 432.208 58.9433 432.208 L38.7322 432.208 L38.7322 426.351 L74.3802 426.351 L74.3802 432.208 L68.9056 432.208 Q72.1522 434.34 73.7436 437.173 Q75.3032 439.974 75.3032 443.698 Q75.3032 449.841 71.4838 453.024 Q67.6643 456.207 60.3119 456.207 M37.8728 441.47 L37.8728 441.47 Z\" fill=\"#000000\" fill-rule=\"nonzero\" fill-opacity=\"1\" /><path clip-path=\"url(#clip850)\" d=\"M55.0921 383.797 L57.9566 383.797 L57.9566 410.724 Q64.0041 410.342 67.1869 407.095 Q70.3379 403.817 70.3379 397.992 Q70.3379 394.618 69.5104 391.467 Q68.6829 388.285 67.0278 385.165 L72.5659 385.165 Q73.9027 388.316 74.603 391.627 Q75.3032 394.937 75.3032 398.342 Q75.3032 406.872 70.3379 411.869 Q65.3727 416.835 56.9063 416.835 Q48.1534 416.835 43.0291 412.124 Q37.8728 407.382 37.8728 399.361 Q37.8728 392.168 42.5198 387.998 Q47.1349 383.797 55.0921 383.797 M53.3733 389.653 Q48.5672 389.717 45.7026 392.359 Q42.8381 394.969 42.8381 399.297 Q42.8381 404.199 45.6072 407.159 Q48.3762 410.087 53.4052 410.533 L53.3733 389.653 Z\" fill=\"#000000\" fill-rule=\"nonzero\" fill-opacity=\"1\" /><polyline clip-path=\"url(#clip852)\" style=\"stroke:#000000; stroke-linecap:round; stroke-linejoin:round; stroke-width:6; stroke-opacity:1; fill:none\" points=\"239.332,80.836 247.9,233.117 256.467,238.822 265.034,113.448 273.601,114.116 282.168,134.26 290.735,138.019 299.302,117.088 307.869,105.602 316.437,110.83 325.004,111.26 333.571,110.333 342.138,110.745 350.705,112.167 359.272,116.307 367.839,121.254 376.406,143.665 384.973,173.453 393.541,201.61 402.108,251.554 410.675,299.159 419.242,305.937 427.809,306.519 436.376,309.445 444.943,310.051 453.51,312.214 462.078,315.62 470.645,317.726 479.212,321.555 487.779,321.711 496.346,321.889 504.913,322.586 513.48,324.668 522.047,363.21 530.614,894.902 539.182,846.043 547.749,739.61 556.316,814.77 564.883,1152.17 573.45,928.985 582.017,1125.2 590.584,1088.8 599.151,1105.62 607.719,1139.18 616.286,1179.75 624.853,1177.15 633.42,1187.29 641.987,1198.86 650.554,1200.27 659.121,1205.22 667.688,1208.2 676.255,1210.53 684.823,1212.99 693.39,1214.73 701.957,1213.89 710.524,1215.21 719.091,1215.69 727.658,1215.7 736.225,1215.07 744.792,1215.33 753.359,1216.62 761.927,1216.35 770.494,1215.78 779.061,1216.76 787.628,1217.38 796.195,1217.37 804.762,1217.35 813.329,1217.33 821.896,1217.31 830.464,1217.09 839.031,1218.25 847.598,1218.33 856.165,1218.53 864.732,1219.18 873.299,1217.76 881.866,1217.9 890.433,1218.09 899,1218.42 907.568,1218.7 916.135,1218.82 924.702,1218.92 933.269,1219.1 941.836,1219.16 950.403,1219.19 958.97,1218.92 967.537,1218.93 976.105,1218.94 984.672,1218.98 993.239,1219.19 1001.81,1219.21 1010.37,1219.23 1018.94,1219.24 1027.51,1219.25 1036.07,1219.04 1044.64,1219.23 1053.21,1219.34 1061.78,1219.37 1070.34,1219.04 1078.91,1219.06 1087.48,1219.08 1096.04,1219.08 1104.61,1219.14 1113.18,1219.27 1121.75,1219.28 1130.31,1219.28 1138.88,1219.29 1147.45,1219.29 1156.01,1219.29 1164.58,1219.3 1173.15,1219.35 1181.72,1219.3 1190.28,1219.15 1198.85,1219.29 1207.42,1219.3 1215.98,1219.31 1224.55,1219.37 1233.12,1219.41 1241.69,1219.49 1250.25,1219.52 1258.82,1219.53 1267.39,1219.36 1275.95,1219.51 1284.52,1219.59 1293.09,1219.62 1301.65,1219.38 1310.22,1219.39 1318.79,1219.4 1327.36,1219.42 1335.92,1219.4 1344.49,1219.52 1353.06,1219.54 1361.62,1219.57 1370.19,1219.6 1378.76,1219.68 1387.33,1219.64 1395.89,1219.65 1404.46,1219.7 1413.03,1219.74 1421.59,1219.74 1430.16,1219.62 1438.73,1219.8 1447.3,1219.81 1455.86,1219.7 1464.43,1219.72 1473,1219.74 1481.56,1219.75 1490.13,1219.88 1498.7,1220.04 1507.27,1219.93 1515.83,1219.88 1524.4,1219.89 1532.97,1220.02 1541.53,1220.07 1550.1,1219.89 1558.67,1220.16 1567.24,1220.2 1575.8,1219.93 1584.37,1220.13 1592.94,1220.2 1601.5,1219.91 1610.07,1219.92 1618.64,1219.93 1627.21,1219.94 1635.77,1219.95 1644.34,1220.22 1652.91,1220.25 1661.47,1219.98 1670.04,1220.13 1678.61,1220.25 1687.18,1220.25 1695.74,1220.02 1704.31,1220.07 1712.88,1220.08 1721.44,1220.08 1730.01,1220.09 1738.58,1220.09 1747.15,1220.2 1755.71,1220.21 1764.28,1220.11 1772.85,1220.2 1781.41,1220.22 1789.98,1220.22 1798.55,1220.21 1807.11,1220.08 1815.68,1220.21 1824.25,1220.24 1832.82,1220.26 1841.38,1220.26 1849.95,1220.1 1858.52,1220.14 1867.08,1220.15 1875.65,1220.16 1884.22,1220.16 1892.79,1220.16 1901.35,1220.22 1909.92,1220.26 1918.49,1220.08 1927.05,1220.23 1935.62,1220.24 1944.19,1220.14 1952.76,1220.16 \"/>\n",
       "<polyline clip-path=\"url(#clip852)\" style=\"stroke:#000000; stroke-linecap:round; stroke-linejoin:round; stroke-width:6; stroke-opacity:1; fill:none\" stroke-dasharray=\"3, 6\" points=\"239.332,80.836 247.9,172.988 256.467,306.142 265.034,310.669 273.601,313.384 282.168,312.398 290.735,313.519 299.302,314.333 307.869,315.109 316.437,315.799 325.004,316.907 333.571,317.859 342.138,318.111 350.705,318.125 359.272,318.124 367.839,318.125 376.406,318.125 384.973,318.126 393.541,318.127 402.108,318.128 410.675,318.128 419.242,318.128 427.809,318.128 436.376,318.128 444.943,318.128 453.51,318.128 462.078,318.128 470.645,318.128 479.212,318.128 487.779,318.128 496.346,318.128 504.913,318.128 513.48,318.128 522.047,318.128 530.614,318.128 539.182,318.128 547.749,318.128 556.316,318.128 564.883,318.128 573.45,318.128 582.017,318.128 590.584,318.128 599.151,318.128 607.719,318.128 616.286,318.128 624.853,318.128 633.42,318.128 641.987,318.128 650.554,318.128 659.121,318.128 667.688,318.128 676.255,318.128 684.823,318.128 693.39,318.128 701.957,318.128 710.524,318.128 719.091,318.128 727.658,318.128 736.225,318.128 744.792,318.128 753.359,318.128 761.927,318.128 770.494,318.115 779.061,318.119 787.628,318.122 796.195,318.121 804.762,318.121 813.329,318.122 821.896,318.123 830.464,318.125 839.031,318.127 847.598,318.128 856.165,318.128 864.732,318.128 873.299,318.128 881.866,318.128 890.433,318.128 899,318.128 907.568,318.128 916.135,318.128 924.702,318.128 933.269,318.128 941.836,318.128 950.403,318.128 958.97,318.128 967.537,318.128 976.105,318.128 984.672,318.128 993.239,318.128 1001.81,318.128 1010.37,318.128 1018.94,318.128 1027.51,318.128 1036.07,318.128 1044.64,318.128 1053.21,318.128 1061.78,318.128 1070.34,318.128 1078.91,318.128 1087.48,318.128 1096.04,318.128 1104.61,318.128 1113.18,318.128 1121.75,318.128 1130.31,318.128 1138.88,318.128 1147.45,318.128 1156.01,318.128 1164.58,318.128 1173.15,318.128 1181.72,318.128 1190.28,318.128 1198.85,318.128 1207.42,318.128 1215.98,318.128 1224.55,318.128 1233.12,318.128 1241.69,318.128 1250.25,318.128 1258.82,318.128 1267.39,318.128 1275.95,318.128 1284.52,318.128 1293.09,318.128 1301.65,318.128 1310.22,318.128 1318.79,318.128 1327.36,318.128 1335.92,318.128 1344.49,318.128 1353.06,318.128 1361.62,318.128 1370.19,318.128 1378.76,318.128 1387.33,318.128 1395.89,318.128 1404.46,318.128 1413.03,318.128 1421.59,318.128 1430.16,318.128 1438.73,318.128 1447.3,318.128 1455.86,318.128 1464.43,318.128 1473,318.128 1481.56,318.128 1490.13,318.128 1498.7,318.128 1507.27,318.128 1515.83,318.128 1524.4,318.128 1532.97,318.128 1541.53,318.128 1550.1,318.128 1558.67,318.128 1567.24,318.128 1575.8,318.128 1584.37,318.128 1592.94,318.128 1601.5,318.128 1610.07,318.128 1618.64,318.128 1627.21,318.128 1635.77,318.128 1644.34,318.128 1652.91,318.128 1661.47,318.128 1670.04,318.128 1678.61,318.128 1687.18,318.128 1695.74,318.128 1704.31,318.128 1712.88,318.128 1721.44,318.128 1730.01,318.128 1738.58,318.128 1747.15,318.128 1755.71,318.128 1764.28,318.128 1772.85,318.128 1781.41,318.128 1789.98,318.128 1798.55,318.128 1807.11,318.128 1815.68,318.128 1824.25,318.128 1832.82,318.128 1841.38,318.128 1849.95,318.128 1858.52,318.128 1867.08,318.128 1875.65,318.128 1884.22,318.128 1892.79,318.128 1901.35,318.128 1909.92,318.128 1918.49,318.128 1927.05,318.128 1935.62,318.128 1944.19,318.128 1952.76,318.128 \"/>\n",
       "<path clip-path=\"url(#clip850)\" d=\"M1233.43 241.892 L1895.36 241.892 L1895.36 86.3718 L1233.43 86.3718  Z\" fill=\"#ffffff\" fill-rule=\"evenodd\" fill-opacity=\"1\"/>\n",
       "<polyline clip-path=\"url(#clip850)\" style=\"stroke:#000000; stroke-linecap:round; stroke-linejoin:round; stroke-width:4; stroke-opacity:1; fill:none\" points=\"1233.43,241.892 1895.36,241.892 1895.36,86.3718 1233.43,86.3718 1233.43,241.892 \"/>\n",
       "<polyline clip-path=\"url(#clip850)\" style=\"stroke:#000000; stroke-linecap:round; stroke-linejoin:round; stroke-width:6; stroke-opacity:1; fill:none\" points=\"1252.56,138.212 1367.36,138.212 \"/>\n",
       "<path clip-path=\"url(#clip850)\" d=\"M1386.49 128.517 L1390.75 128.517 L1396.08 148.748 L1401.38 128.517 L1406.4 128.517 L1411.73 148.748 L1417.03 128.517 L1421.29 128.517 L1414.5 154.442 L1409.48 154.442 L1403.9 133.192 L1398.3 154.442 L1393.28 154.442 L1386.49 128.517 Z\" fill=\"#000000\" fill-rule=\"nonzero\" fill-opacity=\"1\" /><path clip-path=\"url(#clip850)\" d=\"M1427.74 128.517 L1432 128.517 L1432 154.442 L1427.74 154.442 L1427.74 128.517 M1427.74 118.424 L1432 118.424 L1432 123.817 L1427.74 123.817 L1427.74 118.424 Z\" fill=\"#000000\" fill-rule=\"nonzero\" fill-opacity=\"1\" /><path clip-path=\"url(#clip850)\" d=\"M1445.13 121.155 L1445.13 128.517 L1453.9 128.517 L1453.9 131.827 L1445.13 131.827 L1445.13 145.901 Q1445.13 149.072 1445.98 149.975 Q1446.86 150.877 1449.53 150.877 L1453.9 150.877 L1453.9 154.442 L1449.53 154.442 Q1444.6 154.442 1442.72 152.614 Q1440.85 150.762 1440.85 145.901 L1440.85 131.827 L1437.72 131.827 L1437.72 128.517 L1440.85 128.517 L1440.85 121.155 L1445.13 121.155 Z\" fill=\"#000000\" fill-rule=\"nonzero\" fill-opacity=\"1\" /><path clip-path=\"url(#clip850)\" d=\"M1481.05 138.794 L1481.05 154.442 L1476.79 154.442 L1476.79 138.933 Q1476.79 135.253 1475.36 133.424 Q1473.92 131.595 1471.05 131.595 Q1467.6 131.595 1465.61 133.794 Q1463.62 135.993 1463.62 139.79 L1463.62 154.442 L1459.34 154.442 L1459.34 118.424 L1463.62 118.424 L1463.62 132.544 Q1465.15 130.206 1467.21 129.049 Q1469.29 127.892 1472 127.892 Q1476.47 127.892 1478.76 130.669 Q1481.05 133.424 1481.05 138.794 Z\" fill=\"#000000\" fill-rule=\"nonzero\" fill-opacity=\"1\" /><path clip-path=\"url(#clip850)\" d=\"M1534.39 128.303 Q1534.39 130.481 1532.9 132.449 Q1531.42 134.393 1529.17 135.634 Q1526.92 136.852 1524.37 137.32 Q1527.81 137.719 1529.8 139.592 Q1531.82 141.466 1531.82 144.09 Q1531.82 145.846 1530.79 147.697 Q1529.78 149.524 1528.05 151.023 Q1526.34 152.522 1523.81 153.482 Q1521.3 154.442 1518.56 154.442 L1501.44 154.442 Q1500.9 154.442 1500.69 154.419 Q1500.48 154.395 1500.31 154.278 Q1500.15 154.161 1500.15 153.904 Q1500.15 153.435 1500.31 153.224 Q1500.5 153.014 1500.71 152.99 Q1500.92 152.967 1501.44 152.967 Q1502.61 152.967 1503.31 152.896 Q1504.02 152.826 1504.46 152.732 Q1504.93 152.615 1505.16 152.287 Q1505.42 151.96 1505.54 151.678 Q1505.65 151.374 1505.82 150.695 L1512.24 124.93 Q1512.42 124.157 1512.42 124.04 Q1512.42 123.595 1512.14 123.478 Q1511.89 123.337 1511.14 123.267 L1509.31 123.173 Q1508.75 123.173 1508.51 123.15 Q1508.3 123.126 1508.14 123.009 Q1507.97 122.892 1507.97 122.635 Q1507.97 121.979 1508.25 121.838 Q1508.56 121.674 1509.36 121.674 L1525.47 121.674 Q1529.62 121.674 1532.01 123.595 Q1534.39 125.492 1534.39 128.303 M1530.04 128.115 Q1530.04 127.225 1529.8 126.429 Q1529.57 125.633 1529.01 124.86 Q1528.47 124.087 1527.39 123.642 Q1526.31 123.173 1524.81 123.173 L1518.61 123.173 Q1517.09 123.173 1516.71 123.454 Q1516.36 123.712 1516.03 125 L1513.06 136.875 L1520.06 136.875 Q1522.19 136.875 1524.07 136.103 Q1525.96 135.33 1527.25 134.088 Q1528.54 132.823 1529.29 131.254 Q1530.04 129.685 1530.04 128.115 M1527.34 143.551 Q1527.34 142.848 1527.23 142.169 Q1527.11 141.49 1526.74 140.693 Q1526.36 139.897 1525.77 139.311 Q1525.19 138.726 1524.16 138.328 Q1523.15 137.929 1521.84 137.929 L1512.78 137.929 L1509.45 151.327 Q1509.22 152.194 1509.22 152.428 Q1509.22 152.686 1509.33 152.779 Q1509.47 152.85 1509.85 152.896 Q1510.27 152.967 1510.9 152.967 L1517.41 152.967 Q1519.47 152.967 1521.35 152.17 Q1523.22 151.351 1524.51 150.039 Q1525.82 148.727 1526.57 147.017 Q1527.34 145.308 1527.34 143.551 Z\" fill=\"#000000\" fill-rule=\"nonzero\" fill-opacity=\"1\" /><path clip-path=\"url(#clip850)\" d=\"M1549.51 147.158 Q1549.56 146.572 1550.47 146.572 L1579.87 146.572 Q1581.25 146.572 1581.28 147.111 Q1581.28 147.697 1579.96 147.673 L1550.8 147.673 Q1549.51 147.697 1549.51 147.158 M1549.51 137.789 Q1549.51 137.203 1550.52 137.227 L1579.82 137.227 Q1581.25 137.227 1581.28 137.789 Q1581.28 138.328 1580.06 138.328 L1550.47 138.328 Q1549.51 138.328 1549.51 137.789 Z\" fill=\"#000000\" fill-rule=\"nonzero\" fill-opacity=\"1\" /><path clip-path=\"url(#clip850)\" d=\"M1599.78 154.442 Q1599.78 153.576 1599.85 153.318 Q1599.95 153.06 1600.32 152.662 L1609.53 142.403 Q1614.56 136.735 1614.56 131.793 Q1614.56 128.584 1612.88 126.289 Q1611.21 123.993 1608.14 123.993 Q1606.04 123.993 1604.26 125.281 Q1602.48 126.57 1601.66 128.865 Q1601.8 128.818 1602.29 128.818 Q1603.48 128.818 1604.14 129.568 Q1604.82 130.317 1604.82 131.324 Q1604.82 132.613 1603.98 133.245 Q1603.16 133.854 1602.34 133.854 Q1602.01 133.854 1601.56 133.784 Q1601.14 133.713 1600.46 133.058 Q1599.78 132.378 1599.78 131.184 Q1599.78 127.834 1602.31 125.164 Q1604.87 122.494 1608.75 122.494 Q1613.16 122.494 1616.04 125.117 Q1618.94 127.717 1618.94 131.793 Q1618.94 133.222 1618.5 134.533 Q1618.08 135.821 1617.49 136.829 Q1616.93 137.836 1615.38 139.452 Q1613.84 141.068 1612.59 142.216 Q1611.35 143.363 1608.57 145.799 L1603.48 150.742 L1612.13 150.742 Q1616.34 150.742 1616.67 150.367 Q1617.14 149.688 1617.72 146.104 L1618.94 146.104 L1617.58 154.442 L1599.78 154.442 Z\" fill=\"#000000\" fill-rule=\"nonzero\" fill-opacity=\"1\" /><path clip-path=\"url(#clip850)\" d=\"M1661.73 129.512 L1661.73 133.493 Q1659.93 132.498 1658.1 132.012 Q1656.29 131.503 1654.44 131.503 Q1650.3 131.503 1648.01 134.141 Q1645.71 136.757 1645.71 141.503 Q1645.71 146.248 1648.01 148.887 Q1650.3 151.502 1654.44 151.502 Q1656.29 151.502 1658.1 151.016 Q1659.93 150.507 1661.73 149.512 L1661.73 153.447 Q1659.95 154.28 1658.03 154.697 Q1656.13 155.114 1653.98 155.114 Q1648.12 155.114 1644.67 151.433 Q1641.22 147.753 1641.22 141.503 Q1641.22 135.16 1644.7 131.526 Q1648.19 127.892 1654.26 127.892 Q1656.22 127.892 1658.1 128.308 Q1659.97 128.702 1661.73 129.512 Z\" fill=\"#000000\" fill-rule=\"nonzero\" fill-opacity=\"1\" /><path clip-path=\"url(#clip850)\" d=\"M1679.19 131.503 Q1675.76 131.503 1673.77 134.188 Q1671.78 136.85 1671.78 141.503 Q1671.78 146.155 1673.75 148.84 Q1675.74 151.502 1679.19 151.502 Q1682.59 151.502 1684.58 148.817 Q1686.57 146.132 1686.57 141.503 Q1686.57 136.896 1684.58 134.211 Q1682.59 131.503 1679.19 131.503 M1679.19 127.892 Q1684.74 127.892 1687.91 131.503 Q1691.09 135.114 1691.09 141.503 Q1691.09 147.868 1687.91 151.502 Q1684.74 155.114 1679.19 155.114 Q1673.61 155.114 1670.44 151.502 Q1667.29 147.868 1667.29 141.503 Q1667.29 135.114 1670.44 131.503 Q1673.61 127.892 1679.19 127.892 Z\" fill=\"#000000\" fill-rule=\"nonzero\" fill-opacity=\"1\" /><path clip-path=\"url(#clip850)\" d=\"M1719.7 138.794 L1719.7 154.442 L1715.44 154.442 L1715.44 138.933 Q1715.44 135.253 1714 133.424 Q1712.57 131.595 1709.7 131.595 Q1706.25 131.595 1704.26 133.794 Q1702.27 135.993 1702.27 139.79 L1702.27 154.442 L1697.98 154.442 L1697.98 128.517 L1702.27 128.517 L1702.27 132.544 Q1703.79 130.206 1705.85 129.049 Q1707.94 127.892 1710.65 127.892 Q1715.11 127.892 1717.4 130.669 Q1719.7 133.424 1719.7 138.794 Z\" fill=\"#000000\" fill-rule=\"nonzero\" fill-opacity=\"1\" /><path clip-path=\"url(#clip850)\" d=\"M1744.72 129.28 L1744.72 133.308 Q1742.91 132.382 1740.97 131.919 Q1739.02 131.456 1736.94 131.456 Q1733.77 131.456 1732.17 132.429 Q1730.6 133.401 1730.6 135.345 Q1730.6 136.827 1731.73 137.683 Q1732.87 138.516 1736.29 139.28 L1737.75 139.604 Q1742.29 140.577 1744.19 142.359 Q1746.11 144.118 1746.11 147.29 Q1746.11 150.901 1743.24 153.007 Q1740.39 155.114 1735.39 155.114 Q1733.31 155.114 1731.04 154.697 Q1728.79 154.303 1726.29 153.493 L1726.29 149.095 Q1728.65 150.322 1730.95 150.947 Q1733.24 151.549 1735.48 151.549 Q1738.49 151.549 1740.11 150.53 Q1741.73 149.489 1741.73 147.614 Q1741.73 145.878 1740.55 144.952 Q1739.4 144.026 1735.44 143.169 L1733.96 142.822 Q1730 141.989 1728.24 140.276 Q1726.48 138.54 1726.48 135.53 Q1726.48 131.873 1729.07 129.882 Q1731.66 127.892 1736.43 127.892 Q1738.79 127.892 1740.88 128.239 Q1742.96 128.586 1744.72 129.28 Z\" fill=\"#000000\" fill-rule=\"nonzero\" fill-opacity=\"1\" /><path clip-path=\"url(#clip850)\" d=\"M1757.1 121.155 L1757.1 128.517 L1765.88 128.517 L1765.88 131.827 L1757.1 131.827 L1757.1 145.901 Q1757.1 149.072 1757.96 149.975 Q1758.84 150.877 1761.5 150.877 L1765.88 150.877 L1765.88 154.442 L1761.5 154.442 Q1756.57 154.442 1754.7 152.614 Q1752.82 150.762 1752.82 145.901 L1752.82 131.827 L1749.7 131.827 L1749.7 128.517 L1752.82 128.517 L1752.82 121.155 L1757.1 121.155 Z\" fill=\"#000000\" fill-rule=\"nonzero\" fill-opacity=\"1\" /><path clip-path=\"url(#clip850)\" d=\"M1786.5 132.498 Q1785.78 132.081 1784.93 131.896 Q1784.09 131.688 1783.08 131.688 Q1779.46 131.688 1777.52 134.049 Q1775.6 136.387 1775.6 140.785 L1775.6 154.442 L1771.32 154.442 L1771.32 128.517 L1775.6 128.517 L1775.6 132.544 Q1776.94 130.183 1779.09 129.049 Q1781.25 127.892 1784.33 127.892 Q1784.77 127.892 1785.3 127.961 Q1785.83 128.007 1786.48 128.123 L1786.5 132.498 Z\" fill=\"#000000\" fill-rule=\"nonzero\" fill-opacity=\"1\" /><path clip-path=\"url(#clip850)\" d=\"M1802.75 141.41 Q1797.59 141.41 1795.6 142.59 Q1793.61 143.771 1793.61 146.618 Q1793.61 148.887 1795.09 150.229 Q1796.59 151.549 1799.16 151.549 Q1802.7 151.549 1804.83 149.049 Q1806.99 146.526 1806.99 142.359 L1806.99 141.41 L1802.75 141.41 M1811.25 139.651 L1811.25 154.442 L1806.99 154.442 L1806.99 150.507 Q1805.53 152.868 1803.35 154.002 Q1801.18 155.114 1798.03 155.114 Q1794.05 155.114 1791.69 152.891 Q1789.35 150.646 1789.35 146.896 Q1789.35 142.521 1792.27 140.299 Q1795.2 138.077 1801.02 138.077 L1806.99 138.077 L1806.99 137.66 Q1806.99 134.72 1805.04 133.123 Q1803.12 131.503 1799.63 131.503 Q1797.4 131.503 1795.3 132.035 Q1793.19 132.567 1791.25 133.632 L1791.25 129.697 Q1793.58 128.794 1795.78 128.354 Q1797.98 127.892 1800.07 127.892 Q1805.69 127.892 1808.47 130.808 Q1811.25 133.725 1811.25 139.651 Z\" fill=\"#000000\" fill-rule=\"nonzero\" fill-opacity=\"1\" /><path clip-path=\"url(#clip850)\" d=\"M1820.02 128.517 L1824.28 128.517 L1824.28 154.442 L1820.02 154.442 L1820.02 128.517 M1820.02 118.424 L1824.28 118.424 L1824.28 123.817 L1820.02 123.817 L1820.02 118.424 Z\" fill=\"#000000\" fill-rule=\"nonzero\" fill-opacity=\"1\" /><path clip-path=\"url(#clip850)\" d=\"M1854.74 138.794 L1854.74 154.442 L1850.48 154.442 L1850.48 138.933 Q1850.48 135.253 1849.05 133.424 Q1847.61 131.595 1844.74 131.595 Q1841.29 131.595 1839.3 133.794 Q1837.31 135.993 1837.31 139.79 L1837.31 154.442 L1833.03 154.442 L1833.03 128.517 L1837.31 128.517 L1837.31 132.544 Q1838.84 130.206 1840.9 129.049 Q1842.98 127.892 1845.69 127.892 Q1850.16 127.892 1852.45 130.669 Q1854.74 133.424 1854.74 138.794 Z\" fill=\"#000000\" fill-rule=\"nonzero\" fill-opacity=\"1\" /><path clip-path=\"url(#clip850)\" d=\"M1867.45 121.155 L1867.45 128.517 L1876.22 128.517 L1876.22 131.827 L1867.45 131.827 L1867.45 145.901 Q1867.45 149.072 1868.31 149.975 Q1869.19 150.877 1871.85 150.877 L1876.22 150.877 L1876.22 154.442 L1871.85 154.442 Q1866.92 154.442 1865.04 152.614 Q1863.17 150.762 1863.17 145.901 L1863.17 131.827 L1860.04 131.827 L1860.04 128.517 L1863.17 128.517 L1863.17 121.155 L1867.45 121.155 Z\" fill=\"#000000\" fill-rule=\"nonzero\" fill-opacity=\"1\" /><polyline clip-path=\"url(#clip850)\" style=\"stroke:#000000; stroke-linecap:round; stroke-linejoin:round; stroke-width:6; stroke-opacity:1; fill:none\" stroke-dasharray=\"3, 6\" points=\"1252.56,190.052 1367.36,190.052 \"/>\n",
       "<path clip-path=\"url(#clip850)\" d=\"M1404.92 182.17 L1404.92 186.198 Q1403.11 185.272 1401.17 184.809 Q1399.23 184.346 1397.14 184.346 Q1393.97 184.346 1392.37 185.318 Q1390.8 186.29 1390.8 188.235 Q1390.8 189.716 1391.93 190.573 Q1393.07 191.406 1396.49 192.17 L1397.95 192.494 Q1402.49 193.466 1404.39 195.249 Q1406.31 197.008 1406.31 200.179 Q1406.31 203.79 1403.44 205.897 Q1400.59 208.003 1395.59 208.003 Q1393.51 208.003 1391.24 207.586 Q1388.99 207.193 1386.49 206.383 L1386.49 201.985 Q1388.85 203.211 1391.15 203.836 Q1393.44 204.438 1395.68 204.438 Q1398.69 204.438 1400.31 203.42 Q1401.93 202.378 1401.93 200.503 Q1401.93 198.767 1400.75 197.841 Q1399.6 196.915 1395.64 196.059 L1394.16 195.712 Q1390.2 194.878 1388.44 193.165 Q1386.68 191.429 1386.68 188.42 Q1386.68 184.762 1389.27 182.772 Q1391.86 180.781 1396.63 180.781 Q1398.99 180.781 1401.08 181.128 Q1403.16 181.475 1404.92 182.17 Z\" fill=\"#000000\" fill-rule=\"nonzero\" fill-opacity=\"1\" /><path clip-path=\"url(#clip850)\" d=\"M1417.3 174.045 L1417.3 181.406 L1426.08 181.406 L1426.08 184.716 L1417.3 184.716 L1417.3 198.79 Q1417.3 201.961 1418.16 202.864 Q1419.04 203.767 1421.7 203.767 L1426.08 203.767 L1426.08 207.332 L1421.7 207.332 Q1416.77 207.332 1414.9 205.503 Q1413.02 203.651 1413.02 198.79 L1413.02 184.716 L1409.9 184.716 L1409.9 181.406 L1413.02 181.406 L1413.02 174.045 L1417.3 174.045 Z\" fill=\"#000000\" fill-rule=\"nonzero\" fill-opacity=\"1\" /><path clip-path=\"url(#clip850)\" d=\"M1443.46 194.299 Q1438.3 194.299 1436.31 195.48 Q1434.32 196.661 1434.32 199.508 Q1434.32 201.776 1435.8 203.119 Q1437.3 204.438 1439.87 204.438 Q1443.41 204.438 1445.54 201.938 Q1447.7 199.415 1447.7 195.249 L1447.7 194.299 L1443.46 194.299 M1451.96 192.54 L1451.96 207.332 L1447.7 207.332 L1447.7 203.397 Q1446.24 205.758 1444.06 206.892 Q1441.89 208.003 1438.74 208.003 Q1434.76 208.003 1432.4 205.781 Q1430.06 203.536 1430.06 199.786 Q1430.06 195.411 1432.98 193.188 Q1435.91 190.966 1441.73 190.966 L1447.7 190.966 L1447.7 190.55 Q1447.7 187.61 1445.75 186.012 Q1443.83 184.392 1440.34 184.392 Q1438.11 184.392 1436.01 184.925 Q1433.9 185.457 1431.96 186.522 L1431.96 182.587 Q1434.29 181.684 1436.49 181.244 Q1438.69 180.781 1440.78 180.781 Q1446.4 180.781 1449.18 183.698 Q1451.96 186.614 1451.96 192.54 Z\" fill=\"#000000\" fill-rule=\"nonzero\" fill-opacity=\"1\" /><path clip-path=\"url(#clip850)\" d=\"M1482.28 191.684 L1482.28 207.332 L1478.02 207.332 L1478.02 191.823 Q1478.02 188.142 1476.59 186.313 Q1475.15 184.485 1472.28 184.485 Q1468.83 184.485 1466.84 186.684 Q1464.85 188.883 1464.85 192.679 L1464.85 207.332 L1460.57 207.332 L1460.57 181.406 L1464.85 181.406 L1464.85 185.434 Q1466.38 183.096 1468.44 181.938 Q1470.52 180.781 1473.23 180.781 Q1477.7 180.781 1479.99 183.559 Q1482.28 186.313 1482.28 191.684 Z\" fill=\"#000000\" fill-rule=\"nonzero\" fill-opacity=\"1\" /><path clip-path=\"url(#clip850)\" d=\"M1507.84 185.341 L1507.84 171.313 L1512.1 171.313 L1512.1 207.332 L1507.84 207.332 L1507.84 203.443 Q1506.49 205.758 1504.43 206.892 Q1502.4 208.003 1499.53 208.003 Q1494.83 208.003 1491.86 204.253 Q1488.92 200.503 1488.92 194.392 Q1488.92 188.281 1491.86 184.531 Q1494.83 180.781 1499.53 180.781 Q1502.4 180.781 1504.43 181.915 Q1506.49 183.026 1507.84 185.341 M1493.32 194.392 Q1493.32 199.091 1495.24 201.776 Q1497.19 204.438 1500.57 204.438 Q1503.95 204.438 1505.89 201.776 Q1507.84 199.091 1507.84 194.392 Q1507.84 189.693 1505.89 187.031 Q1503.95 184.346 1500.57 184.346 Q1497.19 184.346 1495.24 187.031 Q1493.32 189.693 1493.32 194.392 Z\" fill=\"#000000\" fill-rule=\"nonzero\" fill-opacity=\"1\" /><path clip-path=\"url(#clip850)\" d=\"M1532.65 194.299 Q1527.49 194.299 1525.5 195.48 Q1523.51 196.661 1523.51 199.508 Q1523.51 201.776 1524.99 203.119 Q1526.49 204.438 1529.06 204.438 Q1532.6 204.438 1534.73 201.938 Q1536.89 199.415 1536.89 195.249 L1536.89 194.299 L1532.65 194.299 M1541.15 192.54 L1541.15 207.332 L1536.89 207.332 L1536.89 203.397 Q1535.43 205.758 1533.25 206.892 Q1531.08 208.003 1527.93 208.003 Q1523.95 208.003 1521.59 205.781 Q1519.25 203.536 1519.25 199.786 Q1519.25 195.411 1522.16 193.188 Q1525.1 190.966 1530.91 190.966 L1536.89 190.966 L1536.89 190.55 Q1536.89 187.61 1534.94 186.012 Q1533.02 184.392 1529.53 184.392 Q1527.3 184.392 1525.2 184.925 Q1523.09 185.457 1521.15 186.522 L1521.15 182.587 Q1523.48 181.684 1525.68 181.244 Q1527.88 180.781 1529.97 180.781 Q1535.59 180.781 1538.37 183.698 Q1541.15 186.614 1541.15 192.54 Z\" fill=\"#000000\" fill-rule=\"nonzero\" fill-opacity=\"1\" /><path clip-path=\"url(#clip850)\" d=\"M1564.94 185.387 Q1564.22 184.971 1563.37 184.786 Q1562.53 184.577 1561.52 184.577 Q1557.91 184.577 1555.96 186.938 Q1554.04 189.276 1554.04 193.674 L1554.04 207.332 L1549.76 207.332 L1549.76 181.406 L1554.04 181.406 L1554.04 185.434 Q1555.38 183.073 1557.53 181.938 Q1559.69 180.781 1562.77 180.781 Q1563.21 180.781 1563.74 180.85 Q1564.27 180.897 1564.92 181.013 L1564.94 185.387 Z\" fill=\"#000000\" fill-rule=\"nonzero\" fill-opacity=\"1\" /><path clip-path=\"url(#clip850)\" d=\"M1585.64 185.341 L1585.64 171.313 L1589.9 171.313 L1589.9 207.332 L1585.64 207.332 L1585.64 203.443 Q1584.29 205.758 1582.23 206.892 Q1580.2 208.003 1577.33 208.003 Q1572.63 208.003 1569.66 204.253 Q1566.72 200.503 1566.72 194.392 Q1566.72 188.281 1569.66 184.531 Q1572.63 180.781 1577.33 180.781 Q1580.2 180.781 1582.23 181.915 Q1584.29 183.026 1585.64 185.341 M1571.12 194.392 Q1571.12 199.091 1573.04 201.776 Q1574.99 204.438 1578.37 204.438 Q1581.75 204.438 1583.69 201.776 Q1585.64 199.091 1585.64 194.392 Q1585.64 189.693 1583.69 187.031 Q1581.75 184.346 1578.37 184.346 Q1574.99 184.346 1573.04 187.031 Q1571.12 189.693 1571.12 194.392 Z\" fill=\"#000000\" fill-rule=\"nonzero\" fill-opacity=\"1\" /></svg>\n"
      ]
     },
     "metadata": {},
     "output_type": "display_data"
    }
   ],
   "source": [
    "p = Plots.plot(\n",
    "    L, \n",
    "    size=(500,350),\n",
    "    label=[L\"with $B=2$ constraint\" \"standard\" ], \n",
    "    legend=:topright,\n",
    "    xlabel=\"Iteration\",\n",
    "    ylabel=\"Objective value\",\n",
    "    xlim=(0, 201),\n",
    "    ylim=(0., 130.),\n",
    "    c=:black,\n",
    "    linestyle=[:solid :dot],\n",
    "    linewidth=1.5\n",
    "    )"
   ]
  },
  {
   "cell_type": "code",
   "execution_count": 176,
   "metadata": {},
   "outputs": [
    {
     "data": {
      "text/plain": [
       "\"/local/lmseifert/Infleqtion/research-superstaq/research_superstaq/theory/shaken_lattice/Max_QC/patent_figs/convergence.pdf\""
      ]
     },
     "metadata": {},
     "output_type": "display_data"
    }
   ],
   "source": [
    "Plots.savefig(p, \"patent_figs/convergence.pdf\")"
   ]
  },
  {
   "cell_type": "code",
   "execution_count": null,
   "metadata": {},
   "outputs": [],
   "source": []
  },
  {
   "cell_type": "code",
   "execution_count": null,
   "metadata": {},
   "outputs": [],
   "source": []
  }
 ],
 "metadata": {
  "kernelspec": {
   "display_name": "Julia 1.9.2",
   "language": "julia",
   "name": "julia-1.9"
  },
  "language_info": {
   "file_extension": ".jl",
   "mimetype": "application/julia",
   "name": "julia",
   "version": "1.9.2"
  },
  "orig_nbformat": 4
 },
 "nbformat": 4,
 "nbformat_minor": 2
}
